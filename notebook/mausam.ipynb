{
 "cells": [
  {
   "cell_type": "code",
   "execution_count": 1,
   "id": "e7373c94-df75-488d-9b98-e1e27d05b9f8",
   "metadata": {},
   "outputs": [],
   "source": [
    "import os\n",
    "import re\n",
    "import time\n",
    "import json\n",
    "import requests\n",
    "from pathlib import Path\n",
    "from datetime import datetime, timedelta\n",
    "from urllib.parse import urlencode, quote\n",
    "from dateutil import parser as dateparser\n",
    "from bs4 import BeautifulSoup\n",
    "import pdfplumber\n",
    "from typing import List\n",
    "from IPython.display import clear_output"
   ]
  },
  {
   "cell_type": "code",
   "execution_count": 2,
   "id": "ad773edf-53e2-42a1-88dc-1cde0f4da3b8",
   "metadata": {},
   "outputs": [],
   "source": [
    "states = {\n",
    "  \"Andaman and Nicobar\": \"Andaman and Nicobar\",\n",
    "  \"Andhra Pradesh\": \"Andhra Pradesh\",\n",
    "  \"Arunachal Pradesh\": \"Arunachal Pradesh\",\n",
    "  \"Assam\": \"Assam\",\n",
    "  \"Bihar\": \"Bihar\",\n",
    "  \"Chandigarh\": \"Chandigarh\",\n",
    "  \"Chhattisgarh\": \"Chhattisgarh\",\n",
    "  \"Dadra And Nagar Haveli\": \"Dadra And Nagar Haveli\",\n",
    "  \"Daman And Diu\": \"Daman And Diu\",\n",
    "  \"Goa\": \"Goa\",\n",
    "  \"Gujarat\": \"Gujarat\",\n",
    "  \"Haryana\": \"Haryana\",\n",
    "  \"Himachal Pradesh\": \"Himachal Pradesh\",\n",
    "  \"Jammu and Kashmir\": \"Jammu and Kashmir\",\n",
    "  \"Jharkhand\": \"Jharkhand\",\n",
    "  \"Karnataka\": \"Karnataka\",\n",
    "  \"Kerala\": \"Kerala\",\n",
    "  \"Lakshadweep\": \"Lakshadweep\",\n",
    "  \"Madhya Pradesh\": \"Madhya Pradesh\",\n",
    "  \"Maharashtra\": \"Maharashtra\",\n",
    "  \"Manipur\": \"Manipur\",\n",
    "  \"Meghalaya\": \"Meghalaya\",\n",
    "  \"Mizoram\": \"Mizoram\",\n",
    "  \"Nagaland\": \"Nagaland\",\n",
    "  \"New Delhi\": \"New Delhi\",\n",
    "  \"Odisha\": \"Odisha\",\n",
    "  \"Puducherry\": \"Puducherry\",\n",
    "  \"Punjab\": \"Punjab\",\n",
    "  \"Rajasthan\": \"Rajasthan\",\n",
    "  \"Sikkim\": \"Sikkim\",\n",
    "  \"Tamil Nadu\": \"Tamil Nadu\",\n",
    "  \"Telangana\": \"Telangana\",\n",
    "  \"Tripura\": \"Tripura\",\n",
    "  \"Uttar Pradesh\": \"Uttar Pradesh\",\n",
    "  \"Uttarakhand\": \"Uttarakhand\",\n",
    "  \"West Bengal\": \"West Bengal\"\n",
    "}"
   ]
  },
  {
   "cell_type": "code",
   "execution_count": 3,
   "id": "4564fe42-63e4-42da-93d2-c17e566d94ac",
   "metadata": {},
   "outputs": [],
   "source": [
    "def sanitize_filename(s: str) -> str:\n",
    "    \"\"\"Make a safe filename fragment with underscores for spaces.\"\"\"\n",
    "    s = re.sub(r\"\\s+\", \"_\", s.strip())\n",
    "    return re.sub(r\"[^A-Za-z0-9._-]\", \"\", s)"
   ]
  },
  {
   "cell_type": "code",
   "execution_count": 4,
   "id": "e25a0629-294b-46ba-b287-80bc0e9a2f46",
   "metadata": {},
   "outputs": [],
   "source": [
    "def looks_like_pdf(resp: requests.Response) -> bool:\n",
    "    ct = (resp.headers.get(\"Content-Type\") or \"\").lower()\n",
    "    if \"application/pdf\" in ct:\n",
    "        return True\n",
    "    # Sometimes servers mislabel; quick heuristic:\n",
    "    return resp.content[:5] == b\"%PDF-\""
   ]
  },
  {
   "cell_type": "code",
   "execution_count": 5,
   "id": "d1959585-cee7-4670-82d7-815252a581f8",
   "metadata": {},
   "outputs": [],
   "source": [
    "def get_districts(state: str) -> List:\n",
    "    BASE = \"https://mausam.imd.gov.in/responsive/agrometinformation/district_past_en_get.php\"\n",
    "    params = {\n",
    "        \"s\": state, \n",
    "        \"d\": \"undefined\",\n",
    "        \"step1\": \"true\"\n",
    "    }\n",
    "    qs = urlencode(params, quote_via=quote)\n",
    "    url = f\"{BASE}?{qs}\"\n",
    "    # print(url)\n",
    "    try:\n",
    "        resp = requests.get(url, timeout=10)  # 10s timeout for safety\n",
    "        if resp.status_code == 200:\n",
    "            soup = BeautifulSoup(resp.text, \"html.parser\")\n",
    "            options = soup.find_all(\"option\")\n",
    "            districts = {}\n",
    "            \n",
    "            for opt in options:\n",
    "                key = (opt.get(\"value\") or \"\").strip()\n",
    "                val = (opt.text or \"\").strip()\n",
    "                # skip placeholder\n",
    "                if not key or \"select\" in val.lower():\n",
    "                    continue\n",
    "                districts[key] = val\n",
    "            return districts\n",
    "        else:\n",
    "            print(f\"Request failed with status code {resp.status_code}\")\n",
    "    except Exception as e:\n",
    "        print(f\"Error: {e}\")    "
   ]
  },
  {
   "cell_type": "code",
   "execution_count": 6,
   "id": "b96460da-a448-4e5a-90d4-7b72ae15807f",
   "metadata": {},
   "outputs": [],
   "source": [
    "def get_bulletin(state: str, district: str, date_str: str, output_path: str, language: str = \"English\") -> str:\n",
    "    BASE_URL = \"https://imdagrimet.gov.in/Services/DistrictBulletin.php\"\n",
    "    params = {\n",
    "        \"state\": state,\n",
    "        \"district\": district,\n",
    "        \"date\": date_str,\n",
    "        \"language\": language,\n",
    "    }\n",
    "    qs = urlencode(params, quote_via=quote)\n",
    "    url = f\"{BASE_URL}?{qs}\"\n",
    "\n",
    "    # Parse/normalize date to get year/month folders\n",
    "    dt = dateparser.parse(date_str).date()\n",
    "    year_str = dt.strftime(\"%Y\") \n",
    "    month_str = dt.strftime(\"%b\") \n",
    "\n",
    "    # Make output folder: output_path/YYYY/MM\n",
    "    out_dir = Path(output_path) / year_str / month_str / sanitize_filename(state)\n",
    "    out_dir.mkdir(parents=True, exist_ok=True)\n",
    "\n",
    "    # Filename: state_district_date.pdf\n",
    "    filename = f\"{sanitize_filename(state)}_{sanitize_filename(district)}_{dt.isoformat()}.pdf\"\n",
    "    out_file = out_dir / filename.lower()\n",
    "\n",
    "    headers = {\"User-Agent\": \"Mozilla/5.0 (compatible; PDFFetcher/1.0)\"}\n",
    "    resp = requests.get(url, headers=headers, timeout=30)\n",
    "    if resp.status_code == 200 and resp.content[:5] == b\"%PDF-\":\n",
    "        with open(out_file, \"wb\") as f:\n",
    "            f.write(resp.content)\n",
    "        return out_file\n",
    "    else:\n",
    "        raise RuntimeError(f\"Failed to download PDF (status {resp.status_code}) from {url}\")"
   ]
  },
  {
   "cell_type": "code",
   "execution_count": 7,
   "id": "8843cf55-5959-405a-a085-4aedcc0df2b0",
   "metadata": {},
   "outputs": [],
   "source": [
    "def run_bulletin_job(states: dict, date_start: str, date_end: str, output_root:str, pause=0.6):\n",
    "    \"\"\"\n",
    "    Iterate states, fetch districts from IMD, iterate dates (inclusive),\n",
    "    and call your existing download_bulletin(...).\n",
    "\n",
    "    Args:\n",
    "        states (list[str]): State names to process.\n",
    "        date_start (str): Start date 'YYYY-MM-DD' (inclusive).\n",
    "        date_end (str): End date 'YYYY-MM-DD' (inclusive).\n",
    "        output_root (str|path): Base output folder used by download_bulletin.\n",
    "        pause (float): Seconds to sleep between requests.\n",
    "    \"\"\"\n",
    "\n",
    "    def _daterange(s, e):\n",
    "        d0, d1 = dateparser.parse(s).date(), dateparser.parse(e).date()\n",
    "        if d1 < d0:\n",
    "            raise ValueError(\"date_end is earlier than date_start\")\n",
    "        d = d0\n",
    "        one = timedelta(days=1)\n",
    "        while d <= d1:\n",
    "            yield d.isoformat()\n",
    "            d += one\n",
    "\n",
    "    for state in states:\n",
    "        print(f\" Getting district for {state}\")\n",
    "        districts = get_districts(state)\n",
    "        \n",
    "        for district in districts:\n",
    "            for date_str in _daterange(date_start, date_end):\n",
    "                try:\n",
    "                    saved = get_bulletin(state, district, date_str, output_root)\n",
    "                    print(f\"[OK] {state} / {district} / {date_str} -> {saved}\")\n",
    "                except Exception as e:\n",
    "                    print(f\"[FAIL] {state} / {district} / {date_str}: {e}\")\n",
    "                time.sleep(pause)\n",
    "        clear_output(wait=True)\n",
    "    clear_output(wait=True)"
   ]
  },
  {
   "cell_type": "code",
   "execution_count": 8,
   "id": "ad63ab64-3477-476e-93e9-e908aa6bcfff",
   "metadata": {},
   "outputs": [],
   "source": [
    "start_date = \"2025-06-01\"\n",
    "end_date = \"2025-06-31\"\n",
    "out_root = \"../data/mausam\"\n"
   ]
  },
  {
   "cell_type": "code",
   "execution_count": 9,
   "id": "102a47e2-4438-473d-b7a6-e87ddcb2ffb7",
   "metadata": {},
   "outputs": [
    {
     "name": "stdout",
     "output_type": "stream",
     "text": [
      " Getting district for Andaman and Nicobar\n"
     ]
    },
    {
     "ename": "ParserError",
     "evalue": "day is out of range for month: 2025-06-31",
     "output_type": "error",
     "traceback": [
      "\u001b[0;31m---------------------------------------------------------------------------\u001b[0m",
      "\u001b[0;31mValueError\u001b[0m                                Traceback (most recent call last)",
      "File \u001b[0;32m~/Sites/venv/lib/python3.10/site-packages/dateutil/parser/_parser.py:649\u001b[0m, in \u001b[0;36mparser.parse\u001b[0;34m(self, timestr, default, ignoretz, tzinfos, **kwargs)\u001b[0m\n\u001b[1;32m    648\u001b[0m \u001b[38;5;28;01mtry\u001b[39;00m:\n\u001b[0;32m--> 649\u001b[0m     ret \u001b[38;5;241m=\u001b[39m \u001b[38;5;28;43mself\u001b[39;49m\u001b[38;5;241;43m.\u001b[39;49m\u001b[43m_build_naive\u001b[49m\u001b[43m(\u001b[49m\u001b[43mres\u001b[49m\u001b[43m,\u001b[49m\u001b[43m \u001b[49m\u001b[43mdefault\u001b[49m\u001b[43m)\u001b[49m\n\u001b[1;32m    650\u001b[0m \u001b[38;5;28;01mexcept\u001b[39;00m \u001b[38;5;167;01mValueError\u001b[39;00m \u001b[38;5;28;01mas\u001b[39;00m e:\n",
      "File \u001b[0;32m~/Sites/venv/lib/python3.10/site-packages/dateutil/parser/_parser.py:1235\u001b[0m, in \u001b[0;36mparser._build_naive\u001b[0;34m(self, res, default)\u001b[0m\n\u001b[1;32m   1233\u001b[0m         repl[\u001b[38;5;124m'\u001b[39m\u001b[38;5;124mday\u001b[39m\u001b[38;5;124m'\u001b[39m] \u001b[38;5;241m=\u001b[39m monthrange(cyear, cmonth)[\u001b[38;5;241m1\u001b[39m]\n\u001b[0;32m-> 1235\u001b[0m naive \u001b[38;5;241m=\u001b[39m \u001b[43mdefault\u001b[49m\u001b[38;5;241;43m.\u001b[39;49m\u001b[43mreplace\u001b[49m\u001b[43m(\u001b[49m\u001b[38;5;241;43m*\u001b[39;49m\u001b[38;5;241;43m*\u001b[39;49m\u001b[43mrepl\u001b[49m\u001b[43m)\u001b[49m\n\u001b[1;32m   1237\u001b[0m \u001b[38;5;28;01mif\u001b[39;00m res\u001b[38;5;241m.\u001b[39mweekday \u001b[38;5;129;01mis\u001b[39;00m \u001b[38;5;129;01mnot\u001b[39;00m \u001b[38;5;28;01mNone\u001b[39;00m \u001b[38;5;129;01mand\u001b[39;00m \u001b[38;5;129;01mnot\u001b[39;00m res\u001b[38;5;241m.\u001b[39mday:\n",
      "\u001b[0;31mValueError\u001b[0m: day is out of range for month",
      "\nThe above exception was the direct cause of the following exception:\n",
      "\u001b[0;31mParserError\u001b[0m                               Traceback (most recent call last)",
      "Cell \u001b[0;32mIn[9], line 1\u001b[0m\n\u001b[0;32m----> 1\u001b[0m \u001b[43mrun_bulletin_job\u001b[49m\u001b[43m(\u001b[49m\u001b[43mstates\u001b[49m\u001b[43m,\u001b[49m\u001b[43m \u001b[49m\u001b[43mstart_date\u001b[49m\u001b[43m,\u001b[49m\u001b[43m \u001b[49m\u001b[43mend_date\u001b[49m\u001b[43m,\u001b[49m\u001b[43m \u001b[49m\u001b[43mout_root\u001b[49m\u001b[43m)\u001b[49m\n",
      "Cell \u001b[0;32mIn[7], line 29\u001b[0m, in \u001b[0;36mrun_bulletin_job\u001b[0;34m(states, date_start, date_end, output_root, pause)\u001b[0m\n\u001b[1;32m     26\u001b[0m districts \u001b[38;5;241m=\u001b[39m get_districts(state)\n\u001b[1;32m     28\u001b[0m \u001b[38;5;28;01mfor\u001b[39;00m district \u001b[38;5;129;01min\u001b[39;00m districts:\n\u001b[0;32m---> 29\u001b[0m     \u001b[38;5;28;01mfor\u001b[39;00m date_str \u001b[38;5;129;01min\u001b[39;00m _daterange(date_start, date_end):\n\u001b[1;32m     30\u001b[0m         \u001b[38;5;28;01mtry\u001b[39;00m:\n\u001b[1;32m     31\u001b[0m             saved \u001b[38;5;241m=\u001b[39m get_bulletin(state, district, date_str, output_root)\n",
      "Cell \u001b[0;32mIn[7], line 15\u001b[0m, in \u001b[0;36mrun_bulletin_job.<locals>._daterange\u001b[0;34m(s, e)\u001b[0m\n\u001b[1;32m     14\u001b[0m \u001b[38;5;28;01mdef\u001b[39;00m\u001b[38;5;250m \u001b[39m\u001b[38;5;21m_daterange\u001b[39m(s, e):\n\u001b[0;32m---> 15\u001b[0m     d0, d1 \u001b[38;5;241m=\u001b[39m dateparser\u001b[38;5;241m.\u001b[39mparse(s)\u001b[38;5;241m.\u001b[39mdate(), \u001b[43mdateparser\u001b[49m\u001b[38;5;241;43m.\u001b[39;49m\u001b[43mparse\u001b[49m\u001b[43m(\u001b[49m\u001b[43me\u001b[49m\u001b[43m)\u001b[49m\u001b[38;5;241m.\u001b[39mdate()\n\u001b[1;32m     16\u001b[0m     \u001b[38;5;28;01mif\u001b[39;00m d1 \u001b[38;5;241m<\u001b[39m d0:\n\u001b[1;32m     17\u001b[0m         \u001b[38;5;28;01mraise\u001b[39;00m \u001b[38;5;167;01mValueError\u001b[39;00m(\u001b[38;5;124m\"\u001b[39m\u001b[38;5;124mdate_end is earlier than date_start\u001b[39m\u001b[38;5;124m\"\u001b[39m)\n",
      "File \u001b[0;32m~/Sites/venv/lib/python3.10/site-packages/dateutil/parser/_parser.py:1368\u001b[0m, in \u001b[0;36mparse\u001b[0;34m(timestr, parserinfo, **kwargs)\u001b[0m\n\u001b[1;32m   1366\u001b[0m     \u001b[38;5;28;01mreturn\u001b[39;00m parser(parserinfo)\u001b[38;5;241m.\u001b[39mparse(timestr, \u001b[38;5;241m*\u001b[39m\u001b[38;5;241m*\u001b[39mkwargs)\n\u001b[1;32m   1367\u001b[0m \u001b[38;5;28;01melse\u001b[39;00m:\n\u001b[0;32m-> 1368\u001b[0m     \u001b[38;5;28;01mreturn\u001b[39;00m \u001b[43mDEFAULTPARSER\u001b[49m\u001b[38;5;241;43m.\u001b[39;49m\u001b[43mparse\u001b[49m\u001b[43m(\u001b[49m\u001b[43mtimestr\u001b[49m\u001b[43m,\u001b[49m\u001b[43m \u001b[49m\u001b[38;5;241;43m*\u001b[39;49m\u001b[38;5;241;43m*\u001b[39;49m\u001b[43mkwargs\u001b[49m\u001b[43m)\u001b[49m\n",
      "File \u001b[0;32m~/Sites/venv/lib/python3.10/site-packages/dateutil/parser/_parser.py:651\u001b[0m, in \u001b[0;36mparser.parse\u001b[0;34m(self, timestr, default, ignoretz, tzinfos, **kwargs)\u001b[0m\n\u001b[1;32m    649\u001b[0m     ret \u001b[38;5;241m=\u001b[39m \u001b[38;5;28mself\u001b[39m\u001b[38;5;241m.\u001b[39m_build_naive(res, default)\n\u001b[1;32m    650\u001b[0m \u001b[38;5;28;01mexcept\u001b[39;00m \u001b[38;5;167;01mValueError\u001b[39;00m \u001b[38;5;28;01mas\u001b[39;00m e:\n\u001b[0;32m--> 651\u001b[0m     \u001b[43msix\u001b[49m\u001b[38;5;241;43m.\u001b[39;49m\u001b[43mraise_from\u001b[49m\u001b[43m(\u001b[49m\u001b[43mParserError\u001b[49m\u001b[43m(\u001b[49m\u001b[38;5;28;43mstr\u001b[39;49m\u001b[43m(\u001b[49m\u001b[43me\u001b[49m\u001b[43m)\u001b[49m\u001b[43m \u001b[49m\u001b[38;5;241;43m+\u001b[39;49m\u001b[43m \u001b[49m\u001b[38;5;124;43m\"\u001b[39;49m\u001b[38;5;124;43m: \u001b[39;49m\u001b[38;5;132;43;01m%s\u001b[39;49;00m\u001b[38;5;124;43m\"\u001b[39;49m\u001b[43m,\u001b[49m\u001b[43m \u001b[49m\u001b[43mtimestr\u001b[49m\u001b[43m)\u001b[49m\u001b[43m,\u001b[49m\u001b[43m \u001b[49m\u001b[43me\u001b[49m\u001b[43m)\u001b[49m\n\u001b[1;32m    653\u001b[0m \u001b[38;5;28;01mif\u001b[39;00m \u001b[38;5;129;01mnot\u001b[39;00m ignoretz:\n\u001b[1;32m    654\u001b[0m     ret \u001b[38;5;241m=\u001b[39m \u001b[38;5;28mself\u001b[39m\u001b[38;5;241m.\u001b[39m_build_tzaware(ret, res, tzinfos)\n",
      "File \u001b[0;32m<string>:3\u001b[0m, in \u001b[0;36mraise_from\u001b[0;34m(value, from_value)\u001b[0m\n",
      "\u001b[0;31mParserError\u001b[0m: day is out of range for month: 2025-06-31"
     ]
    }
   ],
   "source": [
    "run_bulletin_job(states, start_date, end_date, out_root)"
   ]
  },
  {
   "cell_type": "code",
   "execution_count": null,
   "id": "cc980c25-3e79-4e84-8a38-e45afc2f8a84",
   "metadata": {},
   "outputs": [],
   "source": []
  },
  {
   "cell_type": "markdown",
   "id": "79646c93-879a-49b7-984f-5aec4c1aceb7",
   "metadata": {},
   "source": [
    "# Experimental"
   ]
  },
  {
   "cell_type": "code",
   "execution_count": null,
   "id": "919696d5-7e8a-4ce3-8936-cc851ad102e2",
   "metadata": {},
   "outputs": [],
   "source": [
    "state = \"Uttar Pradesh\"\n",
    "district = \"Agra\"\n",
    "date_str = \"2025-08-01\"\n",
    "out_root = \"../data/mausam\"\n",
    "\n",
    "saved = get_bulletin(state, district, date_str, out_root)\n",
    "print(f\"Saved: {saved}\")\n"
   ]
  },
  {
   "cell_type": "code",
   "execution_count": null,
   "id": "57452b95-83b9-4a7f-af6d-b6f28f5bda4b",
   "metadata": {},
   "outputs": [],
   "source": [
    "get_districts(\"Uttar Pradesh\")"
   ]
  },
  {
   "cell_type": "code",
   "execution_count": null,
   "id": "c2a4ef15-3e7f-493f-915d-33c609d7b5d5",
   "metadata": {},
   "outputs": [],
   "source": [
    "headers = {\n",
    "    'Accept': 'text/html,application/xhtml+xml,application/xml;q=0.9,*/*;q=0.8',\n",
    "    'Accept-Encoding': 'gzip, deflate, br, zstd',\n",
    "    'Accept-Language': 'en-US,en;q=0.5',\n",
    "    'Connection': 'keep-alive',\n",
    "    'Cookie': 'IMDSESSIONID=jgvt06svgthl88cj9esgh35jrbj2u2hi',\n",
    "    'Host': 'imdagrimet.gov.in',\n",
    "    'Priority': 'u=4',\n",
    "    'Referer': 'https://imdagrimet.gov.in/weatherdata/DistStationList.php?token=72e7a12d0f15362c57a016859adac2f2',\n",
    "    'Sec-Fetch-Dest': 'frame',\n",
    "    'Sec-Fetch-Mode': 'navigate',\n",
    "    'Sec-Fetch-Site': 'same-origin',\n",
    "    'Sec-Fetch-User': '?1',\n",
    "    'Upgrade-Insecure-Requests': '1',\n",
    "    'User-Agent': 'Mozilla/5.0 (Macintosh; Intel Mac OS X 10.15; rv:142.0) Gecko/20100101 Firefox/142.0'\n",
    "}"
   ]
  },
  {
   "cell_type": "code",
   "execution_count": null,
   "id": "a8481a87-7b15-4795-a69b-110a4fe14a46",
   "metadata": {},
   "outputs": [],
   "source": [
    "url = \"https://imdagrimet.gov.in/weatherdata/PastWeekWeather.php?st=AGROMET&si=42745&sn=Arnej(A)\"\n",
    "response = requests.get(url, headers=headers)"
   ]
  },
  {
   "cell_type": "code",
   "execution_count": null,
   "id": "754aa6e8-1688-443c-85a4-80bb44dea225",
   "metadata": {},
   "outputs": [],
   "source": [
    "from IPython.display import display, HTML\n",
    "display(HTML(response.text))"
   ]
  },
  {
   "cell_type": "code",
   "execution_count": null,
   "id": "b4c5b255-ce54-4b12-b208-fda2fed9ea30",
   "metadata": {},
   "outputs": [],
   "source": []
  }
 ],
 "metadata": {
  "kernelspec": {
   "display_name": "Python 3 (ipykernel)",
   "language": "python",
   "name": "python3"
  },
  "language_info": {
   "codemirror_mode": {
    "name": "ipython",
    "version": 3
   },
   "file_extension": ".py",
   "mimetype": "text/x-python",
   "name": "python",
   "nbconvert_exporter": "python",
   "pygments_lexer": "ipython3",
   "version": "3.10.18"
  }
 },
 "nbformat": 4,
 "nbformat_minor": 5
}
