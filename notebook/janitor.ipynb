{
 "cells": [
  {
   "cell_type": "code",
   "execution_count": 5,
   "id": "5ec20d66-1c32-4284-a78d-44ae79ef5550",
   "metadata": {},
   "outputs": [],
   "source": [
    "import json"
   ]
  },
  {
   "cell_type": "code",
   "execution_count": 6,
   "id": "e13e3ac2-0787-46f4-af8a-177aaa48d23c",
   "metadata": {},
   "outputs": [],
   "source": [
    "def convert_json_to_jsonl(input_file, output_file):\n",
    "    # Load JSON data\n",
    "    with open(input_file, \"r\", encoding=\"utf-8\") as f:\n",
    "        data = json.load(f)\n",
    "\n",
    "    # If the root is a dict with a key holding the list, adjust accordingly\n",
    "    if isinstance(data, dict):\n",
    "        # for example: {\"records\": [...]}\n",
    "        # change \"records\" to whatever your key is\n",
    "        if \"records\" in data:\n",
    "            data = data[\"records\"]\n",
    "        else:\n",
    "            data = [data]  # wrap single dict in list\n",
    "\n",
    "    # Save as JSONL\n",
    "    with open(output_file, \"w\", encoding=\"utf-8\") as f:\n",
    "        for record in data:\n",
    "            f.write(json.dumps(record, ensure_ascii=False) + \"\\n\")"
   ]
  },
  {
   "cell_type": "code",
   "execution_count": 7,
   "id": "ca22f9c3-3636-4cf6-ba73-f9c05b7ce55f",
   "metadata": {},
   "outputs": [],
   "source": [
    "input_file = \"enam.json\"\n",
    "output_file = \"enam.jsonl\"\n",
    "convert_json_to_jsonl(input_file, output_file)"
   ]
  },
  {
   "cell_type": "code",
   "execution_count": 4,
   "id": "724b56d3-caa0-45b5-a791-325507454d0d",
   "metadata": {},
   "outputs": [
    {
     "data": {
      "text/plain": [
       "{'id': '28846307',\n",
       " 'state': 'RAJASTHAN',\n",
       " 'apmc': 'UDAIPUR F AND V',\n",
       " 'commodity': 'COCONUT',\n",
       " 'min_price': '10',\n",
       " 'modal_price': '15',\n",
       " 'max_price': '25',\n",
       " 'commodity_arrivals': '0',\n",
       " 'commodity_traded': '54700',\n",
       " 'created_at': '2025-01-01',\n",
       " 'status': '1',\n",
       " 'Commodity_Uom': 'Nos'}"
      ]
     },
     "execution_count": 4,
     "metadata": {},
     "output_type": "execute_result"
    }
   ],
   "source": [
    "data[0]"
   ]
  },
  {
   "cell_type": "code",
   "execution_count": null,
   "id": "8bf51d8d-e9cf-4f0a-9ac2-aafb663399d6",
   "metadata": {},
   "outputs": [],
   "source": []
  }
 ],
 "metadata": {
  "kernelspec": {
   "display_name": "Python 3 (ipykernel)",
   "language": "python",
   "name": "python3"
  },
  "language_info": {
   "codemirror_mode": {
    "name": "ipython",
    "version": 3
   },
   "file_extension": ".py",
   "mimetype": "text/x-python",
   "name": "python",
   "nbconvert_exporter": "python",
   "pygments_lexer": "ipython3",
   "version": "3.10.18"
  }
 },
 "nbformat": 4,
 "nbformat_minor": 5
}
