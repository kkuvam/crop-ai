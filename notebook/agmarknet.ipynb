{
 "cells": [
  {
   "cell_type": "code",
   "execution_count": 1,
   "id": "397df8b1-501f-4d2d-af9e-9998fbe7e014",
   "metadata": {},
   "outputs": [],
   "source": [
    "from datetime import datetime, timedelta\n",
    "from urllib.parse import urlencode, urlparse, parse_qs\n",
    "from typing import List, Optional, Dict\n",
    "import time\n",
    "import pandas as pd\n",
    "import requests\n",
    "from bs4 import BeautifulSoup\n",
    "import gzip, json\n",
    "from pathlib import Path\n",
    "\n",
    "from selenium import webdriver\n",
    "from selenium.webdriver.chrome.service import Service\n",
    "from selenium.webdriver.chrome.options import Options\n",
    "from selenium.webdriver.common.by import By\n",
    "from selenium.webdriver.support.ui import WebDriverWait\n",
    "from selenium.webdriver.support import expected_conditions as EC\n",
    "from webdriver_manager.chrome import ChromeDriverManager\n"
   ]
  },
  {
   "cell_type": "code",
   "execution_count": 2,
   "id": "91fea272-ffd7-47d3-93a2-d034bfbf2c86",
   "metadata": {},
   "outputs": [],
   "source": [
    "def get_columns():\n",
    "    return [\n",
    "        \"state_name\",\n",
    "        \"district_name\",\n",
    "        \"market_name\",\n",
    "        \"variety\",\n",
    "        \"group\",\n",
    "        \"arrivals\",\n",
    "        \"min_price\",\n",
    "        \"max_price\",\n",
    "        \"modal_price\",\n",
    "        \"reported_date\",\n",
    "        \"grade\"\n",
    "    ]"
   ]
  },
  {
   "cell_type": "code",
   "execution_count": 3,
   "id": "6b0103a8-7be3-4a3d-bdc5-eca5f67ece32",
   "metadata": {},
   "outputs": [],
   "source": [
    "def get_commodities():\n",
    "    url = \"https://agmarknet.gov.in/SearchCmmMkt.aspx?Tx_State=0&Tx_District=0&Tx_Market=0&Tx_Trend=2&DateFrom=17-Aug-2025&DateTo=17-Aug-2025&Fr_Date=17-Aug-2025&To_Date=17-Aug-2025&Tx_CommodityHead=Ajwan&Tx_Commodity=137\"\n",
    "    response = requests.get(url)    \n",
    "    soup = BeautifulSoup(response.content, \"html.parser\") \n",
    "    select = soup.find(\"select\", {\"id\": \"ddlCommodity\"})\n",
    "    commodities = []\n",
    "    if select:\n",
    "        for option in select.find_all(\"option\"):\n",
    "            value = option.get(\"value\")\n",
    "            text = option.text.strip()\n",
    "            if value != \"0\":\n",
    "                commodities.append({\"value\": value, \"text\": text})\n",
    "    return commodities"
   ]
  },
  {
   "cell_type": "code",
   "execution_count": 4,
   "id": "91faa4fd-c91d-41da-8c69-d6e0d647b756",
   "metadata": {},
   "outputs": [],
   "source": [
    "def build_url(commodity: dict, start_date: str, end_date:str) -> str:\n",
    "    uri = \"https://agmarknet.gov.in/SearchCmmMkt.aspx\"\n",
    "    \n",
    "    # Convert YYYY-MM-DD -> DD-Mon-YYYY (e.g., 2025-08-17 -> 17-Aug-2025)\n",
    "    def format_date(date_str: str) -> str:\n",
    "        return datetime.strptime(date_str, \"%Y-%m-%d\").strftime(\"%d-%b-%Y\")\n",
    "    start_fmt = format_date(start_date)\n",
    "    end_fmt   = format_date(end_date)\n",
    "\n",
    "    params = {\n",
    "        \"Tx_State\": 0,\n",
    "        \"Tx_District\": 0,\n",
    "        \"Tx_Market\": 0,\n",
    "        \"Tx_Trend\": 2,\n",
    "        \"DateFrom\": start_fmt,\n",
    "        \"DateTo\": end_fmt,\n",
    "        \"Fr_Date\": start_fmt,\n",
    "        \"To_Date\": end_fmt,\n",
    "        \"Tx_CommodityHead\": commodity[\"text\"],\n",
    "        \"Tx_Commodity\": commodity[\"value\"],\n",
    "    }\n",
    "    return f\"{uri}?{urlencode(params)}\""
   ]
  },
  {
   "cell_type": "code",
   "execution_count": 5,
   "id": "1e802f12-b72a-40fd-ac34-80213b4cb74e",
   "metadata": {},
   "outputs": [],
   "source": [
    "def commodity_from_url(url: str) -> str | None:\n",
    "    qs = parse_qs(urlparse(url).query, keep_blank_values=True)\n",
    "    val = qs.get(\"Tx_CommodityHead\", [None])[0]\n",
    "    return val.strip() if isinstance(val, str) else None"
   ]
  },
  {
   "cell_type": "code",
   "execution_count": 6,
   "id": "96ef42e7-fbe8-4930-8230-549afc6a5746",
   "metadata": {},
   "outputs": [],
   "source": [
    "def to_date(s: str) -> datetime:\n",
    "    \"\"\"\n",
    "    Parse a date string into a datetime object.\n",
    "    Supports common formats like:\n",
    "    - YYYY-MM-DD\n",
    "    - DD-MM-YYYY\n",
    "    - DD/MM/YYYY\n",
    "    - YYYY/MM/DD\n",
    "    - MM/DD/YYYY\n",
    "    \"\"\"\n",
    "    try:\n",
    "        return datetime.fromisoformat(s)  # handles YYYY-MM-DD\n",
    "    except ValueError:\n",
    "        for fmt in (\"%d-%m-%Y\", \"%d/%m/%Y\", \"%Y/%m/%d\", \"%m/%d/%Y\"):\n",
    "            try:\n",
    "                return datetime.strptime(s, fmt)\n",
    "            except ValueError:\n",
    "                continue\n",
    "    raise ValueError(f\"Unrecognized date format: {s}\")"
   ]
  },
  {
   "cell_type": "code",
   "execution_count": 7,
   "id": "aac628fc-793a-487a-abd1-cdb3f81d1d74",
   "metadata": {},
   "outputs": [],
   "source": [
    "def save_jsonl_gz(df: pd.DataFrame, jsonl_path: str) -> None:\n",
    "    \"\"\"\n",
    "    Append DataFrame rows to a JSONL file (one JSON object per line).\n",
    "    \"\"\"\n",
    "    if df is None or df.empty:\n",
    "        return\n",
    "    with gzip.open(jsonl_path, \"at\", encoding=\"utf-8\") as f:\n",
    "        df.to_json(f, orient=\"records\", lines=True, force_ascii=False)"
   ]
  },
  {
   "cell_type": "code",
   "execution_count": 8,
   "id": "979faf38-24ed-4d8d-a08b-f7f538286b46",
   "metadata": {},
   "outputs": [],
   "source": [
    "def read_range(dates, base_dir=\"data/commodities\") -> pd.DataFrame:\n",
    "    \"\"\"\n",
    "    Read multiple date-partitioned JSONL.GZ files into a single DataFrame.\n",
    "    dates: list of 'YYYY-MM-DD' strings\n",
    "    base_dir/YYYY-MM-DD.jsonl.gz is expected layout.\n",
    "    \"\"\"\n",
    "    frames = []\n",
    "    for d in dates:\n",
    "        paths = glob.glob(f\"{base_dir}/{d}.jsonl.gz\")\n",
    "        for path in paths:\n",
    "            # Stream read JSONL into DataFrame\n",
    "            df = pd.read_json(path, lines=True, compression=\"gzip\")\n",
    "            frames.append(df)\n",
    "\n",
    "    if frames:\n",
    "        return pd.concat(frames, ignore_index=True)\n",
    "    return pd.DataFrame()"
   ]
  },
  {
   "cell_type": "code",
   "execution_count": 9,
   "id": "afb98ffa-08b3-40f9-a055-300b2b57918a",
   "metadata": {},
   "outputs": [],
   "source": [
    "def scrape_table_to_df( driver, url: str, css_selector: str = \"table.tableagmark_new\", wait_seconds: int = 30,\n",
    ") -> pd.DataFrame:\n",
    "    \"\"\"\n",
    "    Navigate to `url`, wait for table with `css_selector`, parse to DataFrame, rename columns,\n",
    "    optionally append to JSONL, and return the DataFrame. If multiple tables match, returns the first.\n",
    "    \"\"\"\n",
    "    driver.get(url)\n",
    "\n",
    "    # Wait for the table to be present in DOM\n",
    "    WebDriverWait(driver, wait_seconds).until(\n",
    "        EC.presence_of_element_located((By.CSS_SELECTOR, css_selector))\n",
    "    )\n",
    "\n",
    "    tables = driver.find_elements(By.CSS_SELECTOR, \"table.tableagmark_new\")\n",
    "    table_html = tables[0].get_attribute(\"outerHTML\")\n",
    "    df = pd.read_html(table_html)[0]\n",
    "    df.columns = get_columns()\n",
    "    df[\"commodity_name\"] = commodity_from_url(url)\n",
    "    df = df[df[\"group\"] != \"Total:-\"].reset_index(drop=True)\n",
    "    return df"
   ]
  },
  {
   "cell_type": "code",
   "execution_count": 10,
   "id": "d635632b-7887-447b-8082-e2eea4a89a41",
   "metadata": {},
   "outputs": [],
   "source": [
    "def iterate_commodity_and_scrape(\n",
    "    start_date: str,\n",
    "    end_date: str,\n",
    "    RECYCLE_EVERY = 10,\n",
    "    wait_seconds = 30\n",
    ") -> pd.DataFrame:\n",
    "    \"\"\"\n",
    "    Iterate from start_date to end_date (inclusive), call `scrape_table_to_df` for each date,\n",
    "    and return a concatenated DataFrame.\n",
    "\n",
    "    Parameters:\n",
    "      - driver\n",
    "      - start_date/end_date: strings parsable by datetime.fromisoformat or strptime; use YYYY-MM-DD recommended\n",
    "      - date_format_in_url: how {date} should be formatted inside the URL (default \"dd-mm-YYYY\")\n",
    "    \"\"\"\n",
    "    \n",
    "    \n",
    "    d0 = to_date(start_date)\n",
    "    d1 = to_date(end_date)\n",
    "\n",
    "    all_dfs: List[pd.DataFrame] = []\n",
    "    driver = make_driver()\n",
    "    count = 0\n",
    "\n",
    "    current = d0\n",
    "    while current <= d1:\n",
    "        date_str = current.strftime(\"%Y-%m-%d\")\n",
    "        year_str = current.strftime(\"%Y\") \n",
    "        month_str = current.strftime(\"%b\") \n",
    "        # Per-day output path: base_dir/date=YYYY-MM-DD/part-000.jsonl.gz\n",
    "        day_dir = Path(base_dir)\n",
    "        out_path = out_path = day_dir / year_str / month_str / f\"{date_str}.jsonl.gz\"\n",
    "        out_path.parent.mkdir(parents=True, exist_ok=True)\n",
    "        \n",
    "        commodities = get_commodities()\n",
    "        for commodity in commodities:\n",
    "            url = build_url(commodity, date_str, date_str)\n",
    "            try:\n",
    "                # Recycle proactively\n",
    "                if count > 0 and count % RECYCLE_EVERY == 0:\n",
    "                    driver.quit()\n",
    "                    driver = make_driver()\n",
    "\n",
    "                print(f\"Pulling data from: {url}\")\n",
    "                df = scrape_table_to_df(driver, url)\n",
    "                print(\"Pulled data: \", df.shape)\n",
    "                save_jsonl_gz(df, out_path)\n",
    "                count += 1\n",
    "            except Exception as e:\n",
    "                print(f\"[WARN] {date_str}: {e}\")\n",
    "\n",
    "        current += timedelta(days=1)\n",
    "\n",
    "    driver.quit()\n",
    "    return True"
   ]
  },
  {
   "cell_type": "code",
   "execution_count": 11,
   "id": "ca696d8e-803d-4691-b0af-e1aa1b3270d6",
   "metadata": {},
   "outputs": [],
   "source": [
    "def iterate_date_and_scrape(\n",
    "    start_date: str,\n",
    "    end_date: str,\n",
    "    base_dir: str,\n",
    "    RECYCLE_EVERY = 10,\n",
    "    per_request_sleep: float = 10.0\n",
    ") -> pd.DataFrame:\n",
    "    \"\"\"\n",
    "    For each day in [start, end], call iterate_commodity_and_scrape(driver, day, day),\n",
    "    append results to base_dir/YYYY-MM-DD.jsonl.gz, and return the combined DataFrame.\n",
    "\n",
    "    Args:\n",
    "        driver: Selenium WebDriver\n",
    "        start_date, end_date: date strings (accepts YYYY-MM-DD, DD-MM-YYYY, DD/MM/YYYY, etc.)\n",
    "        base_dir: base directory where date partitions will be written\n",
    "        per_request_sleep: seconds to sleep between days (politeness/backoff)\n",
    "        overwrite: if True, removes existing per-day output before writing\n",
    "\n",
    "    Returns:\n",
    "        pd.DataFrame with all rows across the range (empty if none)\n",
    "    \"\"\"\n",
    "    d0 = to_date(start_date).date()\n",
    "    d1 = to_date(end_date).date()\n",
    "\n",
    "    all_frames = []\n",
    "    current = d0\n",
    "    while current <= d1:\n",
    "        day_iso = current.strftime(\"%Y-%m-%d\")\n",
    "        \n",
    "        try:\n",
    "            \n",
    "            iterate_commodity_and_scrape(day_iso, day_iso)\n",
    "        except Exception as e:\n",
    "            print(f\"[WARN] {day_iso}: {e}\")\n",
    "\n",
    "        if per_request_sleep > 0:\n",
    "            time.sleep(per_request_sleep)\n",
    "\n",
    "        current += timedelta(days=1)\n",
    "\n",
    "    return True"
   ]
  },
  {
   "cell_type": "code",
   "execution_count": 12,
   "id": "b29e6c22-d040-477e-8537-68a2e8447d0b",
   "metadata": {},
   "outputs": [],
   "source": [
    "def make_driver():\n",
    "    opts = Options()\n",
    "    opts.add_argument(\"--headless=new\")\n",
    "    opts.add_argument(\"--disable-extensions\")\n",
    "    opts.add_argument(\"--disable-gpu\")\n",
    "    opts.add_argument(\"--no-sandbox\")              # esp. in Linux containers\n",
    "    opts.add_argument(\"--disable-dev-shm-usage\")   # esp. in Linux containers\n",
    "    opts.add_experimental_option(\"prefs\", {\n",
    "        \"profile.managed_default_content_settings.images\": 2\n",
    "    })\n",
    "    driver = webdriver.Chrome(options=opts)  # Selenium Manager auto-resolves driver\n",
    "    driver.set_page_load_timeout(30)\n",
    "    driver.set_script_timeout(30)\n",
    "    return driver"
   ]
  },
  {
   "cell_type": "code",
   "execution_count": 13,
   "id": "e0d81bd7-c01b-4881-a060-db3cdb457c5c",
   "metadata": {},
   "outputs": [],
   "source": [
    "base_dir =\"../data/agmarknet\"\n",
    "start = \"2025-08-01\"\n",
    "end = \"2025-08-03\"\n",
    "RECYCLE_EVERY = 10"
   ]
  },
  {
   "cell_type": "code",
   "execution_count": 14,
   "id": "9278c463-9496-44f8-966f-e3ae476f3d27",
   "metadata": {},
   "outputs": [],
   "source": [
    "commodities = get_commodities()"
   ]
  },
  {
   "cell_type": "code",
   "execution_count": 15,
   "id": "6828a8d0-6c47-43aa-a911-b8f43006e7cf",
   "metadata": {},
   "outputs": [],
   "source": [
    "commodity = commodities[1]\n",
    "date_str = \"2025-08-01\"\n",
    "url = build_url(commodity, date_str, date_str)\n",
    "driver = make_driver()"
   ]
  },
  {
   "cell_type": "code",
   "execution_count": null,
   "id": "5f5a3517-8ce3-43d6-9f2b-e3659272d04a",
   "metadata": {},
   "outputs": [],
   "source": [
    "scrape_table_to_df(driver, url)"
   ]
  },
  {
   "cell_type": "code",
   "execution_count": null,
   "id": "71964548-7c42-45c8-a015-11883f521856",
   "metadata": {},
   "outputs": [
    {
     "name": "stdout",
     "output_type": "stream",
     "text": [
      "Pulling data from: https://agmarknet.gov.in/SearchCmmMkt.aspx?Tx_State=0&Tx_District=0&Tx_Market=0&Tx_Trend=2&DateFrom=01-Aug-2025&DateTo=01-Aug-2025&Fr_Date=01-Aug-2025&To_Date=01-Aug-2025&Tx_CommodityHead=Absinthe&Tx_Commodity=451\n",
      "[WARN] 2025-08-01: Message: \n",
      "Stacktrace:\n",
      "0   chromedriver                        0x000000010452f26c cxxbridge1$str$ptr + 2741972\n",
      "1   chromedriver                        0x00000001045271dc cxxbridge1$str$ptr + 2709060\n",
      "2   chromedriver                        0x00000001040714fc cxxbridge1$string$len + 90520\n",
      "3   chromedriver                        0x00000001040b8a14 cxxbridge1$string$len + 382640\n",
      "4   chromedriver                        0x00000001040f9db8 cxxbridge1$string$len + 649812\n",
      "5   chromedriver                        0x00000001040acd30 cxxbridge1$string$len + 334284\n",
      "6   chromedriver                        0x00000001044f266c cxxbridge1$str$ptr + 2493140\n",
      "7   chromedriver                        0x00000001044f58a0 cxxbridge1$str$ptr + 2505992\n",
      "8   chromedriver                        0x00000001044d34a4 cxxbridge1$str$ptr + 2365708\n",
      "9   chromedriver                        0x00000001044f615c cxxbridge1$str$ptr + 2508228\n",
      "10  chromedriver                        0x00000001044c459c cxxbridge1$str$ptr + 2304516\n",
      "11  chromedriver                        0x0000000104515c78 cxxbridge1$str$ptr + 2638048\n",
      "12  chromedriver                        0x0000000104515e04 cxxbridge1$str$ptr + 2638444\n",
      "13  chromedriver                        0x0000000104526e28 cxxbridge1$str$ptr + 2708112\n",
      "14  libsystem_pthread.dylib             0x00000001877a7c0c _pthread_start + 136\n",
      "15  libsystem_pthread.dylib             0x00000001877a2b80 thread_start + 8\n",
      "\n",
      "Pulling data from: https://agmarknet.gov.in/SearchCmmMkt.aspx?Tx_State=0&Tx_District=0&Tx_Market=0&Tx_Trend=2&DateFrom=01-Aug-2025&DateTo=01-Aug-2025&Fr_Date=01-Aug-2025&To_Date=01-Aug-2025&Tx_CommodityHead=Ajwan&Tx_Commodity=137\n"
     ]
    },
    {
     "name": "stderr",
     "output_type": "stream",
     "text": [
      "/var/folders/jb/zy_516ps25g392kqdzfs61640000gn/T/ipykernel_78044/1959355148.py:16: FutureWarning: Passing literal html to 'read_html' is deprecated and will be removed in a future version. To read from a literal string, wrap it in a 'StringIO' object.\n",
      "  df = pd.read_html(table_html)[0]\n"
     ]
    },
    {
     "name": "stdout",
     "output_type": "stream",
     "text": [
      "Pulled data:  (9, 12)\n",
      "Pulling data from: https://agmarknet.gov.in/SearchCmmMkt.aspx?Tx_State=0&Tx_District=0&Tx_Market=0&Tx_Trend=2&DateFrom=01-Aug-2025&DateTo=01-Aug-2025&Fr_Date=01-Aug-2025&To_Date=01-Aug-2025&Tx_CommodityHead=Alasande+Gram&Tx_Commodity=281\n",
      "[WARN] 2025-08-01: Message: \n",
      "Stacktrace:\n",
      "0   chromedriver                        0x000000010452f26c cxxbridge1$str$ptr + 2741972\n",
      "1   chromedriver                        0x00000001045271dc cxxbridge1$str$ptr + 2709060\n",
      "2   chromedriver                        0x00000001040714fc cxxbridge1$string$len + 90520\n",
      "3   chromedriver                        0x00000001040b8a14 cxxbridge1$string$len + 382640\n",
      "4   chromedriver                        0x00000001040f9db8 cxxbridge1$string$len + 649812\n",
      "5   chromedriver                        0x00000001040acd30 cxxbridge1$string$len + 334284\n",
      "6   chromedriver                        0x00000001044f266c cxxbridge1$str$ptr + 2493140\n",
      "7   chromedriver                        0x00000001044f58a0 cxxbridge1$str$ptr + 2505992\n",
      "8   chromedriver                        0x00000001044d34a4 cxxbridge1$str$ptr + 2365708\n",
      "9   chromedriver                        0x00000001044f615c cxxbridge1$str$ptr + 2508228\n",
      "10  chromedriver                        0x00000001044c459c cxxbridge1$str$ptr + 2304516\n",
      "11  chromedriver                        0x0000000104515c78 cxxbridge1$str$ptr + 2638048\n",
      "12  chromedriver                        0x0000000104515e04 cxxbridge1$str$ptr + 2638444\n",
      "13  chromedriver                        0x0000000104526e28 cxxbridge1$str$ptr + 2708112\n",
      "14  libsystem_pthread.dylib             0x00000001877a7c0c _pthread_start + 136\n",
      "15  libsystem_pthread.dylib             0x00000001877a2b80 thread_start + 8\n",
      "\n",
      "Pulling data from: https://agmarknet.gov.in/SearchCmmMkt.aspx?Tx_State=0&Tx_District=0&Tx_Market=0&Tx_Trend=2&DateFrom=01-Aug-2025&DateTo=01-Aug-2025&Fr_Date=01-Aug-2025&To_Date=01-Aug-2025&Tx_CommodityHead=Almond%28Badam%29&Tx_Commodity=325\n"
     ]
    },
    {
     "name": "stderr",
     "output_type": "stream",
     "text": [
      "/var/folders/jb/zy_516ps25g392kqdzfs61640000gn/T/ipykernel_78044/1959355148.py:16: FutureWarning: Passing literal html to 'read_html' is deprecated and will be removed in a future version. To read from a literal string, wrap it in a 'StringIO' object.\n",
      "  df = pd.read_html(table_html)[0]\n"
     ]
    },
    {
     "name": "stdout",
     "output_type": "stream",
     "text": [
      "Pulled data:  (1, 12)\n",
      "Pulling data from: https://agmarknet.gov.in/SearchCmmMkt.aspx?Tx_State=0&Tx_District=0&Tx_Market=0&Tx_Trend=2&DateFrom=01-Aug-2025&DateTo=01-Aug-2025&Fr_Date=01-Aug-2025&To_Date=01-Aug-2025&Tx_CommodityHead=Alsandikai&Tx_Commodity=166\n"
     ]
    },
    {
     "name": "stderr",
     "output_type": "stream",
     "text": [
      "/var/folders/jb/zy_516ps25g392kqdzfs61640000gn/T/ipykernel_78044/1959355148.py:16: FutureWarning: Passing literal html to 'read_html' is deprecated and will be removed in a future version. To read from a literal string, wrap it in a 'StringIO' object.\n",
      "  df = pd.read_html(table_html)[0]\n"
     ]
    },
    {
     "name": "stdout",
     "output_type": "stream",
     "text": [
      "Pulled data:  (5, 12)\n",
      "Pulling data from: https://agmarknet.gov.in/SearchCmmMkt.aspx?Tx_State=0&Tx_District=0&Tx_Market=0&Tx_Trend=2&DateFrom=01-Aug-2025&DateTo=01-Aug-2025&Fr_Date=01-Aug-2025&To_Date=01-Aug-2025&Tx_CommodityHead=Amaranthus&Tx_Commodity=86\n"
     ]
    },
    {
     "name": "stderr",
     "output_type": "stream",
     "text": [
      "/var/folders/jb/zy_516ps25g392kqdzfs61640000gn/T/ipykernel_78044/1959355148.py:16: FutureWarning: Passing literal html to 'read_html' is deprecated and will be removed in a future version. To read from a literal string, wrap it in a 'StringIO' object.\n",
      "  df = pd.read_html(table_html)[0]\n"
     ]
    },
    {
     "name": "stdout",
     "output_type": "stream",
     "text": [
      "Pulled data:  (213, 12)\n",
      "Pulling data from: https://agmarknet.gov.in/SearchCmmMkt.aspx?Tx_State=0&Tx_District=0&Tx_Market=0&Tx_Trend=2&DateFrom=01-Aug-2025&DateTo=01-Aug-2025&Fr_Date=01-Aug-2025&To_Date=01-Aug-2025&Tx_CommodityHead=Ambada+Seed&Tx_Commodity=130\n",
      "[WARN] 2025-08-01: Message: \n",
      "Stacktrace:\n",
      "0   chromedriver                        0x000000010452f26c cxxbridge1$str$ptr + 2741972\n",
      "1   chromedriver                        0x00000001045271dc cxxbridge1$str$ptr + 2709060\n",
      "2   chromedriver                        0x00000001040714fc cxxbridge1$string$len + 90520\n",
      "3   chromedriver                        0x00000001040b8a14 cxxbridge1$string$len + 382640\n",
      "4   chromedriver                        0x00000001040f9db8 cxxbridge1$string$len + 649812\n",
      "5   chromedriver                        0x00000001040acd30 cxxbridge1$string$len + 334284\n",
      "6   chromedriver                        0x00000001044f266c cxxbridge1$str$ptr + 2493140\n",
      "7   chromedriver                        0x00000001044f58a0 cxxbridge1$str$ptr + 2505992\n",
      "8   chromedriver                        0x00000001044d34a4 cxxbridge1$str$ptr + 2365708\n",
      "9   chromedriver                        0x00000001044f615c cxxbridge1$str$ptr + 2508228\n",
      "10  chromedriver                        0x00000001044c459c cxxbridge1$str$ptr + 2304516\n",
      "11  chromedriver                        0x0000000104515c78 cxxbridge1$str$ptr + 2638048\n",
      "12  chromedriver                        0x0000000104515e04 cxxbridge1$str$ptr + 2638444\n",
      "13  chromedriver                        0x0000000104526e28 cxxbridge1$str$ptr + 2708112\n",
      "14  libsystem_pthread.dylib             0x00000001877a7c0c _pthread_start + 136\n",
      "15  libsystem_pthread.dylib             0x00000001877a2b80 thread_start + 8\n",
      "\n",
      "Pulling data from: https://agmarknet.gov.in/SearchCmmMkt.aspx?Tx_State=0&Tx_District=0&Tx_Market=0&Tx_Trend=2&DateFrom=01-Aug-2025&DateTo=01-Aug-2025&Fr_Date=01-Aug-2025&To_Date=01-Aug-2025&Tx_CommodityHead=Ambady%2FMesta&Tx_Commodity=417\n",
      "[WARN] 2025-08-01: Message: \n",
      "Stacktrace:\n",
      "0   chromedriver                        0x000000010452f26c cxxbridge1$str$ptr + 2741972\n",
      "1   chromedriver                        0x00000001045271dc cxxbridge1$str$ptr + 2709060\n",
      "2   chromedriver                        0x00000001040714fc cxxbridge1$string$len + 90520\n",
      "3   chromedriver                        0x00000001040b8a14 cxxbridge1$string$len + 382640\n",
      "4   chromedriver                        0x00000001040f9db8 cxxbridge1$string$len + 649812\n",
      "5   chromedriver                        0x00000001040acd30 cxxbridge1$string$len + 334284\n",
      "6   chromedriver                        0x00000001044f266c cxxbridge1$str$ptr + 2493140\n",
      "7   chromedriver                        0x00000001044f58a0 cxxbridge1$str$ptr + 2505992\n",
      "8   chromedriver                        0x00000001044d34a4 cxxbridge1$str$ptr + 2365708\n",
      "9   chromedriver                        0x00000001044f615c cxxbridge1$str$ptr + 2508228\n",
      "10  chromedriver                        0x00000001044c459c cxxbridge1$str$ptr + 2304516\n",
      "11  chromedriver                        0x0000000104515c78 cxxbridge1$str$ptr + 2638048\n",
      "12  chromedriver                        0x0000000104515e04 cxxbridge1$str$ptr + 2638444\n",
      "13  chromedriver                        0x0000000104526e28 cxxbridge1$str$ptr + 2708112\n",
      "14  libsystem_pthread.dylib             0x00000001877a7c0c _pthread_start + 136\n",
      "15  libsystem_pthread.dylib             0x00000001877a2b80 thread_start + 8\n",
      "\n",
      "Pulling data from: https://agmarknet.gov.in/SearchCmmMkt.aspx?Tx_State=0&Tx_District=0&Tx_Market=0&Tx_Trend=2&DateFrom=01-Aug-2025&DateTo=01-Aug-2025&Fr_Date=01-Aug-2025&To_Date=01-Aug-2025&Tx_CommodityHead=Amla%28Nelli+Kai%29&Tx_Commodity=355\n"
     ]
    },
    {
     "name": "stderr",
     "output_type": "stream",
     "text": [
      "/var/folders/jb/zy_516ps25g392kqdzfs61640000gn/T/ipykernel_78044/1959355148.py:16: FutureWarning: Passing literal html to 'read_html' is deprecated and will be removed in a future version. To read from a literal string, wrap it in a 'StringIO' object.\n",
      "  df = pd.read_html(table_html)[0]\n"
     ]
    },
    {
     "name": "stdout",
     "output_type": "stream",
     "text": [
      "Pulled data:  (73, 12)\n",
      "Pulling data from: https://agmarknet.gov.in/SearchCmmMkt.aspx?Tx_State=0&Tx_District=0&Tx_Market=0&Tx_Trend=2&DateFrom=01-Aug-2025&DateTo=01-Aug-2025&Fr_Date=01-Aug-2025&To_Date=01-Aug-2025&Tx_CommodityHead=Amphophalus&Tx_Commodity=102\n"
     ]
    },
    {
     "name": "stderr",
     "output_type": "stream",
     "text": [
      "/var/folders/jb/zy_516ps25g392kqdzfs61640000gn/T/ipykernel_78044/1959355148.py:16: FutureWarning: Passing literal html to 'read_html' is deprecated and will be removed in a future version. To read from a literal string, wrap it in a 'StringIO' object.\n",
      "  df = pd.read_html(table_html)[0]\n"
     ]
    },
    {
     "name": "stdout",
     "output_type": "stream",
     "text": [
      "Pulled data:  (32, 12)\n",
      "Pulling data from: https://agmarknet.gov.in/SearchCmmMkt.aspx?Tx_State=0&Tx_District=0&Tx_Market=0&Tx_Trend=2&DateFrom=01-Aug-2025&DateTo=01-Aug-2025&Fr_Date=01-Aug-2025&To_Date=01-Aug-2025&Tx_CommodityHead=Amranthas+Red&Tx_Commodity=419\n"
     ]
    },
    {
     "name": "stderr",
     "output_type": "stream",
     "text": [
      "/var/folders/jb/zy_516ps25g392kqdzfs61640000gn/T/ipykernel_78044/1959355148.py:16: FutureWarning: Passing literal html to 'read_html' is deprecated and will be removed in a future version. To read from a literal string, wrap it in a 'StringIO' object.\n",
      "  df = pd.read_html(table_html)[0]\n"
     ]
    },
    {
     "name": "stdout",
     "output_type": "stream",
     "text": [
      "Pulled data:  (2, 12)\n",
      "Pulling data from: https://agmarknet.gov.in/SearchCmmMkt.aspx?Tx_State=0&Tx_District=0&Tx_Market=0&Tx_Trend=2&DateFrom=01-Aug-2025&DateTo=01-Aug-2025&Fr_Date=01-Aug-2025&To_Date=01-Aug-2025&Tx_CommodityHead=Antawala&Tx_Commodity=209\n",
      "[WARN] 2025-08-01: Message: \n",
      "Stacktrace:\n",
      "0   chromedriver                        0x000000010452f26c cxxbridge1$str$ptr + 2741972\n",
      "1   chromedriver                        0x00000001045271dc cxxbridge1$str$ptr + 2709060\n",
      "2   chromedriver                        0x00000001040714fc cxxbridge1$string$len + 90520\n",
      "3   chromedriver                        0x00000001040b8a14 cxxbridge1$string$len + 382640\n",
      "4   chromedriver                        0x00000001040f9db8 cxxbridge1$string$len + 649812\n",
      "5   chromedriver                        0x00000001040acd30 cxxbridge1$string$len + 334284\n",
      "6   chromedriver                        0x00000001044f266c cxxbridge1$str$ptr + 2493140\n",
      "7   chromedriver                        0x00000001044f58a0 cxxbridge1$str$ptr + 2505992\n",
      "8   chromedriver                        0x00000001044d34a4 cxxbridge1$str$ptr + 2365708\n",
      "9   chromedriver                        0x00000001044f615c cxxbridge1$str$ptr + 2508228\n",
      "10  chromedriver                        0x00000001044c459c cxxbridge1$str$ptr + 2304516\n",
      "11  chromedriver                        0x0000000104515c78 cxxbridge1$str$ptr + 2638048\n",
      "12  chromedriver                        0x0000000104515e04 cxxbridge1$str$ptr + 2638444\n",
      "13  chromedriver                        0x0000000104526e28 cxxbridge1$str$ptr + 2708112\n",
      "14  libsystem_pthread.dylib             0x00000001877a7c0c _pthread_start + 136\n",
      "15  libsystem_pthread.dylib             0x00000001877a2b80 thread_start + 8\n",
      "\n",
      "Pulling data from: https://agmarknet.gov.in/SearchCmmMkt.aspx?Tx_State=0&Tx_District=0&Tx_Market=0&Tx_Trend=2&DateFrom=01-Aug-2025&DateTo=01-Aug-2025&Fr_Date=01-Aug-2025&To_Date=01-Aug-2025&Tx_CommodityHead=Anthorium&Tx_Commodity=379\n",
      "[WARN] 2025-08-01: Message: \n",
      "Stacktrace:\n",
      "0   chromedriver                        0x000000010452f26c cxxbridge1$str$ptr + 2741972\n",
      "1   chromedriver                        0x00000001045271dc cxxbridge1$str$ptr + 2709060\n",
      "2   chromedriver                        0x00000001040714fc cxxbridge1$string$len + 90520\n",
      "3   chromedriver                        0x00000001040b8a14 cxxbridge1$string$len + 382640\n",
      "4   chromedriver                        0x00000001040f9db8 cxxbridge1$string$len + 649812\n",
      "5   chromedriver                        0x00000001040acd30 cxxbridge1$string$len + 334284\n",
      "6   chromedriver                        0x00000001044f266c cxxbridge1$str$ptr + 2493140\n",
      "7   chromedriver                        0x00000001044f58a0 cxxbridge1$str$ptr + 2505992\n",
      "8   chromedriver                        0x00000001044d34a4 cxxbridge1$str$ptr + 2365708\n",
      "9   chromedriver                        0x00000001044f615c cxxbridge1$str$ptr + 2508228\n",
      "10  chromedriver                        0x00000001044c459c cxxbridge1$str$ptr + 2304516\n",
      "11  chromedriver                        0x0000000104515c78 cxxbridge1$str$ptr + 2638048\n",
      "12  chromedriver                        0x0000000104515e04 cxxbridge1$str$ptr + 2638444\n",
      "13  chromedriver                        0x0000000104526e28 cxxbridge1$str$ptr + 2708112\n",
      "14  libsystem_pthread.dylib             0x00000001877a7c0c _pthread_start + 136\n",
      "15  libsystem_pthread.dylib             0x00000001877a2b80 thread_start + 8\n",
      "\n",
      "Pulling data from: https://agmarknet.gov.in/SearchCmmMkt.aspx?Tx_State=0&Tx_District=0&Tx_Market=0&Tx_Trend=2&DateFrom=01-Aug-2025&DateTo=01-Aug-2025&Fr_Date=01-Aug-2025&To_Date=01-Aug-2025&Tx_CommodityHead=Apple&Tx_Commodity=17\n"
     ]
    },
    {
     "name": "stderr",
     "output_type": "stream",
     "text": [
      "/var/folders/jb/zy_516ps25g392kqdzfs61640000gn/T/ipykernel_78044/1959355148.py:16: FutureWarning: Passing literal html to 'read_html' is deprecated and will be removed in a future version. To read from a literal string, wrap it in a 'StringIO' object.\n",
      "  df = pd.read_html(table_html)[0]\n"
     ]
    },
    {
     "name": "stdout",
     "output_type": "stream",
     "text": [
      "Pulled data:  (274, 12)\n",
      "Pulling data from: https://agmarknet.gov.in/SearchCmmMkt.aspx?Tx_State=0&Tx_District=0&Tx_Market=0&Tx_Trend=2&DateFrom=01-Aug-2025&DateTo=01-Aug-2025&Fr_Date=01-Aug-2025&To_Date=01-Aug-2025&Tx_CommodityHead=Apricot%28Jardalu%2FKhumani%29&Tx_Commodity=326\n"
     ]
    },
    {
     "name": "stderr",
     "output_type": "stream",
     "text": [
      "/var/folders/jb/zy_516ps25g392kqdzfs61640000gn/T/ipykernel_78044/1959355148.py:16: FutureWarning: Passing literal html to 'read_html' is deprecated and will be removed in a future version. To read from a literal string, wrap it in a 'StringIO' object.\n",
      "  df = pd.read_html(table_html)[0]\n"
     ]
    },
    {
     "name": "stdout",
     "output_type": "stream",
     "text": [
      "Pulled data:  (1, 12)\n",
      "Pulling data from: https://agmarknet.gov.in/SearchCmmMkt.aspx?Tx_State=0&Tx_District=0&Tx_Market=0&Tx_Trend=2&DateFrom=01-Aug-2025&DateTo=01-Aug-2025&Fr_Date=01-Aug-2025&To_Date=01-Aug-2025&Tx_CommodityHead=Arecanut%28Betelnut%2FSupari%29&Tx_Commodity=140\n"
     ]
    },
    {
     "name": "stderr",
     "output_type": "stream",
     "text": [
      "/var/folders/jb/zy_516ps25g392kqdzfs61640000gn/T/ipykernel_78044/1959355148.py:16: FutureWarning: Passing literal html to 'read_html' is deprecated and will be removed in a future version. To read from a literal string, wrap it in a 'StringIO' object.\n",
      "  df = pd.read_html(table_html)[0]\n"
     ]
    },
    {
     "name": "stdout",
     "output_type": "stream",
     "text": [
      "Pulled data:  (48, 12)\n",
      "Pulling data from: https://agmarknet.gov.in/SearchCmmMkt.aspx?Tx_State=0&Tx_District=0&Tx_Market=0&Tx_Trend=2&DateFrom=01-Aug-2025&DateTo=01-Aug-2025&Fr_Date=01-Aug-2025&To_Date=01-Aug-2025&Tx_CommodityHead=Arhar+%28Tur%2FRed+Gram%29%28Whole%29&Tx_Commodity=49\n"
     ]
    },
    {
     "name": "stderr",
     "output_type": "stream",
     "text": [
      "/var/folders/jb/zy_516ps25g392kqdzfs61640000gn/T/ipykernel_78044/1959355148.py:16: FutureWarning: Passing literal html to 'read_html' is deprecated and will be removed in a future version. To read from a literal string, wrap it in a 'StringIO' object.\n",
      "  df = pd.read_html(table_html)[0]\n"
     ]
    },
    {
     "name": "stdout",
     "output_type": "stream",
     "text": [
      "Pulled data:  (145, 12)\n",
      "Pulling data from: https://agmarknet.gov.in/SearchCmmMkt.aspx?Tx_State=0&Tx_District=0&Tx_Market=0&Tx_Trend=2&DateFrom=01-Aug-2025&DateTo=01-Aug-2025&Fr_Date=01-Aug-2025&To_Date=01-Aug-2025&Tx_CommodityHead=Arhar+Dal%28Tur+Dal%29&Tx_Commodity=260\n"
     ]
    },
    {
     "name": "stderr",
     "output_type": "stream",
     "text": [
      "/var/folders/jb/zy_516ps25g392kqdzfs61640000gn/T/ipykernel_78044/1959355148.py:16: FutureWarning: Passing literal html to 'read_html' is deprecated and will be removed in a future version. To read from a literal string, wrap it in a 'StringIO' object.\n",
      "  df = pd.read_html(table_html)[0]\n"
     ]
    },
    {
     "name": "stdout",
     "output_type": "stream",
     "text": [
      "Pulled data:  (64, 12)\n",
      "Pulling data from: https://agmarknet.gov.in/SearchCmmMkt.aspx?Tx_State=0&Tx_District=0&Tx_Market=0&Tx_Trend=2&DateFrom=01-Aug-2025&DateTo=01-Aug-2025&Fr_Date=01-Aug-2025&To_Date=01-Aug-2025&Tx_CommodityHead=Asalia&Tx_Commodity=444\n"
     ]
    },
    {
     "name": "stderr",
     "output_type": "stream",
     "text": [
      "/var/folders/jb/zy_516ps25g392kqdzfs61640000gn/T/ipykernel_78044/1959355148.py:16: FutureWarning: Passing literal html to 'read_html' is deprecated and will be removed in a future version. To read from a literal string, wrap it in a 'StringIO' object.\n",
      "  df = pd.read_html(table_html)[0]\n"
     ]
    },
    {
     "name": "stdout",
     "output_type": "stream",
     "text": [
      "Pulled data:  (2, 12)\n",
      "Pulling data from: https://agmarknet.gov.in/SearchCmmMkt.aspx?Tx_State=0&Tx_District=0&Tx_Market=0&Tx_Trend=2&DateFrom=01-Aug-2025&DateTo=01-Aug-2025&Fr_Date=01-Aug-2025&To_Date=01-Aug-2025&Tx_CommodityHead=Asgand&Tx_Commodity=505\n"
     ]
    },
    {
     "name": "stderr",
     "output_type": "stream",
     "text": [
      "/var/folders/jb/zy_516ps25g392kqdzfs61640000gn/T/ipykernel_78044/1959355148.py:16: FutureWarning: Passing literal html to 'read_html' is deprecated and will be removed in a future version. To read from a literal string, wrap it in a 'StringIO' object.\n",
      "  df = pd.read_html(table_html)[0]\n"
     ]
    },
    {
     "name": "stdout",
     "output_type": "stream",
     "text": [
      "Pulled data:  (1, 12)\n",
      "Pulling data from: https://agmarknet.gov.in/SearchCmmMkt.aspx?Tx_State=0&Tx_District=0&Tx_Market=0&Tx_Trend=2&DateFrom=01-Aug-2025&DateTo=01-Aug-2025&Fr_Date=01-Aug-2025&To_Date=01-Aug-2025&Tx_CommodityHead=Ashgourd&Tx_Commodity=83\n"
     ]
    },
    {
     "name": "stderr",
     "output_type": "stream",
     "text": [
      "/var/folders/jb/zy_516ps25g392kqdzfs61640000gn/T/ipykernel_78044/1959355148.py:16: FutureWarning: Passing literal html to 'read_html' is deprecated and will be removed in a future version. To read from a literal string, wrap it in a 'StringIO' object.\n",
      "  df = pd.read_html(table_html)[0]\n"
     ]
    },
    {
     "name": "stdout",
     "output_type": "stream",
     "text": [
      "Pulled data:  (199, 12)\n",
      "Pulling data from: https://agmarknet.gov.in/SearchCmmMkt.aspx?Tx_State=0&Tx_District=0&Tx_Market=0&Tx_Trend=2&DateFrom=01-Aug-2025&DateTo=01-Aug-2025&Fr_Date=01-Aug-2025&To_Date=01-Aug-2025&Tx_CommodityHead=Ashoka&Tx_Commodity=506\n",
      "[WARN] 2025-08-01: Message: \n",
      "Stacktrace:\n",
      "0   chromedriver                        0x000000010316f26c cxxbridge1$str$ptr + 2741972\n",
      "1   chromedriver                        0x00000001031671dc cxxbridge1$str$ptr + 2709060\n",
      "2   chromedriver                        0x0000000102cb14fc cxxbridge1$string$len + 90520\n",
      "3   chromedriver                        0x0000000102cf8a14 cxxbridge1$string$len + 382640\n",
      "4   chromedriver                        0x0000000102d39db8 cxxbridge1$string$len + 649812\n",
      "5   chromedriver                        0x0000000102cecd30 cxxbridge1$string$len + 334284\n",
      "6   chromedriver                        0x000000010313266c cxxbridge1$str$ptr + 2493140\n",
      "7   chromedriver                        0x00000001031358a0 cxxbridge1$str$ptr + 2505992\n",
      "8   chromedriver                        0x00000001031134a4 cxxbridge1$str$ptr + 2365708\n",
      "9   chromedriver                        0x000000010313615c cxxbridge1$str$ptr + 2508228\n",
      "10  chromedriver                        0x000000010310459c cxxbridge1$str$ptr + 2304516\n",
      "11  chromedriver                        0x0000000103155c78 cxxbridge1$str$ptr + 2638048\n",
      "12  chromedriver                        0x0000000103155e04 cxxbridge1$str$ptr + 2638444\n",
      "13  chromedriver                        0x0000000103166e28 cxxbridge1$str$ptr + 2708112\n",
      "14  libsystem_pthread.dylib             0x00000001877a7c0c _pthread_start + 136\n",
      "15  libsystem_pthread.dylib             0x00000001877a2b80 thread_start + 8\n",
      "\n",
      "Pulling data from: https://agmarknet.gov.in/SearchCmmMkt.aspx?Tx_State=0&Tx_District=0&Tx_Market=0&Tx_Trend=2&DateFrom=01-Aug-2025&DateTo=01-Aug-2025&Fr_Date=01-Aug-2025&To_Date=01-Aug-2025&Tx_CommodityHead=Ashwagandha&Tx_Commodity=443\n"
     ]
    },
    {
     "name": "stderr",
     "output_type": "stream",
     "text": [
      "/var/folders/jb/zy_516ps25g392kqdzfs61640000gn/T/ipykernel_78044/1959355148.py:16: FutureWarning: Passing literal html to 'read_html' is deprecated and will be removed in a future version. To read from a literal string, wrap it in a 'StringIO' object.\n",
      "  df = pd.read_html(table_html)[0]\n"
     ]
    },
    {
     "name": "stdout",
     "output_type": "stream",
     "text": [
      "Pulled data:  (1, 12)\n",
      "Pulling data from: https://agmarknet.gov.in/SearchCmmMkt.aspx?Tx_State=0&Tx_District=0&Tx_Market=0&Tx_Trend=2&DateFrom=01-Aug-2025&DateTo=01-Aug-2025&Fr_Date=01-Aug-2025&To_Date=01-Aug-2025&Tx_CommodityHead=Asparagus&Tx_Commodity=434\n",
      "[WARN] 2025-08-01: Message: \n",
      "Stacktrace:\n",
      "0   chromedriver                        0x000000010316f26c cxxbridge1$str$ptr + 2741972\n",
      "1   chromedriver                        0x00000001031671dc cxxbridge1$str$ptr + 2709060\n",
      "2   chromedriver                        0x0000000102cb14fc cxxbridge1$string$len + 90520\n",
      "3   chromedriver                        0x0000000102cf8a14 cxxbridge1$string$len + 382640\n",
      "4   chromedriver                        0x0000000102d39db8 cxxbridge1$string$len + 649812\n",
      "5   chromedriver                        0x0000000102cecd30 cxxbridge1$string$len + 334284\n",
      "6   chromedriver                        0x000000010313266c cxxbridge1$str$ptr + 2493140\n",
      "7   chromedriver                        0x00000001031358a0 cxxbridge1$str$ptr + 2505992\n",
      "8   chromedriver                        0x00000001031134a4 cxxbridge1$str$ptr + 2365708\n",
      "9   chromedriver                        0x000000010313615c cxxbridge1$str$ptr + 2508228\n",
      "10  chromedriver                        0x000000010310459c cxxbridge1$str$ptr + 2304516\n",
      "11  chromedriver                        0x0000000103155c78 cxxbridge1$str$ptr + 2638048\n",
      "12  chromedriver                        0x0000000103155e04 cxxbridge1$str$ptr + 2638444\n",
      "13  chromedriver                        0x0000000103166e28 cxxbridge1$str$ptr + 2708112\n",
      "14  libsystem_pthread.dylib             0x00000001877a7c0c _pthread_start + 136\n",
      "15  libsystem_pthread.dylib             0x00000001877a2b80 thread_start + 8\n",
      "\n",
      "Pulling data from: https://agmarknet.gov.in/SearchCmmMkt.aspx?Tx_State=0&Tx_District=0&Tx_Market=0&Tx_Trend=2&DateFrom=01-Aug-2025&DateTo=01-Aug-2025&Fr_Date=01-Aug-2025&To_Date=01-Aug-2025&Tx_CommodityHead=Astera&Tx_Commodity=232\n"
     ]
    },
    {
     "name": "stderr",
     "output_type": "stream",
     "text": [
      "/var/folders/jb/zy_516ps25g392kqdzfs61640000gn/T/ipykernel_78044/1959355148.py:16: FutureWarning: Passing literal html to 'read_html' is deprecated and will be removed in a future version. To read from a literal string, wrap it in a 'StringIO' object.\n",
      "  df = pd.read_html(table_html)[0]\n"
     ]
    },
    {
     "name": "stdout",
     "output_type": "stream",
     "text": [
      "Pulled data:  (1, 12)\n",
      "Pulling data from: https://agmarknet.gov.in/SearchCmmMkt.aspx?Tx_State=0&Tx_District=0&Tx_Market=0&Tx_Trend=2&DateFrom=01-Aug-2025&DateTo=01-Aug-2025&Fr_Date=01-Aug-2025&To_Date=01-Aug-2025&Tx_CommodityHead=Atis&Tx_Commodity=507\n",
      "[WARN] 2025-08-01: Message: \n",
      "Stacktrace:\n",
      "0   chromedriver                        0x000000010316f26c cxxbridge1$str$ptr + 2741972\n",
      "1   chromedriver                        0x00000001031671dc cxxbridge1$str$ptr + 2709060\n",
      "2   chromedriver                        0x0000000102cb14fc cxxbridge1$string$len + 90520\n",
      "3   chromedriver                        0x0000000102cf8a14 cxxbridge1$string$len + 382640\n",
      "4   chromedriver                        0x0000000102d39db8 cxxbridge1$string$len + 649812\n",
      "5   chromedriver                        0x0000000102cecd30 cxxbridge1$string$len + 334284\n",
      "6   chromedriver                        0x000000010313266c cxxbridge1$str$ptr + 2493140\n",
      "7   chromedriver                        0x00000001031358a0 cxxbridge1$str$ptr + 2505992\n",
      "8   chromedriver                        0x00000001031134a4 cxxbridge1$str$ptr + 2365708\n",
      "9   chromedriver                        0x000000010313615c cxxbridge1$str$ptr + 2508228\n",
      "10  chromedriver                        0x000000010310459c cxxbridge1$str$ptr + 2304516\n",
      "11  chromedriver                        0x0000000103155c78 cxxbridge1$str$ptr + 2638048\n",
      "12  chromedriver                        0x0000000103155e04 cxxbridge1$str$ptr + 2638444\n",
      "13  chromedriver                        0x0000000103166e28 cxxbridge1$str$ptr + 2708112\n",
      "14  libsystem_pthread.dylib             0x00000001877a7c0c _pthread_start + 136\n",
      "15  libsystem_pthread.dylib             0x00000001877a2b80 thread_start + 8\n",
      "\n",
      "Pulling data from: https://agmarknet.gov.in/SearchCmmMkt.aspx?Tx_State=0&Tx_District=0&Tx_Market=0&Tx_Trend=2&DateFrom=01-Aug-2025&DateTo=01-Aug-2025&Fr_Date=01-Aug-2025&To_Date=01-Aug-2025&Tx_CommodityHead=Avare+Dal&Tx_Commodity=269\n",
      "[WARN] 2025-08-01: Message: \n",
      "Stacktrace:\n",
      "0   chromedriver                        0x000000010316f26c cxxbridge1$str$ptr + 2741972\n",
      "1   chromedriver                        0x00000001031671dc cxxbridge1$str$ptr + 2709060\n",
      "2   chromedriver                        0x0000000102cb14fc cxxbridge1$string$len + 90520\n",
      "3   chromedriver                        0x0000000102cf8a14 cxxbridge1$string$len + 382640\n",
      "4   chromedriver                        0x0000000102d39db8 cxxbridge1$string$len + 649812\n",
      "5   chromedriver                        0x0000000102cecd30 cxxbridge1$string$len + 334284\n",
      "6   chromedriver                        0x000000010313266c cxxbridge1$str$ptr + 2493140\n",
      "7   chromedriver                        0x00000001031358a0 cxxbridge1$str$ptr + 2505992\n",
      "8   chromedriver                        0x00000001031134a4 cxxbridge1$str$ptr + 2365708\n",
      "9   chromedriver                        0x000000010313615c cxxbridge1$str$ptr + 2508228\n",
      "10  chromedriver                        0x000000010310459c cxxbridge1$str$ptr + 2304516\n",
      "11  chromedriver                        0x0000000103155c78 cxxbridge1$str$ptr + 2638048\n",
      "12  chromedriver                        0x0000000103155e04 cxxbridge1$str$ptr + 2638444\n",
      "13  chromedriver                        0x0000000103166e28 cxxbridge1$str$ptr + 2708112\n",
      "14  libsystem_pthread.dylib             0x00000001877a7c0c _pthread_start + 136\n",
      "15  libsystem_pthread.dylib             0x00000001877a2b80 thread_start + 8\n",
      "\n",
      "Pulling data from: https://agmarknet.gov.in/SearchCmmMkt.aspx?Tx_State=0&Tx_District=0&Tx_Market=0&Tx_Trend=2&DateFrom=01-Aug-2025&DateTo=01-Aug-2025&Fr_Date=01-Aug-2025&To_Date=01-Aug-2025&Tx_CommodityHead=Bael&Tx_Commodity=418\n",
      "[WARN] 2025-08-01: Message: \n",
      "Stacktrace:\n",
      "0   chromedriver                        0x000000010316f26c cxxbridge1$str$ptr + 2741972\n",
      "1   chromedriver                        0x00000001031671dc cxxbridge1$str$ptr + 2709060\n",
      "2   chromedriver                        0x0000000102cb14fc cxxbridge1$string$len + 90520\n",
      "3   chromedriver                        0x0000000102cf8a14 cxxbridge1$string$len + 382640\n",
      "4   chromedriver                        0x0000000102d39db8 cxxbridge1$string$len + 649812\n",
      "5   chromedriver                        0x0000000102cecd30 cxxbridge1$string$len + 334284\n",
      "6   chromedriver                        0x000000010313266c cxxbridge1$str$ptr + 2493140\n",
      "7   chromedriver                        0x00000001031358a0 cxxbridge1$str$ptr + 2505992\n",
      "8   chromedriver                        0x00000001031134a4 cxxbridge1$str$ptr + 2365708\n",
      "9   chromedriver                        0x000000010313615c cxxbridge1$str$ptr + 2508228\n",
      "10  chromedriver                        0x000000010310459c cxxbridge1$str$ptr + 2304516\n",
      "11  chromedriver                        0x0000000103155c78 cxxbridge1$str$ptr + 2638048\n",
      "12  chromedriver                        0x0000000103155e04 cxxbridge1$str$ptr + 2638444\n",
      "13  chromedriver                        0x0000000103166e28 cxxbridge1$str$ptr + 2708112\n",
      "14  libsystem_pthread.dylib             0x00000001877a7c0c _pthread_start + 136\n",
      "15  libsystem_pthread.dylib             0x00000001877a2b80 thread_start + 8\n",
      "\n",
      "Pulling data from: https://agmarknet.gov.in/SearchCmmMkt.aspx?Tx_State=0&Tx_District=0&Tx_Market=0&Tx_Trend=2&DateFrom=01-Aug-2025&DateTo=01-Aug-2025&Fr_Date=01-Aug-2025&To_Date=01-Aug-2025&Tx_CommodityHead=Bajji+chilli&Tx_Commodity=491\n",
      "[WARN] 2025-08-01: Message: \n",
      "Stacktrace:\n",
      "0   chromedriver                        0x000000010316f26c cxxbridge1$str$ptr + 2741972\n",
      "1   chromedriver                        0x00000001031671dc cxxbridge1$str$ptr + 2709060\n",
      "2   chromedriver                        0x0000000102cb14fc cxxbridge1$string$len + 90520\n",
      "3   chromedriver                        0x0000000102cf8a14 cxxbridge1$string$len + 382640\n",
      "4   chromedriver                        0x0000000102d39db8 cxxbridge1$string$len + 649812\n",
      "5   chromedriver                        0x0000000102cecd30 cxxbridge1$string$len + 334284\n",
      "6   chromedriver                        0x000000010313266c cxxbridge1$str$ptr + 2493140\n",
      "7   chromedriver                        0x00000001031358a0 cxxbridge1$str$ptr + 2505992\n",
      "8   chromedriver                        0x00000001031134a4 cxxbridge1$str$ptr + 2365708\n",
      "9   chromedriver                        0x000000010313615c cxxbridge1$str$ptr + 2508228\n",
      "10  chromedriver                        0x000000010310459c cxxbridge1$str$ptr + 2304516\n",
      "11  chromedriver                        0x0000000103155c78 cxxbridge1$str$ptr + 2638048\n",
      "12  chromedriver                        0x0000000103155e04 cxxbridge1$str$ptr + 2638444\n",
      "13  chromedriver                        0x0000000103166e28 cxxbridge1$str$ptr + 2708112\n",
      "14  libsystem_pthread.dylib             0x00000001877a7c0c _pthread_start + 136\n",
      "15  libsystem_pthread.dylib             0x00000001877a2b80 thread_start + 8\n",
      "\n",
      "Pulling data from: https://agmarknet.gov.in/SearchCmmMkt.aspx?Tx_State=0&Tx_District=0&Tx_Market=0&Tx_Trend=2&DateFrom=01-Aug-2025&DateTo=01-Aug-2025&Fr_Date=01-Aug-2025&To_Date=01-Aug-2025&Tx_CommodityHead=Bajra%28Pearl+Millet%2FCumbu%29&Tx_Commodity=28\n"
     ]
    },
    {
     "name": "stderr",
     "output_type": "stream",
     "text": [
      "/var/folders/jb/zy_516ps25g392kqdzfs61640000gn/T/ipykernel_78044/1959355148.py:16: FutureWarning: Passing literal html to 'read_html' is deprecated and will be removed in a future version. To read from a literal string, wrap it in a 'StringIO' object.\n",
      "  df = pd.read_html(table_html)[0]\n"
     ]
    },
    {
     "name": "stdout",
     "output_type": "stream",
     "text": [
      "Pulled data:  (132, 12)\n",
      "Pulling data from: https://agmarknet.gov.in/SearchCmmMkt.aspx?Tx_State=0&Tx_District=0&Tx_Market=0&Tx_Trend=2&DateFrom=01-Aug-2025&DateTo=01-Aug-2025&Fr_Date=01-Aug-2025&To_Date=01-Aug-2025&Tx_CommodityHead=Balekai&Tx_Commodity=274\n",
      "[WARN] 2025-08-01: Message: \n",
      "Stacktrace:\n",
      "0   chromedriver                        0x000000010316f26c cxxbridge1$str$ptr + 2741972\n",
      "1   chromedriver                        0x00000001031671dc cxxbridge1$str$ptr + 2709060\n",
      "2   chromedriver                        0x0000000102cb14fc cxxbridge1$string$len + 90520\n",
      "3   chromedriver                        0x0000000102cf8a14 cxxbridge1$string$len + 382640\n",
      "4   chromedriver                        0x0000000102d39db8 cxxbridge1$string$len + 649812\n",
      "5   chromedriver                        0x0000000102cecd30 cxxbridge1$string$len + 334284\n",
      "6   chromedriver                        0x000000010313266c cxxbridge1$str$ptr + 2493140\n",
      "7   chromedriver                        0x00000001031358a0 cxxbridge1$str$ptr + 2505992\n",
      "8   chromedriver                        0x00000001031134a4 cxxbridge1$str$ptr + 2365708\n",
      "9   chromedriver                        0x000000010313615c cxxbridge1$str$ptr + 2508228\n",
      "10  chromedriver                        0x000000010310459c cxxbridge1$str$ptr + 2304516\n",
      "11  chromedriver                        0x0000000103155c78 cxxbridge1$str$ptr + 2638048\n",
      "12  chromedriver                        0x0000000103155e04 cxxbridge1$str$ptr + 2638444\n",
      "13  chromedriver                        0x0000000103166e28 cxxbridge1$str$ptr + 2708112\n",
      "14  libsystem_pthread.dylib             0x00000001877a7c0c _pthread_start + 136\n",
      "15  libsystem_pthread.dylib             0x00000001877a2b80 thread_start + 8\n",
      "\n",
      "Pulling data from: https://agmarknet.gov.in/SearchCmmMkt.aspx?Tx_State=0&Tx_District=0&Tx_Market=0&Tx_Trend=2&DateFrom=01-Aug-2025&DateTo=01-Aug-2025&Fr_Date=01-Aug-2025&To_Date=01-Aug-2025&Tx_CommodityHead=balsam&Tx_Commodity=482\n",
      "[WARN] 2025-08-01: Message: \n",
      "Stacktrace:\n",
      "0   chromedriver                        0x000000010316f26c cxxbridge1$str$ptr + 2741972\n",
      "1   chromedriver                        0x00000001031671dc cxxbridge1$str$ptr + 2709060\n",
      "2   chromedriver                        0x0000000102cb14fc cxxbridge1$string$len + 90520\n",
      "3   chromedriver                        0x0000000102cf8a14 cxxbridge1$string$len + 382640\n",
      "4   chromedriver                        0x0000000102d39db8 cxxbridge1$string$len + 649812\n",
      "5   chromedriver                        0x0000000102cecd30 cxxbridge1$string$len + 334284\n",
      "6   chromedriver                        0x000000010313266c cxxbridge1$str$ptr + 2493140\n",
      "7   chromedriver                        0x00000001031358a0 cxxbridge1$str$ptr + 2505992\n",
      "8   chromedriver                        0x00000001031134a4 cxxbridge1$str$ptr + 2365708\n",
      "9   chromedriver                        0x000000010313615c cxxbridge1$str$ptr + 2508228\n",
      "10  chromedriver                        0x000000010310459c cxxbridge1$str$ptr + 2304516\n",
      "11  chromedriver                        0x0000000103155c78 cxxbridge1$str$ptr + 2638048\n",
      "12  chromedriver                        0x0000000103155e04 cxxbridge1$str$ptr + 2638444\n",
      "13  chromedriver                        0x0000000103166e28 cxxbridge1$str$ptr + 2708112\n",
      "14  libsystem_pthread.dylib             0x00000001877a7c0c _pthread_start + 136\n",
      "15  libsystem_pthread.dylib             0x00000001877a2b80 thread_start + 8\n",
      "\n",
      "Pulling data from: https://agmarknet.gov.in/SearchCmmMkt.aspx?Tx_State=0&Tx_District=0&Tx_Market=0&Tx_Trend=2&DateFrom=01-Aug-2025&DateTo=01-Aug-2025&Fr_Date=01-Aug-2025&To_Date=01-Aug-2025&Tx_CommodityHead=Bamboo&Tx_Commodity=204\n",
      "[WARN] 2025-08-01: Message: \n",
      "Stacktrace:\n",
      "0   chromedriver                        0x000000010316f26c cxxbridge1$str$ptr + 2741972\n",
      "1   chromedriver                        0x00000001031671dc cxxbridge1$str$ptr + 2709060\n",
      "2   chromedriver                        0x0000000102cb14fc cxxbridge1$string$len + 90520\n",
      "3   chromedriver                        0x0000000102cf8a14 cxxbridge1$string$len + 382640\n",
      "4   chromedriver                        0x0000000102d39db8 cxxbridge1$string$len + 649812\n",
      "5   chromedriver                        0x0000000102cecd30 cxxbridge1$string$len + 334284\n",
      "6   chromedriver                        0x000000010313266c cxxbridge1$str$ptr + 2493140\n",
      "7   chromedriver                        0x00000001031358a0 cxxbridge1$str$ptr + 2505992\n",
      "8   chromedriver                        0x00000001031134a4 cxxbridge1$str$ptr + 2365708\n",
      "9   chromedriver                        0x000000010313615c cxxbridge1$str$ptr + 2508228\n",
      "10  chromedriver                        0x000000010310459c cxxbridge1$str$ptr + 2304516\n",
      "11  chromedriver                        0x0000000103155c78 cxxbridge1$str$ptr + 2638048\n",
      "12  chromedriver                        0x0000000103155e04 cxxbridge1$str$ptr + 2638444\n",
      "13  chromedriver                        0x0000000103166e28 cxxbridge1$str$ptr + 2708112\n",
      "14  libsystem_pthread.dylib             0x00000001877a7c0c _pthread_start + 136\n",
      "15  libsystem_pthread.dylib             0x00000001877a2b80 thread_start + 8\n",
      "\n",
      "Pulling data from: https://agmarknet.gov.in/SearchCmmMkt.aspx?Tx_State=0&Tx_District=0&Tx_Market=0&Tx_Trend=2&DateFrom=01-Aug-2025&DateTo=01-Aug-2025&Fr_Date=01-Aug-2025&To_Date=01-Aug-2025&Tx_CommodityHead=Banana&Tx_Commodity=19\n"
     ]
    },
    {
     "name": "stderr",
     "output_type": "stream",
     "text": [
      "/var/folders/jb/zy_516ps25g392kqdzfs61640000gn/T/ipykernel_78044/1959355148.py:16: FutureWarning: Passing literal html to 'read_html' is deprecated and will be removed in a future version. To read from a literal string, wrap it in a 'StringIO' object.\n",
      "  df = pd.read_html(table_html)[0]\n"
     ]
    },
    {
     "name": "stdout",
     "output_type": "stream",
     "text": [
      "Pulled data:  (648, 12)\n",
      "Pulling data from: https://agmarknet.gov.in/SearchCmmMkt.aspx?Tx_State=0&Tx_District=0&Tx_Market=0&Tx_Trend=2&DateFrom=01-Aug-2025&DateTo=01-Aug-2025&Fr_Date=01-Aug-2025&To_Date=01-Aug-2025&Tx_CommodityHead=Banana+-+Green&Tx_Commodity=90\n"
     ]
    },
    {
     "name": "stderr",
     "output_type": "stream",
     "text": [
      "/var/folders/jb/zy_516ps25g392kqdzfs61640000gn/T/ipykernel_78044/1959355148.py:16: FutureWarning: Passing literal html to 'read_html' is deprecated and will be removed in a future version. To read from a literal string, wrap it in a 'StringIO' object.\n",
      "  df = pd.read_html(table_html)[0]\n"
     ]
    },
    {
     "name": "stdout",
     "output_type": "stream",
     "text": [
      "Pulled data:  (276, 12)\n",
      "Pulling data from: https://agmarknet.gov.in/SearchCmmMkt.aspx?Tx_State=0&Tx_District=0&Tx_Market=0&Tx_Trend=2&DateFrom=01-Aug-2025&DateTo=01-Aug-2025&Fr_Date=01-Aug-2025&To_Date=01-Aug-2025&Tx_CommodityHead=Banana+flower&Tx_Commodity=483\n",
      "[WARN] 2025-08-01: Message: \n",
      "Stacktrace:\n",
      "0   chromedriver                        0x0000000104b2f26c cxxbridge1$str$ptr + 2741972\n",
      "1   chromedriver                        0x0000000104b271dc cxxbridge1$str$ptr + 2709060\n",
      "2   chromedriver                        0x00000001046714fc cxxbridge1$string$len + 90520\n",
      "3   chromedriver                        0x00000001046b8a14 cxxbridge1$string$len + 382640\n",
      "4   chromedriver                        0x00000001046f9db8 cxxbridge1$string$len + 649812\n",
      "5   chromedriver                        0x00000001046acd30 cxxbridge1$string$len + 334284\n",
      "6   chromedriver                        0x0000000104af266c cxxbridge1$str$ptr + 2493140\n",
      "7   chromedriver                        0x0000000104af58a0 cxxbridge1$str$ptr + 2505992\n",
      "8   chromedriver                        0x0000000104ad34a4 cxxbridge1$str$ptr + 2365708\n",
      "9   chromedriver                        0x0000000104af615c cxxbridge1$str$ptr + 2508228\n",
      "10  chromedriver                        0x0000000104ac459c cxxbridge1$str$ptr + 2304516\n",
      "11  chromedriver                        0x0000000104b15c78 cxxbridge1$str$ptr + 2638048\n",
      "12  chromedriver                        0x0000000104b15e04 cxxbridge1$str$ptr + 2638444\n",
      "13  chromedriver                        0x0000000104b26e28 cxxbridge1$str$ptr + 2708112\n",
      "14  libsystem_pthread.dylib             0x00000001877a7c0c _pthread_start + 136\n",
      "15  libsystem_pthread.dylib             0x00000001877a2b80 thread_start + 8\n",
      "\n",
      "Pulling data from: https://agmarknet.gov.in/SearchCmmMkt.aspx?Tx_State=0&Tx_District=0&Tx_Market=0&Tx_Trend=2&DateFrom=01-Aug-2025&DateTo=01-Aug-2025&Fr_Date=01-Aug-2025&To_Date=01-Aug-2025&Tx_CommodityHead=Banana+Leaf&Tx_Commodity=485\n",
      "[WARN] 2025-08-01: Message: \n",
      "Stacktrace:\n",
      "0   chromedriver                        0x000000010458f26c cxxbridge1$str$ptr + 2741972\n",
      "1   chromedriver                        0x00000001045871dc cxxbridge1$str$ptr + 2709060\n",
      "2   chromedriver                        0x00000001040d14fc cxxbridge1$string$len + 90520\n",
      "3   chromedriver                        0x0000000104118a14 cxxbridge1$string$len + 382640\n",
      "4   chromedriver                        0x0000000104159db8 cxxbridge1$string$len + 649812\n",
      "5   chromedriver                        0x000000010410cd30 cxxbridge1$string$len + 334284\n",
      "6   chromedriver                        0x000000010455266c cxxbridge1$str$ptr + 2493140\n",
      "7   chromedriver                        0x00000001045558a0 cxxbridge1$str$ptr + 2505992\n",
      "8   chromedriver                        0x00000001045334a4 cxxbridge1$str$ptr + 2365708\n",
      "9   chromedriver                        0x000000010455615c cxxbridge1$str$ptr + 2508228\n",
      "10  chromedriver                        0x000000010452459c cxxbridge1$str$ptr + 2304516\n",
      "11  chromedriver                        0x0000000104575c78 cxxbridge1$str$ptr + 2638048\n",
      "12  chromedriver                        0x0000000104575e04 cxxbridge1$str$ptr + 2638444\n",
      "13  chromedriver                        0x0000000104586e28 cxxbridge1$str$ptr + 2708112\n",
      "14  libsystem_pthread.dylib             0x00000001877a7c0c _pthread_start + 136\n",
      "15  libsystem_pthread.dylib             0x00000001877a2b80 thread_start + 8\n",
      "\n",
      "Pulling data from: https://agmarknet.gov.in/SearchCmmMkt.aspx?Tx_State=0&Tx_District=0&Tx_Market=0&Tx_Trend=2&DateFrom=01-Aug-2025&DateTo=01-Aug-2025&Fr_Date=01-Aug-2025&To_Date=01-Aug-2025&Tx_CommodityHead=Banana+stem&Tx_Commodity=484\n",
      "[WARN] 2025-08-01: Message: \n",
      "Stacktrace:\n",
      "0   chromedriver                        0x0000000102a0326c cxxbridge1$str$ptr + 2741972\n",
      "1   chromedriver                        0x00000001029fb1dc cxxbridge1$str$ptr + 2709060\n",
      "2   chromedriver                        0x00000001025454fc cxxbridge1$string$len + 90520\n",
      "3   chromedriver                        0x000000010258ca14 cxxbridge1$string$len + 382640\n",
      "4   chromedriver                        0x00000001025cddb8 cxxbridge1$string$len + 649812\n",
      "5   chromedriver                        0x0000000102580d30 cxxbridge1$string$len + 334284\n",
      "6   chromedriver                        0x00000001029c666c cxxbridge1$str$ptr + 2493140\n",
      "7   chromedriver                        0x00000001029c98a0 cxxbridge1$str$ptr + 2505992\n",
      "8   chromedriver                        0x00000001029a74a4 cxxbridge1$str$ptr + 2365708\n",
      "9   chromedriver                        0x00000001029ca15c cxxbridge1$str$ptr + 2508228\n",
      "10  chromedriver                        0x000000010299859c cxxbridge1$str$ptr + 2304516\n",
      "11  chromedriver                        0x00000001029e9c78 cxxbridge1$str$ptr + 2638048\n",
      "12  chromedriver                        0x00000001029e9e04 cxxbridge1$str$ptr + 2638444\n",
      "13  chromedriver                        0x00000001029fae28 cxxbridge1$str$ptr + 2708112\n",
      "14  libsystem_pthread.dylib             0x00000001877a7c0c _pthread_start + 136\n",
      "15  libsystem_pthread.dylib             0x00000001877a2b80 thread_start + 8\n",
      "\n",
      "Pulling data from: https://agmarknet.gov.in/SearchCmmMkt.aspx?Tx_State=0&Tx_District=0&Tx_Market=0&Tx_Trend=2&DateFrom=01-Aug-2025&DateTo=01-Aug-2025&Fr_Date=01-Aug-2025&To_Date=01-Aug-2025&Tx_CommodityHead=Barley+%28Jau%29&Tx_Commodity=29\n"
     ]
    },
    {
     "name": "stderr",
     "output_type": "stream",
     "text": [
      "/var/folders/jb/zy_516ps25g392kqdzfs61640000gn/T/ipykernel_78044/1959355148.py:16: FutureWarning: Passing literal html to 'read_html' is deprecated and will be removed in a future version. To read from a literal string, wrap it in a 'StringIO' object.\n",
      "  df = pd.read_html(table_html)[0]\n"
     ]
    },
    {
     "name": "stdout",
     "output_type": "stream",
     "text": [
      "Pulled data:  (52, 12)\n",
      "Pulling data from: https://agmarknet.gov.in/SearchCmmMkt.aspx?Tx_State=0&Tx_District=0&Tx_Market=0&Tx_Trend=2&DateFrom=01-Aug-2025&DateTo=01-Aug-2025&Fr_Date=01-Aug-2025&To_Date=01-Aug-2025&Tx_CommodityHead=basil&Tx_Commodity=435\n",
      "[WARN] 2025-08-01: Message: \n",
      "Stacktrace:\n",
      "0   chromedriver                        0x0000000100f4f26c cxxbridge1$str$ptr + 2741972\n",
      "1   chromedriver                        0x0000000100f471dc cxxbridge1$str$ptr + 2709060\n",
      "2   chromedriver                        0x0000000100a914fc cxxbridge1$string$len + 90520\n",
      "3   chromedriver                        0x0000000100ad8a14 cxxbridge1$string$len + 382640\n",
      "4   chromedriver                        0x0000000100b19db8 cxxbridge1$string$len + 649812\n",
      "5   chromedriver                        0x0000000100accd30 cxxbridge1$string$len + 334284\n",
      "6   chromedriver                        0x0000000100f1266c cxxbridge1$str$ptr + 2493140\n",
      "7   chromedriver                        0x0000000100f158a0 cxxbridge1$str$ptr + 2505992\n",
      "8   chromedriver                        0x0000000100ef34a4 cxxbridge1$str$ptr + 2365708\n",
      "9   chromedriver                        0x0000000100f1615c cxxbridge1$str$ptr + 2508228\n",
      "10  chromedriver                        0x0000000100ee459c cxxbridge1$str$ptr + 2304516\n",
      "11  chromedriver                        0x0000000100f35c78 cxxbridge1$str$ptr + 2638048\n",
      "12  chromedriver                        0x0000000100f35e04 cxxbridge1$str$ptr + 2638444\n",
      "13  chromedriver                        0x0000000100f46e28 cxxbridge1$str$ptr + 2708112\n",
      "14  libsystem_pthread.dylib             0x00000001877a7c0c _pthread_start + 136\n",
      "15  libsystem_pthread.dylib             0x00000001877a2b80 thread_start + 8\n",
      "\n",
      "Pulling data from: https://agmarknet.gov.in/SearchCmmMkt.aspx?Tx_State=0&Tx_District=0&Tx_Market=0&Tx_Trend=2&DateFrom=01-Aug-2025&DateTo=01-Aug-2025&Fr_Date=01-Aug-2025&To_Date=01-Aug-2025&Tx_CommodityHead=Bay+leaf+%28Tejpatta%29&Tx_Commodity=321\n",
      "[WARN] 2025-08-01: Message: \n",
      "Stacktrace:\n",
      "0   chromedriver                        0x0000000100f4f26c cxxbridge1$str$ptr + 2741972\n",
      "1   chromedriver                        0x0000000100f471dc cxxbridge1$str$ptr + 2709060\n",
      "2   chromedriver                        0x0000000100a914fc cxxbridge1$string$len + 90520\n",
      "3   chromedriver                        0x0000000100ad8a14 cxxbridge1$string$len + 382640\n",
      "4   chromedriver                        0x0000000100b19db8 cxxbridge1$string$len + 649812\n",
      "5   chromedriver                        0x0000000100accd30 cxxbridge1$string$len + 334284\n",
      "6   chromedriver                        0x0000000100f1266c cxxbridge1$str$ptr + 2493140\n",
      "7   chromedriver                        0x0000000100f158a0 cxxbridge1$str$ptr + 2505992\n",
      "8   chromedriver                        0x0000000100ef34a4 cxxbridge1$str$ptr + 2365708\n",
      "9   chromedriver                        0x0000000100f1615c cxxbridge1$str$ptr + 2508228\n",
      "10  chromedriver                        0x0000000100ee459c cxxbridge1$str$ptr + 2304516\n",
      "11  chromedriver                        0x0000000100f35c78 cxxbridge1$str$ptr + 2638048\n",
      "12  chromedriver                        0x0000000100f35e04 cxxbridge1$str$ptr + 2638444\n",
      "13  chromedriver                        0x0000000100f46e28 cxxbridge1$str$ptr + 2708112\n",
      "14  libsystem_pthread.dylib             0x00000001877a7c0c _pthread_start + 136\n",
      "15  libsystem_pthread.dylib             0x00000001877a2b80 thread_start + 8\n",
      "\n",
      "Pulling data from: https://agmarknet.gov.in/SearchCmmMkt.aspx?Tx_State=0&Tx_District=0&Tx_Market=0&Tx_Trend=2&DateFrom=01-Aug-2025&DateTo=01-Aug-2025&Fr_Date=01-Aug-2025&To_Date=01-Aug-2025&Tx_CommodityHead=Beans&Tx_Commodity=94\n"
     ]
    },
    {
     "name": "stderr",
     "output_type": "stream",
     "text": [
      "/var/folders/jb/zy_516ps25g392kqdzfs61640000gn/T/ipykernel_78044/1959355148.py:16: FutureWarning: Passing literal html to 'read_html' is deprecated and will be removed in a future version. To read from a literal string, wrap it in a 'StringIO' object.\n",
      "  df = pd.read_html(table_html)[0]\n"
     ]
    },
    {
     "name": "stdout",
     "output_type": "stream",
     "text": [
      "Pulled data:  (165, 12)\n",
      "Pulling data from: https://agmarknet.gov.in/SearchCmmMkt.aspx?Tx_State=0&Tx_District=0&Tx_Market=0&Tx_Trend=2&DateFrom=01-Aug-2025&DateTo=01-Aug-2025&Fr_Date=01-Aug-2025&To_Date=01-Aug-2025&Tx_CommodityHead=Beaten+Rice&Tx_Commodity=262\n",
      "[WARN] 2025-08-01: Message: \n",
      "Stacktrace:\n",
      "0   chromedriver                        0x0000000100f4f26c cxxbridge1$str$ptr + 2741972\n",
      "1   chromedriver                        0x0000000100f471dc cxxbridge1$str$ptr + 2709060\n",
      "2   chromedriver                        0x0000000100a914fc cxxbridge1$string$len + 90520\n",
      "3   chromedriver                        0x0000000100ad8a14 cxxbridge1$string$len + 382640\n",
      "4   chromedriver                        0x0000000100b19db8 cxxbridge1$string$len + 649812\n",
      "5   chromedriver                        0x0000000100accd30 cxxbridge1$string$len + 334284\n",
      "6   chromedriver                        0x0000000100f1266c cxxbridge1$str$ptr + 2493140\n",
      "7   chromedriver                        0x0000000100f158a0 cxxbridge1$str$ptr + 2505992\n",
      "8   chromedriver                        0x0000000100ef34a4 cxxbridge1$str$ptr + 2365708\n",
      "9   chromedriver                        0x0000000100f1615c cxxbridge1$str$ptr + 2508228\n",
      "10  chromedriver                        0x0000000100ee459c cxxbridge1$str$ptr + 2304516\n",
      "11  chromedriver                        0x0000000100f35c78 cxxbridge1$str$ptr + 2638048\n",
      "12  chromedriver                        0x0000000100f35e04 cxxbridge1$str$ptr + 2638444\n",
      "13  chromedriver                        0x0000000100f46e28 cxxbridge1$str$ptr + 2708112\n",
      "14  libsystem_pthread.dylib             0x00000001877a7c0c _pthread_start + 136\n",
      "15  libsystem_pthread.dylib             0x00000001877a2b80 thread_start + 8\n",
      "\n",
      "Pulling data from: https://agmarknet.gov.in/SearchCmmMkt.aspx?Tx_State=0&Tx_District=0&Tx_Market=0&Tx_Trend=2&DateFrom=01-Aug-2025&DateTo=01-Aug-2025&Fr_Date=01-Aug-2025&To_Date=01-Aug-2025&Tx_CommodityHead=Beetroot&Tx_Commodity=157\n"
     ]
    },
    {
     "name": "stderr",
     "output_type": "stream",
     "text": [
      "/var/folders/jb/zy_516ps25g392kqdzfs61640000gn/T/ipykernel_78044/1959355148.py:16: FutureWarning: Passing literal html to 'read_html' is deprecated and will be removed in a future version. To read from a literal string, wrap it in a 'StringIO' object.\n",
      "  df = pd.read_html(table_html)[0]\n"
     ]
    },
    {
     "name": "stdout",
     "output_type": "stream",
     "text": [
      "Pulled data:  (213, 12)\n",
      "Pulling data from: https://agmarknet.gov.in/SearchCmmMkt.aspx?Tx_State=0&Tx_District=0&Tx_Market=0&Tx_Trend=2&DateFrom=01-Aug-2025&DateTo=01-Aug-2025&Fr_Date=01-Aug-2025&To_Date=01-Aug-2025&Tx_CommodityHead=Behada&Tx_Commodity=508\n",
      "[WARN] 2025-08-01: Message: \n",
      "Stacktrace:\n",
      "0   chromedriver                        0x0000000100f4f26c cxxbridge1$str$ptr + 2741972\n",
      "1   chromedriver                        0x0000000100f471dc cxxbridge1$str$ptr + 2709060\n",
      "2   chromedriver                        0x0000000100a914fc cxxbridge1$string$len + 90520\n",
      "3   chromedriver                        0x0000000100ad8a14 cxxbridge1$string$len + 382640\n",
      "4   chromedriver                        0x0000000100b19db8 cxxbridge1$string$len + 649812\n",
      "5   chromedriver                        0x0000000100accd30 cxxbridge1$string$len + 334284\n",
      "6   chromedriver                        0x0000000100f1266c cxxbridge1$str$ptr + 2493140\n",
      "7   chromedriver                        0x0000000100f158a0 cxxbridge1$str$ptr + 2505992\n",
      "8   chromedriver                        0x0000000100ef34a4 cxxbridge1$str$ptr + 2365708\n",
      "9   chromedriver                        0x0000000100f1615c cxxbridge1$str$ptr + 2508228\n",
      "10  chromedriver                        0x0000000100ee459c cxxbridge1$str$ptr + 2304516\n",
      "11  chromedriver                        0x0000000100f35c78 cxxbridge1$str$ptr + 2638048\n",
      "12  chromedriver                        0x0000000100f35e04 cxxbridge1$str$ptr + 2638444\n",
      "13  chromedriver                        0x0000000100f46e28 cxxbridge1$str$ptr + 2708112\n",
      "14  libsystem_pthread.dylib             0x00000001877a7c0c _pthread_start + 136\n",
      "15  libsystem_pthread.dylib             0x00000001877a2b80 thread_start + 8\n",
      "\n",
      "Pulling data from: https://agmarknet.gov.in/SearchCmmMkt.aspx?Tx_State=0&Tx_District=0&Tx_Market=0&Tx_Trend=2&DateFrom=01-Aug-2025&DateTo=01-Aug-2025&Fr_Date=01-Aug-2025&To_Date=01-Aug-2025&Tx_CommodityHead=Bengal+Gram+Dal+%28Chana+Dal%29&Tx_Commodity=263\n"
     ]
    },
    {
     "name": "stderr",
     "output_type": "stream",
     "text": [
      "/var/folders/jb/zy_516ps25g392kqdzfs61640000gn/T/ipykernel_78044/1959355148.py:16: FutureWarning: Passing literal html to 'read_html' is deprecated and will be removed in a future version. To read from a literal string, wrap it in a 'StringIO' object.\n",
      "  df = pd.read_html(table_html)[0]\n"
     ]
    },
    {
     "name": "stdout",
     "output_type": "stream",
     "text": [
      "Pulled data:  (32, 12)\n",
      "Pulling data from: https://agmarknet.gov.in/SearchCmmMkt.aspx?Tx_State=0&Tx_District=0&Tx_Market=0&Tx_Trend=2&DateFrom=01-Aug-2025&DateTo=01-Aug-2025&Fr_Date=01-Aug-2025&To_Date=01-Aug-2025&Tx_CommodityHead=Bengal+Gram%28Gram%29%28Whole%29&Tx_Commodity=6\n"
     ]
    },
    {
     "name": "stderr",
     "output_type": "stream",
     "text": [
      "/var/folders/jb/zy_516ps25g392kqdzfs61640000gn/T/ipykernel_78044/1959355148.py:16: FutureWarning: Passing literal html to 'read_html' is deprecated and will be removed in a future version. To read from a literal string, wrap it in a 'StringIO' object.\n",
      "  df = pd.read_html(table_html)[0]\n"
     ]
    },
    {
     "name": "stdout",
     "output_type": "stream",
     "text": [
      "Pulled data:  (372, 12)\n",
      "Pulling data from: https://agmarknet.gov.in/SearchCmmMkt.aspx?Tx_State=0&Tx_District=0&Tx_Market=0&Tx_Trend=2&DateFrom=01-Aug-2025&DateTo=01-Aug-2025&Fr_Date=01-Aug-2025&To_Date=01-Aug-2025&Tx_CommodityHead=Ber%28Zizyphus%2FBorehannu%29&Tx_Commodity=357\n",
      "[WARN] 2025-08-01: Message: \n",
      "Stacktrace:\n",
      "0   chromedriver                        0x0000000100f4f26c cxxbridge1$str$ptr + 2741972\n",
      "1   chromedriver                        0x0000000100f471dc cxxbridge1$str$ptr + 2709060\n",
      "2   chromedriver                        0x0000000100a914fc cxxbridge1$string$len + 90520\n",
      "3   chromedriver                        0x0000000100ad8a14 cxxbridge1$string$len + 382640\n",
      "4   chromedriver                        0x0000000100b19db8 cxxbridge1$string$len + 649812\n",
      "5   chromedriver                        0x0000000100accd30 cxxbridge1$string$len + 334284\n",
      "6   chromedriver                        0x0000000100f1266c cxxbridge1$str$ptr + 2493140\n",
      "7   chromedriver                        0x0000000100f158a0 cxxbridge1$str$ptr + 2505992\n",
      "8   chromedriver                        0x0000000100ef34a4 cxxbridge1$str$ptr + 2365708\n",
      "9   chromedriver                        0x0000000100f1615c cxxbridge1$str$ptr + 2508228\n",
      "10  chromedriver                        0x0000000100ee459c cxxbridge1$str$ptr + 2304516\n",
      "11  chromedriver                        0x0000000100f35c78 cxxbridge1$str$ptr + 2638048\n",
      "12  chromedriver                        0x0000000100f35e04 cxxbridge1$str$ptr + 2638444\n",
      "13  chromedriver                        0x0000000100f46e28 cxxbridge1$str$ptr + 2708112\n",
      "14  libsystem_pthread.dylib             0x00000001877a7c0c _pthread_start + 136\n",
      "15  libsystem_pthread.dylib             0x00000001877a2b80 thread_start + 8\n",
      "\n",
      "Pulling data from: https://agmarknet.gov.in/SearchCmmMkt.aspx?Tx_State=0&Tx_District=0&Tx_Market=0&Tx_Trend=2&DateFrom=01-Aug-2025&DateTo=01-Aug-2025&Fr_Date=01-Aug-2025&To_Date=01-Aug-2025&Tx_CommodityHead=Betal+Leaves&Tx_Commodity=143\n"
     ]
    },
    {
     "name": "stderr",
     "output_type": "stream",
     "text": [
      "/var/folders/jb/zy_516ps25g392kqdzfs61640000gn/T/ipykernel_78044/1959355148.py:16: FutureWarning: Passing literal html to 'read_html' is deprecated and will be removed in a future version. To read from a literal string, wrap it in a 'StringIO' object.\n",
      "  df = pd.read_html(table_html)[0]\n"
     ]
    },
    {
     "name": "stdout",
     "output_type": "stream",
     "text": [
      "Pulled data:  (20, 12)\n",
      "Pulling data from: https://agmarknet.gov.in/SearchCmmMkt.aspx?Tx_State=0&Tx_District=0&Tx_Market=0&Tx_Trend=2&DateFrom=01-Aug-2025&DateTo=01-Aug-2025&Fr_Date=01-Aug-2025&To_Date=01-Aug-2025&Tx_CommodityHead=Betelnuts&Tx_Commodity=41\n",
      "[WARN] 2025-08-01: Message: \n",
      "Stacktrace:\n",
      "0   chromedriver                        0x0000000100f4f26c cxxbridge1$str$ptr + 2741972\n",
      "1   chromedriver                        0x0000000100f471dc cxxbridge1$str$ptr + 2709060\n",
      "2   chromedriver                        0x0000000100a914fc cxxbridge1$string$len + 90520\n",
      "3   chromedriver                        0x0000000100ad8a14 cxxbridge1$string$len + 382640\n",
      "4   chromedriver                        0x0000000100b19db8 cxxbridge1$string$len + 649812\n",
      "5   chromedriver                        0x0000000100accd30 cxxbridge1$string$len + 334284\n",
      "6   chromedriver                        0x0000000100f1266c cxxbridge1$str$ptr + 2493140\n",
      "7   chromedriver                        0x0000000100f158a0 cxxbridge1$str$ptr + 2505992\n",
      "8   chromedriver                        0x0000000100ef34a4 cxxbridge1$str$ptr + 2365708\n",
      "9   chromedriver                        0x0000000100f1615c cxxbridge1$str$ptr + 2508228\n",
      "10  chromedriver                        0x0000000100ee459c cxxbridge1$str$ptr + 2304516\n",
      "11  chromedriver                        0x0000000100f35c78 cxxbridge1$str$ptr + 2638048\n",
      "12  chromedriver                        0x0000000100f35e04 cxxbridge1$str$ptr + 2638444\n",
      "13  chromedriver                        0x0000000100f46e28 cxxbridge1$str$ptr + 2708112\n",
      "14  libsystem_pthread.dylib             0x00000001877a7c0c _pthread_start + 136\n",
      "15  libsystem_pthread.dylib             0x00000001877a2b80 thread_start + 8\n",
      "\n",
      "Pulling data from: https://agmarknet.gov.in/SearchCmmMkt.aspx?Tx_State=0&Tx_District=0&Tx_Market=0&Tx_Trend=2&DateFrom=01-Aug-2025&DateTo=01-Aug-2025&Fr_Date=01-Aug-2025&To_Date=01-Aug-2025&Tx_CommodityHead=Bhindi%28Ladies+Finger%29&Tx_Commodity=85\n"
     ]
    },
    {
     "name": "stderr",
     "output_type": "stream",
     "text": [
      "/var/folders/jb/zy_516ps25g392kqdzfs61640000gn/T/ipykernel_78044/1959355148.py:16: FutureWarning: Passing literal html to 'read_html' is deprecated and will be removed in a future version. To read from a literal string, wrap it in a 'StringIO' object.\n",
      "  df = pd.read_html(table_html)[0]\n"
     ]
    },
    {
     "name": "stdout",
     "output_type": "stream",
     "text": [
      "Pulled data:  (577, 12)\n",
      "Pulling data from: https://agmarknet.gov.in/SearchCmmMkt.aspx?Tx_State=0&Tx_District=0&Tx_Market=0&Tx_Trend=2&DateFrom=01-Aug-2025&DateTo=01-Aug-2025&Fr_Date=01-Aug-2025&To_Date=01-Aug-2025&Tx_CommodityHead=Bhui+Amlaya&Tx_Commodity=448\n",
      "[WARN] 2025-08-01: Message: \n",
      "Stacktrace:\n",
      "0   chromedriver                        0x0000000100f4f26c cxxbridge1$str$ptr + 2741972\n",
      "1   chromedriver                        0x0000000100f471dc cxxbridge1$str$ptr + 2709060\n",
      "2   chromedriver                        0x0000000100a914fc cxxbridge1$string$len + 90520\n",
      "3   chromedriver                        0x0000000100ad8a14 cxxbridge1$string$len + 382640\n",
      "4   chromedriver                        0x0000000100b19db8 cxxbridge1$string$len + 649812\n",
      "5   chromedriver                        0x0000000100accd30 cxxbridge1$string$len + 334284\n",
      "6   chromedriver                        0x0000000100f1266c cxxbridge1$str$ptr + 2493140\n",
      "7   chromedriver                        0x0000000100f158a0 cxxbridge1$str$ptr + 2505992\n",
      "8   chromedriver                        0x0000000100ef34a4 cxxbridge1$str$ptr + 2365708\n",
      "9   chromedriver                        0x0000000100f1615c cxxbridge1$str$ptr + 2508228\n",
      "10  chromedriver                        0x0000000100ee459c cxxbridge1$str$ptr + 2304516\n",
      "11  chromedriver                        0x0000000100f35c78 cxxbridge1$str$ptr + 2638048\n",
      "12  chromedriver                        0x0000000100f35e04 cxxbridge1$str$ptr + 2638444\n",
      "13  chromedriver                        0x0000000100f46e28 cxxbridge1$str$ptr + 2708112\n",
      "14  libsystem_pthread.dylib             0x00000001877a7c0c _pthread_start + 136\n",
      "15  libsystem_pthread.dylib             0x00000001877a2b80 thread_start + 8\n",
      "\n",
      "Pulling data from: https://agmarknet.gov.in/SearchCmmMkt.aspx?Tx_State=0&Tx_District=0&Tx_Market=0&Tx_Trend=2&DateFrom=01-Aug-2025&DateTo=01-Aug-2025&Fr_Date=01-Aug-2025&To_Date=01-Aug-2025&Tx_CommodityHead=Big+Gram&Tx_Commodity=113\n",
      "[WARN] 2025-08-01: Message: \n",
      "Stacktrace:\n",
      "0   chromedriver                        0x0000000100f4f26c cxxbridge1$str$ptr + 2741972\n",
      "1   chromedriver                        0x0000000100f471dc cxxbridge1$str$ptr + 2709060\n",
      "2   chromedriver                        0x0000000100a914fc cxxbridge1$string$len + 90520\n",
      "3   chromedriver                        0x0000000100ad8a14 cxxbridge1$string$len + 382640\n",
      "4   chromedriver                        0x0000000100b19db8 cxxbridge1$string$len + 649812\n",
      "5   chromedriver                        0x0000000100accd30 cxxbridge1$string$len + 334284\n",
      "6   chromedriver                        0x0000000100f1266c cxxbridge1$str$ptr + 2493140\n",
      "7   chromedriver                        0x0000000100f158a0 cxxbridge1$str$ptr + 2505992\n",
      "8   chromedriver                        0x0000000100ef34a4 cxxbridge1$str$ptr + 2365708\n",
      "9   chromedriver                        0x0000000100f1615c cxxbridge1$str$ptr + 2508228\n",
      "10  chromedriver                        0x0000000100ee459c cxxbridge1$str$ptr + 2304516\n",
      "11  chromedriver                        0x0000000100f35c78 cxxbridge1$str$ptr + 2638048\n",
      "12  chromedriver                        0x0000000100f35e04 cxxbridge1$str$ptr + 2638444\n",
      "13  chromedriver                        0x0000000100f46e28 cxxbridge1$str$ptr + 2708112\n",
      "14  libsystem_pthread.dylib             0x00000001877a7c0c _pthread_start + 136\n",
      "15  libsystem_pthread.dylib             0x00000001877a2b80 thread_start + 8\n",
      "\n",
      "Pulling data from: https://agmarknet.gov.in/SearchCmmMkt.aspx?Tx_State=0&Tx_District=0&Tx_Market=0&Tx_Trend=2&DateFrom=01-Aug-2025&DateTo=01-Aug-2025&Fr_Date=01-Aug-2025&To_Date=01-Aug-2025&Tx_CommodityHead=Binoula&Tx_Commodity=51\n",
      "[WARN] 2025-08-01: Message: \n",
      "Stacktrace:\n",
      "0   chromedriver                        0x0000000100f4f26c cxxbridge1$str$ptr + 2741972\n",
      "1   chromedriver                        0x0000000100f471dc cxxbridge1$str$ptr + 2709060\n",
      "2   chromedriver                        0x0000000100a914fc cxxbridge1$string$len + 90520\n",
      "3   chromedriver                        0x0000000100ad8a14 cxxbridge1$string$len + 382640\n",
      "4   chromedriver                        0x0000000100b19db8 cxxbridge1$string$len + 649812\n",
      "5   chromedriver                        0x0000000100accd30 cxxbridge1$string$len + 334284\n",
      "6   chromedriver                        0x0000000100f1266c cxxbridge1$str$ptr + 2493140\n",
      "7   chromedriver                        0x0000000100f158a0 cxxbridge1$str$ptr + 2505992\n",
      "8   chromedriver                        0x0000000100ef34a4 cxxbridge1$str$ptr + 2365708\n",
      "9   chromedriver                        0x0000000100f1615c cxxbridge1$str$ptr + 2508228\n",
      "10  chromedriver                        0x0000000100ee459c cxxbridge1$str$ptr + 2304516\n",
      "11  chromedriver                        0x0000000100f35c78 cxxbridge1$str$ptr + 2638048\n",
      "12  chromedriver                        0x0000000100f35e04 cxxbridge1$str$ptr + 2638444\n",
      "13  chromedriver                        0x0000000100f46e28 cxxbridge1$str$ptr + 2708112\n",
      "14  libsystem_pthread.dylib             0x00000001877a7c0c _pthread_start + 136\n",
      "15  libsystem_pthread.dylib             0x00000001877a2b80 thread_start + 8\n",
      "\n",
      "Pulling data from: https://agmarknet.gov.in/SearchCmmMkt.aspx?Tx_State=0&Tx_District=0&Tx_Market=0&Tx_Trend=2&DateFrom=01-Aug-2025&DateTo=01-Aug-2025&Fr_Date=01-Aug-2025&To_Date=01-Aug-2025&Tx_CommodityHead=Bitter+gourd&Tx_Commodity=81\n"
     ]
    },
    {
     "name": "stderr",
     "output_type": "stream",
     "text": [
      "/var/folders/jb/zy_516ps25g392kqdzfs61640000gn/T/ipykernel_78044/1959355148.py:16: FutureWarning: Passing literal html to 'read_html' is deprecated and will be removed in a future version. To read from a literal string, wrap it in a 'StringIO' object.\n",
      "  df = pd.read_html(table_html)[0]\n"
     ]
    },
    {
     "name": "stdout",
     "output_type": "stream",
     "text": [
      "Pulled data:  (434, 12)\n",
      "Pulling data from: https://agmarknet.gov.in/SearchCmmMkt.aspx?Tx_State=0&Tx_District=0&Tx_Market=0&Tx_Trend=2&DateFrom=01-Aug-2025&DateTo=01-Aug-2025&Fr_Date=01-Aug-2025&To_Date=01-Aug-2025&Tx_CommodityHead=Black+Gram+%28Urd+Beans%29%28Whole%29&Tx_Commodity=8\n"
     ]
    },
    {
     "name": "stderr",
     "output_type": "stream",
     "text": [
      "/var/folders/jb/zy_516ps25g392kqdzfs61640000gn/T/ipykernel_78044/1959355148.py:16: FutureWarning: Passing literal html to 'read_html' is deprecated and will be removed in a future version. To read from a literal string, wrap it in a 'StringIO' object.\n",
      "  df = pd.read_html(table_html)[0]\n"
     ]
    },
    {
     "name": "stdout",
     "output_type": "stream",
     "text": [
      "Pulled data:  (93, 12)\n",
      "Pulling data from: https://agmarknet.gov.in/SearchCmmMkt.aspx?Tx_State=0&Tx_District=0&Tx_Market=0&Tx_Trend=2&DateFrom=01-Aug-2025&DateTo=01-Aug-2025&Fr_Date=01-Aug-2025&To_Date=01-Aug-2025&Tx_CommodityHead=Black+Gram+Dal+%28Urd+Dal%29&Tx_Commodity=264\n"
     ]
    },
    {
     "name": "stderr",
     "output_type": "stream",
     "text": [
      "/var/folders/jb/zy_516ps25g392kqdzfs61640000gn/T/ipykernel_78044/1959355148.py:16: FutureWarning: Passing literal html to 'read_html' is deprecated and will be removed in a future version. To read from a literal string, wrap it in a 'StringIO' object.\n",
      "  df = pd.read_html(table_html)[0]\n"
     ]
    },
    {
     "name": "stdout",
     "output_type": "stream",
     "text": [
      "Pulled data:  (37, 12)\n",
      "Pulling data from: https://agmarknet.gov.in/SearchCmmMkt.aspx?Tx_State=0&Tx_District=0&Tx_Market=0&Tx_Trend=2&DateFrom=01-Aug-2025&DateTo=01-Aug-2025&Fr_Date=01-Aug-2025&To_Date=01-Aug-2025&Tx_CommodityHead=Black+pepper&Tx_Commodity=38\n"
     ]
    },
    {
     "name": "stderr",
     "output_type": "stream",
     "text": [
      "/var/folders/jb/zy_516ps25g392kqdzfs61640000gn/T/ipykernel_78044/1959355148.py:16: FutureWarning: Passing literal html to 'read_html' is deprecated and will be removed in a future version. To read from a literal string, wrap it in a 'StringIO' object.\n",
      "  df = pd.read_html(table_html)[0]\n"
     ]
    },
    {
     "name": "stdout",
     "output_type": "stream",
     "text": [
      "Pulled data:  (14, 12)\n",
      "Pulling data from: https://agmarknet.gov.in/SearchCmmMkt.aspx?Tx_State=0&Tx_District=0&Tx_Market=0&Tx_Trend=2&DateFrom=01-Aug-2025&DateTo=01-Aug-2025&Fr_Date=01-Aug-2025&To_Date=01-Aug-2025&Tx_CommodityHead=BOP&Tx_Commodity=380\n"
     ]
    },
    {
     "name": "stderr",
     "output_type": "stream",
     "text": [
      "/var/folders/jb/zy_516ps25g392kqdzfs61640000gn/T/ipykernel_78044/1959355148.py:16: FutureWarning: Passing literal html to 'read_html' is deprecated and will be removed in a future version. To read from a literal string, wrap it in a 'StringIO' object.\n",
      "  df = pd.read_html(table_html)[0]\n"
     ]
    },
    {
     "name": "stdout",
     "output_type": "stream",
     "text": [
      "Pulled data:  (1, 12)\n",
      "Pulling data from: https://agmarknet.gov.in/SearchCmmMkt.aspx?Tx_State=0&Tx_District=0&Tx_Market=0&Tx_Trend=2&DateFrom=01-Aug-2025&DateTo=01-Aug-2025&Fr_Date=01-Aug-2025&To_Date=01-Aug-2025&Tx_CommodityHead=Borehannu&Tx_Commodity=189\n",
      "[WARN] 2025-08-01: Message: \n",
      "Stacktrace:\n",
      "0   chromedriver                        0x0000000102a2726c cxxbridge1$str$ptr + 2741972\n",
      "1   chromedriver                        0x0000000102a1f1dc cxxbridge1$str$ptr + 2709060\n",
      "2   chromedriver                        0x00000001025694fc cxxbridge1$string$len + 90520\n",
      "3   chromedriver                        0x00000001025b0a14 cxxbridge1$string$len + 382640\n",
      "4   chromedriver                        0x00000001025f1db8 cxxbridge1$string$len + 649812\n",
      "5   chromedriver                        0x00000001025a4d30 cxxbridge1$string$len + 334284\n",
      "6   chromedriver                        0x00000001029ea66c cxxbridge1$str$ptr + 2493140\n",
      "7   chromedriver                        0x00000001029ed8a0 cxxbridge1$str$ptr + 2505992\n",
      "8   chromedriver                        0x00000001029cb4a4 cxxbridge1$str$ptr + 2365708\n",
      "9   chromedriver                        0x00000001029ee15c cxxbridge1$str$ptr + 2508228\n",
      "10  chromedriver                        0x00000001029bc59c cxxbridge1$str$ptr + 2304516\n",
      "11  chromedriver                        0x0000000102a0dc78 cxxbridge1$str$ptr + 2638048\n",
      "12  chromedriver                        0x0000000102a0de04 cxxbridge1$str$ptr + 2638444\n",
      "13  chromedriver                        0x0000000102a1ee28 cxxbridge1$str$ptr + 2708112\n",
      "14  libsystem_pthread.dylib             0x00000001877a7c0c _pthread_start + 136\n",
      "15  libsystem_pthread.dylib             0x00000001877a2b80 thread_start + 8\n",
      "\n",
      "Pulling data from: https://agmarknet.gov.in/SearchCmmMkt.aspx?Tx_State=0&Tx_District=0&Tx_Market=0&Tx_Trend=2&DateFrom=01-Aug-2025&DateTo=01-Aug-2025&Fr_Date=01-Aug-2025&To_Date=01-Aug-2025&Tx_CommodityHead=Bottle+gourd&Tx_Commodity=82\n"
     ]
    },
    {
     "name": "stderr",
     "output_type": "stream",
     "text": [
      "/var/folders/jb/zy_516ps25g392kqdzfs61640000gn/T/ipykernel_78044/1959355148.py:16: FutureWarning: Passing literal html to 'read_html' is deprecated and will be removed in a future version. To read from a literal string, wrap it in a 'StringIO' object.\n",
      "  df = pd.read_html(table_html)[0]\n"
     ]
    },
    {
     "name": "stdout",
     "output_type": "stream",
     "text": [
      "Pulled data:  (475, 12)\n",
      "Pulling data from: https://agmarknet.gov.in/SearchCmmMkt.aspx?Tx_State=0&Tx_District=0&Tx_Market=0&Tx_Trend=2&DateFrom=01-Aug-2025&DateTo=01-Aug-2025&Fr_Date=01-Aug-2025&To_Date=01-Aug-2025&Tx_CommodityHead=Brahmi&Tx_Commodity=449\n",
      "[WARN] 2025-08-01: Message: \n",
      "Stacktrace:\n",
      "0   chromedriver                        0x0000000102a2726c cxxbridge1$str$ptr + 2741972\n",
      "1   chromedriver                        0x0000000102a1f1dc cxxbridge1$str$ptr + 2709060\n",
      "2   chromedriver                        0x00000001025694fc cxxbridge1$string$len + 90520\n",
      "3   chromedriver                        0x00000001025b0a14 cxxbridge1$string$len + 382640\n",
      "4   chromedriver                        0x00000001025f1db8 cxxbridge1$string$len + 649812\n",
      "5   chromedriver                        0x00000001025a4d30 cxxbridge1$string$len + 334284\n",
      "6   chromedriver                        0x00000001029ea66c cxxbridge1$str$ptr + 2493140\n",
      "7   chromedriver                        0x00000001029ed8a0 cxxbridge1$str$ptr + 2505992\n",
      "8   chromedriver                        0x00000001029cb4a4 cxxbridge1$str$ptr + 2365708\n",
      "9   chromedriver                        0x00000001029ee15c cxxbridge1$str$ptr + 2508228\n",
      "10  chromedriver                        0x00000001029bc59c cxxbridge1$str$ptr + 2304516\n",
      "11  chromedriver                        0x0000000102a0dc78 cxxbridge1$str$ptr + 2638048\n",
      "12  chromedriver                        0x0000000102a0de04 cxxbridge1$str$ptr + 2638444\n",
      "13  chromedriver                        0x0000000102a1ee28 cxxbridge1$str$ptr + 2708112\n",
      "14  libsystem_pthread.dylib             0x00000001877a7c0c _pthread_start + 136\n",
      "15  libsystem_pthread.dylib             0x00000001877a2b80 thread_start + 8\n",
      "\n",
      "Pulling data from: https://agmarknet.gov.in/SearchCmmMkt.aspx?Tx_State=0&Tx_District=0&Tx_Market=0&Tx_Trend=2&DateFrom=01-Aug-2025&DateTo=01-Aug-2025&Fr_Date=01-Aug-2025&To_Date=01-Aug-2025&Tx_CommodityHead=Bran&Tx_Commodity=290\n",
      "[WARN] 2025-08-01: Message: \n",
      "Stacktrace:\n",
      "0   chromedriver                        0x0000000102a2726c cxxbridge1$str$ptr + 2741972\n",
      "1   chromedriver                        0x0000000102a1f1dc cxxbridge1$str$ptr + 2709060\n",
      "2   chromedriver                        0x00000001025694fc cxxbridge1$string$len + 90520\n",
      "3   chromedriver                        0x00000001025b0a14 cxxbridge1$string$len + 382640\n",
      "4   chromedriver                        0x00000001025f1db8 cxxbridge1$string$len + 649812\n",
      "5   chromedriver                        0x00000001025a4d30 cxxbridge1$string$len + 334284\n",
      "6   chromedriver                        0x00000001029ea66c cxxbridge1$str$ptr + 2493140\n",
      "7   chromedriver                        0x00000001029ed8a0 cxxbridge1$str$ptr + 2505992\n",
      "8   chromedriver                        0x00000001029cb4a4 cxxbridge1$str$ptr + 2365708\n",
      "9   chromedriver                        0x00000001029ee15c cxxbridge1$str$ptr + 2508228\n",
      "10  chromedriver                        0x00000001029bc59c cxxbridge1$str$ptr + 2304516\n",
      "11  chromedriver                        0x0000000102a0dc78 cxxbridge1$str$ptr + 2638048\n",
      "12  chromedriver                        0x0000000102a0de04 cxxbridge1$str$ptr + 2638444\n",
      "13  chromedriver                        0x0000000102a1ee28 cxxbridge1$str$ptr + 2708112\n",
      "14  libsystem_pthread.dylib             0x00000001877a7c0c _pthread_start + 136\n",
      "15  libsystem_pthread.dylib             0x00000001877a2b80 thread_start + 8\n",
      "\n",
      "Pulling data from: https://agmarknet.gov.in/SearchCmmMkt.aspx?Tx_State=0&Tx_District=0&Tx_Market=0&Tx_Trend=2&DateFrom=01-Aug-2025&DateTo=01-Aug-2025&Fr_Date=01-Aug-2025&To_Date=01-Aug-2025&Tx_CommodityHead=Bread+Fruit&Tx_Commodity=497\n",
      "[WARN] 2025-08-01: Message: \n",
      "Stacktrace:\n",
      "0   chromedriver                        0x0000000102a2726c cxxbridge1$str$ptr + 2741972\n",
      "1   chromedriver                        0x0000000102a1f1dc cxxbridge1$str$ptr + 2709060\n",
      "2   chromedriver                        0x00000001025694fc cxxbridge1$string$len + 90520\n",
      "3   chromedriver                        0x00000001025b0a14 cxxbridge1$string$len + 382640\n",
      "4   chromedriver                        0x00000001025f1db8 cxxbridge1$string$len + 649812\n",
      "5   chromedriver                        0x00000001025a4d30 cxxbridge1$string$len + 334284\n",
      "6   chromedriver                        0x00000001029ea66c cxxbridge1$str$ptr + 2493140\n",
      "7   chromedriver                        0x00000001029ed8a0 cxxbridge1$str$ptr + 2505992\n",
      "8   chromedriver                        0x00000001029cb4a4 cxxbridge1$str$ptr + 2365708\n",
      "9   chromedriver                        0x00000001029ee15c cxxbridge1$str$ptr + 2508228\n",
      "10  chromedriver                        0x00000001029bc59c cxxbridge1$str$ptr + 2304516\n",
      "11  chromedriver                        0x0000000102a0dc78 cxxbridge1$str$ptr + 2638048\n",
      "12  chromedriver                        0x0000000102a0de04 cxxbridge1$str$ptr + 2638444\n",
      "13  chromedriver                        0x0000000102a1ee28 cxxbridge1$str$ptr + 2708112\n",
      "14  libsystem_pthread.dylib             0x00000001877a7c0c _pthread_start + 136\n",
      "15  libsystem_pthread.dylib             0x00000001877a2b80 thread_start + 8\n",
      "\n",
      "Pulling data from: https://agmarknet.gov.in/SearchCmmMkt.aspx?Tx_State=0&Tx_District=0&Tx_Market=0&Tx_Trend=2&DateFrom=01-Aug-2025&DateTo=01-Aug-2025&Fr_Date=01-Aug-2025&To_Date=01-Aug-2025&Tx_CommodityHead=Brinjal&Tx_Commodity=35\n"
     ]
    },
    {
     "name": "stderr",
     "output_type": "stream",
     "text": [
      "/var/folders/jb/zy_516ps25g392kqdzfs61640000gn/T/ipykernel_78044/1959355148.py:16: FutureWarning: Passing literal html to 'read_html' is deprecated and will be removed in a future version. To read from a literal string, wrap it in a 'StringIO' object.\n",
      "  df = pd.read_html(table_html)[0]\n"
     ]
    },
    {
     "name": "stdout",
     "output_type": "stream",
     "text": [
      "Pulled data:  (589, 12)\n",
      "Pulling data from: https://agmarknet.gov.in/SearchCmmMkt.aspx?Tx_State=0&Tx_District=0&Tx_Market=0&Tx_Trend=2&DateFrom=01-Aug-2025&DateTo=01-Aug-2025&Fr_Date=01-Aug-2025&To_Date=01-Aug-2025&Tx_CommodityHead=Brocoli&Tx_Commodity=487\n",
      "[WARN] 2025-08-01: Message: \n",
      "Stacktrace:\n",
      "0   chromedriver                        0x0000000102a2726c cxxbridge1$str$ptr + 2741972\n",
      "1   chromedriver                        0x0000000102a1f1dc cxxbridge1$str$ptr + 2709060\n",
      "2   chromedriver                        0x00000001025694fc cxxbridge1$string$len + 90520\n",
      "3   chromedriver                        0x00000001025b0a14 cxxbridge1$string$len + 382640\n",
      "4   chromedriver                        0x00000001025f1db8 cxxbridge1$string$len + 649812\n",
      "5   chromedriver                        0x00000001025a4d30 cxxbridge1$string$len + 334284\n",
      "6   chromedriver                        0x00000001029ea66c cxxbridge1$str$ptr + 2493140\n",
      "7   chromedriver                        0x00000001029ed8a0 cxxbridge1$str$ptr + 2505992\n",
      "8   chromedriver                        0x00000001029cb4a4 cxxbridge1$str$ptr + 2365708\n",
      "9   chromedriver                        0x00000001029ee15c cxxbridge1$str$ptr + 2508228\n",
      "10  chromedriver                        0x00000001029bc59c cxxbridge1$str$ptr + 2304516\n",
      "11  chromedriver                        0x0000000102a0dc78 cxxbridge1$str$ptr + 2638048\n",
      "12  chromedriver                        0x0000000102a0de04 cxxbridge1$str$ptr + 2638444\n",
      "13  chromedriver                        0x0000000102a1ee28 cxxbridge1$str$ptr + 2708112\n",
      "14  libsystem_pthread.dylib             0x00000001877a7c0c _pthread_start + 136\n",
      "15  libsystem_pthread.dylib             0x00000001877a2b80 thread_start + 8\n",
      "\n",
      "Pulling data from: https://agmarknet.gov.in/SearchCmmMkt.aspx?Tx_State=0&Tx_District=0&Tx_Market=0&Tx_Trend=2&DateFrom=01-Aug-2025&DateTo=01-Aug-2025&Fr_Date=01-Aug-2025&To_Date=01-Aug-2025&Tx_CommodityHead=Broken+Rice&Tx_Commodity=293\n",
      "[WARN] 2025-08-01: Message: \n",
      "Stacktrace:\n",
      "0   chromedriver                        0x0000000102a2726c cxxbridge1$str$ptr + 2741972\n",
      "1   chromedriver                        0x0000000102a1f1dc cxxbridge1$str$ptr + 2709060\n",
      "2   chromedriver                        0x00000001025694fc cxxbridge1$string$len + 90520\n",
      "3   chromedriver                        0x00000001025b0a14 cxxbridge1$string$len + 382640\n",
      "4   chromedriver                        0x00000001025f1db8 cxxbridge1$string$len + 649812\n",
      "5   chromedriver                        0x00000001025a4d30 cxxbridge1$string$len + 334284\n",
      "6   chromedriver                        0x00000001029ea66c cxxbridge1$str$ptr + 2493140\n",
      "7   chromedriver                        0x00000001029ed8a0 cxxbridge1$str$ptr + 2505992\n",
      "8   chromedriver                        0x00000001029cb4a4 cxxbridge1$str$ptr + 2365708\n",
      "9   chromedriver                        0x00000001029ee15c cxxbridge1$str$ptr + 2508228\n",
      "10  chromedriver                        0x00000001029bc59c cxxbridge1$str$ptr + 2304516\n",
      "11  chromedriver                        0x0000000102a0dc78 cxxbridge1$str$ptr + 2638048\n",
      "12  chromedriver                        0x0000000102a0de04 cxxbridge1$str$ptr + 2638444\n",
      "13  chromedriver                        0x0000000102a1ee28 cxxbridge1$str$ptr + 2708112\n",
      "14  libsystem_pthread.dylib             0x00000001877a7c0c _pthread_start + 136\n",
      "15  libsystem_pthread.dylib             0x00000001877a2b80 thread_start + 8\n",
      "\n",
      "Pulling data from: https://agmarknet.gov.in/SearchCmmMkt.aspx?Tx_State=0&Tx_District=0&Tx_Market=0&Tx_Trend=2&DateFrom=01-Aug-2025&DateTo=01-Aug-2025&Fr_Date=01-Aug-2025&To_Date=01-Aug-2025&Tx_CommodityHead=Broomstick%28Flower+Broom%29&Tx_Commodity=320\n",
      "[WARN] 2025-08-01: Message: \n",
      "Stacktrace:\n",
      "0   chromedriver                        0x0000000102a2726c cxxbridge1$str$ptr + 2741972\n",
      "1   chromedriver                        0x0000000102a1f1dc cxxbridge1$str$ptr + 2709060\n",
      "2   chromedriver                        0x00000001025694fc cxxbridge1$string$len + 90520\n",
      "3   chromedriver                        0x00000001025b0a14 cxxbridge1$string$len + 382640\n",
      "4   chromedriver                        0x00000001025f1db8 cxxbridge1$string$len + 649812\n",
      "5   chromedriver                        0x00000001025a4d30 cxxbridge1$string$len + 334284\n",
      "6   chromedriver                        0x00000001029ea66c cxxbridge1$str$ptr + 2493140\n",
      "7   chromedriver                        0x00000001029ed8a0 cxxbridge1$str$ptr + 2505992\n",
      "8   chromedriver                        0x00000001029cb4a4 cxxbridge1$str$ptr + 2365708\n",
      "9   chromedriver                        0x00000001029ee15c cxxbridge1$str$ptr + 2508228\n",
      "10  chromedriver                        0x00000001029bc59c cxxbridge1$str$ptr + 2304516\n",
      "11  chromedriver                        0x0000000102a0dc78 cxxbridge1$str$ptr + 2638048\n",
      "12  chromedriver                        0x0000000102a0de04 cxxbridge1$str$ptr + 2638444\n",
      "13  chromedriver                        0x0000000102a1ee28 cxxbridge1$str$ptr + 2708112\n",
      "14  libsystem_pthread.dylib             0x00000001877a7c0c _pthread_start + 136\n",
      "15  libsystem_pthread.dylib             0x00000001877a2b80 thread_start + 8\n",
      "\n",
      "Pulling data from: https://agmarknet.gov.in/SearchCmmMkt.aspx?Tx_State=0&Tx_District=0&Tx_Market=0&Tx_Trend=2&DateFrom=01-Aug-2025&DateTo=01-Aug-2025&Fr_Date=01-Aug-2025&To_Date=01-Aug-2025&Tx_CommodityHead=Bull&Tx_Commodity=214\n"
     ]
    },
    {
     "name": "stderr",
     "output_type": "stream",
     "text": [
      "/var/folders/jb/zy_516ps25g392kqdzfs61640000gn/T/ipykernel_78044/1959355148.py:16: FutureWarning: Passing literal html to 'read_html' is deprecated and will be removed in a future version. To read from a literal string, wrap it in a 'StringIO' object.\n",
      "  df = pd.read_html(table_html)[0]\n"
     ]
    },
    {
     "name": "stdout",
     "output_type": "stream",
     "text": [
      "Pulled data:  (1, 12)\n",
      "Pulling data from: https://agmarknet.gov.in/SearchCmmMkt.aspx?Tx_State=0&Tx_District=0&Tx_Market=0&Tx_Trend=2&DateFrom=01-Aug-2025&DateTo=01-Aug-2025&Fr_Date=01-Aug-2025&To_Date=01-Aug-2025&Tx_CommodityHead=Bullar&Tx_Commodity=284\n",
      "[WARN] 2025-08-01: Message: \n",
      "Stacktrace:\n",
      "0   chromedriver                        0x0000000102a2726c cxxbridge1$str$ptr + 2741972\n",
      "1   chromedriver                        0x0000000102a1f1dc cxxbridge1$str$ptr + 2709060\n",
      "2   chromedriver                        0x00000001025694fc cxxbridge1$string$len + 90520\n",
      "3   chromedriver                        0x00000001025b0a14 cxxbridge1$string$len + 382640\n",
      "4   chromedriver                        0x00000001025f1db8 cxxbridge1$string$len + 649812\n",
      "5   chromedriver                        0x00000001025a4d30 cxxbridge1$string$len + 334284\n",
      "6   chromedriver                        0x00000001029ea66c cxxbridge1$str$ptr + 2493140\n",
      "7   chromedriver                        0x00000001029ed8a0 cxxbridge1$str$ptr + 2505992\n",
      "8   chromedriver                        0x00000001029cb4a4 cxxbridge1$str$ptr + 2365708\n",
      "9   chromedriver                        0x00000001029ee15c cxxbridge1$str$ptr + 2508228\n",
      "10  chromedriver                        0x00000001029bc59c cxxbridge1$str$ptr + 2304516\n",
      "11  chromedriver                        0x0000000102a0dc78 cxxbridge1$str$ptr + 2638048\n",
      "12  chromedriver                        0x0000000102a0de04 cxxbridge1$str$ptr + 2638444\n",
      "13  chromedriver                        0x0000000102a1ee28 cxxbridge1$str$ptr + 2708112\n",
      "14  libsystem_pthread.dylib             0x00000001877a7c0c _pthread_start + 136\n",
      "15  libsystem_pthread.dylib             0x00000001877a2b80 thread_start + 8\n",
      "\n",
      "Pulling data from: https://agmarknet.gov.in/SearchCmmMkt.aspx?Tx_State=0&Tx_District=0&Tx_Market=0&Tx_Trend=2&DateFrom=01-Aug-2025&DateTo=01-Aug-2025&Fr_Date=01-Aug-2025&To_Date=01-Aug-2025&Tx_CommodityHead=Bunch+Beans&Tx_Commodity=224\n"
     ]
    },
    {
     "name": "stderr",
     "output_type": "stream",
     "text": [
      "/var/folders/jb/zy_516ps25g392kqdzfs61640000gn/T/ipykernel_78044/1959355148.py:16: FutureWarning: Passing literal html to 'read_html' is deprecated and will be removed in a future version. To read from a literal string, wrap it in a 'StringIO' object.\n",
      "  df = pd.read_html(table_html)[0]\n"
     ]
    },
    {
     "name": "stdout",
     "output_type": "stream",
     "text": [
      "Pulled data:  (1, 12)\n",
      "Pulling data from: https://agmarknet.gov.in/SearchCmmMkt.aspx?Tx_State=0&Tx_District=0&Tx_Market=0&Tx_Trend=2&DateFrom=01-Aug-2025&DateTo=01-Aug-2025&Fr_Date=01-Aug-2025&To_Date=01-Aug-2025&Tx_CommodityHead=Butter&Tx_Commodity=272\n",
      "[WARN] 2025-08-01: Message: \n",
      "Stacktrace:\n",
      "0   chromedriver                        0x0000000102a2726c cxxbridge1$str$ptr + 2741972\n",
      "1   chromedriver                        0x0000000102a1f1dc cxxbridge1$str$ptr + 2709060\n",
      "2   chromedriver                        0x00000001025694fc cxxbridge1$string$len + 90520\n",
      "3   chromedriver                        0x00000001025b0a14 cxxbridge1$string$len + 382640\n",
      "4   chromedriver                        0x00000001025f1db8 cxxbridge1$string$len + 649812\n",
      "5   chromedriver                        0x00000001025a4d30 cxxbridge1$string$len + 334284\n",
      "6   chromedriver                        0x00000001029ea66c cxxbridge1$str$ptr + 2493140\n",
      "7   chromedriver                        0x00000001029ed8a0 cxxbridge1$str$ptr + 2505992\n",
      "8   chromedriver                        0x00000001029cb4a4 cxxbridge1$str$ptr + 2365708\n",
      "9   chromedriver                        0x00000001029ee15c cxxbridge1$str$ptr + 2508228\n",
      "10  chromedriver                        0x00000001029bc59c cxxbridge1$str$ptr + 2304516\n",
      "11  chromedriver                        0x0000000102a0dc78 cxxbridge1$str$ptr + 2638048\n",
      "12  chromedriver                        0x0000000102a0de04 cxxbridge1$str$ptr + 2638444\n",
      "13  chromedriver                        0x0000000102a1ee28 cxxbridge1$str$ptr + 2708112\n",
      "14  libsystem_pthread.dylib             0x00000001877a7c0c _pthread_start + 136\n",
      "15  libsystem_pthread.dylib             0x00000001877a2b80 thread_start + 8\n",
      "\n",
      "Pulling data from: https://agmarknet.gov.in/SearchCmmMkt.aspx?Tx_State=0&Tx_District=0&Tx_Market=0&Tx_Trend=2&DateFrom=01-Aug-2025&DateTo=01-Aug-2025&Fr_Date=01-Aug-2025&To_Date=01-Aug-2025&Tx_CommodityHead=buttery&Tx_Commodity=416\n"
     ]
    },
    {
     "name": "stderr",
     "output_type": "stream",
     "text": [
      "/var/folders/jb/zy_516ps25g392kqdzfs61640000gn/T/ipykernel_78044/1959355148.py:16: FutureWarning: Passing literal html to 'read_html' is deprecated and will be removed in a future version. To read from a literal string, wrap it in a 'StringIO' object.\n",
      "  df = pd.read_html(table_html)[0]\n"
     ]
    },
    {
     "name": "stdout",
     "output_type": "stream",
     "text": [
      "Pulled data:  (17, 12)\n",
      "Pulling data from: https://agmarknet.gov.in/SearchCmmMkt.aspx?Tx_State=0&Tx_District=0&Tx_Market=0&Tx_Trend=2&DateFrom=01-Aug-2025&DateTo=01-Aug-2025&Fr_Date=01-Aug-2025&To_Date=01-Aug-2025&Tx_CommodityHead=Cabbage&Tx_Commodity=154\n"
     ]
    },
    {
     "name": "stderr",
     "output_type": "stream",
     "text": [
      "/var/folders/jb/zy_516ps25g392kqdzfs61640000gn/T/ipykernel_78044/1959355148.py:16: FutureWarning: Passing literal html to 'read_html' is deprecated and will be removed in a future version. To read from a literal string, wrap it in a 'StringIO' object.\n",
      "  df = pd.read_html(table_html)[0]\n"
     ]
    },
    {
     "name": "stdout",
     "output_type": "stream",
     "text": [
      "Pulled data:  (391, 12)\n",
      "Pulling data from: https://agmarknet.gov.in/SearchCmmMkt.aspx?Tx_State=0&Tx_District=0&Tx_Market=0&Tx_Trend=2&DateFrom=01-Aug-2025&DateTo=01-Aug-2025&Fr_Date=01-Aug-2025&To_Date=01-Aug-2025&Tx_CommodityHead=Calendula&Tx_Commodity=480\n",
      "[WARN] 2025-08-01: Message: \n",
      "Stacktrace:\n",
      "0   chromedriver                        0x0000000102a2726c cxxbridge1$str$ptr + 2741972\n",
      "1   chromedriver                        0x0000000102a1f1dc cxxbridge1$str$ptr + 2709060\n",
      "2   chromedriver                        0x00000001025694fc cxxbridge1$string$len + 90520\n",
      "3   chromedriver                        0x00000001025b0a14 cxxbridge1$string$len + 382640\n",
      "4   chromedriver                        0x00000001025f1db8 cxxbridge1$string$len + 649812\n",
      "5   chromedriver                        0x00000001025a4d30 cxxbridge1$string$len + 334284\n",
      "6   chromedriver                        0x00000001029ea66c cxxbridge1$str$ptr + 2493140\n",
      "7   chromedriver                        0x00000001029ed8a0 cxxbridge1$str$ptr + 2505992\n",
      "8   chromedriver                        0x00000001029cb4a4 cxxbridge1$str$ptr + 2365708\n",
      "9   chromedriver                        0x00000001029ee15c cxxbridge1$str$ptr + 2508228\n",
      "10  chromedriver                        0x00000001029bc59c cxxbridge1$str$ptr + 2304516\n",
      "11  chromedriver                        0x0000000102a0dc78 cxxbridge1$str$ptr + 2638048\n",
      "12  chromedriver                        0x0000000102a0de04 cxxbridge1$str$ptr + 2638444\n",
      "13  chromedriver                        0x0000000102a1ee28 cxxbridge1$str$ptr + 2708112\n",
      "14  libsystem_pthread.dylib             0x00000001877a7c0c _pthread_start + 136\n",
      "15  libsystem_pthread.dylib             0x00000001877a2b80 thread_start + 8\n",
      "\n",
      "Pulling data from: https://agmarknet.gov.in/SearchCmmMkt.aspx?Tx_State=0&Tx_District=0&Tx_Market=0&Tx_Trend=2&DateFrom=01-Aug-2025&DateTo=01-Aug-2025&Fr_Date=01-Aug-2025&To_Date=01-Aug-2025&Tx_CommodityHead=Calf&Tx_Commodity=215\n"
     ]
    },
    {
     "name": "stderr",
     "output_type": "stream",
     "text": [
      "/var/folders/jb/zy_516ps25g392kqdzfs61640000gn/T/ipykernel_78044/1959355148.py:16: FutureWarning: Passing literal html to 'read_html' is deprecated and will be removed in a future version. To read from a literal string, wrap it in a 'StringIO' object.\n",
      "  df = pd.read_html(table_html)[0]\n"
     ]
    },
    {
     "name": "stdout",
     "output_type": "stream",
     "text": [
      "Pulled data:  (1, 12)\n",
      "Pulling data from: https://agmarknet.gov.in/SearchCmmMkt.aspx?Tx_State=0&Tx_District=0&Tx_Market=0&Tx_Trend=2&DateFrom=01-Aug-2025&DateTo=01-Aug-2025&Fr_Date=01-Aug-2025&To_Date=01-Aug-2025&Tx_CommodityHead=Camel+Hair&Tx_Commodity=354\n",
      "[WARN] 2025-08-01: Message: \n",
      "Stacktrace:\n",
      "0   chromedriver                        0x0000000102a2726c cxxbridge1$str$ptr + 2741972\n",
      "1   chromedriver                        0x0000000102a1f1dc cxxbridge1$str$ptr + 2709060\n",
      "2   chromedriver                        0x00000001025694fc cxxbridge1$string$len + 90520\n",
      "3   chromedriver                        0x00000001025b0a14 cxxbridge1$string$len + 382640\n",
      "4   chromedriver                        0x00000001025f1db8 cxxbridge1$string$len + 649812\n",
      "5   chromedriver                        0x00000001025a4d30 cxxbridge1$string$len + 334284\n",
      "6   chromedriver                        0x00000001029ea66c cxxbridge1$str$ptr + 2493140\n",
      "7   chromedriver                        0x00000001029ed8a0 cxxbridge1$str$ptr + 2505992\n",
      "8   chromedriver                        0x00000001029cb4a4 cxxbridge1$str$ptr + 2365708\n",
      "9   chromedriver                        0x00000001029ee15c cxxbridge1$str$ptr + 2508228\n",
      "10  chromedriver                        0x00000001029bc59c cxxbridge1$str$ptr + 2304516\n",
      "11  chromedriver                        0x0000000102a0dc78 cxxbridge1$str$ptr + 2638048\n",
      "12  chromedriver                        0x0000000102a0de04 cxxbridge1$str$ptr + 2638444\n",
      "13  chromedriver                        0x0000000102a1ee28 cxxbridge1$str$ptr + 2708112\n",
      "14  libsystem_pthread.dylib             0x00000001877a7c0c _pthread_start + 136\n",
      "15  libsystem_pthread.dylib             0x00000001877a2b80 thread_start + 8\n",
      "\n",
      "Pulling data from: https://agmarknet.gov.in/SearchCmmMkt.aspx?Tx_State=0&Tx_District=0&Tx_Market=0&Tx_Trend=2&DateFrom=01-Aug-2025&DateTo=01-Aug-2025&Fr_Date=01-Aug-2025&To_Date=01-Aug-2025&Tx_CommodityHead=Cane&Tx_Commodity=205\n",
      "[WARN] 2025-08-01: Message: \n",
      "Stacktrace:\n",
      "0   chromedriver                        0x0000000102a2726c cxxbridge1$str$ptr + 2741972\n",
      "1   chromedriver                        0x0000000102a1f1dc cxxbridge1$str$ptr + 2709060\n",
      "2   chromedriver                        0x00000001025694fc cxxbridge1$string$len + 90520\n",
      "3   chromedriver                        0x00000001025b0a14 cxxbridge1$string$len + 382640\n",
      "4   chromedriver                        0x00000001025f1db8 cxxbridge1$string$len + 649812\n",
      "5   chromedriver                        0x00000001025a4d30 cxxbridge1$string$len + 334284\n",
      "6   chromedriver                        0x00000001029ea66c cxxbridge1$str$ptr + 2493140\n",
      "7   chromedriver                        0x00000001029ed8a0 cxxbridge1$str$ptr + 2505992\n",
      "8   chromedriver                        0x00000001029cb4a4 cxxbridge1$str$ptr + 2365708\n",
      "9   chromedriver                        0x00000001029ee15c cxxbridge1$str$ptr + 2508228\n",
      "10  chromedriver                        0x00000001029bc59c cxxbridge1$str$ptr + 2304516\n",
      "11  chromedriver                        0x0000000102a0dc78 cxxbridge1$str$ptr + 2638048\n",
      "12  chromedriver                        0x0000000102a0de04 cxxbridge1$str$ptr + 2638444\n",
      "13  chromedriver                        0x0000000102a1ee28 cxxbridge1$str$ptr + 2708112\n",
      "14  libsystem_pthread.dylib             0x00000001877a7c0c _pthread_start + 136\n",
      "15  libsystem_pthread.dylib             0x00000001877a2b80 thread_start + 8\n",
      "\n",
      "Pulling data from: https://agmarknet.gov.in/SearchCmmMkt.aspx?Tx_State=0&Tx_District=0&Tx_Market=0&Tx_Trend=2&DateFrom=01-Aug-2025&DateTo=01-Aug-2025&Fr_Date=01-Aug-2025&To_Date=01-Aug-2025&Tx_CommodityHead=Capsicum&Tx_Commodity=164\n"
     ]
    },
    {
     "name": "stderr",
     "output_type": "stream",
     "text": [
      "/var/folders/jb/zy_516ps25g392kqdzfs61640000gn/T/ipykernel_78044/1959355148.py:16: FutureWarning: Passing literal html to 'read_html' is deprecated and will be removed in a future version. To read from a literal string, wrap it in a 'StringIO' object.\n",
      "  df = pd.read_html(table_html)[0]\n"
     ]
    },
    {
     "name": "stdout",
     "output_type": "stream",
     "text": [
      "Pulled data:  (218, 12)\n",
      "Pulling data from: https://agmarknet.gov.in/SearchCmmMkt.aspx?Tx_State=0&Tx_District=0&Tx_Market=0&Tx_Trend=2&DateFrom=01-Aug-2025&DateTo=01-Aug-2025&Fr_Date=01-Aug-2025&To_Date=01-Aug-2025&Tx_CommodityHead=Cardamoms&Tx_Commodity=40\n"
     ]
    },
    {
     "name": "stderr",
     "output_type": "stream",
     "text": [
      "/var/folders/jb/zy_516ps25g392kqdzfs61640000gn/T/ipykernel_78044/1959355148.py:16: FutureWarning: Passing literal html to 'read_html' is deprecated and will be removed in a future version. To read from a literal string, wrap it in a 'StringIO' object.\n",
      "  df = pd.read_html(table_html)[0]\n"
     ]
    },
    {
     "name": "stdout",
     "output_type": "stream",
     "text": [
      "Pulled data:  (2, 12)\n",
      "Pulling data from: https://agmarknet.gov.in/SearchCmmMkt.aspx?Tx_State=0&Tx_District=0&Tx_Market=0&Tx_Trend=2&DateFrom=01-Aug-2025&DateTo=01-Aug-2025&Fr_Date=01-Aug-2025&To_Date=01-Aug-2025&Tx_CommodityHead=Carnation&Tx_Commodity=375\n"
     ]
    },
    {
     "name": "stderr",
     "output_type": "stream",
     "text": [
      "/var/folders/jb/zy_516ps25g392kqdzfs61640000gn/T/ipykernel_78044/1959355148.py:16: FutureWarning: Passing literal html to 'read_html' is deprecated and will be removed in a future version. To read from a literal string, wrap it in a 'StringIO' object.\n",
      "  df = pd.read_html(table_html)[0]\n"
     ]
    },
    {
     "name": "stdout",
     "output_type": "stream",
     "text": [
      "Pulled data:  (1, 12)\n",
      "Pulling data from: https://agmarknet.gov.in/SearchCmmMkt.aspx?Tx_State=0&Tx_District=0&Tx_Market=0&Tx_Trend=2&DateFrom=01-Aug-2025&DateTo=01-Aug-2025&Fr_Date=01-Aug-2025&To_Date=01-Aug-2025&Tx_CommodityHead=Carrot&Tx_Commodity=153\n"
     ]
    },
    {
     "name": "stderr",
     "output_type": "stream",
     "text": [
      "/var/folders/jb/zy_516ps25g392kqdzfs61640000gn/T/ipykernel_78044/1959355148.py:16: FutureWarning: Passing literal html to 'read_html' is deprecated and will be removed in a future version. To read from a literal string, wrap it in a 'StringIO' object.\n",
      "  df = pd.read_html(table_html)[0]\n"
     ]
    },
    {
     "name": "stdout",
     "output_type": "stream",
     "text": [
      "Pulled data:  (272, 12)\n",
      "Pulling data from: https://agmarknet.gov.in/SearchCmmMkt.aspx?Tx_State=0&Tx_District=0&Tx_Market=0&Tx_Trend=2&DateFrom=01-Aug-2025&DateTo=01-Aug-2025&Fr_Date=01-Aug-2025&To_Date=01-Aug-2025&Tx_CommodityHead=Cashew+Kernnel&Tx_Commodity=238\n",
      "[WARN] 2025-08-01: Message: \n",
      "Stacktrace:\n",
      "0   chromedriver                        0x0000000100c4726c cxxbridge1$str$ptr + 2741972\n",
      "1   chromedriver                        0x0000000100c3f1dc cxxbridge1$str$ptr + 2709060\n",
      "2   chromedriver                        0x00000001007894fc cxxbridge1$string$len + 90520\n",
      "3   chromedriver                        0x00000001007d0a14 cxxbridge1$string$len + 382640\n",
      "4   chromedriver                        0x0000000100811db8 cxxbridge1$string$len + 649812\n",
      "5   chromedriver                        0x00000001007c4d30 cxxbridge1$string$len + 334284\n",
      "6   chromedriver                        0x0000000100c0a66c cxxbridge1$str$ptr + 2493140\n",
      "7   chromedriver                        0x0000000100c0d8a0 cxxbridge1$str$ptr + 2505992\n",
      "8   chromedriver                        0x0000000100beb4a4 cxxbridge1$str$ptr + 2365708\n",
      "9   chromedriver                        0x0000000100c0e15c cxxbridge1$str$ptr + 2508228\n",
      "10  chromedriver                        0x0000000100bdc59c cxxbridge1$str$ptr + 2304516\n",
      "11  chromedriver                        0x0000000100c2dc78 cxxbridge1$str$ptr + 2638048\n",
      "12  chromedriver                        0x0000000100c2de04 cxxbridge1$str$ptr + 2638444\n",
      "13  chromedriver                        0x0000000100c3ee28 cxxbridge1$str$ptr + 2708112\n",
      "14  libsystem_pthread.dylib             0x00000001877a7c0c _pthread_start + 136\n",
      "15  libsystem_pthread.dylib             0x00000001877a2b80 thread_start + 8\n",
      "\n",
      "Pulling data from: https://agmarknet.gov.in/SearchCmmMkt.aspx?Tx_State=0&Tx_District=0&Tx_Market=0&Tx_Trend=2&DateFrom=01-Aug-2025&DateTo=01-Aug-2025&Fr_Date=01-Aug-2025&To_Date=01-Aug-2025&Tx_CommodityHead=Cashewnuts&Tx_Commodity=36\n"
     ]
    },
    {
     "name": "stderr",
     "output_type": "stream",
     "text": [
      "/var/folders/jb/zy_516ps25g392kqdzfs61640000gn/T/ipykernel_78044/1959355148.py:16: FutureWarning: Passing literal html to 'read_html' is deprecated and will be removed in a future version. To read from a literal string, wrap it in a 'StringIO' object.\n",
      "  df = pd.read_html(table_html)[0]\n"
     ]
    },
    {
     "name": "stdout",
     "output_type": "stream",
     "text": [
      "Pulled data:  (2, 12)\n",
      "Pulling data from: https://agmarknet.gov.in/SearchCmmMkt.aspx?Tx_State=0&Tx_District=0&Tx_Market=0&Tx_Trend=2&DateFrom=01-Aug-2025&DateTo=01-Aug-2025&Fr_Date=01-Aug-2025&To_Date=01-Aug-2025&Tx_CommodityHead=Castor+Oil&Tx_Commodity=270\n",
      "[WARN] 2025-08-01: Message: \n",
      "Stacktrace:\n",
      "0   chromedriver                        0x0000000100c4726c cxxbridge1$str$ptr + 2741972\n",
      "1   chromedriver                        0x0000000100c3f1dc cxxbridge1$str$ptr + 2709060\n",
      "2   chromedriver                        0x00000001007894fc cxxbridge1$string$len + 90520\n",
      "3   chromedriver                        0x00000001007d0a14 cxxbridge1$string$len + 382640\n",
      "4   chromedriver                        0x0000000100811db8 cxxbridge1$string$len + 649812\n",
      "5   chromedriver                        0x00000001007c4d30 cxxbridge1$string$len + 334284\n",
      "6   chromedriver                        0x0000000100c0a66c cxxbridge1$str$ptr + 2493140\n",
      "7   chromedriver                        0x0000000100c0d8a0 cxxbridge1$str$ptr + 2505992\n",
      "8   chromedriver                        0x0000000100beb4a4 cxxbridge1$str$ptr + 2365708\n",
      "9   chromedriver                        0x0000000100c0e15c cxxbridge1$str$ptr + 2508228\n",
      "10  chromedriver                        0x0000000100bdc59c cxxbridge1$str$ptr + 2304516\n",
      "11  chromedriver                        0x0000000100c2dc78 cxxbridge1$str$ptr + 2638048\n",
      "12  chromedriver                        0x0000000100c2de04 cxxbridge1$str$ptr + 2638444\n",
      "13  chromedriver                        0x0000000100c3ee28 cxxbridge1$str$ptr + 2708112\n",
      "14  libsystem_pthread.dylib             0x00000001877a7c0c _pthread_start + 136\n",
      "15  libsystem_pthread.dylib             0x00000001877a2b80 thread_start + 8\n",
      "\n",
      "Pulling data from: https://agmarknet.gov.in/SearchCmmMkt.aspx?Tx_State=0&Tx_District=0&Tx_Market=0&Tx_Trend=2&DateFrom=01-Aug-2025&DateTo=01-Aug-2025&Fr_Date=01-Aug-2025&To_Date=01-Aug-2025&Tx_CommodityHead=Castor+Seed&Tx_Commodity=123\n"
     ]
    },
    {
     "name": "stderr",
     "output_type": "stream",
     "text": [
      "/var/folders/jb/zy_516ps25g392kqdzfs61640000gn/T/ipykernel_78044/1959355148.py:16: FutureWarning: Passing literal html to 'read_html' is deprecated and will be removed in a future version. To read from a literal string, wrap it in a 'StringIO' object.\n",
      "  df = pd.read_html(table_html)[0]\n"
     ]
    },
    {
     "name": "stdout",
     "output_type": "stream",
     "text": [
      "Pulled data:  (58, 12)\n",
      "Pulling data from: https://agmarknet.gov.in/SearchCmmMkt.aspx?Tx_State=0&Tx_District=0&Tx_Market=0&Tx_Trend=2&DateFrom=01-Aug-2025&DateTo=01-Aug-2025&Fr_Date=01-Aug-2025&To_Date=01-Aug-2025&Tx_CommodityHead=Cauliflower&Tx_Commodity=34\n"
     ]
    },
    {
     "name": "stderr",
     "output_type": "stream",
     "text": [
      "/var/folders/jb/zy_516ps25g392kqdzfs61640000gn/T/ipykernel_78044/1959355148.py:16: FutureWarning: Passing literal html to 'read_html' is deprecated and will be removed in a future version. To read from a literal string, wrap it in a 'StringIO' object.\n",
      "  df = pd.read_html(table_html)[0]\n"
     ]
    },
    {
     "name": "stdout",
     "output_type": "stream",
     "text": [
      "Pulled data:  (347, 12)\n",
      "Pulling data from: https://agmarknet.gov.in/SearchCmmMkt.aspx?Tx_State=0&Tx_District=0&Tx_Market=0&Tx_Trend=2&DateFrom=01-Aug-2025&DateTo=01-Aug-2025&Fr_Date=01-Aug-2025&To_Date=01-Aug-2025&Tx_CommodityHead=Chakotha&Tx_Commodity=188\n",
      "[WARN] 2025-08-01: Message: \n",
      "Stacktrace:\n",
      "0   chromedriver                        0x0000000100c4726c cxxbridge1$str$ptr + 2741972\n",
      "1   chromedriver                        0x0000000100c3f1dc cxxbridge1$str$ptr + 2709060\n",
      "2   chromedriver                        0x00000001007894fc cxxbridge1$string$len + 90520\n",
      "3   chromedriver                        0x00000001007d0a14 cxxbridge1$string$len + 382640\n",
      "4   chromedriver                        0x0000000100811db8 cxxbridge1$string$len + 649812\n",
      "5   chromedriver                        0x00000001007c4d30 cxxbridge1$string$len + 334284\n",
      "6   chromedriver                        0x0000000100c0a66c cxxbridge1$str$ptr + 2493140\n",
      "7   chromedriver                        0x0000000100c0d8a0 cxxbridge1$str$ptr + 2505992\n",
      "8   chromedriver                        0x0000000100beb4a4 cxxbridge1$str$ptr + 2365708\n",
      "9   chromedriver                        0x0000000100c0e15c cxxbridge1$str$ptr + 2508228\n",
      "10  chromedriver                        0x0000000100bdc59c cxxbridge1$str$ptr + 2304516\n",
      "11  chromedriver                        0x0000000100c2dc78 cxxbridge1$str$ptr + 2638048\n",
      "12  chromedriver                        0x0000000100c2de04 cxxbridge1$str$ptr + 2638444\n",
      "13  chromedriver                        0x0000000100c3ee28 cxxbridge1$str$ptr + 2708112\n",
      "14  libsystem_pthread.dylib             0x00000001877a7c0c _pthread_start + 136\n",
      "15  libsystem_pthread.dylib             0x00000001877a2b80 thread_start + 8\n",
      "\n",
      "Pulling data from: https://agmarknet.gov.in/SearchCmmMkt.aspx?Tx_State=0&Tx_District=0&Tx_Market=0&Tx_Trend=2&DateFrom=01-Aug-2025&DateTo=01-Aug-2025&Fr_Date=01-Aug-2025&To_Date=01-Aug-2025&Tx_CommodityHead=Chandrashoor&Tx_Commodity=438\n",
      "[WARN] 2025-08-01: Message: \n",
      "Stacktrace:\n",
      "0   chromedriver                        0x0000000100c4726c cxxbridge1$str$ptr + 2741972\n",
      "1   chromedriver                        0x0000000100c3f1dc cxxbridge1$str$ptr + 2709060\n",
      "2   chromedriver                        0x00000001007894fc cxxbridge1$string$len + 90520\n",
      "3   chromedriver                        0x00000001007d0a14 cxxbridge1$string$len + 382640\n",
      "4   chromedriver                        0x0000000100811db8 cxxbridge1$string$len + 649812\n",
      "5   chromedriver                        0x00000001007c4d30 cxxbridge1$string$len + 334284\n",
      "6   chromedriver                        0x0000000100c0a66c cxxbridge1$str$ptr + 2493140\n",
      "7   chromedriver                        0x0000000100c0d8a0 cxxbridge1$str$ptr + 2505992\n",
      "8   chromedriver                        0x0000000100beb4a4 cxxbridge1$str$ptr + 2365708\n",
      "9   chromedriver                        0x0000000100c0e15c cxxbridge1$str$ptr + 2508228\n",
      "10  chromedriver                        0x0000000100bdc59c cxxbridge1$str$ptr + 2304516\n",
      "11  chromedriver                        0x0000000100c2dc78 cxxbridge1$str$ptr + 2638048\n",
      "12  chromedriver                        0x0000000100c2de04 cxxbridge1$str$ptr + 2638444\n",
      "13  chromedriver                        0x0000000100c3ee28 cxxbridge1$str$ptr + 2708112\n",
      "14  libsystem_pthread.dylib             0x00000001877a7c0c _pthread_start + 136\n",
      "15  libsystem_pthread.dylib             0x00000001877a2b80 thread_start + 8\n",
      "\n",
      "Pulling data from: https://agmarknet.gov.in/SearchCmmMkt.aspx?Tx_State=0&Tx_District=0&Tx_Market=0&Tx_Trend=2&DateFrom=01-Aug-2025&DateTo=01-Aug-2025&Fr_Date=01-Aug-2025&To_Date=01-Aug-2025&Tx_CommodityHead=Chapparad+Avare&Tx_Commodity=169\n"
     ]
    },
    {
     "name": "stderr",
     "output_type": "stream",
     "text": [
      "/var/folders/jb/zy_516ps25g392kqdzfs61640000gn/T/ipykernel_78044/1959355148.py:16: FutureWarning: Passing literal html to 'read_html' is deprecated and will be removed in a future version. To read from a literal string, wrap it in a 'StringIO' object.\n",
      "  df = pd.read_html(table_html)[0]\n"
     ]
    },
    {
     "name": "stdout",
     "output_type": "stream",
     "text": [
      "Pulled data:  (2, 12)\n",
      "Pulling data from: https://agmarknet.gov.in/SearchCmmMkt.aspx?Tx_State=0&Tx_District=0&Tx_Market=0&Tx_Trend=2&DateFrom=01-Aug-2025&DateTo=01-Aug-2025&Fr_Date=01-Aug-2025&To_Date=01-Aug-2025&Tx_CommodityHead=Chennangi+%28Whole%29&Tx_Commodity=241\n",
      "[WARN] 2025-08-01: Message: \n",
      "Stacktrace:\n",
      "0   chromedriver                        0x0000000100c4726c cxxbridge1$str$ptr + 2741972\n",
      "1   chromedriver                        0x0000000100c3f1dc cxxbridge1$str$ptr + 2709060\n",
      "2   chromedriver                        0x00000001007894fc cxxbridge1$string$len + 90520\n",
      "3   chromedriver                        0x00000001007d0a14 cxxbridge1$string$len + 382640\n",
      "4   chromedriver                        0x0000000100811db8 cxxbridge1$string$len + 649812\n",
      "5   chromedriver                        0x00000001007c4d30 cxxbridge1$string$len + 334284\n",
      "6   chromedriver                        0x0000000100c0a66c cxxbridge1$str$ptr + 2493140\n",
      "7   chromedriver                        0x0000000100c0d8a0 cxxbridge1$str$ptr + 2505992\n",
      "8   chromedriver                        0x0000000100beb4a4 cxxbridge1$str$ptr + 2365708\n",
      "9   chromedriver                        0x0000000100c0e15c cxxbridge1$str$ptr + 2508228\n",
      "10  chromedriver                        0x0000000100bdc59c cxxbridge1$str$ptr + 2304516\n",
      "11  chromedriver                        0x0000000100c2dc78 cxxbridge1$str$ptr + 2638048\n",
      "12  chromedriver                        0x0000000100c2de04 cxxbridge1$str$ptr + 2638444\n",
      "13  chromedriver                        0x0000000100c3ee28 cxxbridge1$str$ptr + 2708112\n",
      "14  libsystem_pthread.dylib             0x00000001877a7c0c _pthread_start + 136\n",
      "15  libsystem_pthread.dylib             0x00000001877a2b80 thread_start + 8\n",
      "\n",
      "Pulling data from: https://agmarknet.gov.in/SearchCmmMkt.aspx?Tx_State=0&Tx_District=0&Tx_Market=0&Tx_Trend=2&DateFrom=01-Aug-2025&DateTo=01-Aug-2025&Fr_Date=01-Aug-2025&To_Date=01-Aug-2025&Tx_CommodityHead=Chennangi+Dal&Tx_Commodity=295\n",
      "[WARN] 2025-08-01: Message: \n",
      "Stacktrace:\n",
      "0   chromedriver                        0x0000000100c4726c cxxbridge1$str$ptr + 2741972\n",
      "1   chromedriver                        0x0000000100c3f1dc cxxbridge1$str$ptr + 2709060\n",
      "2   chromedriver                        0x00000001007894fc cxxbridge1$string$len + 90520\n",
      "3   chromedriver                        0x00000001007d0a14 cxxbridge1$string$len + 382640\n",
      "4   chromedriver                        0x0000000100811db8 cxxbridge1$string$len + 649812\n",
      "5   chromedriver                        0x00000001007c4d30 cxxbridge1$string$len + 334284\n",
      "6   chromedriver                        0x0000000100c0a66c cxxbridge1$str$ptr + 2493140\n",
      "7   chromedriver                        0x0000000100c0d8a0 cxxbridge1$str$ptr + 2505992\n",
      "8   chromedriver                        0x0000000100beb4a4 cxxbridge1$str$ptr + 2365708\n",
      "9   chromedriver                        0x0000000100c0e15c cxxbridge1$str$ptr + 2508228\n",
      "10  chromedriver                        0x0000000100bdc59c cxxbridge1$str$ptr + 2304516\n",
      "11  chromedriver                        0x0000000100c2dc78 cxxbridge1$str$ptr + 2638048\n",
      "12  chromedriver                        0x0000000100c2de04 cxxbridge1$str$ptr + 2638444\n",
      "13  chromedriver                        0x0000000100c3ee28 cxxbridge1$str$ptr + 2708112\n",
      "14  libsystem_pthread.dylib             0x00000001877a7c0c _pthread_start + 136\n",
      "15  libsystem_pthread.dylib             0x00000001877a2b80 thread_start + 8\n",
      "\n",
      "Pulling data from: https://agmarknet.gov.in/SearchCmmMkt.aspx?Tx_State=0&Tx_District=0&Tx_Market=0&Tx_Trend=2&DateFrom=01-Aug-2025&DateTo=01-Aug-2025&Fr_Date=01-Aug-2025&To_Date=01-Aug-2025&Tx_CommodityHead=Cherry&Tx_Commodity=328\n",
      "[WARN] 2025-08-01: Message: \n",
      "Stacktrace:\n",
      "0   chromedriver                        0x0000000100c4726c cxxbridge1$str$ptr + 2741972\n",
      "1   chromedriver                        0x0000000100c3f1dc cxxbridge1$str$ptr + 2709060\n",
      "2   chromedriver                        0x00000001007894fc cxxbridge1$string$len + 90520\n",
      "3   chromedriver                        0x00000001007d0a14 cxxbridge1$string$len + 382640\n",
      "4   chromedriver                        0x0000000100811db8 cxxbridge1$string$len + 649812\n",
      "5   chromedriver                        0x00000001007c4d30 cxxbridge1$string$len + 334284\n",
      "6   chromedriver                        0x0000000100c0a66c cxxbridge1$str$ptr + 2493140\n",
      "7   chromedriver                        0x0000000100c0d8a0 cxxbridge1$str$ptr + 2505992\n",
      "8   chromedriver                        0x0000000100beb4a4 cxxbridge1$str$ptr + 2365708\n",
      "9   chromedriver                        0x0000000100c0e15c cxxbridge1$str$ptr + 2508228\n",
      "10  chromedriver                        0x0000000100bdc59c cxxbridge1$str$ptr + 2304516\n",
      "11  chromedriver                        0x0000000100c2dc78 cxxbridge1$str$ptr + 2638048\n",
      "12  chromedriver                        0x0000000100c2de04 cxxbridge1$str$ptr + 2638444\n",
      "13  chromedriver                        0x0000000100c3ee28 cxxbridge1$str$ptr + 2708112\n",
      "14  libsystem_pthread.dylib             0x00000001877a7c0c _pthread_start + 136\n",
      "15  libsystem_pthread.dylib             0x00000001877a2b80 thread_start + 8\n",
      "\n",
      "Pulling data from: https://agmarknet.gov.in/SearchCmmMkt.aspx?Tx_State=0&Tx_District=0&Tx_Market=0&Tx_Trend=2&DateFrom=01-Aug-2025&DateTo=01-Aug-2025&Fr_Date=01-Aug-2025&To_Date=01-Aug-2025&Tx_CommodityHead=Chikoos%28Sapota%29&Tx_Commodity=71\n"
     ]
    },
    {
     "name": "stderr",
     "output_type": "stream",
     "text": [
      "/var/folders/jb/zy_516ps25g392kqdzfs61640000gn/T/ipykernel_78044/1959355148.py:16: FutureWarning: Passing literal html to 'read_html' is deprecated and will be removed in a future version. To read from a literal string, wrap it in a 'StringIO' object.\n",
      "  df = pd.read_html(table_html)[0]\n"
     ]
    },
    {
     "name": "stdout",
     "output_type": "stream",
     "text": [
      "Pulled data:  (81, 12)\n",
      "Pulling data from: https://agmarknet.gov.in/SearchCmmMkt.aspx?Tx_State=0&Tx_District=0&Tx_Market=0&Tx_Trend=2&DateFrom=01-Aug-2025&DateTo=01-Aug-2025&Fr_Date=01-Aug-2025&To_Date=01-Aug-2025&Tx_CommodityHead=Chili+Red&Tx_Commodity=26\n"
     ]
    },
    {
     "name": "stderr",
     "output_type": "stream",
     "text": [
      "/var/folders/jb/zy_516ps25g392kqdzfs61640000gn/T/ipykernel_78044/1959355148.py:16: FutureWarning: Passing literal html to 'read_html' is deprecated and will be removed in a future version. To read from a literal string, wrap it in a 'StringIO' object.\n",
      "  df = pd.read_html(table_html)[0]\n"
     ]
    },
    {
     "name": "stdout",
     "output_type": "stream",
     "text": [
      "Pulled data:  (17, 12)\n",
      "Pulling data from: https://agmarknet.gov.in/SearchCmmMkt.aspx?Tx_State=0&Tx_District=0&Tx_Market=0&Tx_Trend=2&DateFrom=01-Aug-2025&DateTo=01-Aug-2025&Fr_Date=01-Aug-2025&To_Date=01-Aug-2025&Tx_CommodityHead=Chilly+Capsicum&Tx_Commodity=88\n"
     ]
    },
    {
     "name": "stderr",
     "output_type": "stream",
     "text": [
      "/var/folders/jb/zy_516ps25g392kqdzfs61640000gn/T/ipykernel_78044/1959355148.py:16: FutureWarning: Passing literal html to 'read_html' is deprecated and will be removed in a future version. To read from a literal string, wrap it in a 'StringIO' object.\n",
      "  df = pd.read_html(table_html)[0]\n"
     ]
    },
    {
     "name": "stdout",
     "output_type": "stream",
     "text": [
      "Pulled data:  (22, 12)\n",
      "Pulling data from: https://agmarknet.gov.in/SearchCmmMkt.aspx?Tx_State=0&Tx_District=0&Tx_Market=0&Tx_Trend=2&DateFrom=01-Aug-2025&DateTo=01-Aug-2025&Fr_Date=01-Aug-2025&To_Date=01-Aug-2025&Tx_CommodityHead=Chironji&Tx_Commodity=509\n",
      "[WARN] 2025-08-01: Message: \n",
      "Stacktrace:\n",
      "0   chromedriver                        0x0000000100ff326c cxxbridge1$str$ptr + 2741972\n",
      "1   chromedriver                        0x0000000100feb1dc cxxbridge1$str$ptr + 2709060\n",
      "2   chromedriver                        0x0000000100b354fc cxxbridge1$string$len + 90520\n",
      "3   chromedriver                        0x0000000100b7ca14 cxxbridge1$string$len + 382640\n",
      "4   chromedriver                        0x0000000100bbddb8 cxxbridge1$string$len + 649812\n",
      "5   chromedriver                        0x0000000100b70d30 cxxbridge1$string$len + 334284\n",
      "6   chromedriver                        0x0000000100fb666c cxxbridge1$str$ptr + 2493140\n",
      "7   chromedriver                        0x0000000100fb98a0 cxxbridge1$str$ptr + 2505992\n",
      "8   chromedriver                        0x0000000100f974a4 cxxbridge1$str$ptr + 2365708\n",
      "9   chromedriver                        0x0000000100fba15c cxxbridge1$str$ptr + 2508228\n",
      "10  chromedriver                        0x0000000100f8859c cxxbridge1$str$ptr + 2304516\n",
      "11  chromedriver                        0x0000000100fd9c78 cxxbridge1$str$ptr + 2638048\n",
      "12  chromedriver                        0x0000000100fd9e04 cxxbridge1$str$ptr + 2638444\n",
      "13  chromedriver                        0x0000000100feae28 cxxbridge1$str$ptr + 2708112\n",
      "14  libsystem_pthread.dylib             0x00000001877a7c0c _pthread_start + 136\n",
      "15  libsystem_pthread.dylib             0x00000001877a2b80 thread_start + 8\n",
      "\n",
      "Pulling data from: https://agmarknet.gov.in/SearchCmmMkt.aspx?Tx_State=0&Tx_District=0&Tx_Market=0&Tx_Trend=2&DateFrom=01-Aug-2025&DateTo=01-Aug-2025&Fr_Date=01-Aug-2025&To_Date=01-Aug-2025&Tx_CommodityHead=Chow+Chow&Tx_Commodity=167\n"
     ]
    },
    {
     "name": "stderr",
     "output_type": "stream",
     "text": [
      "/var/folders/jb/zy_516ps25g392kqdzfs61640000gn/T/ipykernel_78044/1959355148.py:16: FutureWarning: Passing literal html to 'read_html' is deprecated and will be removed in a future version. To read from a literal string, wrap it in a 'StringIO' object.\n",
      "  df = pd.read_html(table_html)[0]\n"
     ]
    },
    {
     "name": "stdout",
     "output_type": "stream",
     "text": [
      "Pulled data:  (123, 12)\n",
      "Pulling data from: https://agmarknet.gov.in/SearchCmmMkt.aspx?Tx_State=0&Tx_District=0&Tx_Market=0&Tx_Trend=2&DateFrom=01-Aug-2025&DateTo=01-Aug-2025&Fr_Date=01-Aug-2025&To_Date=01-Aug-2025&Tx_CommodityHead=Chrysanthemum&Tx_Commodity=402\n",
      "[WARN] 2025-08-01: Message: \n",
      "Stacktrace:\n",
      "0   chromedriver                        0x0000000102cb726c cxxbridge1$str$ptr + 2741972\n",
      "1   chromedriver                        0x0000000102caf1dc cxxbridge1$str$ptr + 2709060\n",
      "2   chromedriver                        0x00000001027f94fc cxxbridge1$string$len + 90520\n",
      "3   chromedriver                        0x0000000102840a14 cxxbridge1$string$len + 382640\n",
      "4   chromedriver                        0x0000000102881db8 cxxbridge1$string$len + 649812\n",
      "5   chromedriver                        0x0000000102834d30 cxxbridge1$string$len + 334284\n",
      "6   chromedriver                        0x0000000102c7a66c cxxbridge1$str$ptr + 2493140\n",
      "7   chromedriver                        0x0000000102c7d8a0 cxxbridge1$str$ptr + 2505992\n",
      "8   chromedriver                        0x0000000102c5b4a4 cxxbridge1$str$ptr + 2365708\n",
      "9   chromedriver                        0x0000000102c7e15c cxxbridge1$str$ptr + 2508228\n",
      "10  chromedriver                        0x0000000102c4c59c cxxbridge1$str$ptr + 2304516\n",
      "11  chromedriver                        0x0000000102c9dc78 cxxbridge1$str$ptr + 2638048\n",
      "12  chromedriver                        0x0000000102c9de04 cxxbridge1$str$ptr + 2638444\n",
      "13  chromedriver                        0x0000000102caee28 cxxbridge1$str$ptr + 2708112\n",
      "14  libsystem_pthread.dylib             0x00000001877a7c0c _pthread_start + 136\n",
      "15  libsystem_pthread.dylib             0x00000001877a2b80 thread_start + 8\n",
      "\n",
      "Pulling data from: https://agmarknet.gov.in/SearchCmmMkt.aspx?Tx_State=0&Tx_District=0&Tx_Market=0&Tx_Trend=2&DateFrom=01-Aug-2025&DateTo=01-Aug-2025&Fr_Date=01-Aug-2025&To_Date=01-Aug-2025&Tx_CommodityHead=Chrysanthemum%28Loose%29&Tx_Commodity=231\n"
     ]
    },
    {
     "name": "stderr",
     "output_type": "stream",
     "text": [
      "/var/folders/jb/zy_516ps25g392kqdzfs61640000gn/T/ipykernel_78044/1959355148.py:16: FutureWarning: Passing literal html to 'read_html' is deprecated and will be removed in a future version. To read from a literal string, wrap it in a 'StringIO' object.\n",
      "  df = pd.read_html(table_html)[0]\n"
     ]
    },
    {
     "name": "stdout",
     "output_type": "stream",
     "text": [
      "Pulled data:  (1, 12)\n",
      "Pulling data from: https://agmarknet.gov.in/SearchCmmMkt.aspx?Tx_State=0&Tx_District=0&Tx_Market=0&Tx_Trend=2&DateFrom=01-Aug-2025&DateTo=01-Aug-2025&Fr_Date=01-Aug-2025&To_Date=01-Aug-2025&Tx_CommodityHead=Cinamon%28Dalchini%29&Tx_Commodity=316\n"
     ]
    },
    {
     "name": "stderr",
     "output_type": "stream",
     "text": [
      "/var/folders/jb/zy_516ps25g392kqdzfs61640000gn/T/ipykernel_78044/1959355148.py:16: FutureWarning: Passing literal html to 'read_html' is deprecated and will be removed in a future version. To read from a literal string, wrap it in a 'StringIO' object.\n",
      "  df = pd.read_html(table_html)[0]\n"
     ]
    },
    {
     "name": "stdout",
     "output_type": "stream",
     "text": [
      "Pulled data:  (1, 12)\n",
      "Pulling data from: https://agmarknet.gov.in/SearchCmmMkt.aspx?Tx_State=0&Tx_District=0&Tx_Market=0&Tx_Trend=2&DateFrom=01-Aug-2025&DateTo=01-Aug-2025&Fr_Date=01-Aug-2025&To_Date=01-Aug-2025&Tx_CommodityHead=cineraria&Tx_Commodity=467\n",
      "[WARN] 2025-08-01: Message: \n",
      "Stacktrace:\n",
      "0   chromedriver                        0x0000000102cb726c cxxbridge1$str$ptr + 2741972\n",
      "1   chromedriver                        0x0000000102caf1dc cxxbridge1$str$ptr + 2709060\n",
      "2   chromedriver                        0x00000001027f94fc cxxbridge1$string$len + 90520\n",
      "3   chromedriver                        0x0000000102840a14 cxxbridge1$string$len + 382640\n",
      "4   chromedriver                        0x0000000102881db8 cxxbridge1$string$len + 649812\n",
      "5   chromedriver                        0x0000000102834d30 cxxbridge1$string$len + 334284\n",
      "6   chromedriver                        0x0000000102c7a66c cxxbridge1$str$ptr + 2493140\n",
      "7   chromedriver                        0x0000000102c7d8a0 cxxbridge1$str$ptr + 2505992\n",
      "8   chromedriver                        0x0000000102c5b4a4 cxxbridge1$str$ptr + 2365708\n",
      "9   chromedriver                        0x0000000102c7e15c cxxbridge1$str$ptr + 2508228\n",
      "10  chromedriver                        0x0000000102c4c59c cxxbridge1$str$ptr + 2304516\n",
      "11  chromedriver                        0x0000000102c9dc78 cxxbridge1$str$ptr + 2638048\n",
      "12  chromedriver                        0x0000000102c9de04 cxxbridge1$str$ptr + 2638444\n",
      "13  chromedriver                        0x0000000102caee28 cxxbridge1$str$ptr + 2708112\n",
      "14  libsystem_pthread.dylib             0x00000001877a7c0c _pthread_start + 136\n",
      "15  libsystem_pthread.dylib             0x00000001877a2b80 thread_start + 8\n",
      "\n",
      "Pulling data from: https://agmarknet.gov.in/SearchCmmMkt.aspx?Tx_State=0&Tx_District=0&Tx_Market=0&Tx_Trend=2&DateFrom=01-Aug-2025&DateTo=01-Aug-2025&Fr_Date=01-Aug-2025&To_Date=01-Aug-2025&Tx_CommodityHead=Clarkia&Tx_Commodity=478\n",
      "[WARN] 2025-08-01: Message: \n",
      "Stacktrace:\n",
      "0   chromedriver                        0x0000000102cb726c cxxbridge1$str$ptr + 2741972\n",
      "1   chromedriver                        0x0000000102caf1dc cxxbridge1$str$ptr + 2709060\n",
      "2   chromedriver                        0x00000001027f94fc cxxbridge1$string$len + 90520\n",
      "3   chromedriver                        0x0000000102840a14 cxxbridge1$string$len + 382640\n",
      "4   chromedriver                        0x0000000102881db8 cxxbridge1$string$len + 649812\n",
      "5   chromedriver                        0x0000000102834d30 cxxbridge1$string$len + 334284\n",
      "6   chromedriver                        0x0000000102c7a66c cxxbridge1$str$ptr + 2493140\n",
      "7   chromedriver                        0x0000000102c7d8a0 cxxbridge1$str$ptr + 2505992\n",
      "8   chromedriver                        0x0000000102c5b4a4 cxxbridge1$str$ptr + 2365708\n",
      "9   chromedriver                        0x0000000102c7e15c cxxbridge1$str$ptr + 2508228\n",
      "10  chromedriver                        0x0000000102c4c59c cxxbridge1$str$ptr + 2304516\n",
      "11  chromedriver                        0x0000000102c9dc78 cxxbridge1$str$ptr + 2638048\n",
      "12  chromedriver                        0x0000000102c9de04 cxxbridge1$str$ptr + 2638444\n",
      "13  chromedriver                        0x0000000102caee28 cxxbridge1$str$ptr + 2708112\n",
      "14  libsystem_pthread.dylib             0x00000001877a7c0c _pthread_start + 136\n",
      "15  libsystem_pthread.dylib             0x00000001877a2b80 thread_start + 8\n",
      "\n",
      "Pulling data from: https://agmarknet.gov.in/SearchCmmMkt.aspx?Tx_State=0&Tx_District=0&Tx_Market=0&Tx_Trend=2&DateFrom=01-Aug-2025&DateTo=01-Aug-2025&Fr_Date=01-Aug-2025&To_Date=01-Aug-2025&Tx_CommodityHead=Cloves&Tx_Commodity=105\n"
     ]
    },
    {
     "name": "stderr",
     "output_type": "stream",
     "text": [
      "/var/folders/jb/zy_516ps25g392kqdzfs61640000gn/T/ipykernel_78044/1959355148.py:16: FutureWarning: Passing literal html to 'read_html' is deprecated and will be removed in a future version. To read from a literal string, wrap it in a 'StringIO' object.\n",
      "  df = pd.read_html(table_html)[0]\n"
     ]
    },
    {
     "name": "stdout",
     "output_type": "stream",
     "text": [
      "Pulled data:  (1, 12)\n",
      "Pulling data from: https://agmarknet.gov.in/SearchCmmMkt.aspx?Tx_State=0&Tx_District=0&Tx_Market=0&Tx_Trend=2&DateFrom=01-Aug-2025&DateTo=01-Aug-2025&Fr_Date=01-Aug-2025&To_Date=01-Aug-2025&Tx_CommodityHead=Cluster+beans&Tx_Commodity=80\n"
     ]
    },
    {
     "name": "stderr",
     "output_type": "stream",
     "text": [
      "/var/folders/jb/zy_516ps25g392kqdzfs61640000gn/T/ipykernel_78044/1959355148.py:16: FutureWarning: Passing literal html to 'read_html' is deprecated and will be removed in a future version. To read from a literal string, wrap it in a 'StringIO' object.\n",
      "  df = pd.read_html(table_html)[0]\n"
     ]
    },
    {
     "name": "stdout",
     "output_type": "stream",
     "text": [
      "Pulled data:  (188, 12)\n",
      "Pulling data from: https://agmarknet.gov.in/SearchCmmMkt.aspx?Tx_State=0&Tx_District=0&Tx_Market=0&Tx_Trend=2&DateFrom=01-Aug-2025&DateTo=01-Aug-2025&Fr_Date=01-Aug-2025&To_Date=01-Aug-2025&Tx_CommodityHead=Coca&Tx_Commodity=315\n",
      "[WARN] 2025-08-01: Message: \n",
      "Stacktrace:\n",
      "0   chromedriver                        0x0000000102cb726c cxxbridge1$str$ptr + 2741972\n",
      "1   chromedriver                        0x0000000102caf1dc cxxbridge1$str$ptr + 2709060\n",
      "2   chromedriver                        0x00000001027f94fc cxxbridge1$string$len + 90520\n",
      "3   chromedriver                        0x0000000102840a14 cxxbridge1$string$len + 382640\n",
      "4   chromedriver                        0x0000000102881db8 cxxbridge1$string$len + 649812\n",
      "5   chromedriver                        0x0000000102834d30 cxxbridge1$string$len + 334284\n",
      "6   chromedriver                        0x0000000102c7a66c cxxbridge1$str$ptr + 2493140\n",
      "7   chromedriver                        0x0000000102c7d8a0 cxxbridge1$str$ptr + 2505992\n",
      "8   chromedriver                        0x0000000102c5b4a4 cxxbridge1$str$ptr + 2365708\n",
      "9   chromedriver                        0x0000000102c7e15c cxxbridge1$str$ptr + 2508228\n",
      "10  chromedriver                        0x0000000102c4c59c cxxbridge1$str$ptr + 2304516\n",
      "11  chromedriver                        0x0000000102c9dc78 cxxbridge1$str$ptr + 2638048\n",
      "12  chromedriver                        0x0000000102c9de04 cxxbridge1$str$ptr + 2638444\n",
      "13  chromedriver                        0x0000000102caee28 cxxbridge1$str$ptr + 2708112\n",
      "14  libsystem_pthread.dylib             0x00000001877a7c0c _pthread_start + 136\n",
      "15  libsystem_pthread.dylib             0x00000001877a2b80 thread_start + 8\n",
      "\n",
      "Pulling data from: https://agmarknet.gov.in/SearchCmmMkt.aspx?Tx_State=0&Tx_District=0&Tx_Market=0&Tx_Trend=2&DateFrom=01-Aug-2025&DateTo=01-Aug-2025&Fr_Date=01-Aug-2025&To_Date=01-Aug-2025&Tx_CommodityHead=Cock&Tx_Commodity=368\n"
     ]
    },
    {
     "name": "stderr",
     "output_type": "stream",
     "text": [
      "/var/folders/jb/zy_516ps25g392kqdzfs61640000gn/T/ipykernel_78044/1959355148.py:16: FutureWarning: Passing literal html to 'read_html' is deprecated and will be removed in a future version. To read from a literal string, wrap it in a 'StringIO' object.\n",
      "  df = pd.read_html(table_html)[0]\n"
     ]
    },
    {
     "name": "stdout",
     "output_type": "stream",
     "text": [
      "Pulled data:  (3, 12)\n",
      "Pulling data from: https://agmarknet.gov.in/SearchCmmMkt.aspx?Tx_State=0&Tx_District=0&Tx_Market=0&Tx_Trend=2&DateFrom=01-Aug-2025&DateTo=01-Aug-2025&Fr_Date=01-Aug-2025&To_Date=01-Aug-2025&Tx_CommodityHead=Cocoa&Tx_Commodity=104\n"
     ]
    },
    {
     "name": "stderr",
     "output_type": "stream",
     "text": [
      "/var/folders/jb/zy_516ps25g392kqdzfs61640000gn/T/ipykernel_78044/1959355148.py:16: FutureWarning: Passing literal html to 'read_html' is deprecated and will be removed in a future version. To read from a literal string, wrap it in a 'StringIO' object.\n",
      "  df = pd.read_html(table_html)[0]\n"
     ]
    },
    {
     "name": "stdout",
     "output_type": "stream",
     "text": [
      "Pulled data:  (1, 12)\n",
      "Pulling data from: https://agmarknet.gov.in/SearchCmmMkt.aspx?Tx_State=0&Tx_District=0&Tx_Market=0&Tx_Trend=2&DateFrom=01-Aug-2025&DateTo=01-Aug-2025&Fr_Date=01-Aug-2025&To_Date=01-Aug-2025&Tx_CommodityHead=Coconut&Tx_Commodity=138\n"
     ]
    },
    {
     "name": "stderr",
     "output_type": "stream",
     "text": [
      "/var/folders/jb/zy_516ps25g392kqdzfs61640000gn/T/ipykernel_78044/1959355148.py:16: FutureWarning: Passing literal html to 'read_html' is deprecated and will be removed in a future version. To read from a literal string, wrap it in a 'StringIO' object.\n",
      "  df = pd.read_html(table_html)[0]\n"
     ]
    },
    {
     "name": "stdout",
     "output_type": "stream",
     "text": [
      "Pulled data:  (193, 12)\n",
      "Pulling data from: https://agmarknet.gov.in/SearchCmmMkt.aspx?Tx_State=0&Tx_District=0&Tx_Market=0&Tx_Trend=2&DateFrom=01-Aug-2025&DateTo=01-Aug-2025&Fr_Date=01-Aug-2025&To_Date=01-Aug-2025&Tx_CommodityHead=Coconut+Oil&Tx_Commodity=266\n"
     ]
    },
    {
     "name": "stderr",
     "output_type": "stream",
     "text": [
      "/var/folders/jb/zy_516ps25g392kqdzfs61640000gn/T/ipykernel_78044/1959355148.py:16: FutureWarning: Passing literal html to 'read_html' is deprecated and will be removed in a future version. To read from a literal string, wrap it in a 'StringIO' object.\n",
      "  df = pd.read_html(table_html)[0]\n"
     ]
    },
    {
     "name": "stdout",
     "output_type": "stream",
     "text": [
      "Pulled data:  (8, 12)\n",
      "Pulling data from: https://agmarknet.gov.in/SearchCmmMkt.aspx?Tx_State=0&Tx_District=0&Tx_Market=0&Tx_Trend=2&DateFrom=01-Aug-2025&DateTo=01-Aug-2025&Fr_Date=01-Aug-2025&To_Date=01-Aug-2025&Tx_CommodityHead=Coconut+Seed&Tx_Commodity=112\n"
     ]
    },
    {
     "name": "stderr",
     "output_type": "stream",
     "text": [
      "/var/folders/jb/zy_516ps25g392kqdzfs61640000gn/T/ipykernel_78044/1959355148.py:16: FutureWarning: Passing literal html to 'read_html' is deprecated and will be removed in a future version. To read from a literal string, wrap it in a 'StringIO' object.\n",
      "  df = pd.read_html(table_html)[0]\n"
     ]
    },
    {
     "name": "stdout",
     "output_type": "stream",
     "text": [
      "Pulled data:  (12, 12)\n",
      "Pulling data from: https://agmarknet.gov.in/SearchCmmMkt.aspx?Tx_State=0&Tx_District=0&Tx_Market=0&Tx_Trend=2&DateFrom=01-Aug-2025&DateTo=01-Aug-2025&Fr_Date=01-Aug-2025&To_Date=01-Aug-2025&Tx_CommodityHead=Coffee&Tx_Commodity=45\n"
     ]
    },
    {
     "name": "stderr",
     "output_type": "stream",
     "text": [
      "/var/folders/jb/zy_516ps25g392kqdzfs61640000gn/T/ipykernel_78044/1959355148.py:16: FutureWarning: Passing literal html to 'read_html' is deprecated and will be removed in a future version. To read from a literal string, wrap it in a 'StringIO' object.\n",
      "  df = pd.read_html(table_html)[0]\n"
     ]
    },
    {
     "name": "stdout",
     "output_type": "stream",
     "text": [
      "Pulled data:  (4, 12)\n",
      "Pulling data from: https://agmarknet.gov.in/SearchCmmMkt.aspx?Tx_State=0&Tx_District=0&Tx_Market=0&Tx_Trend=2&DateFrom=01-Aug-2025&DateTo=01-Aug-2025&Fr_Date=01-Aug-2025&To_Date=01-Aug-2025&Tx_CommodityHead=Colacasia&Tx_Commodity=318\n"
     ]
    },
    {
     "name": "stderr",
     "output_type": "stream",
     "text": [
      "/var/folders/jb/zy_516ps25g392kqdzfs61640000gn/T/ipykernel_78044/1959355148.py:16: FutureWarning: Passing literal html to 'read_html' is deprecated and will be removed in a future version. To read from a literal string, wrap it in a 'StringIO' object.\n",
      "  df = pd.read_html(table_html)[0]\n"
     ]
    },
    {
     "name": "stdout",
     "output_type": "stream",
     "text": [
      "Pulled data:  (167, 12)\n",
      "Pulling data from: https://agmarknet.gov.in/SearchCmmMkt.aspx?Tx_State=0&Tx_District=0&Tx_Market=0&Tx_Trend=2&DateFrom=01-Aug-2025&DateTo=01-Aug-2025&Fr_Date=01-Aug-2025&To_Date=01-Aug-2025&Tx_CommodityHead=Copra&Tx_Commodity=129\n"
     ]
    },
    {
     "name": "stderr",
     "output_type": "stream",
     "text": [
      "/var/folders/jb/zy_516ps25g392kqdzfs61640000gn/T/ipykernel_78044/1959355148.py:16: FutureWarning: Passing literal html to 'read_html' is deprecated and will be removed in a future version. To read from a literal string, wrap it in a 'StringIO' object.\n",
      "  df = pd.read_html(table_html)[0]\n"
     ]
    },
    {
     "name": "stdout",
     "output_type": "stream",
     "text": [
      "Pulled data:  (11, 12)\n",
      "Pulling data from: https://agmarknet.gov.in/SearchCmmMkt.aspx?Tx_State=0&Tx_District=0&Tx_Market=0&Tx_Trend=2&DateFrom=01-Aug-2025&DateTo=01-Aug-2025&Fr_Date=01-Aug-2025&To_Date=01-Aug-2025&Tx_CommodityHead=Coriander%28Leaves%29&Tx_Commodity=43\n"
     ]
    },
    {
     "name": "stderr",
     "output_type": "stream",
     "text": [
      "/var/folders/jb/zy_516ps25g392kqdzfs61640000gn/T/ipykernel_78044/1959355148.py:16: FutureWarning: Passing literal html to 'read_html' is deprecated and will be removed in a future version. To read from a literal string, wrap it in a 'StringIO' object.\n",
      "  df = pd.read_html(table_html)[0]\n"
     ]
    },
    {
     "name": "stdout",
     "output_type": "stream",
     "text": [
      "Pulled data:  (247, 12)\n",
      "Pulling data from: https://agmarknet.gov.in/SearchCmmMkt.aspx?Tx_State=0&Tx_District=0&Tx_Market=0&Tx_Trend=2&DateFrom=01-Aug-2025&DateTo=01-Aug-2025&Fr_Date=01-Aug-2025&To_Date=01-Aug-2025&Tx_CommodityHead=Corriander+seed&Tx_Commodity=108\n"
     ]
    },
    {
     "name": "stderr",
     "output_type": "stream",
     "text": [
      "/var/folders/jb/zy_516ps25g392kqdzfs61640000gn/T/ipykernel_78044/1959355148.py:16: FutureWarning: Passing literal html to 'read_html' is deprecated and will be removed in a future version. To read from a literal string, wrap it in a 'StringIO' object.\n",
      "  df = pd.read_html(table_html)[0]\n"
     ]
    },
    {
     "name": "stdout",
     "output_type": "stream",
     "text": [
      "Pulled data:  (29, 12)\n",
      "Pulling data from: https://agmarknet.gov.in/SearchCmmMkt.aspx?Tx_State=0&Tx_District=0&Tx_Market=0&Tx_Trend=2&DateFrom=01-Aug-2025&DateTo=01-Aug-2025&Fr_Date=01-Aug-2025&To_Date=01-Aug-2025&Tx_CommodityHead=Cossandra&Tx_Commodity=472\n",
      "[WARN] 2025-08-01: Message: \n",
      "Stacktrace:\n",
      "0   chromedriver                        0x000000010282726c cxxbridge1$str$ptr + 2741972\n",
      "1   chromedriver                        0x000000010281f1dc cxxbridge1$str$ptr + 2709060\n",
      "2   chromedriver                        0x00000001023694fc cxxbridge1$string$len + 90520\n",
      "3   chromedriver                        0x00000001023b0a14 cxxbridge1$string$len + 382640\n",
      "4   chromedriver                        0x00000001023f1db8 cxxbridge1$string$len + 649812\n",
      "5   chromedriver                        0x00000001023a4d30 cxxbridge1$string$len + 334284\n",
      "6   chromedriver                        0x00000001027ea66c cxxbridge1$str$ptr + 2493140\n",
      "7   chromedriver                        0x00000001027ed8a0 cxxbridge1$str$ptr + 2505992\n",
      "8   chromedriver                        0x00000001027cb4a4 cxxbridge1$str$ptr + 2365708\n",
      "9   chromedriver                        0x00000001027ee15c cxxbridge1$str$ptr + 2508228\n",
      "10  chromedriver                        0x00000001027bc59c cxxbridge1$str$ptr + 2304516\n",
      "11  chromedriver                        0x000000010280dc78 cxxbridge1$str$ptr + 2638048\n",
      "12  chromedriver                        0x000000010280de04 cxxbridge1$str$ptr + 2638444\n",
      "13  chromedriver                        0x000000010281ee28 cxxbridge1$str$ptr + 2708112\n",
      "14  libsystem_pthread.dylib             0x00000001877a7c0c _pthread_start + 136\n",
      "15  libsystem_pthread.dylib             0x00000001877a2b80 thread_start + 8\n",
      "\n",
      "Pulling data from: https://agmarknet.gov.in/SearchCmmMkt.aspx?Tx_State=0&Tx_District=0&Tx_Market=0&Tx_Trend=2&DateFrom=01-Aug-2025&DateTo=01-Aug-2025&Fr_Date=01-Aug-2025&To_Date=01-Aug-2025&Tx_CommodityHead=Cotton&Tx_Commodity=15\n"
     ]
    },
    {
     "name": "stderr",
     "output_type": "stream",
     "text": [
      "/var/folders/jb/zy_516ps25g392kqdzfs61640000gn/T/ipykernel_78044/1959355148.py:16: FutureWarning: Passing literal html to 'read_html' is deprecated and will be removed in a future version. To read from a literal string, wrap it in a 'StringIO' object.\n",
      "  df = pd.read_html(table_html)[0]\n"
     ]
    },
    {
     "name": "stdout",
     "output_type": "stream",
     "text": [
      "Pulled data:  (24, 12)\n",
      "Pulling data from: https://agmarknet.gov.in/SearchCmmMkt.aspx?Tx_State=0&Tx_District=0&Tx_Market=0&Tx_Trend=2&DateFrom=01-Aug-2025&DateTo=01-Aug-2025&Fr_Date=01-Aug-2025&To_Date=01-Aug-2025&Tx_CommodityHead=Cotton+Seed&Tx_Commodity=99\n",
      "[WARN] 2025-08-01: Message: \n",
      "Stacktrace:\n",
      "0   chromedriver                        0x000000010282726c cxxbridge1$str$ptr + 2741972\n",
      "1   chromedriver                        0x000000010281f1dc cxxbridge1$str$ptr + 2709060\n",
      "2   chromedriver                        0x00000001023694fc cxxbridge1$string$len + 90520\n",
      "3   chromedriver                        0x00000001023b0a14 cxxbridge1$string$len + 382640\n",
      "4   chromedriver                        0x00000001023f1db8 cxxbridge1$string$len + 649812\n",
      "5   chromedriver                        0x00000001023a4d30 cxxbridge1$string$len + 334284\n",
      "6   chromedriver                        0x00000001027ea66c cxxbridge1$str$ptr + 2493140\n",
      "7   chromedriver                        0x00000001027ed8a0 cxxbridge1$str$ptr + 2505992\n",
      "8   chromedriver                        0x00000001027cb4a4 cxxbridge1$str$ptr + 2365708\n",
      "9   chromedriver                        0x00000001027ee15c cxxbridge1$str$ptr + 2508228\n",
      "10  chromedriver                        0x00000001027bc59c cxxbridge1$str$ptr + 2304516\n",
      "11  chromedriver                        0x000000010280dc78 cxxbridge1$str$ptr + 2638048\n",
      "12  chromedriver                        0x000000010280de04 cxxbridge1$str$ptr + 2638444\n",
      "13  chromedriver                        0x000000010281ee28 cxxbridge1$str$ptr + 2708112\n",
      "14  libsystem_pthread.dylib             0x00000001877a7c0c _pthread_start + 136\n",
      "15  libsystem_pthread.dylib             0x00000001877a2b80 thread_start + 8\n",
      "\n",
      "Pulling data from: https://agmarknet.gov.in/SearchCmmMkt.aspx?Tx_State=0&Tx_District=0&Tx_Market=0&Tx_Trend=2&DateFrom=01-Aug-2025&DateTo=01-Aug-2025&Fr_Date=01-Aug-2025&To_Date=01-Aug-2025&Tx_CommodityHead=Cow&Tx_Commodity=212\n"
     ]
    },
    {
     "name": "stderr",
     "output_type": "stream",
     "text": [
      "/var/folders/jb/zy_516ps25g392kqdzfs61640000gn/T/ipykernel_78044/1959355148.py:16: FutureWarning: Passing literal html to 'read_html' is deprecated and will be removed in a future version. To read from a literal string, wrap it in a 'StringIO' object.\n",
      "  df = pd.read_html(table_html)[0]\n"
     ]
    },
    {
     "name": "stdout",
     "output_type": "stream",
     "text": [
      "Pulled data:  (1, 12)\n",
      "Pulling data from: https://agmarknet.gov.in/SearchCmmMkt.aspx?Tx_State=0&Tx_District=0&Tx_Market=0&Tx_Trend=2&DateFrom=01-Aug-2025&DateTo=01-Aug-2025&Fr_Date=01-Aug-2025&To_Date=01-Aug-2025&Tx_CommodityHead=Cowpea+%28Lobia%2FKaramani%29&Tx_Commodity=92\n"
     ]
    },
    {
     "name": "stderr",
     "output_type": "stream",
     "text": [
      "/var/folders/jb/zy_516ps25g392kqdzfs61640000gn/T/ipykernel_78044/1959355148.py:16: FutureWarning: Passing literal html to 'read_html' is deprecated and will be removed in a future version. To read from a literal string, wrap it in a 'StringIO' object.\n",
      "  df = pd.read_html(table_html)[0]\n"
     ]
    },
    {
     "name": "stdout",
     "output_type": "stream",
     "text": [
      "Pulled data:  (4, 12)\n",
      "Pulling data from: https://agmarknet.gov.in/SearchCmmMkt.aspx?Tx_State=0&Tx_District=0&Tx_Market=0&Tx_Trend=2&DateFrom=01-Aug-2025&DateTo=01-Aug-2025&Fr_Date=01-Aug-2025&To_Date=01-Aug-2025&Tx_CommodityHead=Cowpea%28Veg%29&Tx_Commodity=89\n"
     ]
    },
    {
     "name": "stderr",
     "output_type": "stream",
     "text": [
      "/var/folders/jb/zy_516ps25g392kqdzfs61640000gn/T/ipykernel_78044/1959355148.py:16: FutureWarning: Passing literal html to 'read_html' is deprecated and will be removed in a future version. To read from a literal string, wrap it in a 'StringIO' object.\n",
      "  df = pd.read_html(table_html)[0]\n"
     ]
    },
    {
     "name": "stdout",
     "output_type": "stream",
     "text": [
      "Pulled data:  (139, 12)\n",
      "Pulling data from: https://agmarknet.gov.in/SearchCmmMkt.aspx?Tx_State=0&Tx_District=0&Tx_Market=0&Tx_Trend=2&DateFrom=01-Aug-2025&DateTo=01-Aug-2025&Fr_Date=01-Aug-2025&To_Date=01-Aug-2025&Tx_CommodityHead=Cucumbar%28Kheera%29&Tx_Commodity=159\n"
     ]
    },
    {
     "name": "stderr",
     "output_type": "stream",
     "text": [
      "/var/folders/jb/zy_516ps25g392kqdzfs61640000gn/T/ipykernel_78044/1959355148.py:16: FutureWarning: Passing literal html to 'read_html' is deprecated and will be removed in a future version. To read from a literal string, wrap it in a 'StringIO' object.\n",
      "  df = pd.read_html(table_html)[0]\n"
     ]
    },
    {
     "name": "stdout",
     "output_type": "stream",
     "text": [
      "Pulled data:  (431, 12)\n",
      "Pulling data from: https://agmarknet.gov.in/SearchCmmMkt.aspx?Tx_State=0&Tx_District=0&Tx_Market=0&Tx_Trend=2&DateFrom=01-Aug-2025&DateTo=01-Aug-2025&Fr_Date=01-Aug-2025&To_Date=01-Aug-2025&Tx_CommodityHead=Cummin+Seed%28Jeera%29&Tx_Commodity=42\n"
     ]
    },
    {
     "name": "stderr",
     "output_type": "stream",
     "text": [
      "/var/folders/jb/zy_516ps25g392kqdzfs61640000gn/T/ipykernel_78044/1959355148.py:16: FutureWarning: Passing literal html to 'read_html' is deprecated and will be removed in a future version. To read from a literal string, wrap it in a 'StringIO' object.\n",
      "  df = pd.read_html(table_html)[0]\n"
     ]
    },
    {
     "name": "stdout",
     "output_type": "stream",
     "text": [
      "Pulled data:  (37, 12)\n",
      "Pulling data from: https://agmarknet.gov.in/SearchCmmMkt.aspx?Tx_State=0&Tx_District=0&Tx_Market=0&Tx_Trend=2&DateFrom=01-Aug-2025&DateTo=01-Aug-2025&Fr_Date=01-Aug-2025&To_Date=01-Aug-2025&Tx_CommodityHead=Curry+Leaf&Tx_Commodity=486\n",
      "[WARN] 2025-08-01: Message: \n",
      "Stacktrace:\n",
      "0   chromedriver                        0x0000000104b0f26c cxxbridge1$str$ptr + 2741972\n",
      "1   chromedriver                        0x0000000104b071dc cxxbridge1$str$ptr + 2709060\n",
      "2   chromedriver                        0x00000001046514fc cxxbridge1$string$len + 90520\n",
      "3   chromedriver                        0x0000000104698a14 cxxbridge1$string$len + 382640\n",
      "4   chromedriver                        0x00000001046d9db8 cxxbridge1$string$len + 649812\n",
      "5   chromedriver                        0x000000010468cd30 cxxbridge1$string$len + 334284\n",
      "6   chromedriver                        0x0000000104ad266c cxxbridge1$str$ptr + 2493140\n",
      "7   chromedriver                        0x0000000104ad58a0 cxxbridge1$str$ptr + 2505992\n",
      "8   chromedriver                        0x0000000104ab34a4 cxxbridge1$str$ptr + 2365708\n",
      "9   chromedriver                        0x0000000104ad615c cxxbridge1$str$ptr + 2508228\n",
      "10  chromedriver                        0x0000000104aa459c cxxbridge1$str$ptr + 2304516\n",
      "11  chromedriver                        0x0000000104af5c78 cxxbridge1$str$ptr + 2638048\n",
      "12  chromedriver                        0x0000000104af5e04 cxxbridge1$str$ptr + 2638444\n",
      "13  chromedriver                        0x0000000104b06e28 cxxbridge1$str$ptr + 2708112\n",
      "14  libsystem_pthread.dylib             0x00000001877a7c0c _pthread_start + 136\n",
      "15  libsystem_pthread.dylib             0x00000001877a2b80 thread_start + 8\n",
      "\n",
      "Pulling data from: https://agmarknet.gov.in/SearchCmmMkt.aspx?Tx_State=0&Tx_District=0&Tx_Market=0&Tx_Trend=2&DateFrom=01-Aug-2025&DateTo=01-Aug-2025&Fr_Date=01-Aug-2025&To_Date=01-Aug-2025&Tx_CommodityHead=Custard+Apple+%28Sharifa%29&Tx_Commodity=352\n"
     ]
    },
    {
     "name": "stderr",
     "output_type": "stream",
     "text": [
      "/var/folders/jb/zy_516ps25g392kqdzfs61640000gn/T/ipykernel_78044/1959355148.py:16: FutureWarning: Passing literal html to 'read_html' is deprecated and will be removed in a future version. To read from a literal string, wrap it in a 'StringIO' object.\n",
      "  df = pd.read_html(table_html)[0]\n"
     ]
    },
    {
     "name": "stdout",
     "output_type": "stream",
     "text": [
      "Pulled data:  (31, 12)\n",
      "Pulling data from: https://agmarknet.gov.in/SearchCmmMkt.aspx?Tx_State=0&Tx_District=0&Tx_Market=0&Tx_Trend=2&DateFrom=01-Aug-2025&DateTo=01-Aug-2025&Fr_Date=01-Aug-2025&To_Date=01-Aug-2025&Tx_CommodityHead=Daila%28Chandni%29&Tx_Commodity=382\n",
      "[WARN] 2025-08-01: Message: \n",
      "Stacktrace:\n",
      "0   chromedriver                        0x0000000104b0f26c cxxbridge1$str$ptr + 2741972\n",
      "1   chromedriver                        0x0000000104b071dc cxxbridge1$str$ptr + 2709060\n",
      "2   chromedriver                        0x00000001046514fc cxxbridge1$string$len + 90520\n",
      "3   chromedriver                        0x0000000104698a14 cxxbridge1$string$len + 382640\n",
      "4   chromedriver                        0x00000001046d9db8 cxxbridge1$string$len + 649812\n",
      "5   chromedriver                        0x000000010468cd30 cxxbridge1$string$len + 334284\n",
      "6   chromedriver                        0x0000000104ad266c cxxbridge1$str$ptr + 2493140\n",
      "7   chromedriver                        0x0000000104ad58a0 cxxbridge1$str$ptr + 2505992\n",
      "8   chromedriver                        0x0000000104ab34a4 cxxbridge1$str$ptr + 2365708\n",
      "9   chromedriver                        0x0000000104ad615c cxxbridge1$str$ptr + 2508228\n",
      "10  chromedriver                        0x0000000104aa459c cxxbridge1$str$ptr + 2304516\n",
      "11  chromedriver                        0x0000000104af5c78 cxxbridge1$str$ptr + 2638048\n",
      "12  chromedriver                        0x0000000104af5e04 cxxbridge1$str$ptr + 2638444\n",
      "13  chromedriver                        0x0000000104b06e28 cxxbridge1$str$ptr + 2708112\n",
      "14  libsystem_pthread.dylib             0x00000001877a7c0c _pthread_start + 136\n",
      "15  libsystem_pthread.dylib             0x00000001877a2b80 thread_start + 8\n",
      "\n",
      "Pulling data from: https://agmarknet.gov.in/SearchCmmMkt.aspx?Tx_State=0&Tx_District=0&Tx_Market=0&Tx_Trend=2&DateFrom=01-Aug-2025&DateTo=01-Aug-2025&Fr_Date=01-Aug-2025&To_Date=01-Aug-2025&Tx_CommodityHead=Dal+%28Avare%29&Tx_Commodity=91\n",
      "[WARN] 2025-08-01: Message: \n",
      "Stacktrace:\n",
      "0   chromedriver                        0x0000000104b0f26c cxxbridge1$str$ptr + 2741972\n",
      "1   chromedriver                        0x0000000104b071dc cxxbridge1$str$ptr + 2709060\n",
      "2   chromedriver                        0x00000001046514fc cxxbridge1$string$len + 90520\n",
      "3   chromedriver                        0x0000000104698a14 cxxbridge1$string$len + 382640\n",
      "4   chromedriver                        0x00000001046d9db8 cxxbridge1$string$len + 649812\n",
      "5   chromedriver                        0x000000010468cd30 cxxbridge1$string$len + 334284\n",
      "6   chromedriver                        0x0000000104ad266c cxxbridge1$str$ptr + 2493140\n",
      "7   chromedriver                        0x0000000104ad58a0 cxxbridge1$str$ptr + 2505992\n",
      "8   chromedriver                        0x0000000104ab34a4 cxxbridge1$str$ptr + 2365708\n",
      "9   chromedriver                        0x0000000104ad615c cxxbridge1$str$ptr + 2508228\n",
      "10  chromedriver                        0x0000000104aa459c cxxbridge1$str$ptr + 2304516\n",
      "11  chromedriver                        0x0000000104af5c78 cxxbridge1$str$ptr + 2638048\n",
      "12  chromedriver                        0x0000000104af5e04 cxxbridge1$str$ptr + 2638444\n",
      "13  chromedriver                        0x0000000104b06e28 cxxbridge1$str$ptr + 2708112\n",
      "14  libsystem_pthread.dylib             0x00000001877a7c0c _pthread_start + 136\n",
      "15  libsystem_pthread.dylib             0x00000001877a2b80 thread_start + 8\n",
      "\n",
      "Pulling data from: https://agmarknet.gov.in/SearchCmmMkt.aspx?Tx_State=0&Tx_District=0&Tx_Market=0&Tx_Trend=2&DateFrom=01-Aug-2025&DateTo=01-Aug-2025&Fr_Date=01-Aug-2025&To_Date=01-Aug-2025&Tx_CommodityHead=Dalda&Tx_Commodity=273\n",
      "[WARN] 2025-08-01: Message: \n",
      "Stacktrace:\n",
      "0   chromedriver                        0x0000000104b0f26c cxxbridge1$str$ptr + 2741972\n",
      "1   chromedriver                        0x0000000104b071dc cxxbridge1$str$ptr + 2709060\n",
      "2   chromedriver                        0x00000001046514fc cxxbridge1$string$len + 90520\n",
      "3   chromedriver                        0x0000000104698a14 cxxbridge1$string$len + 382640\n",
      "4   chromedriver                        0x00000001046d9db8 cxxbridge1$string$len + 649812\n",
      "5   chromedriver                        0x000000010468cd30 cxxbridge1$string$len + 334284\n",
      "6   chromedriver                        0x0000000104ad266c cxxbridge1$str$ptr + 2493140\n",
      "7   chromedriver                        0x0000000104ad58a0 cxxbridge1$str$ptr + 2505992\n",
      "8   chromedriver                        0x0000000104ab34a4 cxxbridge1$str$ptr + 2365708\n",
      "9   chromedriver                        0x0000000104ad615c cxxbridge1$str$ptr + 2508228\n",
      "10  chromedriver                        0x0000000104aa459c cxxbridge1$str$ptr + 2304516\n",
      "11  chromedriver                        0x0000000104af5c78 cxxbridge1$str$ptr + 2638048\n",
      "12  chromedriver                        0x0000000104af5e04 cxxbridge1$str$ptr + 2638444\n",
      "13  chromedriver                        0x0000000104b06e28 cxxbridge1$str$ptr + 2708112\n",
      "14  libsystem_pthread.dylib             0x00000001877a7c0c _pthread_start + 136\n",
      "15  libsystem_pthread.dylib             0x00000001877a2b80 thread_start + 8\n",
      "\n",
      "Pulling data from: https://agmarknet.gov.in/SearchCmmMkt.aspx?Tx_State=0&Tx_District=0&Tx_Market=0&Tx_Trend=2&DateFrom=01-Aug-2025&DateTo=01-Aug-2025&Fr_Date=01-Aug-2025&To_Date=01-Aug-2025&Tx_CommodityHead=Delha&Tx_Commodity=410\n",
      "[WARN] 2025-08-01: Message: \n",
      "Stacktrace:\n",
      "0   chromedriver                        0x0000000104b0f26c cxxbridge1$str$ptr + 2741972\n",
      "1   chromedriver                        0x0000000104b071dc cxxbridge1$str$ptr + 2709060\n",
      "2   chromedriver                        0x00000001046514fc cxxbridge1$string$len + 90520\n",
      "3   chromedriver                        0x0000000104698a14 cxxbridge1$string$len + 382640\n",
      "4   chromedriver                        0x00000001046d9db8 cxxbridge1$string$len + 649812\n",
      "5   chromedriver                        0x000000010468cd30 cxxbridge1$string$len + 334284\n",
      "6   chromedriver                        0x0000000104ad266c cxxbridge1$str$ptr + 2493140\n",
      "7   chromedriver                        0x0000000104ad58a0 cxxbridge1$str$ptr + 2505992\n",
      "8   chromedriver                        0x0000000104ab34a4 cxxbridge1$str$ptr + 2365708\n",
      "9   chromedriver                        0x0000000104ad615c cxxbridge1$str$ptr + 2508228\n",
      "10  chromedriver                        0x0000000104aa459c cxxbridge1$str$ptr + 2304516\n",
      "11  chromedriver                        0x0000000104af5c78 cxxbridge1$str$ptr + 2638048\n",
      "12  chromedriver                        0x0000000104af5e04 cxxbridge1$str$ptr + 2638444\n",
      "13  chromedriver                        0x0000000104b06e28 cxxbridge1$str$ptr + 2708112\n",
      "14  libsystem_pthread.dylib             0x00000001877a7c0c _pthread_start + 136\n",
      "15  libsystem_pthread.dylib             0x00000001877a2b80 thread_start + 8\n",
      "\n",
      "Pulling data from: https://agmarknet.gov.in/SearchCmmMkt.aspx?Tx_State=0&Tx_District=0&Tx_Market=0&Tx_Trend=2&DateFrom=01-Aug-2025&DateTo=01-Aug-2025&Fr_Date=01-Aug-2025&To_Date=01-Aug-2025&Tx_CommodityHead=Dhaincha&Tx_Commodity=69\n"
     ]
    },
    {
     "name": "stderr",
     "output_type": "stream",
     "text": [
      "/var/folders/jb/zy_516ps25g392kqdzfs61640000gn/T/ipykernel_78044/1959355148.py:16: FutureWarning: Passing literal html to 'read_html' is deprecated and will be removed in a future version. To read from a literal string, wrap it in a 'StringIO' object.\n",
      "  df = pd.read_html(table_html)[0]\n"
     ]
    },
    {
     "name": "stdout",
     "output_type": "stream",
     "text": [
      "Pulled data:  (1, 12)\n",
      "Pulling data from: https://agmarknet.gov.in/SearchCmmMkt.aspx?Tx_State=0&Tx_District=0&Tx_Market=0&Tx_Trend=2&DateFrom=01-Aug-2025&DateTo=01-Aug-2025&Fr_Date=01-Aug-2025&To_Date=01-Aug-2025&Tx_CommodityHead=dhawai+flowers&Tx_Commodity=442\n",
      "[WARN] 2025-08-01: Message: \n",
      "Stacktrace:\n",
      "0   chromedriver                        0x0000000104b0f26c cxxbridge1$str$ptr + 2741972\n",
      "1   chromedriver                        0x0000000104b071dc cxxbridge1$str$ptr + 2709060\n",
      "2   chromedriver                        0x00000001046514fc cxxbridge1$string$len + 90520\n",
      "3   chromedriver                        0x0000000104698a14 cxxbridge1$string$len + 382640\n",
      "4   chromedriver                        0x00000001046d9db8 cxxbridge1$string$len + 649812\n",
      "5   chromedriver                        0x000000010468cd30 cxxbridge1$string$len + 334284\n",
      "6   chromedriver                        0x0000000104ad266c cxxbridge1$str$ptr + 2493140\n",
      "7   chromedriver                        0x0000000104ad58a0 cxxbridge1$str$ptr + 2505992\n",
      "8   chromedriver                        0x0000000104ab34a4 cxxbridge1$str$ptr + 2365708\n",
      "9   chromedriver                        0x0000000104ad615c cxxbridge1$str$ptr + 2508228\n",
      "10  chromedriver                        0x0000000104aa459c cxxbridge1$str$ptr + 2304516\n",
      "11  chromedriver                        0x0000000104af5c78 cxxbridge1$str$ptr + 2638048\n",
      "12  chromedriver                        0x0000000104af5e04 cxxbridge1$str$ptr + 2638444\n",
      "13  chromedriver                        0x0000000104b06e28 cxxbridge1$str$ptr + 2708112\n",
      "14  libsystem_pthread.dylib             0x00000001877a7c0c _pthread_start + 136\n",
      "15  libsystem_pthread.dylib             0x00000001877a2b80 thread_start + 8\n",
      "\n",
      "Pulling data from: https://agmarknet.gov.in/SearchCmmMkt.aspx?Tx_State=0&Tx_District=0&Tx_Market=0&Tx_Trend=2&DateFrom=01-Aug-2025&DateTo=01-Aug-2025&Fr_Date=01-Aug-2025&To_Date=01-Aug-2025&Tx_CommodityHead=dianthus&Tx_Commodity=476\n",
      "[WARN] 2025-08-01: Message: \n",
      "Stacktrace:\n",
      "0   chromedriver                        0x0000000104b0f26c cxxbridge1$str$ptr + 2741972\n",
      "1   chromedriver                        0x0000000104b071dc cxxbridge1$str$ptr + 2709060\n",
      "2   chromedriver                        0x00000001046514fc cxxbridge1$string$len + 90520\n",
      "3   chromedriver                        0x0000000104698a14 cxxbridge1$string$len + 382640\n",
      "4   chromedriver                        0x00000001046d9db8 cxxbridge1$string$len + 649812\n",
      "5   chromedriver                        0x000000010468cd30 cxxbridge1$string$len + 334284\n",
      "6   chromedriver                        0x0000000104ad266c cxxbridge1$str$ptr + 2493140\n",
      "7   chromedriver                        0x0000000104ad58a0 cxxbridge1$str$ptr + 2505992\n",
      "8   chromedriver                        0x0000000104ab34a4 cxxbridge1$str$ptr + 2365708\n",
      "9   chromedriver                        0x0000000104ad615c cxxbridge1$str$ptr + 2508228\n",
      "10  chromedriver                        0x0000000104aa459c cxxbridge1$str$ptr + 2304516\n",
      "11  chromedriver                        0x0000000104af5c78 cxxbridge1$str$ptr + 2638048\n",
      "12  chromedriver                        0x0000000104af5e04 cxxbridge1$str$ptr + 2638444\n",
      "13  chromedriver                        0x0000000104b06e28 cxxbridge1$str$ptr + 2708112\n",
      "14  libsystem_pthread.dylib             0x00000001877a7c0c _pthread_start + 136\n",
      "15  libsystem_pthread.dylib             0x00000001877a2b80 thread_start + 8\n",
      "\n",
      "Pulling data from: https://agmarknet.gov.in/SearchCmmMkt.aspx?Tx_State=0&Tx_District=0&Tx_Market=0&Tx_Trend=2&DateFrom=01-Aug-2025&DateTo=01-Aug-2025&Fr_Date=01-Aug-2025&To_Date=01-Aug-2025&Tx_CommodityHead=Double+Beans&Tx_Commodity=492\n",
      "[WARN] 2025-08-01: Message: \n",
      "Stacktrace:\n",
      "0   chromedriver                        0x0000000104b0f26c cxxbridge1$str$ptr + 2741972\n",
      "1   chromedriver                        0x0000000104b071dc cxxbridge1$str$ptr + 2709060\n",
      "2   chromedriver                        0x00000001046514fc cxxbridge1$string$len + 90520\n",
      "3   chromedriver                        0x0000000104698a14 cxxbridge1$string$len + 382640\n",
      "4   chromedriver                        0x00000001046d9db8 cxxbridge1$string$len + 649812\n",
      "5   chromedriver                        0x000000010468cd30 cxxbridge1$string$len + 334284\n",
      "6   chromedriver                        0x0000000104ad266c cxxbridge1$str$ptr + 2493140\n",
      "7   chromedriver                        0x0000000104ad58a0 cxxbridge1$str$ptr + 2505992\n",
      "8   chromedriver                        0x0000000104ab34a4 cxxbridge1$str$ptr + 2365708\n",
      "9   chromedriver                        0x0000000104ad615c cxxbridge1$str$ptr + 2508228\n",
      "10  chromedriver                        0x0000000104aa459c cxxbridge1$str$ptr + 2304516\n",
      "11  chromedriver                        0x0000000104af5c78 cxxbridge1$str$ptr + 2638048\n",
      "12  chromedriver                        0x0000000104af5e04 cxxbridge1$str$ptr + 2638444\n",
      "13  chromedriver                        0x0000000104b06e28 cxxbridge1$str$ptr + 2708112\n",
      "14  libsystem_pthread.dylib             0x00000001877a7c0c _pthread_start + 136\n",
      "15  libsystem_pthread.dylib             0x00000001877a2b80 thread_start + 8\n",
      "\n",
      "Pulling data from: https://agmarknet.gov.in/SearchCmmMkt.aspx?Tx_State=0&Tx_District=0&Tx_Market=0&Tx_Trend=2&DateFrom=01-Aug-2025&DateTo=01-Aug-2025&Fr_Date=01-Aug-2025&To_Date=01-Aug-2025&Tx_CommodityHead=Dragon+fruit&Tx_Commodity=495\n",
      "[WARN] 2025-08-01: Message: \n",
      "Stacktrace:\n",
      "0   chromedriver                        0x0000000104b0f26c cxxbridge1$str$ptr + 2741972\n",
      "1   chromedriver                        0x0000000104b071dc cxxbridge1$str$ptr + 2709060\n",
      "2   chromedriver                        0x00000001046514fc cxxbridge1$string$len + 90520\n",
      "3   chromedriver                        0x0000000104698a14 cxxbridge1$string$len + 382640\n",
      "4   chromedriver                        0x00000001046d9db8 cxxbridge1$string$len + 649812\n",
      "5   chromedriver                        0x000000010468cd30 cxxbridge1$string$len + 334284\n",
      "6   chromedriver                        0x0000000104ad266c cxxbridge1$str$ptr + 2493140\n",
      "7   chromedriver                        0x0000000104ad58a0 cxxbridge1$str$ptr + 2505992\n",
      "8   chromedriver                        0x0000000104ab34a4 cxxbridge1$str$ptr + 2365708\n",
      "9   chromedriver                        0x0000000104ad615c cxxbridge1$str$ptr + 2508228\n",
      "10  chromedriver                        0x0000000104aa459c cxxbridge1$str$ptr + 2304516\n",
      "11  chromedriver                        0x0000000104af5c78 cxxbridge1$str$ptr + 2638048\n",
      "12  chromedriver                        0x0000000104af5e04 cxxbridge1$str$ptr + 2638444\n",
      "13  chromedriver                        0x0000000104b06e28 cxxbridge1$str$ptr + 2708112\n",
      "14  libsystem_pthread.dylib             0x00000001877a7c0c _pthread_start + 136\n",
      "15  libsystem_pthread.dylib             0x00000001877a2b80 thread_start + 8\n",
      "\n",
      "Pulling data from: https://agmarknet.gov.in/SearchCmmMkt.aspx?Tx_State=0&Tx_District=0&Tx_Market=0&Tx_Trend=2&DateFrom=01-Aug-2025&DateTo=01-Aug-2025&Fr_Date=01-Aug-2025&To_Date=01-Aug-2025&Tx_CommodityHead=dried+mango&Tx_Commodity=423\n",
      "[WARN] 2025-08-01: Message: \n",
      "Stacktrace:\n",
      "0   chromedriver                        0x0000000104b0f26c cxxbridge1$str$ptr + 2741972\n",
      "1   chromedriver                        0x0000000104b071dc cxxbridge1$str$ptr + 2709060\n",
      "2   chromedriver                        0x00000001046514fc cxxbridge1$string$len + 90520\n",
      "3   chromedriver                        0x0000000104698a14 cxxbridge1$string$len + 382640\n",
      "4   chromedriver                        0x00000001046d9db8 cxxbridge1$string$len + 649812\n",
      "5   chromedriver                        0x000000010468cd30 cxxbridge1$string$len + 334284\n",
      "6   chromedriver                        0x0000000104ad266c cxxbridge1$str$ptr + 2493140\n",
      "7   chromedriver                        0x0000000104ad58a0 cxxbridge1$str$ptr + 2505992\n",
      "8   chromedriver                        0x0000000104ab34a4 cxxbridge1$str$ptr + 2365708\n",
      "9   chromedriver                        0x0000000104ad615c cxxbridge1$str$ptr + 2508228\n",
      "10  chromedriver                        0x0000000104aa459c cxxbridge1$str$ptr + 2304516\n",
      "11  chromedriver                        0x0000000104af5c78 cxxbridge1$str$ptr + 2638048\n",
      "12  chromedriver                        0x0000000104af5e04 cxxbridge1$str$ptr + 2638444\n",
      "13  chromedriver                        0x0000000104b06e28 cxxbridge1$str$ptr + 2708112\n",
      "14  libsystem_pthread.dylib             0x00000001877a7c0c _pthread_start + 136\n",
      "15  libsystem_pthread.dylib             0x00000001877a2b80 thread_start + 8\n",
      "\n",
      "Pulling data from: https://agmarknet.gov.in/SearchCmmMkt.aspx?Tx_State=0&Tx_District=0&Tx_Market=0&Tx_Trend=2&DateFrom=01-Aug-2025&DateTo=01-Aug-2025&Fr_Date=01-Aug-2025&To_Date=01-Aug-2025&Tx_CommodityHead=Drumstick&Tx_Commodity=168\n"
     ]
    },
    {
     "name": "stderr",
     "output_type": "stream",
     "text": [
      "/var/folders/jb/zy_516ps25g392kqdzfs61640000gn/T/ipykernel_78044/1959355148.py:16: FutureWarning: Passing literal html to 'read_html' is deprecated and will be removed in a future version. To read from a literal string, wrap it in a 'StringIO' object.\n",
      "  df = pd.read_html(table_html)[0]\n"
     ]
    },
    {
     "name": "stdout",
     "output_type": "stream",
     "text": [
      "Pulled data:  (227, 12)\n",
      "Pulling data from: https://agmarknet.gov.in/SearchCmmMkt.aspx?Tx_State=0&Tx_District=0&Tx_Market=0&Tx_Trend=2&DateFrom=01-Aug-2025&DateTo=01-Aug-2025&Fr_Date=01-Aug-2025&To_Date=01-Aug-2025&Tx_CommodityHead=Dry+Chillies&Tx_Commodity=132\n"
     ]
    },
    {
     "name": "stderr",
     "output_type": "stream",
     "text": [
      "/var/folders/jb/zy_516ps25g392kqdzfs61640000gn/T/ipykernel_78044/1959355148.py:16: FutureWarning: Passing literal html to 'read_html' is deprecated and will be removed in a future version. To read from a literal string, wrap it in a 'StringIO' object.\n",
      "  df = pd.read_html(table_html)[0]\n"
     ]
    },
    {
     "name": "stdout",
     "output_type": "stream",
     "text": [
      "Pulled data:  (22, 12)\n",
      "Pulling data from: https://agmarknet.gov.in/SearchCmmMkt.aspx?Tx_State=0&Tx_District=0&Tx_Market=0&Tx_Trend=2&DateFrom=01-Aug-2025&DateTo=01-Aug-2025&Fr_Date=01-Aug-2025&To_Date=01-Aug-2025&Tx_CommodityHead=Dry+Fodder&Tx_Commodity=345\n",
      "[WARN] 2025-08-01: Message: \n",
      "Stacktrace:\n",
      "0   chromedriver                        0x0000000104b0f26c cxxbridge1$str$ptr + 2741972\n",
      "1   chromedriver                        0x0000000104b071dc cxxbridge1$str$ptr + 2709060\n",
      "2   chromedriver                        0x00000001046514fc cxxbridge1$string$len + 90520\n",
      "3   chromedriver                        0x0000000104698a14 cxxbridge1$string$len + 382640\n",
      "4   chromedriver                        0x00000001046d9db8 cxxbridge1$string$len + 649812\n",
      "5   chromedriver                        0x000000010468cd30 cxxbridge1$string$len + 334284\n",
      "6   chromedriver                        0x0000000104ad266c cxxbridge1$str$ptr + 2493140\n",
      "7   chromedriver                        0x0000000104ad58a0 cxxbridge1$str$ptr + 2505992\n",
      "8   chromedriver                        0x0000000104ab34a4 cxxbridge1$str$ptr + 2365708\n",
      "9   chromedriver                        0x0000000104ad615c cxxbridge1$str$ptr + 2508228\n",
      "10  chromedriver                        0x0000000104aa459c cxxbridge1$str$ptr + 2304516\n",
      "11  chromedriver                        0x0000000104af5c78 cxxbridge1$str$ptr + 2638048\n",
      "12  chromedriver                        0x0000000104af5e04 cxxbridge1$str$ptr + 2638444\n",
      "13  chromedriver                        0x0000000104b06e28 cxxbridge1$str$ptr + 2708112\n",
      "14  libsystem_pthread.dylib             0x00000001877a7c0c _pthread_start + 136\n",
      "15  libsystem_pthread.dylib             0x00000001877a2b80 thread_start + 8\n",
      "\n",
      "Pulling data from: https://agmarknet.gov.in/SearchCmmMkt.aspx?Tx_State=0&Tx_District=0&Tx_Market=0&Tx_Trend=2&DateFrom=01-Aug-2025&DateTo=01-Aug-2025&Fr_Date=01-Aug-2025&To_Date=01-Aug-2025&Tx_CommodityHead=Dry+Grapes&Tx_Commodity=278\n",
      "[WARN] 2025-08-01: Message: \n",
      "Stacktrace:\n",
      "0   chromedriver                        0x0000000104b0f26c cxxbridge1$str$ptr + 2741972\n",
      "1   chromedriver                        0x0000000104b071dc cxxbridge1$str$ptr + 2709060\n",
      "2   chromedriver                        0x00000001046514fc cxxbridge1$string$len + 90520\n",
      "3   chromedriver                        0x0000000104698a14 cxxbridge1$string$len + 382640\n",
      "4   chromedriver                        0x00000001046d9db8 cxxbridge1$string$len + 649812\n",
      "5   chromedriver                        0x000000010468cd30 cxxbridge1$string$len + 334284\n",
      "6   chromedriver                        0x0000000104ad266c cxxbridge1$str$ptr + 2493140\n",
      "7   chromedriver                        0x0000000104ad58a0 cxxbridge1$str$ptr + 2505992\n",
      "8   chromedriver                        0x0000000104ab34a4 cxxbridge1$str$ptr + 2365708\n",
      "9   chromedriver                        0x0000000104ad615c cxxbridge1$str$ptr + 2508228\n",
      "10  chromedriver                        0x0000000104aa459c cxxbridge1$str$ptr + 2304516\n",
      "11  chromedriver                        0x0000000104af5c78 cxxbridge1$str$ptr + 2638048\n",
      "12  chromedriver                        0x0000000104af5e04 cxxbridge1$str$ptr + 2638444\n",
      "13  chromedriver                        0x0000000104b06e28 cxxbridge1$str$ptr + 2708112\n",
      "14  libsystem_pthread.dylib             0x00000001877a7c0c _pthread_start + 136\n",
      "15  libsystem_pthread.dylib             0x00000001877a2b80 thread_start + 8\n",
      "\n",
      "Pulling data from: https://agmarknet.gov.in/SearchCmmMkt.aspx?Tx_State=0&Tx_District=0&Tx_Market=0&Tx_Trend=2&DateFrom=01-Aug-2025&DateTo=01-Aug-2025&Fr_Date=01-Aug-2025&To_Date=01-Aug-2025&Tx_CommodityHead=Duck&Tx_Commodity=370\n",
      "[WARN] 2025-08-01: Message: \n",
      "Stacktrace:\n",
      "0   chromedriver                        0x0000000104b0f26c cxxbridge1$str$ptr + 2741972\n",
      "1   chromedriver                        0x0000000104b071dc cxxbridge1$str$ptr + 2709060\n",
      "2   chromedriver                        0x00000001046514fc cxxbridge1$string$len + 90520\n",
      "3   chromedriver                        0x0000000104698a14 cxxbridge1$string$len + 382640\n",
      "4   chromedriver                        0x00000001046d9db8 cxxbridge1$string$len + 649812\n",
      "5   chromedriver                        0x000000010468cd30 cxxbridge1$string$len + 334284\n",
      "6   chromedriver                        0x0000000104ad266c cxxbridge1$str$ptr + 2493140\n",
      "7   chromedriver                        0x0000000104ad58a0 cxxbridge1$str$ptr + 2505992\n",
      "8   chromedriver                        0x0000000104ab34a4 cxxbridge1$str$ptr + 2365708\n",
      "9   chromedriver                        0x0000000104ad615c cxxbridge1$str$ptr + 2508228\n",
      "10  chromedriver                        0x0000000104aa459c cxxbridge1$str$ptr + 2304516\n",
      "11  chromedriver                        0x0000000104af5c78 cxxbridge1$str$ptr + 2638048\n",
      "12  chromedriver                        0x0000000104af5e04 cxxbridge1$str$ptr + 2638444\n",
      "13  chromedriver                        0x0000000104b06e28 cxxbridge1$str$ptr + 2708112\n",
      "14  libsystem_pthread.dylib             0x00000001877a7c0c _pthread_start + 136\n",
      "15  libsystem_pthread.dylib             0x00000001877a2b80 thread_start + 8\n",
      "\n",
      "Pulling data from: https://agmarknet.gov.in/SearchCmmMkt.aspx?Tx_State=0&Tx_District=0&Tx_Market=0&Tx_Trend=2&DateFrom=01-Aug-2025&DateTo=01-Aug-2025&Fr_Date=01-Aug-2025&To_Date=01-Aug-2025&Tx_CommodityHead=Duster+Beans&Tx_Commodity=163\n"
     ]
    },
    {
     "name": "stderr",
     "output_type": "stream",
     "text": [
      "/var/folders/jb/zy_516ps25g392kqdzfs61640000gn/T/ipykernel_78044/1959355148.py:16: FutureWarning: Passing literal html to 'read_html' is deprecated and will be removed in a future version. To read from a literal string, wrap it in a 'StringIO' object.\n",
      "  df = pd.read_html(table_html)[0]\n"
     ]
    },
    {
     "name": "stdout",
     "output_type": "stream",
     "text": [
      "Pulled data:  (2, 12)\n",
      "Pulling data from: https://agmarknet.gov.in/SearchCmmMkt.aspx?Tx_State=0&Tx_District=0&Tx_Market=0&Tx_Trend=2&DateFrom=01-Aug-2025&DateTo=01-Aug-2025&Fr_Date=01-Aug-2025&To_Date=01-Aug-2025&Tx_CommodityHead=Egg&Tx_Commodity=367\n"
     ]
    },
    {
     "name": "stderr",
     "output_type": "stream",
     "text": [
      "/var/folders/jb/zy_516ps25g392kqdzfs61640000gn/T/ipykernel_78044/1959355148.py:16: FutureWarning: Passing literal html to 'read_html' is deprecated and will be removed in a future version. To read from a literal string, wrap it in a 'StringIO' object.\n",
      "  df = pd.read_html(table_html)[0]\n"
     ]
    },
    {
     "name": "stdout",
     "output_type": "stream",
     "text": [
      "Pulled data:  (2, 12)\n",
      "Pulling data from: https://agmarknet.gov.in/SearchCmmMkt.aspx?Tx_State=0&Tx_District=0&Tx_Market=0&Tx_Trend=2&DateFrom=01-Aug-2025&DateTo=01-Aug-2025&Fr_Date=01-Aug-2025&To_Date=01-Aug-2025&Tx_CommodityHead=Egypian+Clover%28Barseem%29&Tx_Commodity=361\n",
      "[WARN] 2025-08-01: Message: \n",
      "Stacktrace:\n",
      "0   chromedriver                        0x0000000104b0f26c cxxbridge1$str$ptr + 2741972\n",
      "1   chromedriver                        0x0000000104b071dc cxxbridge1$str$ptr + 2709060\n",
      "2   chromedriver                        0x00000001046514fc cxxbridge1$string$len + 90520\n",
      "3   chromedriver                        0x0000000104698a14 cxxbridge1$string$len + 382640\n",
      "4   chromedriver                        0x00000001046d9db8 cxxbridge1$string$len + 649812\n",
      "5   chromedriver                        0x000000010468cd30 cxxbridge1$string$len + 334284\n",
      "6   chromedriver                        0x0000000104ad266c cxxbridge1$str$ptr + 2493140\n",
      "7   chromedriver                        0x0000000104ad58a0 cxxbridge1$str$ptr + 2505992\n",
      "8   chromedriver                        0x0000000104ab34a4 cxxbridge1$str$ptr + 2365708\n",
      "9   chromedriver                        0x0000000104ad615c cxxbridge1$str$ptr + 2508228\n",
      "10  chromedriver                        0x0000000104aa459c cxxbridge1$str$ptr + 2304516\n",
      "11  chromedriver                        0x0000000104af5c78 cxxbridge1$str$ptr + 2638048\n",
      "12  chromedriver                        0x0000000104af5e04 cxxbridge1$str$ptr + 2638444\n",
      "13  chromedriver                        0x0000000104b06e28 cxxbridge1$str$ptr + 2708112\n",
      "14  libsystem_pthread.dylib             0x00000001877a7c0c _pthread_start + 136\n",
      "15  libsystem_pthread.dylib             0x00000001877a2b80 thread_start + 8\n",
      "\n",
      "Pulling data from: https://agmarknet.gov.in/SearchCmmMkt.aspx?Tx_State=0&Tx_District=0&Tx_Market=0&Tx_Trend=2&DateFrom=01-Aug-2025&DateTo=01-Aug-2025&Fr_Date=01-Aug-2025&To_Date=01-Aug-2025&Tx_CommodityHead=Elephant+Yam+%28Suran%29&Tx_Commodity=296\n"
     ]
    },
    {
     "name": "stderr",
     "output_type": "stream",
     "text": [
      "/var/folders/jb/zy_516ps25g392kqdzfs61640000gn/T/ipykernel_78044/1959355148.py:16: FutureWarning: Passing literal html to 'read_html' is deprecated and will be removed in a future version. To read from a literal string, wrap it in a 'StringIO' object.\n",
      "  df = pd.read_html(table_html)[0]\n"
     ]
    },
    {
     "name": "stdout",
     "output_type": "stream",
     "text": [
      "Pulled data:  (128, 12)\n",
      "Pulling data from: https://agmarknet.gov.in/SearchCmmMkt.aspx?Tx_State=0&Tx_District=0&Tx_Market=0&Tx_Trend=2&DateFrom=01-Aug-2025&DateTo=01-Aug-2025&Fr_Date=01-Aug-2025&To_Date=01-Aug-2025&Tx_CommodityHead=Field+Pea&Tx_Commodity=64\n"
     ]
    },
    {
     "name": "stderr",
     "output_type": "stream",
     "text": [
      "/var/folders/jb/zy_516ps25g392kqdzfs61640000gn/T/ipykernel_78044/1959355148.py:16: FutureWarning: Passing literal html to 'read_html' is deprecated and will be removed in a future version. To read from a literal string, wrap it in a 'StringIO' object.\n",
      "  df = pd.read_html(table_html)[0]\n"
     ]
    },
    {
     "name": "stdout",
     "output_type": "stream",
     "text": [
      "Pulled data:  (12, 12)\n",
      "Pulling data from: https://agmarknet.gov.in/SearchCmmMkt.aspx?Tx_State=0&Tx_District=0&Tx_Market=0&Tx_Trend=2&DateFrom=01-Aug-2025&DateTo=01-Aug-2025&Fr_Date=01-Aug-2025&To_Date=01-Aug-2025&Tx_CommodityHead=Fig%28Anjura%2FAnjeer%29&Tx_Commodity=221\n"
     ]
    },
    {
     "name": "stderr",
     "output_type": "stream",
     "text": [
      "/var/folders/jb/zy_516ps25g392kqdzfs61640000gn/T/ipykernel_78044/1959355148.py:16: FutureWarning: Passing literal html to 'read_html' is deprecated and will be removed in a future version. To read from a literal string, wrap it in a 'StringIO' object.\n",
      "  df = pd.read_html(table_html)[0]\n"
     ]
    },
    {
     "name": "stdout",
     "output_type": "stream",
     "text": [
      "Pulled data:  (5, 12)\n",
      "Pulling data from: https://agmarknet.gov.in/SearchCmmMkt.aspx?Tx_State=0&Tx_District=0&Tx_Market=0&Tx_Trend=2&DateFrom=01-Aug-2025&DateTo=01-Aug-2025&Fr_Date=01-Aug-2025&To_Date=01-Aug-2025&Tx_CommodityHead=Firewood&Tx_Commodity=206\n"
     ]
    },
    {
     "name": "stderr",
     "output_type": "stream",
     "text": [
      "/var/folders/jb/zy_516ps25g392kqdzfs61640000gn/T/ipykernel_78044/1959355148.py:16: FutureWarning: Passing literal html to 'read_html' is deprecated and will be removed in a future version. To read from a literal string, wrap it in a 'StringIO' object.\n",
      "  df = pd.read_html(table_html)[0]\n"
     ]
    },
    {
     "name": "stdout",
     "output_type": "stream",
     "text": [
      "Pulled data:  (4, 12)\n",
      "Pulling data from: https://agmarknet.gov.in/SearchCmmMkt.aspx?Tx_State=0&Tx_District=0&Tx_Market=0&Tx_Trend=2&DateFrom=01-Aug-2025&DateTo=01-Aug-2025&Fr_Date=01-Aug-2025&To_Date=01-Aug-2025&Tx_CommodityHead=Fish&Tx_Commodity=366\n"
     ]
    },
    {
     "name": "stderr",
     "output_type": "stream",
     "text": [
      "/var/folders/jb/zy_516ps25g392kqdzfs61640000gn/T/ipykernel_78044/1959355148.py:16: FutureWarning: Passing literal html to 'read_html' is deprecated and will be removed in a future version. To read from a literal string, wrap it in a 'StringIO' object.\n",
      "  df = pd.read_html(table_html)[0]\n"
     ]
    },
    {
     "name": "stdout",
     "output_type": "stream",
     "text": [
      "Pulled data:  (19, 12)\n",
      "Pulling data from: https://agmarknet.gov.in/SearchCmmMkt.aspx?Tx_State=0&Tx_District=0&Tx_Market=0&Tx_Trend=2&DateFrom=01-Aug-2025&DateTo=01-Aug-2025&Fr_Date=01-Aug-2025&To_Date=01-Aug-2025&Tx_CommodityHead=Flax+seeds&Tx_Commodity=510\n",
      "[WARN] 2025-08-01: Message: \n",
      "Stacktrace:\n",
      "0   chromedriver                        0x00000001028f326c cxxbridge1$str$ptr + 2741972\n",
      "1   chromedriver                        0x00000001028eb1dc cxxbridge1$str$ptr + 2709060\n",
      "2   chromedriver                        0x00000001024354fc cxxbridge1$string$len + 90520\n",
      "3   chromedriver                        0x000000010247ca14 cxxbridge1$string$len + 382640\n",
      "4   chromedriver                        0x00000001024bddb8 cxxbridge1$string$len + 649812\n",
      "5   chromedriver                        0x0000000102470d30 cxxbridge1$string$len + 334284\n",
      "6   chromedriver                        0x00000001028b666c cxxbridge1$str$ptr + 2493140\n",
      "7   chromedriver                        0x00000001028b98a0 cxxbridge1$str$ptr + 2505992\n",
      "8   chromedriver                        0x00000001028974a4 cxxbridge1$str$ptr + 2365708\n",
      "9   chromedriver                        0x00000001028ba15c cxxbridge1$str$ptr + 2508228\n",
      "10  chromedriver                        0x000000010288859c cxxbridge1$str$ptr + 2304516\n",
      "11  chromedriver                        0x00000001028d9c78 cxxbridge1$str$ptr + 2638048\n",
      "12  chromedriver                        0x00000001028d9e04 cxxbridge1$str$ptr + 2638444\n",
      "13  chromedriver                        0x00000001028eae28 cxxbridge1$str$ptr + 2708112\n",
      "14  libsystem_pthread.dylib             0x00000001877a7c0c _pthread_start + 136\n",
      "15  libsystem_pthread.dylib             0x00000001877a2b80 thread_start + 8\n",
      "\n",
      "Pulling data from: https://agmarknet.gov.in/SearchCmmMkt.aspx?Tx_State=0&Tx_District=0&Tx_Market=0&Tx_Trend=2&DateFrom=01-Aug-2025&DateTo=01-Aug-2025&Fr_Date=01-Aug-2025&To_Date=01-Aug-2025&Tx_CommodityHead=Flower+Broom&Tx_Commodity=365\n",
      "[WARN] 2025-08-01: Message: \n",
      "Stacktrace:\n",
      "0   chromedriver                        0x00000001028f326c cxxbridge1$str$ptr + 2741972\n",
      "1   chromedriver                        0x00000001028eb1dc cxxbridge1$str$ptr + 2709060\n",
      "2   chromedriver                        0x00000001024354fc cxxbridge1$string$len + 90520\n",
      "3   chromedriver                        0x000000010247ca14 cxxbridge1$string$len + 382640\n",
      "4   chromedriver                        0x00000001024bddb8 cxxbridge1$string$len + 649812\n",
      "5   chromedriver                        0x0000000102470d30 cxxbridge1$string$len + 334284\n",
      "6   chromedriver                        0x00000001028b666c cxxbridge1$str$ptr + 2493140\n",
      "7   chromedriver                        0x00000001028b98a0 cxxbridge1$str$ptr + 2505992\n",
      "8   chromedriver                        0x00000001028974a4 cxxbridge1$str$ptr + 2365708\n",
      "9   chromedriver                        0x00000001028ba15c cxxbridge1$str$ptr + 2508228\n",
      "10  chromedriver                        0x000000010288859c cxxbridge1$str$ptr + 2304516\n",
      "11  chromedriver                        0x00000001028d9c78 cxxbridge1$str$ptr + 2638048\n",
      "12  chromedriver                        0x00000001028d9e04 cxxbridge1$str$ptr + 2638444\n",
      "13  chromedriver                        0x00000001028eae28 cxxbridge1$str$ptr + 2708112\n",
      "14  libsystem_pthread.dylib             0x00000001877a7c0c _pthread_start + 136\n",
      "15  libsystem_pthread.dylib             0x00000001877a2b80 thread_start + 8\n",
      "\n",
      "Pulling data from: https://agmarknet.gov.in/SearchCmmMkt.aspx?Tx_State=0&Tx_District=0&Tx_Market=0&Tx_Trend=2&DateFrom=01-Aug-2025&DateTo=01-Aug-2025&Fr_Date=01-Aug-2025&To_Date=01-Aug-2025&Tx_CommodityHead=Foxtail+Millet%28Navane%29&Tx_Commodity=121\n"
     ]
    },
    {
     "name": "stderr",
     "output_type": "stream",
     "text": [
      "/var/folders/jb/zy_516ps25g392kqdzfs61640000gn/T/ipykernel_78044/1959355148.py:16: FutureWarning: Passing literal html to 'read_html' is deprecated and will be removed in a future version. To read from a literal string, wrap it in a 'StringIO' object.\n",
      "  df = pd.read_html(table_html)[0]\n"
     ]
    },
    {
     "name": "stdout",
     "output_type": "stream",
     "text": [
      "Pulled data:  (1, 12)\n",
      "Pulling data from: https://agmarknet.gov.in/SearchCmmMkt.aspx?Tx_State=0&Tx_District=0&Tx_Market=0&Tx_Trend=2&DateFrom=01-Aug-2025&DateTo=01-Aug-2025&Fr_Date=01-Aug-2025&To_Date=01-Aug-2025&Tx_CommodityHead=French+Beans+%28Frasbean%29&Tx_Commodity=298\n"
     ]
    },
    {
     "name": "stderr",
     "output_type": "stream",
     "text": [
      "/var/folders/jb/zy_516ps25g392kqdzfs61640000gn/T/ipykernel_78044/1959355148.py:16: FutureWarning: Passing literal html to 'read_html' is deprecated and will be removed in a future version. To read from a literal string, wrap it in a 'StringIO' object.\n",
      "  df = pd.read_html(table_html)[0]\n"
     ]
    },
    {
     "name": "stdout",
     "output_type": "stream",
     "text": [
      "Pulled data:  (60, 12)\n",
      "Pulling data from: https://agmarknet.gov.in/SearchCmmMkt.aspx?Tx_State=0&Tx_District=0&Tx_Market=0&Tx_Trend=2&DateFrom=01-Aug-2025&DateTo=01-Aug-2025&Fr_Date=01-Aug-2025&To_Date=01-Aug-2025&Tx_CommodityHead=Galgal%28Lemon%29&Tx_Commodity=350\n",
      "[WARN] 2025-08-01: Message: \n",
      "Stacktrace:\n",
      "0   chromedriver                        0x00000001028f326c cxxbridge1$str$ptr + 2741972\n",
      "1   chromedriver                        0x00000001028eb1dc cxxbridge1$str$ptr + 2709060\n",
      "2   chromedriver                        0x00000001024354fc cxxbridge1$string$len + 90520\n",
      "3   chromedriver                        0x000000010247ca14 cxxbridge1$string$len + 382640\n",
      "4   chromedriver                        0x00000001024bddb8 cxxbridge1$string$len + 649812\n",
      "5   chromedriver                        0x0000000102470d30 cxxbridge1$string$len + 334284\n",
      "6   chromedriver                        0x00000001028b666c cxxbridge1$str$ptr + 2493140\n",
      "7   chromedriver                        0x00000001028b98a0 cxxbridge1$str$ptr + 2505992\n",
      "8   chromedriver                        0x00000001028974a4 cxxbridge1$str$ptr + 2365708\n",
      "9   chromedriver                        0x00000001028ba15c cxxbridge1$str$ptr + 2508228\n",
      "10  chromedriver                        0x000000010288859c cxxbridge1$str$ptr + 2304516\n",
      "11  chromedriver                        0x00000001028d9c78 cxxbridge1$str$ptr + 2638048\n",
      "12  chromedriver                        0x00000001028d9e04 cxxbridge1$str$ptr + 2638444\n",
      "13  chromedriver                        0x00000001028eae28 cxxbridge1$str$ptr + 2708112\n",
      "14  libsystem_pthread.dylib             0x00000001877a7c0c _pthread_start + 136\n",
      "15  libsystem_pthread.dylib             0x00000001877a2b80 thread_start + 8\n",
      "\n",
      "Pulling data from: https://agmarknet.gov.in/SearchCmmMkt.aspx?Tx_State=0&Tx_District=0&Tx_Market=0&Tx_Trend=2&DateFrom=01-Aug-2025&DateTo=01-Aug-2025&Fr_Date=01-Aug-2025&To_Date=01-Aug-2025&Tx_CommodityHead=Gamphrena&Tx_Commodity=471\n",
      "[WARN] 2025-08-01: Message: \n",
      "Stacktrace:\n",
      "0   chromedriver                        0x00000001028f326c cxxbridge1$str$ptr + 2741972\n",
      "1   chromedriver                        0x00000001028eb1dc cxxbridge1$str$ptr + 2709060\n",
      "2   chromedriver                        0x00000001024354fc cxxbridge1$string$len + 90520\n",
      "3   chromedriver                        0x000000010247ca14 cxxbridge1$string$len + 382640\n",
      "4   chromedriver                        0x00000001024bddb8 cxxbridge1$string$len + 649812\n",
      "5   chromedriver                        0x0000000102470d30 cxxbridge1$string$len + 334284\n",
      "6   chromedriver                        0x00000001028b666c cxxbridge1$str$ptr + 2493140\n",
      "7   chromedriver                        0x00000001028b98a0 cxxbridge1$str$ptr + 2505992\n",
      "8   chromedriver                        0x00000001028974a4 cxxbridge1$str$ptr + 2365708\n",
      "9   chromedriver                        0x00000001028ba15c cxxbridge1$str$ptr + 2508228\n",
      "10  chromedriver                        0x000000010288859c cxxbridge1$str$ptr + 2304516\n",
      "11  chromedriver                        0x00000001028d9c78 cxxbridge1$str$ptr + 2638048\n",
      "12  chromedriver                        0x00000001028d9e04 cxxbridge1$str$ptr + 2638444\n",
      "13  chromedriver                        0x00000001028eae28 cxxbridge1$str$ptr + 2708112\n",
      "14  libsystem_pthread.dylib             0x00000001877a7c0c _pthread_start + 136\n",
      "15  libsystem_pthread.dylib             0x00000001877a2b80 thread_start + 8\n",
      "\n",
      "Pulling data from: https://agmarknet.gov.in/SearchCmmMkt.aspx?Tx_State=0&Tx_District=0&Tx_Market=0&Tx_Trend=2&DateFrom=01-Aug-2025&DateTo=01-Aug-2025&Fr_Date=01-Aug-2025&To_Date=01-Aug-2025&Tx_CommodityHead=Garlic&Tx_Commodity=25\n"
     ]
    },
    {
     "name": "stderr",
     "output_type": "stream",
     "text": [
      "/var/folders/jb/zy_516ps25g392kqdzfs61640000gn/T/ipykernel_78044/1959355148.py:16: FutureWarning: Passing literal html to 'read_html' is deprecated and will be removed in a future version. To read from a literal string, wrap it in a 'StringIO' object.\n",
      "  df = pd.read_html(table_html)[0]\n"
     ]
    },
    {
     "name": "stdout",
     "output_type": "stream",
     "text": [
      "Pulled data:  (252, 12)\n",
      "Pulling data from: https://agmarknet.gov.in/SearchCmmMkt.aspx?Tx_State=0&Tx_District=0&Tx_Market=0&Tx_Trend=2&DateFrom=01-Aug-2025&DateTo=01-Aug-2025&Fr_Date=01-Aug-2025&To_Date=01-Aug-2025&Tx_CommodityHead=Ghee&Tx_Commodity=249\n"
     ]
    },
    {
     "name": "stderr",
     "output_type": "stream",
     "text": [
      "/var/folders/jb/zy_516ps25g392kqdzfs61640000gn/T/ipykernel_78044/1959355148.py:16: FutureWarning: Passing literal html to 'read_html' is deprecated and will be removed in a future version. To read from a literal string, wrap it in a 'StringIO' object.\n",
      "  df = pd.read_html(table_html)[0]\n"
     ]
    },
    {
     "name": "stdout",
     "output_type": "stream",
     "text": [
      "Pulled data:  (3, 12)\n",
      "Pulling data from: https://agmarknet.gov.in/SearchCmmMkt.aspx?Tx_State=0&Tx_District=0&Tx_Market=0&Tx_Trend=2&DateFrom=01-Aug-2025&DateTo=01-Aug-2025&Fr_Date=01-Aug-2025&To_Date=01-Aug-2025&Tx_CommodityHead=Giloy&Tx_Commodity=452\n",
      "[WARN] 2025-08-01: Message: \n",
      "Stacktrace:\n",
      "0   chromedriver                        0x00000001028f326c cxxbridge1$str$ptr + 2741972\n",
      "1   chromedriver                        0x00000001028eb1dc cxxbridge1$str$ptr + 2709060\n",
      "2   chromedriver                        0x00000001024354fc cxxbridge1$string$len + 90520\n",
      "3   chromedriver                        0x000000010247ca14 cxxbridge1$string$len + 382640\n",
      "4   chromedriver                        0x00000001024bddb8 cxxbridge1$string$len + 649812\n",
      "5   chromedriver                        0x0000000102470d30 cxxbridge1$string$len + 334284\n",
      "6   chromedriver                        0x00000001028b666c cxxbridge1$str$ptr + 2493140\n",
      "7   chromedriver                        0x00000001028b98a0 cxxbridge1$str$ptr + 2505992\n",
      "8   chromedriver                        0x00000001028974a4 cxxbridge1$str$ptr + 2365708\n",
      "9   chromedriver                        0x00000001028ba15c cxxbridge1$str$ptr + 2508228\n",
      "10  chromedriver                        0x000000010288859c cxxbridge1$str$ptr + 2304516\n",
      "11  chromedriver                        0x00000001028d9c78 cxxbridge1$str$ptr + 2638048\n",
      "12  chromedriver                        0x00000001028d9e04 cxxbridge1$str$ptr + 2638444\n",
      "13  chromedriver                        0x00000001028eae28 cxxbridge1$str$ptr + 2708112\n",
      "14  libsystem_pthread.dylib             0x00000001877a7c0c _pthread_start + 136\n",
      "15  libsystem_pthread.dylib             0x00000001877a2b80 thread_start + 8\n",
      "\n",
      "Pulling data from: https://agmarknet.gov.in/SearchCmmMkt.aspx?Tx_State=0&Tx_District=0&Tx_Market=0&Tx_Trend=2&DateFrom=01-Aug-2025&DateTo=01-Aug-2025&Fr_Date=01-Aug-2025&To_Date=01-Aug-2025&Tx_CommodityHead=Gingelly+Oil&Tx_Commodity=276\n",
      "[WARN] 2025-08-01: Message: \n",
      "Stacktrace:\n",
      "0   chromedriver                        0x00000001028f326c cxxbridge1$str$ptr + 2741972\n",
      "1   chromedriver                        0x00000001028eb1dc cxxbridge1$str$ptr + 2709060\n",
      "2   chromedriver                        0x00000001024354fc cxxbridge1$string$len + 90520\n",
      "3   chromedriver                        0x000000010247ca14 cxxbridge1$string$len + 382640\n",
      "4   chromedriver                        0x00000001024bddb8 cxxbridge1$string$len + 649812\n",
      "5   chromedriver                        0x0000000102470d30 cxxbridge1$string$len + 334284\n",
      "6   chromedriver                        0x00000001028b666c cxxbridge1$str$ptr + 2493140\n",
      "7   chromedriver                        0x00000001028b98a0 cxxbridge1$str$ptr + 2505992\n",
      "8   chromedriver                        0x00000001028974a4 cxxbridge1$str$ptr + 2365708\n",
      "9   chromedriver                        0x00000001028ba15c cxxbridge1$str$ptr + 2508228\n",
      "10  chromedriver                        0x000000010288859c cxxbridge1$str$ptr + 2304516\n",
      "11  chromedriver                        0x00000001028d9c78 cxxbridge1$str$ptr + 2638048\n",
      "12  chromedriver                        0x00000001028d9e04 cxxbridge1$str$ptr + 2638444\n",
      "13  chromedriver                        0x00000001028eae28 cxxbridge1$str$ptr + 2708112\n",
      "14  libsystem_pthread.dylib             0x00000001877a7c0c _pthread_start + 136\n",
      "15  libsystem_pthread.dylib             0x00000001877a2b80 thread_start + 8\n",
      "\n",
      "Pulling data from: https://agmarknet.gov.in/SearchCmmMkt.aspx?Tx_State=0&Tx_District=0&Tx_Market=0&Tx_Trend=2&DateFrom=01-Aug-2025&DateTo=01-Aug-2025&Fr_Date=01-Aug-2025&To_Date=01-Aug-2025&Tx_CommodityHead=Ginger%28Dry%29&Tx_Commodity=27\n"
     ]
    },
    {
     "name": "stderr",
     "output_type": "stream",
     "text": [
      "/var/folders/jb/zy_516ps25g392kqdzfs61640000gn/T/ipykernel_78044/1959355148.py:16: FutureWarning: Passing literal html to 'read_html' is deprecated and will be removed in a future version. To read from a literal string, wrap it in a 'StringIO' object.\n",
      "  df = pd.read_html(table_html)[0]\n"
     ]
    },
    {
     "name": "stdout",
     "output_type": "stream",
     "text": [
      "Pulled data:  (35, 12)\n",
      "Pulling data from: https://agmarknet.gov.in/SearchCmmMkt.aspx?Tx_State=0&Tx_District=0&Tx_Market=0&Tx_Trend=2&DateFrom=01-Aug-2025&DateTo=01-Aug-2025&Fr_Date=01-Aug-2025&To_Date=01-Aug-2025&Tx_CommodityHead=Ginger%28Green%29&Tx_Commodity=103\n"
     ]
    },
    {
     "name": "stderr",
     "output_type": "stream",
     "text": [
      "/var/folders/jb/zy_516ps25g392kqdzfs61640000gn/T/ipykernel_78044/1959355148.py:16: FutureWarning: Passing literal html to 'read_html' is deprecated and will be removed in a future version. To read from a literal string, wrap it in a 'StringIO' object.\n",
      "  df = pd.read_html(table_html)[0]\n"
     ]
    },
    {
     "name": "stdout",
     "output_type": "stream",
     "text": [
      "Pulled data:  (349, 12)\n",
      "Pulling data from: https://agmarknet.gov.in/SearchCmmMkt.aspx?Tx_State=0&Tx_District=0&Tx_Market=0&Tx_Trend=2&DateFrom=01-Aug-2025&DateTo=01-Aug-2025&Fr_Date=01-Aug-2025&To_Date=01-Aug-2025&Tx_CommodityHead=Gladiolus+Bulb&Tx_Commodity=364\n",
      "[WARN] 2025-08-01: Message: \n",
      "Stacktrace:\n",
      "0   chromedriver                        0x00000001028f326c cxxbridge1$str$ptr + 2741972\n",
      "1   chromedriver                        0x00000001028eb1dc cxxbridge1$str$ptr + 2709060\n",
      "2   chromedriver                        0x00000001024354fc cxxbridge1$string$len + 90520\n",
      "3   chromedriver                        0x000000010247ca14 cxxbridge1$string$len + 382640\n",
      "4   chromedriver                        0x00000001024bddb8 cxxbridge1$string$len + 649812\n",
      "5   chromedriver                        0x0000000102470d30 cxxbridge1$string$len + 334284\n",
      "6   chromedriver                        0x00000001028b666c cxxbridge1$str$ptr + 2493140\n",
      "7   chromedriver                        0x00000001028b98a0 cxxbridge1$str$ptr + 2505992\n",
      "8   chromedriver                        0x00000001028974a4 cxxbridge1$str$ptr + 2365708\n",
      "9   chromedriver                        0x00000001028ba15c cxxbridge1$str$ptr + 2508228\n",
      "10  chromedriver                        0x000000010288859c cxxbridge1$str$ptr + 2304516\n",
      "11  chromedriver                        0x00000001028d9c78 cxxbridge1$str$ptr + 2638048\n",
      "12  chromedriver                        0x00000001028d9e04 cxxbridge1$str$ptr + 2638444\n",
      "13  chromedriver                        0x00000001028eae28 cxxbridge1$str$ptr + 2708112\n",
      "14  libsystem_pthread.dylib             0x00000001877a7c0c _pthread_start + 136\n",
      "15  libsystem_pthread.dylib             0x00000001877a2b80 thread_start + 8\n",
      "\n",
      "Pulling data from: https://agmarknet.gov.in/SearchCmmMkt.aspx?Tx_State=0&Tx_District=0&Tx_Market=0&Tx_Trend=2&DateFrom=01-Aug-2025&DateTo=01-Aug-2025&Fr_Date=01-Aug-2025&To_Date=01-Aug-2025&Tx_CommodityHead=Gladiolus+Cut+Flower&Tx_Commodity=363\n"
     ]
    },
    {
     "name": "stderr",
     "output_type": "stream",
     "text": [
      "/var/folders/jb/zy_516ps25g392kqdzfs61640000gn/T/ipykernel_78044/1959355148.py:16: FutureWarning: Passing literal html to 'read_html' is deprecated and will be removed in a future version. To read from a literal string, wrap it in a 'StringIO' object.\n",
      "  df = pd.read_html(table_html)[0]\n"
     ]
    },
    {
     "name": "stdout",
     "output_type": "stream",
     "text": [
      "Pulled data:  (1, 12)\n",
      "Pulling data from: https://agmarknet.gov.in/SearchCmmMkt.aspx?Tx_State=0&Tx_District=0&Tx_Market=0&Tx_Trend=2&DateFrom=01-Aug-2025&DateTo=01-Aug-2025&Fr_Date=01-Aug-2025&To_Date=01-Aug-2025&Tx_CommodityHead=Glardia&Tx_Commodity=462\n",
      "[WARN] 2025-08-01: Message: \n",
      "Stacktrace:\n",
      "0   chromedriver                        0x00000001028f326c cxxbridge1$str$ptr + 2741972\n",
      "1   chromedriver                        0x00000001028eb1dc cxxbridge1$str$ptr + 2709060\n",
      "2   chromedriver                        0x00000001024354fc cxxbridge1$string$len + 90520\n",
      "3   chromedriver                        0x000000010247ca14 cxxbridge1$string$len + 382640\n",
      "4   chromedriver                        0x00000001024bddb8 cxxbridge1$string$len + 649812\n",
      "5   chromedriver                        0x0000000102470d30 cxxbridge1$string$len + 334284\n",
      "6   chromedriver                        0x00000001028b666c cxxbridge1$str$ptr + 2493140\n",
      "7   chromedriver                        0x00000001028b98a0 cxxbridge1$str$ptr + 2505992\n",
      "8   chromedriver                        0x00000001028974a4 cxxbridge1$str$ptr + 2365708\n",
      "9   chromedriver                        0x00000001028ba15c cxxbridge1$str$ptr + 2508228\n",
      "10  chromedriver                        0x000000010288859c cxxbridge1$str$ptr + 2304516\n",
      "11  chromedriver                        0x00000001028d9c78 cxxbridge1$str$ptr + 2638048\n",
      "12  chromedriver                        0x00000001028d9e04 cxxbridge1$str$ptr + 2638444\n",
      "13  chromedriver                        0x00000001028eae28 cxxbridge1$str$ptr + 2708112\n",
      "14  libsystem_pthread.dylib             0x00000001877a7c0c _pthread_start + 136\n",
      "15  libsystem_pthread.dylib             0x00000001877a2b80 thread_start + 8\n",
      "\n",
      "Pulling data from: https://agmarknet.gov.in/SearchCmmMkt.aspx?Tx_State=0&Tx_District=0&Tx_Market=0&Tx_Trend=2&DateFrom=01-Aug-2025&DateTo=01-Aug-2025&Fr_Date=01-Aug-2025&To_Date=01-Aug-2025&Tx_CommodityHead=Goat&Tx_Commodity=219\n"
     ]
    },
    {
     "name": "stderr",
     "output_type": "stream",
     "text": [
      "/var/folders/jb/zy_516ps25g392kqdzfs61640000gn/T/ipykernel_78044/1959355148.py:16: FutureWarning: Passing literal html to 'read_html' is deprecated and will be removed in a future version. To read from a literal string, wrap it in a 'StringIO' object.\n",
      "  df = pd.read_html(table_html)[0]\n"
     ]
    },
    {
     "name": "stdout",
     "output_type": "stream",
     "text": [
      "Pulled data:  (2, 12)\n",
      "Pulling data from: https://agmarknet.gov.in/SearchCmmMkt.aspx?Tx_State=0&Tx_District=0&Tx_Market=0&Tx_Trend=2&DateFrom=01-Aug-2025&DateTo=01-Aug-2025&Fr_Date=01-Aug-2025&To_Date=01-Aug-2025&Tx_CommodityHead=Goat+Hair&Tx_Commodity=353\n",
      "[WARN] 2025-08-01: Message: \n",
      "Stacktrace:\n",
      "0   chromedriver                        0x00000001013fb26c cxxbridge1$str$ptr + 2741972\n",
      "1   chromedriver                        0x00000001013f31dc cxxbridge1$str$ptr + 2709060\n",
      "2   chromedriver                        0x0000000100f3d4fc cxxbridge1$string$len + 90520\n",
      "3   chromedriver                        0x0000000100f84a14 cxxbridge1$string$len + 382640\n",
      "4   chromedriver                        0x0000000100fc5db8 cxxbridge1$string$len + 649812\n",
      "5   chromedriver                        0x0000000100f78d30 cxxbridge1$string$len + 334284\n",
      "6   chromedriver                        0x00000001013be66c cxxbridge1$str$ptr + 2493140\n",
      "7   chromedriver                        0x00000001013c18a0 cxxbridge1$str$ptr + 2505992\n",
      "8   chromedriver                        0x000000010139f4a4 cxxbridge1$str$ptr + 2365708\n",
      "9   chromedriver                        0x00000001013c215c cxxbridge1$str$ptr + 2508228\n",
      "10  chromedriver                        0x000000010139059c cxxbridge1$str$ptr + 2304516\n",
      "11  chromedriver                        0x00000001013e1c78 cxxbridge1$str$ptr + 2638048\n",
      "12  chromedriver                        0x00000001013e1e04 cxxbridge1$str$ptr + 2638444\n",
      "13  chromedriver                        0x00000001013f2e28 cxxbridge1$str$ptr + 2708112\n",
      "14  libsystem_pthread.dylib             0x00000001877a7c0c _pthread_start + 136\n",
      "15  libsystem_pthread.dylib             0x00000001877a2b80 thread_start + 8\n",
      "\n",
      "Pulling data from: https://agmarknet.gov.in/SearchCmmMkt.aspx?Tx_State=0&Tx_District=0&Tx_Market=0&Tx_Trend=2&DateFrom=01-Aug-2025&DateTo=01-Aug-2025&Fr_Date=01-Aug-2025&To_Date=01-Aug-2025&Tx_CommodityHead=golden+rod&Tx_Commodity=475\n",
      "[WARN] 2025-08-01: Message: \n",
      "Stacktrace:\n",
      "0   chromedriver                        0x000000010539b26c cxxbridge1$str$ptr + 2741972\n",
      "1   chromedriver                        0x00000001053931dc cxxbridge1$str$ptr + 2709060\n",
      "2   chromedriver                        0x0000000104edd4fc cxxbridge1$string$len + 90520\n",
      "3   chromedriver                        0x0000000104f24a14 cxxbridge1$string$len + 382640\n",
      "4   chromedriver                        0x0000000104f65db8 cxxbridge1$string$len + 649812\n",
      "5   chromedriver                        0x0000000104f18d30 cxxbridge1$string$len + 334284\n",
      "6   chromedriver                        0x000000010535e66c cxxbridge1$str$ptr + 2493140\n",
      "7   chromedriver                        0x00000001053618a0 cxxbridge1$str$ptr + 2505992\n",
      "8   chromedriver                        0x000000010533f4a4 cxxbridge1$str$ptr + 2365708\n",
      "9   chromedriver                        0x000000010536215c cxxbridge1$str$ptr + 2508228\n",
      "10  chromedriver                        0x000000010533059c cxxbridge1$str$ptr + 2304516\n",
      "11  chromedriver                        0x0000000105381c78 cxxbridge1$str$ptr + 2638048\n",
      "12  chromedriver                        0x0000000105381e04 cxxbridge1$str$ptr + 2638444\n",
      "13  chromedriver                        0x0000000105392e28 cxxbridge1$str$ptr + 2708112\n",
      "14  libsystem_pthread.dylib             0x00000001877a7c0c _pthread_start + 136\n",
      "15  libsystem_pthread.dylib             0x00000001877a2b80 thread_start + 8\n",
      "\n",
      "Pulling data from: https://agmarknet.gov.in/SearchCmmMkt.aspx?Tx_State=0&Tx_District=0&Tx_Market=0&Tx_Trend=2&DateFrom=01-Aug-2025&DateTo=01-Aug-2025&Fr_Date=01-Aug-2025&To_Date=01-Aug-2025&Tx_CommodityHead=Gond&Tx_Commodity=511\n",
      "[WARN] 2025-08-01: Message: \n",
      "Stacktrace:\n",
      "0   chromedriver                        0x000000010456f26c cxxbridge1$str$ptr + 2741972\n",
      "1   chromedriver                        0x00000001045671dc cxxbridge1$str$ptr + 2709060\n",
      "2   chromedriver                        0x00000001040b14fc cxxbridge1$string$len + 90520\n",
      "3   chromedriver                        0x00000001040f8a14 cxxbridge1$string$len + 382640\n",
      "4   chromedriver                        0x0000000104139db8 cxxbridge1$string$len + 649812\n",
      "5   chromedriver                        0x00000001040ecd30 cxxbridge1$string$len + 334284\n",
      "6   chromedriver                        0x000000010453266c cxxbridge1$str$ptr + 2493140\n",
      "7   chromedriver                        0x00000001045358a0 cxxbridge1$str$ptr + 2505992\n",
      "8   chromedriver                        0x00000001045134a4 cxxbridge1$str$ptr + 2365708\n",
      "9   chromedriver                        0x000000010453615c cxxbridge1$str$ptr + 2508228\n",
      "10  chromedriver                        0x000000010450459c cxxbridge1$str$ptr + 2304516\n",
      "11  chromedriver                        0x0000000104555c78 cxxbridge1$str$ptr + 2638048\n",
      "12  chromedriver                        0x0000000104555e04 cxxbridge1$str$ptr + 2638444\n",
      "13  chromedriver                        0x0000000104566e28 cxxbridge1$str$ptr + 2708112\n",
      "14  libsystem_pthread.dylib             0x00000001877a7c0c _pthread_start + 136\n",
      "15  libsystem_pthread.dylib             0x00000001877a2b80 thread_start + 8\n",
      "\n",
      "Pulling data from: https://agmarknet.gov.in/SearchCmmMkt.aspx?Tx_State=0&Tx_District=0&Tx_Market=0&Tx_Trend=2&DateFrom=01-Aug-2025&DateTo=01-Aug-2025&Fr_Date=01-Aug-2025&To_Date=01-Aug-2025&Tx_CommodityHead=Goose+berry+%28Nellikkai%29&Tx_Commodity=494\n",
      "[WARN] 2025-08-01: Message: \n",
      "Stacktrace:\n",
      "0   chromedriver                        0x0000000100b2726c cxxbridge1$str$ptr + 2741972\n",
      "1   chromedriver                        0x0000000100b1f1dc cxxbridge1$str$ptr + 2709060\n",
      "2   chromedriver                        0x00000001006694fc cxxbridge1$string$len + 90520\n",
      "3   chromedriver                        0x00000001006b0a14 cxxbridge1$string$len + 382640\n",
      "4   chromedriver                        0x00000001006f1db8 cxxbridge1$string$len + 649812\n",
      "5   chromedriver                        0x00000001006a4d30 cxxbridge1$string$len + 334284\n",
      "6   chromedriver                        0x0000000100aea66c cxxbridge1$str$ptr + 2493140\n",
      "7   chromedriver                        0x0000000100aed8a0 cxxbridge1$str$ptr + 2505992\n",
      "8   chromedriver                        0x0000000100acb4a4 cxxbridge1$str$ptr + 2365708\n",
      "9   chromedriver                        0x0000000100aee15c cxxbridge1$str$ptr + 2508228\n",
      "10  chromedriver                        0x0000000100abc59c cxxbridge1$str$ptr + 2304516\n",
      "11  chromedriver                        0x0000000100b0dc78 cxxbridge1$str$ptr + 2638048\n",
      "12  chromedriver                        0x0000000100b0de04 cxxbridge1$str$ptr + 2638444\n",
      "13  chromedriver                        0x0000000100b1ee28 cxxbridge1$str$ptr + 2708112\n",
      "14  libsystem_pthread.dylib             0x00000001877a7c0c _pthread_start + 136\n",
      "15  libsystem_pthread.dylib             0x00000001877a2b80 thread_start + 8\n",
      "\n",
      "Pulling data from: https://agmarknet.gov.in/SearchCmmMkt.aspx?Tx_State=0&Tx_District=0&Tx_Market=0&Tx_Trend=2&DateFrom=01-Aug-2025&DateTo=01-Aug-2025&Fr_Date=01-Aug-2025&To_Date=01-Aug-2025&Tx_CommodityHead=Gram+Raw%28Chholia%29&Tx_Commodity=359\n"
     ]
    },
    {
     "name": "stderr",
     "output_type": "stream",
     "text": [
      "/var/folders/jb/zy_516ps25g392kqdzfs61640000gn/T/ipykernel_78044/1959355148.py:16: FutureWarning: Passing literal html to 'read_html' is deprecated and will be removed in a future version. To read from a literal string, wrap it in a 'StringIO' object.\n",
      "  df = pd.read_html(table_html)[0]\n"
     ]
    },
    {
     "name": "stdout",
     "output_type": "stream",
     "text": [
      "Pulled data:  (2, 12)\n",
      "Pulling data from: https://agmarknet.gov.in/SearchCmmMkt.aspx?Tx_State=0&Tx_District=0&Tx_Market=0&Tx_Trend=2&DateFrom=01-Aug-2025&DateTo=01-Aug-2025&Fr_Date=01-Aug-2025&To_Date=01-Aug-2025&Tx_CommodityHead=Gramflour&Tx_Commodity=294\n",
      "[WARN] 2025-08-01: Message: \n",
      "Stacktrace:\n",
      "0   chromedriver                        0x0000000102e2b26c cxxbridge1$str$ptr + 2741972\n",
      "1   chromedriver                        0x0000000102e231dc cxxbridge1$str$ptr + 2709060\n",
      "2   chromedriver                        0x000000010296d4fc cxxbridge1$string$len + 90520\n",
      "3   chromedriver                        0x00000001029b4a14 cxxbridge1$string$len + 382640\n",
      "4   chromedriver                        0x00000001029f5db8 cxxbridge1$string$len + 649812\n",
      "5   chromedriver                        0x00000001029a8d30 cxxbridge1$string$len + 334284\n",
      "6   chromedriver                        0x0000000102dee66c cxxbridge1$str$ptr + 2493140\n",
      "7   chromedriver                        0x0000000102df18a0 cxxbridge1$str$ptr + 2505992\n",
      "8   chromedriver                        0x0000000102dcf4a4 cxxbridge1$str$ptr + 2365708\n",
      "9   chromedriver                        0x0000000102df215c cxxbridge1$str$ptr + 2508228\n",
      "10  chromedriver                        0x0000000102dc059c cxxbridge1$str$ptr + 2304516\n",
      "11  chromedriver                        0x0000000102e11c78 cxxbridge1$str$ptr + 2638048\n",
      "12  chromedriver                        0x0000000102e11e04 cxxbridge1$str$ptr + 2638444\n",
      "13  chromedriver                        0x0000000102e22e28 cxxbridge1$str$ptr + 2708112\n",
      "14  libsystem_pthread.dylib             0x00000001877a7c0c _pthread_start + 136\n",
      "15  libsystem_pthread.dylib             0x00000001877a2b80 thread_start + 8\n",
      "\n",
      "Pulling data from: https://agmarknet.gov.in/SearchCmmMkt.aspx?Tx_State=0&Tx_District=0&Tx_Market=0&Tx_Trend=2&DateFrom=01-Aug-2025&DateTo=01-Aug-2025&Fr_Date=01-Aug-2025&To_Date=01-Aug-2025&Tx_CommodityHead=Grapes&Tx_Commodity=22\n"
     ]
    },
    {
     "name": "stderr",
     "output_type": "stream",
     "text": [
      "/var/folders/jb/zy_516ps25g392kqdzfs61640000gn/T/ipykernel_78044/1959355148.py:16: FutureWarning: Passing literal html to 'read_html' is deprecated and will be removed in a future version. To read from a literal string, wrap it in a 'StringIO' object.\n",
      "  df = pd.read_html(table_html)[0]\n"
     ]
    },
    {
     "name": "stdout",
     "output_type": "stream",
     "text": [
      "Pulled data:  (39, 12)\n",
      "Pulling data from: https://agmarknet.gov.in/SearchCmmMkt.aspx?Tx_State=0&Tx_District=0&Tx_Market=0&Tx_Trend=2&DateFrom=01-Aug-2025&DateTo=01-Aug-2025&Fr_Date=01-Aug-2025&To_Date=01-Aug-2025&Tx_CommodityHead=Green+Avare+%28W%29&Tx_Commodity=165\n"
     ]
    },
    {
     "name": "stderr",
     "output_type": "stream",
     "text": [
      "/var/folders/jb/zy_516ps25g392kqdzfs61640000gn/T/ipykernel_78044/1959355148.py:16: FutureWarning: Passing literal html to 'read_html' is deprecated and will be removed in a future version. To read from a literal string, wrap it in a 'StringIO' object.\n",
      "  df = pd.read_html(table_html)[0]\n"
     ]
    },
    {
     "name": "stdout",
     "output_type": "stream",
     "text": [
      "Pulled data:  (92, 12)\n",
      "Pulling data from: https://agmarknet.gov.in/SearchCmmMkt.aspx?Tx_State=0&Tx_District=0&Tx_Market=0&Tx_Trend=2&DateFrom=01-Aug-2025&DateTo=01-Aug-2025&Fr_Date=01-Aug-2025&To_Date=01-Aug-2025&Tx_CommodityHead=Green+Chilli&Tx_Commodity=87\n"
     ]
    },
    {
     "name": "stderr",
     "output_type": "stream",
     "text": [
      "/var/folders/jb/zy_516ps25g392kqdzfs61640000gn/T/ipykernel_78044/1959355148.py:16: FutureWarning: Passing literal html to 'read_html' is deprecated and will be removed in a future version. To read from a literal string, wrap it in a 'StringIO' object.\n",
      "  df = pd.read_html(table_html)[0]\n"
     ]
    },
    {
     "name": "stdout",
     "output_type": "stream",
     "text": [
      "Pulled data:  (595, 12)\n",
      "Pulling data from: https://agmarknet.gov.in/SearchCmmMkt.aspx?Tx_State=0&Tx_District=0&Tx_Market=0&Tx_Trend=2&DateFrom=01-Aug-2025&DateTo=01-Aug-2025&Fr_Date=01-Aug-2025&To_Date=01-Aug-2025&Tx_CommodityHead=Green+Fodder&Tx_Commodity=346\n",
      "[WARN] 2025-08-01: Message: \n",
      "Stacktrace:\n",
      "0   chromedriver                        0x0000000102e2b26c cxxbridge1$str$ptr + 2741972\n",
      "1   chromedriver                        0x0000000102e231dc cxxbridge1$str$ptr + 2709060\n",
      "2   chromedriver                        0x000000010296d4fc cxxbridge1$string$len + 90520\n",
      "3   chromedriver                        0x00000001029b4a14 cxxbridge1$string$len + 382640\n",
      "4   chromedriver                        0x00000001029f5db8 cxxbridge1$string$len + 649812\n",
      "5   chromedriver                        0x00000001029a8d30 cxxbridge1$string$len + 334284\n",
      "6   chromedriver                        0x0000000102dee66c cxxbridge1$str$ptr + 2493140\n",
      "7   chromedriver                        0x0000000102df18a0 cxxbridge1$str$ptr + 2505992\n",
      "8   chromedriver                        0x0000000102dcf4a4 cxxbridge1$str$ptr + 2365708\n",
      "9   chromedriver                        0x0000000102df215c cxxbridge1$str$ptr + 2508228\n",
      "10  chromedriver                        0x0000000102dc059c cxxbridge1$str$ptr + 2304516\n",
      "11  chromedriver                        0x0000000102e11c78 cxxbridge1$str$ptr + 2638048\n",
      "12  chromedriver                        0x0000000102e11e04 cxxbridge1$str$ptr + 2638444\n",
      "13  chromedriver                        0x0000000102e22e28 cxxbridge1$str$ptr + 2708112\n",
      "14  libsystem_pthread.dylib             0x00000001877a7c0c _pthread_start + 136\n",
      "15  libsystem_pthread.dylib             0x00000001877a2b80 thread_start + 8\n",
      "\n",
      "Pulling data from: https://agmarknet.gov.in/SearchCmmMkt.aspx?Tx_State=0&Tx_District=0&Tx_Market=0&Tx_Trend=2&DateFrom=01-Aug-2025&DateTo=01-Aug-2025&Fr_Date=01-Aug-2025&To_Date=01-Aug-2025&Tx_CommodityHead=Green+Gram+%28Moong%29%28Whole%29&Tx_Commodity=9\n"
     ]
    },
    {
     "name": "stderr",
     "output_type": "stream",
     "text": [
      "/var/folders/jb/zy_516ps25g392kqdzfs61640000gn/T/ipykernel_78044/1959355148.py:16: FutureWarning: Passing literal html to 'read_html' is deprecated and will be removed in a future version. To read from a literal string, wrap it in a 'StringIO' object.\n",
      "  df = pd.read_html(table_html)[0]\n"
     ]
    },
    {
     "name": "stdout",
     "output_type": "stream",
     "text": [
      "Pulled data:  (155, 12)\n",
      "Pulling data from: https://agmarknet.gov.in/SearchCmmMkt.aspx?Tx_State=0&Tx_District=0&Tx_Market=0&Tx_Trend=2&DateFrom=01-Aug-2025&DateTo=01-Aug-2025&Fr_Date=01-Aug-2025&To_Date=01-Aug-2025&Tx_CommodityHead=Green+Gram+Dal+%28Moong+Dal%29&Tx_Commodity=265\n"
     ]
    },
    {
     "name": "stderr",
     "output_type": "stream",
     "text": [
      "/var/folders/jb/zy_516ps25g392kqdzfs61640000gn/T/ipykernel_78044/1959355148.py:16: FutureWarning: Passing literal html to 'read_html' is deprecated and will be removed in a future version. To read from a literal string, wrap it in a 'StringIO' object.\n",
      "  df = pd.read_html(table_html)[0]\n"
     ]
    },
    {
     "name": "stdout",
     "output_type": "stream",
     "text": [
      "Pulled data:  (28, 12)\n",
      "Pulling data from: https://agmarknet.gov.in/SearchCmmMkt.aspx?Tx_State=0&Tx_District=0&Tx_Market=0&Tx_Trend=2&DateFrom=01-Aug-2025&DateTo=01-Aug-2025&Fr_Date=01-Aug-2025&To_Date=01-Aug-2025&Tx_CommodityHead=Green+Peas&Tx_Commodity=50\n"
     ]
    },
    {
     "name": "stderr",
     "output_type": "stream",
     "text": [
      "/var/folders/jb/zy_516ps25g392kqdzfs61640000gn/T/ipykernel_78044/1959355148.py:16: FutureWarning: Passing literal html to 'read_html' is deprecated and will be removed in a future version. To read from a literal string, wrap it in a 'StringIO' object.\n",
      "  df = pd.read_html(table_html)[0]\n"
     ]
    },
    {
     "name": "stdout",
     "output_type": "stream",
     "text": [
      "Pulled data:  (54, 12)\n",
      "Pulling data from: https://agmarknet.gov.in/SearchCmmMkt.aspx?Tx_State=0&Tx_District=0&Tx_Market=0&Tx_Trend=2&DateFrom=01-Aug-2025&DateTo=01-Aug-2025&Fr_Date=01-Aug-2025&To_Date=01-Aug-2025&Tx_CommodityHead=Ground+Nut+Oil&Tx_Commodity=267\n",
      "[WARN] 2025-08-01: Message: \n",
      "Stacktrace:\n",
      "0   chromedriver                        0x0000000102e2b26c cxxbridge1$str$ptr + 2741972\n",
      "1   chromedriver                        0x0000000102e231dc cxxbridge1$str$ptr + 2709060\n",
      "2   chromedriver                        0x000000010296d4fc cxxbridge1$string$len + 90520\n",
      "3   chromedriver                        0x00000001029b4a14 cxxbridge1$string$len + 382640\n",
      "4   chromedriver                        0x00000001029f5db8 cxxbridge1$string$len + 649812\n",
      "5   chromedriver                        0x00000001029a8d30 cxxbridge1$string$len + 334284\n",
      "6   chromedriver                        0x0000000102dee66c cxxbridge1$str$ptr + 2493140\n",
      "7   chromedriver                        0x0000000102df18a0 cxxbridge1$str$ptr + 2505992\n",
      "8   chromedriver                        0x0000000102dcf4a4 cxxbridge1$str$ptr + 2365708\n",
      "9   chromedriver                        0x0000000102df215c cxxbridge1$str$ptr + 2508228\n",
      "10  chromedriver                        0x0000000102dc059c cxxbridge1$str$ptr + 2304516\n",
      "11  chromedriver                        0x0000000102e11c78 cxxbridge1$str$ptr + 2638048\n",
      "12  chromedriver                        0x0000000102e11e04 cxxbridge1$str$ptr + 2638444\n",
      "13  chromedriver                        0x0000000102e22e28 cxxbridge1$str$ptr + 2708112\n",
      "14  libsystem_pthread.dylib             0x00000001877a7c0c _pthread_start + 136\n",
      "15  libsystem_pthread.dylib             0x00000001877a2b80 thread_start + 8\n",
      "\n",
      "Pulling data from: https://agmarknet.gov.in/SearchCmmMkt.aspx?Tx_State=0&Tx_District=0&Tx_Market=0&Tx_Trend=2&DateFrom=01-Aug-2025&DateTo=01-Aug-2025&Fr_Date=01-Aug-2025&To_Date=01-Aug-2025&Tx_CommodityHead=Ground+Nut+Seed&Tx_Commodity=268\n"
     ]
    },
    {
     "name": "stderr",
     "output_type": "stream",
     "text": [
      "/var/folders/jb/zy_516ps25g392kqdzfs61640000gn/T/ipykernel_78044/1959355148.py:16: FutureWarning: Passing literal html to 'read_html' is deprecated and will be removed in a future version. To read from a literal string, wrap it in a 'StringIO' object.\n",
      "  df = pd.read_html(table_html)[0]\n"
     ]
    },
    {
     "name": "stdout",
     "output_type": "stream",
     "text": [
      "Pulled data:  (11, 12)\n",
      "Pulling data from: https://agmarknet.gov.in/SearchCmmMkt.aspx?Tx_State=0&Tx_District=0&Tx_Market=0&Tx_Trend=2&DateFrom=01-Aug-2025&DateTo=01-Aug-2025&Fr_Date=01-Aug-2025&To_Date=01-Aug-2025&Tx_CommodityHead=Groundnut&Tx_Commodity=10\n"
     ]
    },
    {
     "name": "stderr",
     "output_type": "stream",
     "text": [
      "/var/folders/jb/zy_516ps25g392kqdzfs61640000gn/T/ipykernel_78044/1959355148.py:16: FutureWarning: Passing literal html to 'read_html' is deprecated and will be removed in a future version. To read from a literal string, wrap it in a 'StringIO' object.\n",
      "  df = pd.read_html(table_html)[0]\n"
     ]
    },
    {
     "name": "stdout",
     "output_type": "stream",
     "text": [
      "Pulled data:  (113, 12)\n",
      "Pulling data from: https://agmarknet.gov.in/SearchCmmMkt.aspx?Tx_State=0&Tx_District=0&Tx_Market=0&Tx_Trend=2&DateFrom=01-Aug-2025&DateTo=01-Aug-2025&Fr_Date=01-Aug-2025&To_Date=01-Aug-2025&Tx_CommodityHead=Groundnut+%28Split%29&Tx_Commodity=314\n"
     ]
    },
    {
     "name": "stderr",
     "output_type": "stream",
     "text": [
      "/var/folders/jb/zy_516ps25g392kqdzfs61640000gn/T/ipykernel_78044/1959355148.py:16: FutureWarning: Passing literal html to 'read_html' is deprecated and will be removed in a future version. To read from a literal string, wrap it in a 'StringIO' object.\n",
      "  df = pd.read_html(table_html)[0]\n"
     ]
    },
    {
     "name": "stdout",
     "output_type": "stream",
     "text": [
      "Pulled data:  (2, 12)\n",
      "Pulling data from: https://agmarknet.gov.in/SearchCmmMkt.aspx?Tx_State=0&Tx_District=0&Tx_Market=0&Tx_Trend=2&DateFrom=01-Aug-2025&DateTo=01-Aug-2025&Fr_Date=01-Aug-2025&To_Date=01-Aug-2025&Tx_CommodityHead=Groundnut+pods+%28raw%29&Tx_Commodity=312\n"
     ]
    },
    {
     "name": "stderr",
     "output_type": "stream",
     "text": [
      "/var/folders/jb/zy_516ps25g392kqdzfs61640000gn/T/ipykernel_78044/1959355148.py:16: FutureWarning: Passing literal html to 'read_html' is deprecated and will be removed in a future version. To read from a literal string, wrap it in a 'StringIO' object.\n",
      "  df = pd.read_html(table_html)[0]\n"
     ]
    },
    {
     "name": "stdout",
     "output_type": "stream",
     "text": [
      "Pulled data:  (4, 12)\n",
      "Pulling data from: https://agmarknet.gov.in/SearchCmmMkt.aspx?Tx_State=0&Tx_District=0&Tx_Market=0&Tx_Trend=2&DateFrom=01-Aug-2025&DateTo=01-Aug-2025&Fr_Date=01-Aug-2025&To_Date=01-Aug-2025&Tx_CommodityHead=Guar&Tx_Commodity=75\n"
     ]
    },
    {
     "name": "stderr",
     "output_type": "stream",
     "text": [
      "/var/folders/jb/zy_516ps25g392kqdzfs61640000gn/T/ipykernel_78044/1959355148.py:16: FutureWarning: Passing literal html to 'read_html' is deprecated and will be removed in a future version. To read from a literal string, wrap it in a 'StringIO' object.\n",
      "  df = pd.read_html(table_html)[0]\n"
     ]
    },
    {
     "name": "stdout",
     "output_type": "stream",
     "text": [
      "Pulled data:  (47, 12)\n",
      "Pulling data from: https://agmarknet.gov.in/SearchCmmMkt.aspx?Tx_State=0&Tx_District=0&Tx_Market=0&Tx_Trend=2&DateFrom=01-Aug-2025&DateTo=01-Aug-2025&Fr_Date=01-Aug-2025&To_Date=01-Aug-2025&Tx_CommodityHead=Guar+Seed%28Cluster+Beans+Seed%29&Tx_Commodity=413\n"
     ]
    },
    {
     "name": "stderr",
     "output_type": "stream",
     "text": [
      "/var/folders/jb/zy_516ps25g392kqdzfs61640000gn/T/ipykernel_78044/1959355148.py:16: FutureWarning: Passing literal html to 'read_html' is deprecated and will be removed in a future version. To read from a literal string, wrap it in a 'StringIO' object.\n",
      "  df = pd.read_html(table_html)[0]\n"
     ]
    },
    {
     "name": "stdout",
     "output_type": "stream",
     "text": [
      "Pulled data:  (14, 12)\n",
      "Pulling data from: https://agmarknet.gov.in/SearchCmmMkt.aspx?Tx_State=0&Tx_District=0&Tx_Market=0&Tx_Trend=2&DateFrom=01-Aug-2025&DateTo=01-Aug-2025&Fr_Date=01-Aug-2025&To_Date=01-Aug-2025&Tx_CommodityHead=Guava&Tx_Commodity=185\n"
     ]
    },
    {
     "name": "stderr",
     "output_type": "stream",
     "text": [
      "/var/folders/jb/zy_516ps25g392kqdzfs61640000gn/T/ipykernel_78044/1959355148.py:16: FutureWarning: Passing literal html to 'read_html' is deprecated and will be removed in a future version. To read from a literal string, wrap it in a 'StringIO' object.\n",
      "  df = pd.read_html(table_html)[0]\n"
     ]
    },
    {
     "name": "stdout",
     "output_type": "stream",
     "text": [
      "Pulled data:  (169, 12)\n",
      "Pulling data from: https://agmarknet.gov.in/SearchCmmMkt.aspx?Tx_State=0&Tx_District=0&Tx_Market=0&Tx_Trend=2&DateFrom=01-Aug-2025&DateTo=01-Aug-2025&Fr_Date=01-Aug-2025&To_Date=01-Aug-2025&Tx_CommodityHead=Gudmar&Tx_Commodity=453\n",
      "[WARN] 2025-08-01: Message: \n",
      "Stacktrace:\n",
      "0   chromedriver                        0x00000001026cb26c cxxbridge1$str$ptr + 2741972\n",
      "1   chromedriver                        0x00000001026c31dc cxxbridge1$str$ptr + 2709060\n",
      "2   chromedriver                        0x000000010220d4fc cxxbridge1$string$len + 90520\n",
      "3   chromedriver                        0x0000000102254a14 cxxbridge1$string$len + 382640\n",
      "4   chromedriver                        0x0000000102295db8 cxxbridge1$string$len + 649812\n",
      "5   chromedriver                        0x0000000102248d30 cxxbridge1$string$len + 334284\n",
      "6   chromedriver                        0x000000010268e66c cxxbridge1$str$ptr + 2493140\n",
      "7   chromedriver                        0x00000001026918a0 cxxbridge1$str$ptr + 2505992\n",
      "8   chromedriver                        0x000000010266f4a4 cxxbridge1$str$ptr + 2365708\n",
      "9   chromedriver                        0x000000010269215c cxxbridge1$str$ptr + 2508228\n",
      "10  chromedriver                        0x000000010266059c cxxbridge1$str$ptr + 2304516\n",
      "11  chromedriver                        0x00000001026b1c78 cxxbridge1$str$ptr + 2638048\n",
      "12  chromedriver                        0x00000001026b1e04 cxxbridge1$str$ptr + 2638444\n",
      "13  chromedriver                        0x00000001026c2e28 cxxbridge1$str$ptr + 2708112\n",
      "14  libsystem_pthread.dylib             0x00000001877a7c0c _pthread_start + 136\n",
      "15  libsystem_pthread.dylib             0x00000001877a2b80 thread_start + 8\n",
      "\n",
      "Pulling data from: https://agmarknet.gov.in/SearchCmmMkt.aspx?Tx_State=0&Tx_District=0&Tx_Market=0&Tx_Trend=2&DateFrom=01-Aug-2025&DateTo=01-Aug-2025&Fr_Date=01-Aug-2025&To_Date=01-Aug-2025&Tx_CommodityHead=Guggal&Tx_Commodity=454\n",
      "[WARN] 2025-08-01: Message: \n",
      "Stacktrace:\n",
      "0   chromedriver                        0x00000001026cb26c cxxbridge1$str$ptr + 2741972\n",
      "1   chromedriver                        0x00000001026c31dc cxxbridge1$str$ptr + 2709060\n",
      "2   chromedriver                        0x000000010220d4fc cxxbridge1$string$len + 90520\n",
      "3   chromedriver                        0x0000000102254a14 cxxbridge1$string$len + 382640\n",
      "4   chromedriver                        0x0000000102295db8 cxxbridge1$string$len + 649812\n",
      "5   chromedriver                        0x0000000102248d30 cxxbridge1$string$len + 334284\n",
      "6   chromedriver                        0x000000010268e66c cxxbridge1$str$ptr + 2493140\n",
      "7   chromedriver                        0x00000001026918a0 cxxbridge1$str$ptr + 2505992\n",
      "8   chromedriver                        0x000000010266f4a4 cxxbridge1$str$ptr + 2365708\n",
      "9   chromedriver                        0x000000010269215c cxxbridge1$str$ptr + 2508228\n",
      "10  chromedriver                        0x000000010266059c cxxbridge1$str$ptr + 2304516\n",
      "11  chromedriver                        0x00000001026b1c78 cxxbridge1$str$ptr + 2638048\n",
      "12  chromedriver                        0x00000001026b1e04 cxxbridge1$str$ptr + 2638444\n",
      "13  chromedriver                        0x00000001026c2e28 cxxbridge1$str$ptr + 2708112\n",
      "14  libsystem_pthread.dylib             0x00000001877a7c0c _pthread_start + 136\n",
      "15  libsystem_pthread.dylib             0x00000001877a2b80 thread_start + 8\n",
      "\n",
      "Pulling data from: https://agmarknet.gov.in/SearchCmmMkt.aspx?Tx_State=0&Tx_District=0&Tx_Market=0&Tx_Trend=2&DateFrom=01-Aug-2025&DateTo=01-Aug-2025&Fr_Date=01-Aug-2025&To_Date=01-Aug-2025&Tx_CommodityHead=gulli&Tx_Commodity=461\n"
     ]
    },
    {
     "name": "stderr",
     "output_type": "stream",
     "text": [
      "/var/folders/jb/zy_516ps25g392kqdzfs61640000gn/T/ipykernel_78044/1959355148.py:16: FutureWarning: Passing literal html to 'read_html' is deprecated and will be removed in a future version. To read from a literal string, wrap it in a 'StringIO' object.\n",
      "  df = pd.read_html(table_html)[0]\n"
     ]
    },
    {
     "name": "stdout",
     "output_type": "stream",
     "text": [
      "Pulled data:  (5, 12)\n",
      "Pulling data from: https://agmarknet.gov.in/SearchCmmMkt.aspx?Tx_State=0&Tx_District=0&Tx_Market=0&Tx_Trend=2&DateFrom=01-Aug-2025&DateTo=01-Aug-2025&Fr_Date=01-Aug-2025&To_Date=01-Aug-2025&Tx_CommodityHead=Gur%28Jaggery%29&Tx_Commodity=74\n"
     ]
    },
    {
     "name": "stderr",
     "output_type": "stream",
     "text": [
      "/var/folders/jb/zy_516ps25g392kqdzfs61640000gn/T/ipykernel_78044/1959355148.py:16: FutureWarning: Passing literal html to 'read_html' is deprecated and will be removed in a future version. To read from a literal string, wrap it in a 'StringIO' object.\n",
      "  df = pd.read_html(table_html)[0]\n"
     ]
    },
    {
     "name": "stdout",
     "output_type": "stream",
     "text": [
      "Pulled data:  (101, 12)\n",
      "Pulling data from: https://agmarknet.gov.in/SearchCmmMkt.aspx?Tx_State=0&Tx_District=0&Tx_Market=0&Tx_Trend=2&DateFrom=01-Aug-2025&DateTo=01-Aug-2025&Fr_Date=01-Aug-2025&To_Date=01-Aug-2025&Tx_CommodityHead=Gurellu&Tx_Commodity=279\n",
      "[WARN] 2025-08-01: Message: \n",
      "Stacktrace:\n",
      "0   chromedriver                        0x00000001026cb26c cxxbridge1$str$ptr + 2741972\n",
      "1   chromedriver                        0x00000001026c31dc cxxbridge1$str$ptr + 2709060\n",
      "2   chromedriver                        0x000000010220d4fc cxxbridge1$string$len + 90520\n",
      "3   chromedriver                        0x0000000102254a14 cxxbridge1$string$len + 382640\n",
      "4   chromedriver                        0x0000000102295db8 cxxbridge1$string$len + 649812\n",
      "5   chromedriver                        0x0000000102248d30 cxxbridge1$string$len + 334284\n",
      "6   chromedriver                        0x000000010268e66c cxxbridge1$str$ptr + 2493140\n",
      "7   chromedriver                        0x00000001026918a0 cxxbridge1$str$ptr + 2505992\n",
      "8   chromedriver                        0x000000010266f4a4 cxxbridge1$str$ptr + 2365708\n",
      "9   chromedriver                        0x000000010269215c cxxbridge1$str$ptr + 2508228\n",
      "10  chromedriver                        0x000000010266059c cxxbridge1$str$ptr + 2304516\n",
      "11  chromedriver                        0x00000001026b1c78 cxxbridge1$str$ptr + 2638048\n",
      "12  chromedriver                        0x00000001026b1e04 cxxbridge1$str$ptr + 2638444\n",
      "13  chromedriver                        0x00000001026c2e28 cxxbridge1$str$ptr + 2708112\n",
      "14  libsystem_pthread.dylib             0x00000001877a7c0c _pthread_start + 136\n",
      "15  libsystem_pthread.dylib             0x00000001877a2b80 thread_start + 8\n",
      "\n",
      "Pulling data from: https://agmarknet.gov.in/SearchCmmMkt.aspx?Tx_State=0&Tx_District=0&Tx_Market=0&Tx_Trend=2&DateFrom=01-Aug-2025&DateTo=01-Aug-2025&Fr_Date=01-Aug-2025&To_Date=01-Aug-2025&Tx_CommodityHead=gypsophila&Tx_Commodity=469\n",
      "[WARN] 2025-08-01: Message: \n",
      "Stacktrace:\n",
      "0   chromedriver                        0x00000001026cb26c cxxbridge1$str$ptr + 2741972\n",
      "1   chromedriver                        0x00000001026c31dc cxxbridge1$str$ptr + 2709060\n",
      "2   chromedriver                        0x000000010220d4fc cxxbridge1$string$len + 90520\n",
      "3   chromedriver                        0x0000000102254a14 cxxbridge1$string$len + 382640\n",
      "4   chromedriver                        0x0000000102295db8 cxxbridge1$string$len + 649812\n",
      "5   chromedriver                        0x0000000102248d30 cxxbridge1$string$len + 334284\n",
      "6   chromedriver                        0x000000010268e66c cxxbridge1$str$ptr + 2493140\n",
      "7   chromedriver                        0x00000001026918a0 cxxbridge1$str$ptr + 2505992\n",
      "8   chromedriver                        0x000000010266f4a4 cxxbridge1$str$ptr + 2365708\n",
      "9   chromedriver                        0x000000010269215c cxxbridge1$str$ptr + 2508228\n",
      "10  chromedriver                        0x000000010266059c cxxbridge1$str$ptr + 2304516\n",
      "11  chromedriver                        0x00000001026b1c78 cxxbridge1$str$ptr + 2638048\n",
      "12  chromedriver                        0x00000001026b1e04 cxxbridge1$str$ptr + 2638444\n",
      "13  chromedriver                        0x00000001026c2e28 cxxbridge1$str$ptr + 2708112\n",
      "14  libsystem_pthread.dylib             0x00000001877a7c0c _pthread_start + 136\n",
      "15  libsystem_pthread.dylib             0x00000001877a2b80 thread_start + 8\n",
      "\n",
      "Pulling data from: https://agmarknet.gov.in/SearchCmmMkt.aspx?Tx_State=0&Tx_District=0&Tx_Market=0&Tx_Trend=2&DateFrom=01-Aug-2025&DateTo=01-Aug-2025&Fr_Date=01-Aug-2025&To_Date=01-Aug-2025&Tx_CommodityHead=Haralekai&Tx_Commodity=252\n",
      "[WARN] 2025-08-01: Message: \n",
      "Stacktrace:\n",
      "0   chromedriver                        0x00000001026cb26c cxxbridge1$str$ptr + 2741972\n",
      "1   chromedriver                        0x00000001026c31dc cxxbridge1$str$ptr + 2709060\n",
      "2   chromedriver                        0x000000010220d4fc cxxbridge1$string$len + 90520\n",
      "3   chromedriver                        0x0000000102254a14 cxxbridge1$string$len + 382640\n",
      "4   chromedriver                        0x0000000102295db8 cxxbridge1$string$len + 649812\n",
      "5   chromedriver                        0x0000000102248d30 cxxbridge1$string$len + 334284\n",
      "6   chromedriver                        0x000000010268e66c cxxbridge1$str$ptr + 2493140\n",
      "7   chromedriver                        0x00000001026918a0 cxxbridge1$str$ptr + 2505992\n",
      "8   chromedriver                        0x000000010266f4a4 cxxbridge1$str$ptr + 2365708\n",
      "9   chromedriver                        0x000000010269215c cxxbridge1$str$ptr + 2508228\n",
      "10  chromedriver                        0x000000010266059c cxxbridge1$str$ptr + 2304516\n",
      "11  chromedriver                        0x00000001026b1c78 cxxbridge1$str$ptr + 2638048\n",
      "12  chromedriver                        0x00000001026b1e04 cxxbridge1$str$ptr + 2638444\n",
      "13  chromedriver                        0x00000001026c2e28 cxxbridge1$str$ptr + 2708112\n",
      "14  libsystem_pthread.dylib             0x00000001877a7c0c _pthread_start + 136\n",
      "15  libsystem_pthread.dylib             0x00000001877a2b80 thread_start + 8\n",
      "\n",
      "Pulling data from: https://agmarknet.gov.in/SearchCmmMkt.aspx?Tx_State=0&Tx_District=0&Tx_Market=0&Tx_Trend=2&DateFrom=01-Aug-2025&DateTo=01-Aug-2025&Fr_Date=01-Aug-2025&To_Date=01-Aug-2025&Tx_CommodityHead=Harrah&Tx_Commodity=512\n",
      "[WARN] 2025-08-01: Message: \n",
      "Stacktrace:\n",
      "0   chromedriver                        0x00000001026cb26c cxxbridge1$str$ptr + 2741972\n",
      "1   chromedriver                        0x00000001026c31dc cxxbridge1$str$ptr + 2709060\n",
      "2   chromedriver                        0x000000010220d4fc cxxbridge1$string$len + 90520\n",
      "3   chromedriver                        0x0000000102254a14 cxxbridge1$string$len + 382640\n",
      "4   chromedriver                        0x0000000102295db8 cxxbridge1$string$len + 649812\n",
      "5   chromedriver                        0x0000000102248d30 cxxbridge1$string$len + 334284\n",
      "6   chromedriver                        0x000000010268e66c cxxbridge1$str$ptr + 2493140\n",
      "7   chromedriver                        0x00000001026918a0 cxxbridge1$str$ptr + 2505992\n",
      "8   chromedriver                        0x000000010266f4a4 cxxbridge1$str$ptr + 2365708\n",
      "9   chromedriver                        0x000000010269215c cxxbridge1$str$ptr + 2508228\n",
      "10  chromedriver                        0x000000010266059c cxxbridge1$str$ptr + 2304516\n",
      "11  chromedriver                        0x00000001026b1c78 cxxbridge1$str$ptr + 2638048\n",
      "12  chromedriver                        0x00000001026b1e04 cxxbridge1$str$ptr + 2638444\n",
      "13  chromedriver                        0x00000001026c2e28 cxxbridge1$str$ptr + 2708112\n",
      "14  libsystem_pthread.dylib             0x00000001877a7c0c _pthread_start + 136\n",
      "15  libsystem_pthread.dylib             0x00000001877a2b80 thread_start + 8\n",
      "\n",
      "Pulling data from: https://agmarknet.gov.in/SearchCmmMkt.aspx?Tx_State=0&Tx_District=0&Tx_Market=0&Tx_Trend=2&DateFrom=01-Aug-2025&DateTo=01-Aug-2025&Fr_Date=01-Aug-2025&To_Date=01-Aug-2025&Tx_CommodityHead=He+Buffalo&Tx_Commodity=216\n"
     ]
    },
    {
     "name": "stderr",
     "output_type": "stream",
     "text": [
      "/var/folders/jb/zy_516ps25g392kqdzfs61640000gn/T/ipykernel_78044/1959355148.py:16: FutureWarning: Passing literal html to 'read_html' is deprecated and will be removed in a future version. To read from a literal string, wrap it in a 'StringIO' object.\n",
      "  df = pd.read_html(table_html)[0]\n"
     ]
    },
    {
     "name": "stdout",
     "output_type": "stream",
     "text": [
      "Pulled data:  (1, 12)\n",
      "Pulling data from: https://agmarknet.gov.in/SearchCmmMkt.aspx?Tx_State=0&Tx_District=0&Tx_Market=0&Tx_Trend=2&DateFrom=01-Aug-2025&DateTo=01-Aug-2025&Fr_Date=01-Aug-2025&To_Date=01-Aug-2025&Tx_CommodityHead=Heliconia+species&Tx_Commodity=474\n",
      "[WARN] 2025-08-01: Message: \n",
      "Stacktrace:\n",
      "0   chromedriver                        0x00000001026cb26c cxxbridge1$str$ptr + 2741972\n",
      "1   chromedriver                        0x00000001026c31dc cxxbridge1$str$ptr + 2709060\n",
      "2   chromedriver                        0x000000010220d4fc cxxbridge1$string$len + 90520\n",
      "3   chromedriver                        0x0000000102254a14 cxxbridge1$string$len + 382640\n",
      "4   chromedriver                        0x0000000102295db8 cxxbridge1$string$len + 649812\n",
      "5   chromedriver                        0x0000000102248d30 cxxbridge1$string$len + 334284\n",
      "6   chromedriver                        0x000000010268e66c cxxbridge1$str$ptr + 2493140\n",
      "7   chromedriver                        0x00000001026918a0 cxxbridge1$str$ptr + 2505992\n",
      "8   chromedriver                        0x000000010266f4a4 cxxbridge1$str$ptr + 2365708\n",
      "9   chromedriver                        0x000000010269215c cxxbridge1$str$ptr + 2508228\n",
      "10  chromedriver                        0x000000010266059c cxxbridge1$str$ptr + 2304516\n",
      "11  chromedriver                        0x00000001026b1c78 cxxbridge1$str$ptr + 2638048\n",
      "12  chromedriver                        0x00000001026b1e04 cxxbridge1$str$ptr + 2638444\n",
      "13  chromedriver                        0x00000001026c2e28 cxxbridge1$str$ptr + 2708112\n",
      "14  libsystem_pthread.dylib             0x00000001877a7c0c _pthread_start + 136\n",
      "15  libsystem_pthread.dylib             0x00000001877a2b80 thread_start + 8\n",
      "\n",
      "Pulling data from: https://agmarknet.gov.in/SearchCmmMkt.aspx?Tx_State=0&Tx_District=0&Tx_Market=0&Tx_Trend=2&DateFrom=01-Aug-2025&DateTo=01-Aug-2025&Fr_Date=01-Aug-2025&To_Date=01-Aug-2025&Tx_CommodityHead=Hen&Tx_Commodity=369\n"
     ]
    },
    {
     "name": "stderr",
     "output_type": "stream",
     "text": [
      "/var/folders/jb/zy_516ps25g392kqdzfs61640000gn/T/ipykernel_78044/1959355148.py:16: FutureWarning: Passing literal html to 'read_html' is deprecated and will be removed in a future version. To read from a literal string, wrap it in a 'StringIO' object.\n",
      "  df = pd.read_html(table_html)[0]\n"
     ]
    },
    {
     "name": "stdout",
     "output_type": "stream",
     "text": [
      "Pulled data:  (1, 12)\n",
      "Pulling data from: https://agmarknet.gov.in/SearchCmmMkt.aspx?Tx_State=0&Tx_District=0&Tx_Market=0&Tx_Trend=2&DateFrom=01-Aug-2025&DateTo=01-Aug-2025&Fr_Date=01-Aug-2025&To_Date=01-Aug-2025&Tx_CommodityHead=Hippe+Seed&Tx_Commodity=125\n",
      "[WARN] 2025-08-01: Message: \n",
      "Stacktrace:\n",
      "0   chromedriver                        0x00000001026cb26c cxxbridge1$str$ptr + 2741972\n",
      "1   chromedriver                        0x00000001026c31dc cxxbridge1$str$ptr + 2709060\n",
      "2   chromedriver                        0x000000010220d4fc cxxbridge1$string$len + 90520\n",
      "3   chromedriver                        0x0000000102254a14 cxxbridge1$string$len + 382640\n",
      "4   chromedriver                        0x0000000102295db8 cxxbridge1$string$len + 649812\n",
      "5   chromedriver                        0x0000000102248d30 cxxbridge1$string$len + 334284\n",
      "6   chromedriver                        0x000000010268e66c cxxbridge1$str$ptr + 2493140\n",
      "7   chromedriver                        0x00000001026918a0 cxxbridge1$str$ptr + 2505992\n",
      "8   chromedriver                        0x000000010266f4a4 cxxbridge1$str$ptr + 2365708\n",
      "9   chromedriver                        0x000000010269215c cxxbridge1$str$ptr + 2508228\n",
      "10  chromedriver                        0x000000010266059c cxxbridge1$str$ptr + 2304516\n",
      "11  chromedriver                        0x00000001026b1c78 cxxbridge1$str$ptr + 2638048\n",
      "12  chromedriver                        0x00000001026b1e04 cxxbridge1$str$ptr + 2638444\n",
      "13  chromedriver                        0x00000001026c2e28 cxxbridge1$str$ptr + 2708112\n",
      "14  libsystem_pthread.dylib             0x00000001877a7c0c _pthread_start + 136\n",
      "15  libsystem_pthread.dylib             0x00000001877a2b80 thread_start + 8\n",
      "\n",
      "Pulling data from: https://agmarknet.gov.in/SearchCmmMkt.aspx?Tx_State=0&Tx_District=0&Tx_Market=0&Tx_Trend=2&DateFrom=01-Aug-2025&DateTo=01-Aug-2025&Fr_Date=01-Aug-2025&To_Date=01-Aug-2025&Tx_CommodityHead=Honey&Tx_Commodity=236\n",
      "[WARN] 2025-08-01: Message: \n",
      "Stacktrace:\n",
      "0   chromedriver                        0x00000001026cb26c cxxbridge1$str$ptr + 2741972\n",
      "1   chromedriver                        0x00000001026c31dc cxxbridge1$str$ptr + 2709060\n",
      "2   chromedriver                        0x000000010220d4fc cxxbridge1$string$len + 90520\n",
      "3   chromedriver                        0x0000000102254a14 cxxbridge1$string$len + 382640\n",
      "4   chromedriver                        0x0000000102295db8 cxxbridge1$string$len + 649812\n",
      "5   chromedriver                        0x0000000102248d30 cxxbridge1$string$len + 334284\n",
      "6   chromedriver                        0x000000010268e66c cxxbridge1$str$ptr + 2493140\n",
      "7   chromedriver                        0x00000001026918a0 cxxbridge1$str$ptr + 2505992\n",
      "8   chromedriver                        0x000000010266f4a4 cxxbridge1$str$ptr + 2365708\n",
      "9   chromedriver                        0x000000010269215c cxxbridge1$str$ptr + 2508228\n",
      "10  chromedriver                        0x000000010266059c cxxbridge1$str$ptr + 2304516\n",
      "11  chromedriver                        0x00000001026b1c78 cxxbridge1$str$ptr + 2638048\n",
      "12  chromedriver                        0x00000001026b1e04 cxxbridge1$str$ptr + 2638444\n",
      "13  chromedriver                        0x00000001026c2e28 cxxbridge1$str$ptr + 2708112\n",
      "14  libsystem_pthread.dylib             0x00000001877a7c0c _pthread_start + 136\n",
      "15  libsystem_pthread.dylib             0x00000001877a2b80 thread_start + 8\n",
      "\n",
      "Pulling data from: https://agmarknet.gov.in/SearchCmmMkt.aspx?Tx_State=0&Tx_District=0&Tx_Market=0&Tx_Trend=2&DateFrom=01-Aug-2025&DateTo=01-Aug-2025&Fr_Date=01-Aug-2025&To_Date=01-Aug-2025&Tx_CommodityHead=Honge+seed&Tx_Commodity=124\n",
      "[WARN] 2025-08-01: Message: \n",
      "Stacktrace:\n",
      "0   chromedriver                        0x00000001026cb26c cxxbridge1$str$ptr + 2741972\n",
      "1   chromedriver                        0x00000001026c31dc cxxbridge1$str$ptr + 2709060\n",
      "2   chromedriver                        0x000000010220d4fc cxxbridge1$string$len + 90520\n",
      "3   chromedriver                        0x0000000102254a14 cxxbridge1$string$len + 382640\n",
      "4   chromedriver                        0x0000000102295db8 cxxbridge1$string$len + 649812\n",
      "5   chromedriver                        0x0000000102248d30 cxxbridge1$string$len + 334284\n",
      "6   chromedriver                        0x000000010268e66c cxxbridge1$str$ptr + 2493140\n",
      "7   chromedriver                        0x00000001026918a0 cxxbridge1$str$ptr + 2505992\n",
      "8   chromedriver                        0x000000010266f4a4 cxxbridge1$str$ptr + 2365708\n",
      "9   chromedriver                        0x000000010269215c cxxbridge1$str$ptr + 2508228\n",
      "10  chromedriver                        0x000000010266059c cxxbridge1$str$ptr + 2304516\n",
      "11  chromedriver                        0x00000001026b1c78 cxxbridge1$str$ptr + 2638048\n",
      "12  chromedriver                        0x00000001026b1e04 cxxbridge1$str$ptr + 2638444\n",
      "13  chromedriver                        0x00000001026c2e28 cxxbridge1$str$ptr + 2708112\n",
      "14  libsystem_pthread.dylib             0x00000001877a7c0c _pthread_start + 136\n",
      "15  libsystem_pthread.dylib             0x00000001877a2b80 thread_start + 8\n",
      "\n",
      "Pulling data from: https://agmarknet.gov.in/SearchCmmMkt.aspx?Tx_State=0&Tx_District=0&Tx_Market=0&Tx_Trend=2&DateFrom=01-Aug-2025&DateTo=01-Aug-2025&Fr_Date=01-Aug-2025&To_Date=01-Aug-2025&Tx_CommodityHead=Hybrid+Cumbu&Tx_Commodity=119\n",
      "[WARN] 2025-08-01: Message: \n",
      "Stacktrace:\n",
      "0   chromedriver                        0x00000001026cb26c cxxbridge1$str$ptr + 2741972\n",
      "1   chromedriver                        0x00000001026c31dc cxxbridge1$str$ptr + 2709060\n",
      "2   chromedriver                        0x000000010220d4fc cxxbridge1$string$len + 90520\n",
      "3   chromedriver                        0x0000000102254a14 cxxbridge1$string$len + 382640\n",
      "4   chromedriver                        0x0000000102295db8 cxxbridge1$string$len + 649812\n",
      "5   chromedriver                        0x0000000102248d30 cxxbridge1$string$len + 334284\n",
      "6   chromedriver                        0x000000010268e66c cxxbridge1$str$ptr + 2493140\n",
      "7   chromedriver                        0x00000001026918a0 cxxbridge1$str$ptr + 2505992\n",
      "8   chromedriver                        0x000000010266f4a4 cxxbridge1$str$ptr + 2365708\n",
      "9   chromedriver                        0x000000010269215c cxxbridge1$str$ptr + 2508228\n",
      "10  chromedriver                        0x000000010266059c cxxbridge1$str$ptr + 2304516\n",
      "11  chromedriver                        0x00000001026b1c78 cxxbridge1$str$ptr + 2638048\n",
      "12  chromedriver                        0x00000001026b1e04 cxxbridge1$str$ptr + 2638444\n",
      "13  chromedriver                        0x00000001026c2e28 cxxbridge1$str$ptr + 2708112\n",
      "14  libsystem_pthread.dylib             0x00000001877a7c0c _pthread_start + 136\n",
      "15  libsystem_pthread.dylib             0x00000001877a2b80 thread_start + 8\n",
      "\n",
      "Pulling data from: https://agmarknet.gov.in/SearchCmmMkt.aspx?Tx_State=0&Tx_District=0&Tx_Market=0&Tx_Trend=2&DateFrom=01-Aug-2025&DateTo=01-Aug-2025&Fr_Date=01-Aug-2025&To_Date=01-Aug-2025&Tx_CommodityHead=hydrangea&Tx_Commodity=473\n",
      "[WARN] 2025-08-01: Message: \n",
      "Stacktrace:\n",
      "0   chromedriver                        0x00000001026cb26c cxxbridge1$str$ptr + 2741972\n",
      "1   chromedriver                        0x00000001026c31dc cxxbridge1$str$ptr + 2709060\n",
      "2   chromedriver                        0x000000010220d4fc cxxbridge1$string$len + 90520\n",
      "3   chromedriver                        0x0000000102254a14 cxxbridge1$string$len + 382640\n",
      "4   chromedriver                        0x0000000102295db8 cxxbridge1$string$len + 649812\n",
      "5   chromedriver                        0x0000000102248d30 cxxbridge1$string$len + 334284\n",
      "6   chromedriver                        0x000000010268e66c cxxbridge1$str$ptr + 2493140\n",
      "7   chromedriver                        0x00000001026918a0 cxxbridge1$str$ptr + 2505992\n",
      "8   chromedriver                        0x000000010266f4a4 cxxbridge1$str$ptr + 2365708\n",
      "9   chromedriver                        0x000000010269215c cxxbridge1$str$ptr + 2508228\n",
      "10  chromedriver                        0x000000010266059c cxxbridge1$str$ptr + 2304516\n",
      "11  chromedriver                        0x00000001026b1c78 cxxbridge1$str$ptr + 2638048\n",
      "12  chromedriver                        0x00000001026b1e04 cxxbridge1$str$ptr + 2638444\n",
      "13  chromedriver                        0x00000001026c2e28 cxxbridge1$str$ptr + 2708112\n",
      "14  libsystem_pthread.dylib             0x00000001877a7c0c _pthread_start + 136\n",
      "15  libsystem_pthread.dylib             0x00000001877a2b80 thread_start + 8\n",
      "\n",
      "Pulling data from: https://agmarknet.gov.in/SearchCmmMkt.aspx?Tx_State=0&Tx_District=0&Tx_Market=0&Tx_Trend=2&DateFrom=01-Aug-2025&DateTo=01-Aug-2025&Fr_Date=01-Aug-2025&To_Date=01-Aug-2025&Tx_CommodityHead=Indian+Beans+%28Seam%29&Tx_Commodity=299\n"
     ]
    },
    {
     "name": "stderr",
     "output_type": "stream",
     "text": [
      "/var/folders/jb/zy_516ps25g392kqdzfs61640000gn/T/ipykernel_78044/1959355148.py:16: FutureWarning: Passing literal html to 'read_html' is deprecated and will be removed in a future version. To read from a literal string, wrap it in a 'StringIO' object.\n",
      "  df = pd.read_html(table_html)[0]\n"
     ]
    },
    {
     "name": "stdout",
     "output_type": "stream",
     "text": [
      "Pulled data:  (54, 12)\n",
      "Pulling data from: https://agmarknet.gov.in/SearchCmmMkt.aspx?Tx_State=0&Tx_District=0&Tx_Market=0&Tx_Trend=2&DateFrom=01-Aug-2025&DateTo=01-Aug-2025&Fr_Date=01-Aug-2025&To_Date=01-Aug-2025&Tx_CommodityHead=Indian+Colza%28Sarson%29&Tx_Commodity=344\n",
      "[WARN] 2025-08-01: Message: \n",
      "Stacktrace:\n",
      "0   chromedriver                        0x00000001026cb26c cxxbridge1$str$ptr + 2741972\n",
      "1   chromedriver                        0x00000001026c31dc cxxbridge1$str$ptr + 2709060\n",
      "2   chromedriver                        0x000000010220d4fc cxxbridge1$string$len + 90520\n",
      "3   chromedriver                        0x0000000102254a14 cxxbridge1$string$len + 382640\n",
      "4   chromedriver                        0x0000000102295db8 cxxbridge1$string$len + 649812\n",
      "5   chromedriver                        0x0000000102248d30 cxxbridge1$string$len + 334284\n",
      "6   chromedriver                        0x000000010268e66c cxxbridge1$str$ptr + 2493140\n",
      "7   chromedriver                        0x00000001026918a0 cxxbridge1$str$ptr + 2505992\n",
      "8   chromedriver                        0x000000010266f4a4 cxxbridge1$str$ptr + 2365708\n",
      "9   chromedriver                        0x000000010269215c cxxbridge1$str$ptr + 2508228\n",
      "10  chromedriver                        0x000000010266059c cxxbridge1$str$ptr + 2304516\n",
      "11  chromedriver                        0x00000001026b1c78 cxxbridge1$str$ptr + 2638048\n",
      "12  chromedriver                        0x00000001026b1e04 cxxbridge1$str$ptr + 2638444\n",
      "13  chromedriver                        0x00000001026c2e28 cxxbridge1$str$ptr + 2708112\n",
      "14  libsystem_pthread.dylib             0x00000001877a7c0c _pthread_start + 136\n",
      "15  libsystem_pthread.dylib             0x00000001877a2b80 thread_start + 8\n",
      "\n",
      "Pulling data from: https://agmarknet.gov.in/SearchCmmMkt.aspx?Tx_State=0&Tx_District=0&Tx_Market=0&Tx_Trend=2&DateFrom=01-Aug-2025&DateTo=01-Aug-2025&Fr_Date=01-Aug-2025&To_Date=01-Aug-2025&Tx_CommodityHead=Irish&Tx_Commodity=465\n",
      "[WARN] 2025-08-01: Message: \n",
      "Stacktrace:\n",
      "0   chromedriver                        0x00000001026cb26c cxxbridge1$str$ptr + 2741972\n",
      "1   chromedriver                        0x00000001026c31dc cxxbridge1$str$ptr + 2709060\n",
      "2   chromedriver                        0x000000010220d4fc cxxbridge1$string$len + 90520\n",
      "3   chromedriver                        0x0000000102254a14 cxxbridge1$string$len + 382640\n",
      "4   chromedriver                        0x0000000102295db8 cxxbridge1$string$len + 649812\n",
      "5   chromedriver                        0x0000000102248d30 cxxbridge1$string$len + 334284\n",
      "6   chromedriver                        0x000000010268e66c cxxbridge1$str$ptr + 2493140\n",
      "7   chromedriver                        0x00000001026918a0 cxxbridge1$str$ptr + 2505992\n",
      "8   chromedriver                        0x000000010266f4a4 cxxbridge1$str$ptr + 2365708\n",
      "9   chromedriver                        0x000000010269215c cxxbridge1$str$ptr + 2508228\n",
      "10  chromedriver                        0x000000010266059c cxxbridge1$str$ptr + 2304516\n",
      "11  chromedriver                        0x00000001026b1c78 cxxbridge1$str$ptr + 2638048\n",
      "12  chromedriver                        0x00000001026b1e04 cxxbridge1$str$ptr + 2638444\n",
      "13  chromedriver                        0x00000001026c2e28 cxxbridge1$str$ptr + 2708112\n",
      "14  libsystem_pthread.dylib             0x00000001877a7c0c _pthread_start + 136\n",
      "15  libsystem_pthread.dylib             0x00000001877a2b80 thread_start + 8\n",
      "\n",
      "Pulling data from: https://agmarknet.gov.in/SearchCmmMkt.aspx?Tx_State=0&Tx_District=0&Tx_Market=0&Tx_Trend=2&DateFrom=01-Aug-2025&DateTo=01-Aug-2025&Fr_Date=01-Aug-2025&To_Date=01-Aug-2025&Tx_CommodityHead=Isabgul+%28Psyllium%29&Tx_Commodity=256\n"
     ]
    },
    {
     "name": "stderr",
     "output_type": "stream",
     "text": [
      "/var/folders/jb/zy_516ps25g392kqdzfs61640000gn/T/ipykernel_78044/1959355148.py:16: FutureWarning: Passing literal html to 'read_html' is deprecated and will be removed in a future version. To read from a literal string, wrap it in a 'StringIO' object.\n",
      "  df = pd.read_html(table_html)[0]\n"
     ]
    },
    {
     "name": "stdout",
     "output_type": "stream",
     "text": [
      "Pulled data:  (14, 12)\n",
      "Pulling data from: https://agmarknet.gov.in/SearchCmmMkt.aspx?Tx_State=0&Tx_District=0&Tx_Market=0&Tx_Trend=2&DateFrom=01-Aug-2025&DateTo=01-Aug-2025&Fr_Date=01-Aug-2025&To_Date=01-Aug-2025&Tx_CommodityHead=Jack+Fruit&Tx_Commodity=182\n"
     ]
    },
    {
     "name": "stderr",
     "output_type": "stream",
     "text": [
      "/var/folders/jb/zy_516ps25g392kqdzfs61640000gn/T/ipykernel_78044/1959355148.py:16: FutureWarning: Passing literal html to 'read_html' is deprecated and will be removed in a future version. To read from a literal string, wrap it in a 'StringIO' object.\n",
      "  df = pd.read_html(table_html)[0]\n"
     ]
    },
    {
     "name": "stdout",
     "output_type": "stream",
     "text": [
      "Pulled data:  (43, 12)\n",
      "Pulling data from: https://agmarknet.gov.in/SearchCmmMkt.aspx?Tx_State=0&Tx_District=0&Tx_Market=0&Tx_Trend=2&DateFrom=01-Aug-2025&DateTo=01-Aug-2025&Fr_Date=01-Aug-2025&To_Date=01-Aug-2025&Tx_CommodityHead=Jaee&Tx_Commodity=513\n",
      "[WARN] 2025-08-01: Message: \n",
      "Stacktrace:\n",
      "0   chromedriver                        0x000000010124726c cxxbridge1$str$ptr + 2741972\n",
      "1   chromedriver                        0x000000010123f1dc cxxbridge1$str$ptr + 2709060\n",
      "2   chromedriver                        0x0000000100d894fc cxxbridge1$string$len + 90520\n",
      "3   chromedriver                        0x0000000100dd0a14 cxxbridge1$string$len + 382640\n",
      "4   chromedriver                        0x0000000100e11db8 cxxbridge1$string$len + 649812\n",
      "5   chromedriver                        0x0000000100dc4d30 cxxbridge1$string$len + 334284\n",
      "6   chromedriver                        0x000000010120a66c cxxbridge1$str$ptr + 2493140\n",
      "7   chromedriver                        0x000000010120d8a0 cxxbridge1$str$ptr + 2505992\n",
      "8   chromedriver                        0x00000001011eb4a4 cxxbridge1$str$ptr + 2365708\n",
      "9   chromedriver                        0x000000010120e15c cxxbridge1$str$ptr + 2508228\n",
      "10  chromedriver                        0x00000001011dc59c cxxbridge1$str$ptr + 2304516\n",
      "11  chromedriver                        0x000000010122dc78 cxxbridge1$str$ptr + 2638048\n",
      "12  chromedriver                        0x000000010122de04 cxxbridge1$str$ptr + 2638444\n",
      "13  chromedriver                        0x000000010123ee28 cxxbridge1$str$ptr + 2708112\n",
      "14  libsystem_pthread.dylib             0x00000001877a7c0c _pthread_start + 136\n",
      "15  libsystem_pthread.dylib             0x00000001877a2b80 thread_start + 8\n",
      "\n",
      "Pulling data from: https://agmarknet.gov.in/SearchCmmMkt.aspx?Tx_State=0&Tx_District=0&Tx_Market=0&Tx_Trend=2&DateFrom=01-Aug-2025&DateTo=01-Aug-2025&Fr_Date=01-Aug-2025&To_Date=01-Aug-2025&Tx_CommodityHead=Jaffri&Tx_Commodity=406\n",
      "[WARN] 2025-08-01: Message: \n",
      "Stacktrace:\n",
      "0   chromedriver                        0x000000010124726c cxxbridge1$str$ptr + 2741972\n",
      "1   chromedriver                        0x000000010123f1dc cxxbridge1$str$ptr + 2709060\n",
      "2   chromedriver                        0x0000000100d894fc cxxbridge1$string$len + 90520\n",
      "3   chromedriver                        0x0000000100dd0a14 cxxbridge1$string$len + 382640\n",
      "4   chromedriver                        0x0000000100e11db8 cxxbridge1$string$len + 649812\n",
      "5   chromedriver                        0x0000000100dc4d30 cxxbridge1$string$len + 334284\n",
      "6   chromedriver                        0x000000010120a66c cxxbridge1$str$ptr + 2493140\n",
      "7   chromedriver                        0x000000010120d8a0 cxxbridge1$str$ptr + 2505992\n",
      "8   chromedriver                        0x00000001011eb4a4 cxxbridge1$str$ptr + 2365708\n",
      "9   chromedriver                        0x000000010120e15c cxxbridge1$str$ptr + 2508228\n",
      "10  chromedriver                        0x00000001011dc59c cxxbridge1$str$ptr + 2304516\n",
      "11  chromedriver                        0x000000010122dc78 cxxbridge1$str$ptr + 2638048\n",
      "12  chromedriver                        0x000000010122de04 cxxbridge1$str$ptr + 2638444\n",
      "13  chromedriver                        0x000000010123ee28 cxxbridge1$str$ptr + 2708112\n",
      "14  libsystem_pthread.dylib             0x00000001877a7c0c _pthread_start + 136\n",
      "15  libsystem_pthread.dylib             0x00000001877a2b80 thread_start + 8\n",
      "\n",
      "Pulling data from: https://agmarknet.gov.in/SearchCmmMkt.aspx?Tx_State=0&Tx_District=0&Tx_Market=0&Tx_Trend=2&DateFrom=01-Aug-2025&DateTo=01-Aug-2025&Fr_Date=01-Aug-2025&To_Date=01-Aug-2025&Tx_CommodityHead=Jaggery&Tx_Commodity=151\n",
      "[WARN] 2025-08-01: Message: \n",
      "Stacktrace:\n",
      "0   chromedriver                        0x000000010124726c cxxbridge1$str$ptr + 2741972\n",
      "1   chromedriver                        0x000000010123f1dc cxxbridge1$str$ptr + 2709060\n",
      "2   chromedriver                        0x0000000100d894fc cxxbridge1$string$len + 90520\n",
      "3   chromedriver                        0x0000000100dd0a14 cxxbridge1$string$len + 382640\n",
      "4   chromedriver                        0x0000000100e11db8 cxxbridge1$string$len + 649812\n",
      "5   chromedriver                        0x0000000100dc4d30 cxxbridge1$string$len + 334284\n",
      "6   chromedriver                        0x000000010120a66c cxxbridge1$str$ptr + 2493140\n",
      "7   chromedriver                        0x000000010120d8a0 cxxbridge1$str$ptr + 2505992\n",
      "8   chromedriver                        0x00000001011eb4a4 cxxbridge1$str$ptr + 2365708\n",
      "9   chromedriver                        0x000000010120e15c cxxbridge1$str$ptr + 2508228\n",
      "10  chromedriver                        0x00000001011dc59c cxxbridge1$str$ptr + 2304516\n",
      "11  chromedriver                        0x000000010122dc78 cxxbridge1$str$ptr + 2638048\n",
      "12  chromedriver                        0x000000010122de04 cxxbridge1$str$ptr + 2638444\n",
      "13  chromedriver                        0x000000010123ee28 cxxbridge1$str$ptr + 2708112\n",
      "14  libsystem_pthread.dylib             0x00000001877a7c0c _pthread_start + 136\n",
      "15  libsystem_pthread.dylib             0x00000001877a2b80 thread_start + 8\n",
      "\n",
      "Pulling data from: https://agmarknet.gov.in/SearchCmmMkt.aspx?Tx_State=0&Tx_District=0&Tx_Market=0&Tx_Trend=2&DateFrom=01-Aug-2025&DateTo=01-Aug-2025&Fr_Date=01-Aug-2025&To_Date=01-Aug-2025&Tx_CommodityHead=Jamamkhan&Tx_Commodity=175\n",
      "[WARN] 2025-08-01: Message: \n",
      "Stacktrace:\n",
      "0   chromedriver                        0x000000010124726c cxxbridge1$str$ptr + 2741972\n",
      "1   chromedriver                        0x000000010123f1dc cxxbridge1$str$ptr + 2709060\n",
      "2   chromedriver                        0x0000000100d894fc cxxbridge1$string$len + 90520\n",
      "3   chromedriver                        0x0000000100dd0a14 cxxbridge1$string$len + 382640\n",
      "4   chromedriver                        0x0000000100e11db8 cxxbridge1$string$len + 649812\n",
      "5   chromedriver                        0x0000000100dc4d30 cxxbridge1$string$len + 334284\n",
      "6   chromedriver                        0x000000010120a66c cxxbridge1$str$ptr + 2493140\n",
      "7   chromedriver                        0x000000010120d8a0 cxxbridge1$str$ptr + 2505992\n",
      "8   chromedriver                        0x00000001011eb4a4 cxxbridge1$str$ptr + 2365708\n",
      "9   chromedriver                        0x000000010120e15c cxxbridge1$str$ptr + 2508228\n",
      "10  chromedriver                        0x00000001011dc59c cxxbridge1$str$ptr + 2304516\n",
      "11  chromedriver                        0x000000010122dc78 cxxbridge1$str$ptr + 2638048\n",
      "12  chromedriver                        0x000000010122de04 cxxbridge1$str$ptr + 2638444\n",
      "13  chromedriver                        0x000000010123ee28 cxxbridge1$str$ptr + 2708112\n",
      "14  libsystem_pthread.dylib             0x00000001877a7c0c _pthread_start + 136\n",
      "15  libsystem_pthread.dylib             0x00000001877a2b80 thread_start + 8\n",
      "\n",
      "Pulling data from: https://agmarknet.gov.in/SearchCmmMkt.aspx?Tx_State=0&Tx_District=0&Tx_Market=0&Tx_Trend=2&DateFrom=01-Aug-2025&DateTo=01-Aug-2025&Fr_Date=01-Aug-2025&To_Date=01-Aug-2025&Tx_CommodityHead=Jamun%28Narale+Hannu%29&Tx_Commodity=184\n"
     ]
    },
    {
     "name": "stderr",
     "output_type": "stream",
     "text": [
      "/var/folders/jb/zy_516ps25g392kqdzfs61640000gn/T/ipykernel_78044/1959355148.py:16: FutureWarning: Passing literal html to 'read_html' is deprecated and will be removed in a future version. To read from a literal string, wrap it in a 'StringIO' object.\n",
      "  df = pd.read_html(table_html)[0]\n"
     ]
    },
    {
     "name": "stdout",
     "output_type": "stream",
     "text": [
      "Pulled data:  (18, 12)\n",
      "Pulling data from: https://agmarknet.gov.in/SearchCmmMkt.aspx?Tx_State=0&Tx_District=0&Tx_Market=0&Tx_Trend=2&DateFrom=01-Aug-2025&DateTo=01-Aug-2025&Fr_Date=01-Aug-2025&To_Date=01-Aug-2025&Tx_CommodityHead=Jarbara&Tx_Commodity=376\n"
     ]
    },
    {
     "name": "stderr",
     "output_type": "stream",
     "text": [
      "/var/folders/jb/zy_516ps25g392kqdzfs61640000gn/T/ipykernel_78044/1959355148.py:16: FutureWarning: Passing literal html to 'read_html' is deprecated and will be removed in a future version. To read from a literal string, wrap it in a 'StringIO' object.\n",
      "  df = pd.read_html(table_html)[0]\n"
     ]
    },
    {
     "name": "stdout",
     "output_type": "stream",
     "text": [
      "Pulled data:  (1, 12)\n",
      "Pulling data from: https://agmarknet.gov.in/SearchCmmMkt.aspx?Tx_State=0&Tx_District=0&Tx_Market=0&Tx_Trend=2&DateFrom=01-Aug-2025&DateTo=01-Aug-2025&Fr_Date=01-Aug-2025&To_Date=01-Aug-2025&Tx_CommodityHead=Jasmine&Tx_Commodity=229\n"
     ]
    },
    {
     "name": "stderr",
     "output_type": "stream",
     "text": [
      "/var/folders/jb/zy_516ps25g392kqdzfs61640000gn/T/ipykernel_78044/1959355148.py:16: FutureWarning: Passing literal html to 'read_html' is deprecated and will be removed in a future version. To read from a literal string, wrap it in a 'StringIO' object.\n",
      "  df = pd.read_html(table_html)[0]\n"
     ]
    },
    {
     "name": "stdout",
     "output_type": "stream",
     "text": [
      "Pulled data:  (17, 12)\n",
      "Pulling data from: https://agmarknet.gov.in/SearchCmmMkt.aspx?Tx_State=0&Tx_District=0&Tx_Market=0&Tx_Trend=2&DateFrom=01-Aug-2025&DateTo=01-Aug-2025&Fr_Date=01-Aug-2025&To_Date=01-Aug-2025&Tx_CommodityHead=Javi&Tx_Commodity=250\n",
      "[WARN] 2025-08-01: Message: \n",
      "Stacktrace:\n",
      "0   chromedriver                        0x000000010124726c cxxbridge1$str$ptr + 2741972\n",
      "1   chromedriver                        0x000000010123f1dc cxxbridge1$str$ptr + 2709060\n",
      "2   chromedriver                        0x0000000100d894fc cxxbridge1$string$len + 90520\n",
      "3   chromedriver                        0x0000000100dd0a14 cxxbridge1$string$len + 382640\n",
      "4   chromedriver                        0x0000000100e11db8 cxxbridge1$string$len + 649812\n",
      "5   chromedriver                        0x0000000100dc4d30 cxxbridge1$string$len + 334284\n",
      "6   chromedriver                        0x000000010120a66c cxxbridge1$str$ptr + 2493140\n",
      "7   chromedriver                        0x000000010120d8a0 cxxbridge1$str$ptr + 2505992\n",
      "8   chromedriver                        0x00000001011eb4a4 cxxbridge1$str$ptr + 2365708\n",
      "9   chromedriver                        0x000000010120e15c cxxbridge1$str$ptr + 2508228\n",
      "10  chromedriver                        0x00000001011dc59c cxxbridge1$str$ptr + 2304516\n",
      "11  chromedriver                        0x000000010122dc78 cxxbridge1$str$ptr + 2638048\n",
      "12  chromedriver                        0x000000010122de04 cxxbridge1$str$ptr + 2638444\n",
      "13  chromedriver                        0x000000010123ee28 cxxbridge1$str$ptr + 2708112\n",
      "14  libsystem_pthread.dylib             0x00000001877a7c0c _pthread_start + 136\n",
      "15  libsystem_pthread.dylib             0x00000001877a2b80 thread_start + 8\n",
      "\n",
      "Pulling data from: https://agmarknet.gov.in/SearchCmmMkt.aspx?Tx_State=0&Tx_District=0&Tx_Market=0&Tx_Trend=2&DateFrom=01-Aug-2025&DateTo=01-Aug-2025&Fr_Date=01-Aug-2025&To_Date=01-Aug-2025&Tx_CommodityHead=Jowar%28Sorghum%29&Tx_Commodity=5\n"
     ]
    },
    {
     "name": "stderr",
     "output_type": "stream",
     "text": [
      "/var/folders/jb/zy_516ps25g392kqdzfs61640000gn/T/ipykernel_78044/1959355148.py:16: FutureWarning: Passing literal html to 'read_html' is deprecated and will be removed in a future version. To read from a literal string, wrap it in a 'StringIO' object.\n",
      "  df = pd.read_html(table_html)[0]\n"
     ]
    },
    {
     "name": "stdout",
     "output_type": "stream",
     "text": [
      "Pulled data:  (86, 12)\n",
      "Pulling data from: https://agmarknet.gov.in/SearchCmmMkt.aspx?Tx_State=0&Tx_District=0&Tx_Market=0&Tx_Trend=2&DateFrom=01-Aug-2025&DateTo=01-Aug-2025&Fr_Date=01-Aug-2025&To_Date=01-Aug-2025&Tx_CommodityHead=Jute&Tx_Commodity=16\n"
     ]
    },
    {
     "name": "stderr",
     "output_type": "stream",
     "text": [
      "/var/folders/jb/zy_516ps25g392kqdzfs61640000gn/T/ipykernel_78044/1959355148.py:16: FutureWarning: Passing literal html to 'read_html' is deprecated and will be removed in a future version. To read from a literal string, wrap it in a 'StringIO' object.\n",
      "  df = pd.read_html(table_html)[0]\n"
     ]
    },
    {
     "name": "stdout",
     "output_type": "stream",
     "text": [
      "Pulled data:  (14, 12)\n",
      "Pulling data from: https://agmarknet.gov.in/SearchCmmMkt.aspx?Tx_State=0&Tx_District=0&Tx_Market=0&Tx_Trend=2&DateFrom=01-Aug-2025&DateTo=01-Aug-2025&Fr_Date=01-Aug-2025&To_Date=01-Aug-2025&Tx_CommodityHead=Jute+Seed&Tx_Commodity=210\n",
      "[WARN] 2025-08-01: Message: \n",
      "Stacktrace:\n",
      "0   chromedriver                        0x000000010124726c cxxbridge1$str$ptr + 2741972\n",
      "1   chromedriver                        0x000000010123f1dc cxxbridge1$str$ptr + 2709060\n",
      "2   chromedriver                        0x0000000100d894fc cxxbridge1$string$len + 90520\n",
      "3   chromedriver                        0x0000000100dd0a14 cxxbridge1$string$len + 382640\n",
      "4   chromedriver                        0x0000000100e11db8 cxxbridge1$string$len + 649812\n",
      "5   chromedriver                        0x0000000100dc4d30 cxxbridge1$string$len + 334284\n",
      "6   chromedriver                        0x000000010120a66c cxxbridge1$str$ptr + 2493140\n",
      "7   chromedriver                        0x000000010120d8a0 cxxbridge1$str$ptr + 2505992\n",
      "8   chromedriver                        0x00000001011eb4a4 cxxbridge1$str$ptr + 2365708\n",
      "9   chromedriver                        0x000000010120e15c cxxbridge1$str$ptr + 2508228\n",
      "10  chromedriver                        0x00000001011dc59c cxxbridge1$str$ptr + 2304516\n",
      "11  chromedriver                        0x000000010122dc78 cxxbridge1$str$ptr + 2638048\n",
      "12  chromedriver                        0x000000010122de04 cxxbridge1$str$ptr + 2638444\n",
      "13  chromedriver                        0x000000010123ee28 cxxbridge1$str$ptr + 2708112\n",
      "14  libsystem_pthread.dylib             0x00000001877a7c0c _pthread_start + 136\n",
      "15  libsystem_pthread.dylib             0x00000001877a2b80 thread_start + 8\n",
      "\n",
      "Pulling data from: https://agmarknet.gov.in/SearchCmmMkt.aspx?Tx_State=0&Tx_District=0&Tx_Market=0&Tx_Trend=2&DateFrom=01-Aug-2025&DateTo=01-Aug-2025&Fr_Date=01-Aug-2025&To_Date=01-Aug-2025&Tx_CommodityHead=Kabuli+Chana%28Chickpeas-White%29&Tx_Commodity=362\n"
     ]
    },
    {
     "name": "stderr",
     "output_type": "stream",
     "text": [
      "/var/folders/jb/zy_516ps25g392kqdzfs61640000gn/T/ipykernel_78044/1959355148.py:16: FutureWarning: Passing literal html to 'read_html' is deprecated and will be removed in a future version. To read from a literal string, wrap it in a 'StringIO' object.\n",
      "  df = pd.read_html(table_html)[0]\n"
     ]
    },
    {
     "name": "stdout",
     "output_type": "stream",
     "text": [
      "Pulled data:  (35, 12)\n",
      "Pulling data from: https://agmarknet.gov.in/SearchCmmMkt.aspx?Tx_State=0&Tx_District=0&Tx_Market=0&Tx_Trend=2&DateFrom=01-Aug-2025&DateTo=01-Aug-2025&Fr_Date=01-Aug-2025&To_Date=01-Aug-2025&Tx_CommodityHead=Kacholam&Tx_Commodity=317\n",
      "[WARN] 2025-08-01: Message: \n",
      "Stacktrace:\n",
      "0   chromedriver                        0x000000010124726c cxxbridge1$str$ptr + 2741972\n",
      "1   chromedriver                        0x000000010123f1dc cxxbridge1$str$ptr + 2709060\n",
      "2   chromedriver                        0x0000000100d894fc cxxbridge1$string$len + 90520\n",
      "3   chromedriver                        0x0000000100dd0a14 cxxbridge1$string$len + 382640\n",
      "4   chromedriver                        0x0000000100e11db8 cxxbridge1$string$len + 649812\n",
      "5   chromedriver                        0x0000000100dc4d30 cxxbridge1$string$len + 334284\n",
      "6   chromedriver                        0x000000010120a66c cxxbridge1$str$ptr + 2493140\n",
      "7   chromedriver                        0x000000010120d8a0 cxxbridge1$str$ptr + 2505992\n",
      "8   chromedriver                        0x00000001011eb4a4 cxxbridge1$str$ptr + 2365708\n",
      "9   chromedriver                        0x000000010120e15c cxxbridge1$str$ptr + 2508228\n",
      "10  chromedriver                        0x00000001011dc59c cxxbridge1$str$ptr + 2304516\n",
      "11  chromedriver                        0x000000010122dc78 cxxbridge1$str$ptr + 2638048\n",
      "12  chromedriver                        0x000000010122de04 cxxbridge1$str$ptr + 2638444\n",
      "13  chromedriver                        0x000000010123ee28 cxxbridge1$str$ptr + 2708112\n",
      "14  libsystem_pthread.dylib             0x00000001877a7c0c _pthread_start + 136\n",
      "15  libsystem_pthread.dylib             0x00000001877a2b80 thread_start + 8\n",
      "\n",
      "Pulling data from: https://agmarknet.gov.in/SearchCmmMkt.aspx?Tx_State=0&Tx_District=0&Tx_Market=0&Tx_Trend=2&DateFrom=01-Aug-2025&DateTo=01-Aug-2025&Fr_Date=01-Aug-2025&To_Date=01-Aug-2025&Tx_CommodityHead=Kakada&Tx_Commodity=230\n"
     ]
    },
    {
     "name": "stderr",
     "output_type": "stream",
     "text": [
      "/var/folders/jb/zy_516ps25g392kqdzfs61640000gn/T/ipykernel_78044/1959355148.py:16: FutureWarning: Passing literal html to 'read_html' is deprecated and will be removed in a future version. To read from a literal string, wrap it in a 'StringIO' object.\n",
      "  df = pd.read_html(table_html)[0]\n"
     ]
    },
    {
     "name": "stdout",
     "output_type": "stream",
     "text": [
      "Pulled data:  (9, 12)\n",
      "Pulling data from: https://agmarknet.gov.in/SearchCmmMkt.aspx?Tx_State=0&Tx_District=0&Tx_Market=0&Tx_Trend=2&DateFrom=01-Aug-2025&DateTo=01-Aug-2025&Fr_Date=01-Aug-2025&To_Date=01-Aug-2025&Tx_CommodityHead=kakatan&Tx_Commodity=501\n",
      "[WARN] 2025-08-01: Message: \n",
      "Stacktrace:\n",
      "0   chromedriver                        0x000000010124726c cxxbridge1$str$ptr + 2741972\n",
      "1   chromedriver                        0x000000010123f1dc cxxbridge1$str$ptr + 2709060\n",
      "2   chromedriver                        0x0000000100d894fc cxxbridge1$string$len + 90520\n",
      "3   chromedriver                        0x0000000100dd0a14 cxxbridge1$string$len + 382640\n",
      "4   chromedriver                        0x0000000100e11db8 cxxbridge1$string$len + 649812\n",
      "5   chromedriver                        0x0000000100dc4d30 cxxbridge1$string$len + 334284\n",
      "6   chromedriver                        0x000000010120a66c cxxbridge1$str$ptr + 2493140\n",
      "7   chromedriver                        0x000000010120d8a0 cxxbridge1$str$ptr + 2505992\n",
      "8   chromedriver                        0x00000001011eb4a4 cxxbridge1$str$ptr + 2365708\n",
      "9   chromedriver                        0x000000010120e15c cxxbridge1$str$ptr + 2508228\n",
      "10  chromedriver                        0x00000001011dc59c cxxbridge1$str$ptr + 2304516\n",
      "11  chromedriver                        0x000000010122dc78 cxxbridge1$str$ptr + 2638048\n",
      "12  chromedriver                        0x000000010122de04 cxxbridge1$str$ptr + 2638444\n",
      "13  chromedriver                        0x000000010123ee28 cxxbridge1$str$ptr + 2708112\n",
      "14  libsystem_pthread.dylib             0x00000001877a7c0c _pthread_start + 136\n",
      "15  libsystem_pthread.dylib             0x00000001877a2b80 thread_start + 8\n",
      "\n",
      "Pulling data from: https://agmarknet.gov.in/SearchCmmMkt.aspx?Tx_State=0&Tx_District=0&Tx_Market=0&Tx_Trend=2&DateFrom=01-Aug-2025&DateTo=01-Aug-2025&Fr_Date=01-Aug-2025&To_Date=01-Aug-2025&Tx_CommodityHead=Kalihari&Tx_Commodity=456\n",
      "[WARN] 2025-08-01: Message: \n",
      "Stacktrace:\n",
      "0   chromedriver                        0x000000010124726c cxxbridge1$str$ptr + 2741972\n",
      "1   chromedriver                        0x000000010123f1dc cxxbridge1$str$ptr + 2709060\n",
      "2   chromedriver                        0x0000000100d894fc cxxbridge1$string$len + 90520\n",
      "3   chromedriver                        0x0000000100dd0a14 cxxbridge1$string$len + 382640\n",
      "4   chromedriver                        0x0000000100e11db8 cxxbridge1$string$len + 649812\n",
      "5   chromedriver                        0x0000000100dc4d30 cxxbridge1$string$len + 334284\n",
      "6   chromedriver                        0x000000010120a66c cxxbridge1$str$ptr + 2493140\n",
      "7   chromedriver                        0x000000010120d8a0 cxxbridge1$str$ptr + 2505992\n",
      "8   chromedriver                        0x00000001011eb4a4 cxxbridge1$str$ptr + 2365708\n",
      "9   chromedriver                        0x000000010120e15c cxxbridge1$str$ptr + 2508228\n",
      "10  chromedriver                        0x00000001011dc59c cxxbridge1$str$ptr + 2304516\n",
      "11  chromedriver                        0x000000010122dc78 cxxbridge1$str$ptr + 2638048\n",
      "12  chromedriver                        0x000000010122de04 cxxbridge1$str$ptr + 2638444\n",
      "13  chromedriver                        0x000000010123ee28 cxxbridge1$str$ptr + 2708112\n",
      "14  libsystem_pthread.dylib             0x00000001877a7c0c _pthread_start + 136\n",
      "15  libsystem_pthread.dylib             0x00000001877a2b80 thread_start + 8\n",
      "\n",
      "Pulling data from: https://agmarknet.gov.in/SearchCmmMkt.aspx?Tx_State=0&Tx_District=0&Tx_Market=0&Tx_Trend=2&DateFrom=01-Aug-2025&DateTo=01-Aug-2025&Fr_Date=01-Aug-2025&To_Date=01-Aug-2025&Tx_CommodityHead=Kalmegh&Tx_Commodity=457\n",
      "[WARN] 2025-08-01: Message: \n",
      "Stacktrace:\n",
      "0   chromedriver                        0x000000010124726c cxxbridge1$str$ptr + 2741972\n",
      "1   chromedriver                        0x000000010123f1dc cxxbridge1$str$ptr + 2709060\n",
      "2   chromedriver                        0x0000000100d894fc cxxbridge1$string$len + 90520\n",
      "3   chromedriver                        0x0000000100dd0a14 cxxbridge1$string$len + 382640\n",
      "4   chromedriver                        0x0000000100e11db8 cxxbridge1$string$len + 649812\n",
      "5   chromedriver                        0x0000000100dc4d30 cxxbridge1$string$len + 334284\n",
      "6   chromedriver                        0x000000010120a66c cxxbridge1$str$ptr + 2493140\n",
      "7   chromedriver                        0x000000010120d8a0 cxxbridge1$str$ptr + 2505992\n",
      "8   chromedriver                        0x00000001011eb4a4 cxxbridge1$str$ptr + 2365708\n",
      "9   chromedriver                        0x000000010120e15c cxxbridge1$str$ptr + 2508228\n",
      "10  chromedriver                        0x00000001011dc59c cxxbridge1$str$ptr + 2304516\n",
      "11  chromedriver                        0x000000010122dc78 cxxbridge1$str$ptr + 2638048\n",
      "12  chromedriver                        0x000000010122de04 cxxbridge1$str$ptr + 2638444\n",
      "13  chromedriver                        0x000000010123ee28 cxxbridge1$str$ptr + 2708112\n",
      "14  libsystem_pthread.dylib             0x00000001877a7c0c _pthread_start + 136\n",
      "15  libsystem_pthread.dylib             0x00000001877a2b80 thread_start + 8\n",
      "\n",
      "Pulling data from: https://agmarknet.gov.in/SearchCmmMkt.aspx?Tx_State=0&Tx_District=0&Tx_Market=0&Tx_Trend=2&DateFrom=01-Aug-2025&DateTo=01-Aug-2025&Fr_Date=01-Aug-2025&To_Date=01-Aug-2025&Tx_CommodityHead=Kankambra&Tx_Commodity=233\n"
     ]
    },
    {
     "name": "stderr",
     "output_type": "stream",
     "text": [
      "/var/folders/jb/zy_516ps25g392kqdzfs61640000gn/T/ipykernel_78044/1959355148.py:16: FutureWarning: Passing literal html to 'read_html' is deprecated and will be removed in a future version. To read from a literal string, wrap it in a 'StringIO' object.\n",
      "  df = pd.read_html(table_html)[0]\n"
     ]
    },
    {
     "name": "stdout",
     "output_type": "stream",
     "text": [
      "Pulled data:  (1, 12)\n",
      "Pulling data from: https://agmarknet.gov.in/SearchCmmMkt.aspx?Tx_State=0&Tx_District=0&Tx_Market=0&Tx_Trend=2&DateFrom=01-Aug-2025&DateTo=01-Aug-2025&Fr_Date=01-Aug-2025&To_Date=01-Aug-2025&Tx_CommodityHead=Karamani&Tx_Commodity=115\n",
      "[WARN] 2025-08-01: Message: \n",
      "Stacktrace:\n",
      "0   chromedriver                        0x000000010124726c cxxbridge1$str$ptr + 2741972\n",
      "1   chromedriver                        0x000000010123f1dc cxxbridge1$str$ptr + 2709060\n",
      "2   chromedriver                        0x0000000100d894fc cxxbridge1$string$len + 90520\n",
      "3   chromedriver                        0x0000000100dd0a14 cxxbridge1$string$len + 382640\n",
      "4   chromedriver                        0x0000000100e11db8 cxxbridge1$string$len + 649812\n",
      "5   chromedriver                        0x0000000100dc4d30 cxxbridge1$string$len + 334284\n",
      "6   chromedriver                        0x000000010120a66c cxxbridge1$str$ptr + 2493140\n",
      "7   chromedriver                        0x000000010120d8a0 cxxbridge1$str$ptr + 2505992\n",
      "8   chromedriver                        0x00000001011eb4a4 cxxbridge1$str$ptr + 2365708\n",
      "9   chromedriver                        0x000000010120e15c cxxbridge1$str$ptr + 2508228\n",
      "10  chromedriver                        0x00000001011dc59c cxxbridge1$str$ptr + 2304516\n",
      "11  chromedriver                        0x000000010122dc78 cxxbridge1$str$ptr + 2638048\n",
      "12  chromedriver                        0x000000010122de04 cxxbridge1$str$ptr + 2638444\n",
      "13  chromedriver                        0x000000010123ee28 cxxbridge1$str$ptr + 2708112\n",
      "14  libsystem_pthread.dylib             0x00000001877a7c0c _pthread_start + 136\n",
      "15  libsystem_pthread.dylib             0x00000001877a2b80 thread_start + 8\n",
      "\n",
      "Pulling data from: https://agmarknet.gov.in/SearchCmmMkt.aspx?Tx_State=0&Tx_District=0&Tx_Market=0&Tx_Trend=2&DateFrom=01-Aug-2025&DateTo=01-Aug-2025&Fr_Date=01-Aug-2025&To_Date=01-Aug-2025&Tx_CommodityHead=karanja+seeds&Tx_Commodity=439\n"
     ]
    },
    {
     "name": "stderr",
     "output_type": "stream",
     "text": [
      "/var/folders/jb/zy_516ps25g392kqdzfs61640000gn/T/ipykernel_78044/1959355148.py:16: FutureWarning: Passing literal html to 'read_html' is deprecated and will be removed in a future version. To read from a literal string, wrap it in a 'StringIO' object.\n",
      "  df = pd.read_html(table_html)[0]\n"
     ]
    },
    {
     "name": "stdout",
     "output_type": "stream",
     "text": [
      "Pulled data:  (1, 12)\n",
      "Pulling data from: https://agmarknet.gov.in/SearchCmmMkt.aspx?Tx_State=0&Tx_District=0&Tx_Market=0&Tx_Trend=2&DateFrom=01-Aug-2025&DateTo=01-Aug-2025&Fr_Date=01-Aug-2025&To_Date=01-Aug-2025&Tx_CommodityHead=Karbuja%28Musk+Melon%29&Tx_Commodity=187\n"
     ]
    },
    {
     "name": "stderr",
     "output_type": "stream",
     "text": [
      "/var/folders/jb/zy_516ps25g392kqdzfs61640000gn/T/ipykernel_78044/1959355148.py:16: FutureWarning: Passing literal html to 'read_html' is deprecated and will be removed in a future version. To read from a literal string, wrap it in a 'StringIO' object.\n",
      "  df = pd.read_html(table_html)[0]\n"
     ]
    },
    {
     "name": "stdout",
     "output_type": "stream",
     "text": [
      "Pulled data:  (20, 12)\n",
      "Pulling data from: https://agmarknet.gov.in/SearchCmmMkt.aspx?Tx_State=0&Tx_District=0&Tx_Market=0&Tx_Trend=2&DateFrom=01-Aug-2025&DateTo=01-Aug-2025&Fr_Date=01-Aug-2025&To_Date=01-Aug-2025&Tx_CommodityHead=Kartali+%28Kantola%29&Tx_Commodity=305\n"
     ]
    },
    {
     "name": "stderr",
     "output_type": "stream",
     "text": [
      "/var/folders/jb/zy_516ps25g392kqdzfs61640000gn/T/ipykernel_78044/1959355148.py:16: FutureWarning: Passing literal html to 'read_html' is deprecated and will be removed in a future version. To read from a literal string, wrap it in a 'StringIO' object.\n",
      "  df = pd.read_html(table_html)[0]\n"
     ]
    },
    {
     "name": "stdout",
     "output_type": "stream",
     "text": [
      "Pulled data:  (8, 12)\n",
      "Pulling data from: https://agmarknet.gov.in/SearchCmmMkt.aspx?Tx_State=0&Tx_District=0&Tx_Market=0&Tx_Trend=2&DateFrom=01-Aug-2025&DateTo=01-Aug-2025&Fr_Date=01-Aug-2025&To_Date=01-Aug-2025&Tx_CommodityHead=Kevda&Tx_Commodity=481\n",
      "[WARN] 2025-08-01: Message: \n",
      "Stacktrace:\n",
      "0   chromedriver                        0x00000001006ab26c cxxbridge1$str$ptr + 2741972\n",
      "1   chromedriver                        0x00000001006a31dc cxxbridge1$str$ptr + 2709060\n",
      "2   chromedriver                        0x00000001001ed4fc cxxbridge1$string$len + 90520\n",
      "3   chromedriver                        0x0000000100234a14 cxxbridge1$string$len + 382640\n",
      "4   chromedriver                        0x0000000100275db8 cxxbridge1$string$len + 649812\n",
      "5   chromedriver                        0x0000000100228d30 cxxbridge1$string$len + 334284\n",
      "6   chromedriver                        0x000000010066e66c cxxbridge1$str$ptr + 2493140\n",
      "7   chromedriver                        0x00000001006718a0 cxxbridge1$str$ptr + 2505992\n",
      "8   chromedriver                        0x000000010064f4a4 cxxbridge1$str$ptr + 2365708\n",
      "9   chromedriver                        0x000000010067215c cxxbridge1$str$ptr + 2508228\n",
      "10  chromedriver                        0x000000010064059c cxxbridge1$str$ptr + 2304516\n",
      "11  chromedriver                        0x0000000100691c78 cxxbridge1$str$ptr + 2638048\n",
      "12  chromedriver                        0x0000000100691e04 cxxbridge1$str$ptr + 2638444\n",
      "13  chromedriver                        0x00000001006a2e28 cxxbridge1$str$ptr + 2708112\n",
      "14  libsystem_pthread.dylib             0x00000001877a7c0c _pthread_start + 136\n",
      "15  libsystem_pthread.dylib             0x00000001877a2b80 thread_start + 8\n",
      "\n",
      "Pulling data from: https://agmarknet.gov.in/SearchCmmMkt.aspx?Tx_State=0&Tx_District=0&Tx_Market=0&Tx_Trend=2&DateFrom=01-Aug-2025&DateTo=01-Aug-2025&Fr_Date=01-Aug-2025&To_Date=01-Aug-2025&Tx_CommodityHead=Kharif+Mash&Tx_Commodity=61\n",
      "[WARN] 2025-08-01: Message: \n",
      "Stacktrace:\n",
      "0   chromedriver                        0x00000001006ab26c cxxbridge1$str$ptr + 2741972\n",
      "1   chromedriver                        0x00000001006a31dc cxxbridge1$str$ptr + 2709060\n",
      "2   chromedriver                        0x00000001001ed4fc cxxbridge1$string$len + 90520\n",
      "3   chromedriver                        0x0000000100234a14 cxxbridge1$string$len + 382640\n",
      "4   chromedriver                        0x0000000100275db8 cxxbridge1$string$len + 649812\n",
      "5   chromedriver                        0x0000000100228d30 cxxbridge1$string$len + 334284\n",
      "6   chromedriver                        0x000000010066e66c cxxbridge1$str$ptr + 2493140\n",
      "7   chromedriver                        0x00000001006718a0 cxxbridge1$str$ptr + 2505992\n",
      "8   chromedriver                        0x000000010064f4a4 cxxbridge1$str$ptr + 2365708\n",
      "9   chromedriver                        0x000000010067215c cxxbridge1$str$ptr + 2508228\n",
      "10  chromedriver                        0x000000010064059c cxxbridge1$str$ptr + 2304516\n",
      "11  chromedriver                        0x0000000100691c78 cxxbridge1$str$ptr + 2638048\n",
      "12  chromedriver                        0x0000000100691e04 cxxbridge1$str$ptr + 2638444\n",
      "13  chromedriver                        0x00000001006a2e28 cxxbridge1$str$ptr + 2708112\n",
      "14  libsystem_pthread.dylib             0x00000001877a7c0c _pthread_start + 136\n",
      "15  libsystem_pthread.dylib             0x00000001877a2b80 thread_start + 8\n",
      "\n",
      "Pulling data from: https://agmarknet.gov.in/SearchCmmMkt.aspx?Tx_State=0&Tx_District=0&Tx_Market=0&Tx_Trend=2&DateFrom=01-Aug-2025&DateTo=01-Aug-2025&Fr_Date=01-Aug-2025&To_Date=01-Aug-2025&Tx_CommodityHead=Khirni&Tx_Commodity=514\n",
      "[WARN] 2025-08-01: Message: \n",
      "Stacktrace:\n",
      "0   chromedriver                        0x00000001006ab26c cxxbridge1$str$ptr + 2741972\n",
      "1   chromedriver                        0x00000001006a31dc cxxbridge1$str$ptr + 2709060\n",
      "2   chromedriver                        0x00000001001ed4fc cxxbridge1$string$len + 90520\n",
      "3   chromedriver                        0x0000000100234a14 cxxbridge1$string$len + 382640\n",
      "4   chromedriver                        0x0000000100275db8 cxxbridge1$string$len + 649812\n",
      "5   chromedriver                        0x0000000100228d30 cxxbridge1$string$len + 334284\n",
      "6   chromedriver                        0x000000010066e66c cxxbridge1$str$ptr + 2493140\n",
      "7   chromedriver                        0x00000001006718a0 cxxbridge1$str$ptr + 2505992\n",
      "8   chromedriver                        0x000000010064f4a4 cxxbridge1$str$ptr + 2365708\n",
      "9   chromedriver                        0x000000010067215c cxxbridge1$str$ptr + 2508228\n",
      "10  chromedriver                        0x000000010064059c cxxbridge1$str$ptr + 2304516\n",
      "11  chromedriver                        0x0000000100691c78 cxxbridge1$str$ptr + 2638048\n",
      "12  chromedriver                        0x0000000100691e04 cxxbridge1$str$ptr + 2638444\n",
      "13  chromedriver                        0x00000001006a2e28 cxxbridge1$str$ptr + 2708112\n",
      "14  libsystem_pthread.dylib             0x00000001877a7c0c _pthread_start + 136\n",
      "15  libsystem_pthread.dylib             0x00000001877a2b80 thread_start + 8\n",
      "\n",
      "Pulling data from: https://agmarknet.gov.in/SearchCmmMkt.aspx?Tx_State=0&Tx_District=0&Tx_Market=0&Tx_Trend=2&DateFrom=01-Aug-2025&DateTo=01-Aug-2025&Fr_Date=01-Aug-2025&To_Date=01-Aug-2025&Tx_CommodityHead=Khoya&Tx_Commodity=372\n",
      "[WARN] 2025-08-01: Message: \n",
      "Stacktrace:\n",
      "0   chromedriver                        0x00000001006ab26c cxxbridge1$str$ptr + 2741972\n",
      "1   chromedriver                        0x00000001006a31dc cxxbridge1$str$ptr + 2709060\n",
      "2   chromedriver                        0x00000001001ed4fc cxxbridge1$string$len + 90520\n",
      "3   chromedriver                        0x0000000100234a14 cxxbridge1$string$len + 382640\n",
      "4   chromedriver                        0x0000000100275db8 cxxbridge1$string$len + 649812\n",
      "5   chromedriver                        0x0000000100228d30 cxxbridge1$string$len + 334284\n",
      "6   chromedriver                        0x000000010066e66c cxxbridge1$str$ptr + 2493140\n",
      "7   chromedriver                        0x00000001006718a0 cxxbridge1$str$ptr + 2505992\n",
      "8   chromedriver                        0x000000010064f4a4 cxxbridge1$str$ptr + 2365708\n",
      "9   chromedriver                        0x000000010067215c cxxbridge1$str$ptr + 2508228\n",
      "10  chromedriver                        0x000000010064059c cxxbridge1$str$ptr + 2304516\n",
      "11  chromedriver                        0x0000000100691c78 cxxbridge1$str$ptr + 2638048\n",
      "12  chromedriver                        0x0000000100691e04 cxxbridge1$str$ptr + 2638444\n",
      "13  chromedriver                        0x00000001006a2e28 cxxbridge1$str$ptr + 2708112\n",
      "14  libsystem_pthread.dylib             0x00000001877a7c0c _pthread_start + 136\n",
      "15  libsystem_pthread.dylib             0x00000001877a2b80 thread_start + 8\n",
      "\n",
      "Pulling data from: https://agmarknet.gov.in/SearchCmmMkt.aspx?Tx_State=0&Tx_District=0&Tx_Market=0&Tx_Trend=2&DateFrom=01-Aug-2025&DateTo=01-Aug-2025&Fr_Date=01-Aug-2025&To_Date=01-Aug-2025&Tx_CommodityHead=Kinnow&Tx_Commodity=336\n",
      "[WARN] 2025-08-01: Message: \n",
      "Stacktrace:\n",
      "0   chromedriver                        0x00000001006ab26c cxxbridge1$str$ptr + 2741972\n",
      "1   chromedriver                        0x00000001006a31dc cxxbridge1$str$ptr + 2709060\n",
      "2   chromedriver                        0x00000001001ed4fc cxxbridge1$string$len + 90520\n",
      "3   chromedriver                        0x0000000100234a14 cxxbridge1$string$len + 382640\n",
      "4   chromedriver                        0x0000000100275db8 cxxbridge1$string$len + 649812\n",
      "5   chromedriver                        0x0000000100228d30 cxxbridge1$string$len + 334284\n",
      "6   chromedriver                        0x000000010066e66c cxxbridge1$str$ptr + 2493140\n",
      "7   chromedriver                        0x00000001006718a0 cxxbridge1$str$ptr + 2505992\n",
      "8   chromedriver                        0x000000010064f4a4 cxxbridge1$str$ptr + 2365708\n",
      "9   chromedriver                        0x000000010067215c cxxbridge1$str$ptr + 2508228\n",
      "10  chromedriver                        0x000000010064059c cxxbridge1$str$ptr + 2304516\n",
      "11  chromedriver                        0x0000000100691c78 cxxbridge1$str$ptr + 2638048\n",
      "12  chromedriver                        0x0000000100691e04 cxxbridge1$str$ptr + 2638444\n",
      "13  chromedriver                        0x00000001006a2e28 cxxbridge1$str$ptr + 2708112\n",
      "14  libsystem_pthread.dylib             0x00000001877a7c0c _pthread_start + 136\n",
      "15  libsystem_pthread.dylib             0x00000001877a2b80 thread_start + 8\n",
      "\n",
      "Pulling data from: https://agmarknet.gov.in/SearchCmmMkt.aspx?Tx_State=0&Tx_District=0&Tx_Market=0&Tx_Trend=2&DateFrom=01-Aug-2025&DateTo=01-Aug-2025&Fr_Date=01-Aug-2025&To_Date=01-Aug-2025&Tx_CommodityHead=Knool+Khol&Tx_Commodity=177\n"
     ]
    },
    {
     "name": "stderr",
     "output_type": "stream",
     "text": [
      "/var/folders/jb/zy_516ps25g392kqdzfs61640000gn/T/ipykernel_78044/1959355148.py:16: FutureWarning: Passing literal html to 'read_html' is deprecated and will be removed in a future version. To read from a literal string, wrap it in a 'StringIO' object.\n",
      "  df = pd.read_html(table_html)[0]\n"
     ]
    },
    {
     "name": "stdout",
     "output_type": "stream",
     "text": [
      "Pulled data:  (83, 12)\n",
      "Pulling data from: https://agmarknet.gov.in/SearchCmmMkt.aspx?Tx_State=0&Tx_District=0&Tx_Market=0&Tx_Trend=2&DateFrom=01-Aug-2025&DateTo=01-Aug-2025&Fr_Date=01-Aug-2025&To_Date=01-Aug-2025&Tx_CommodityHead=Kodo+Millet%28Varagu%29&Tx_Commodity=117\n"
     ]
    },
    {
     "name": "stderr",
     "output_type": "stream",
     "text": [
      "/var/folders/jb/zy_516ps25g392kqdzfs61640000gn/T/ipykernel_78044/1959355148.py:16: FutureWarning: Passing literal html to 'read_html' is deprecated and will be removed in a future version. To read from a literal string, wrap it in a 'StringIO' object.\n",
      "  df = pd.read_html(table_html)[0]\n"
     ]
    },
    {
     "name": "stdout",
     "output_type": "stream",
     "text": [
      "Pulled data:  (3, 12)\n",
      "Pulling data from: https://agmarknet.gov.in/SearchCmmMkt.aspx?Tx_State=0&Tx_District=0&Tx_Market=0&Tx_Trend=2&DateFrom=01-Aug-2025&DateTo=01-Aug-2025&Fr_Date=01-Aug-2025&To_Date=01-Aug-2025&Tx_CommodityHead=kokum&Tx_Commodity=458\n",
      "[WARN] 2025-08-01: Message: \n",
      "Stacktrace:\n",
      "0   chromedriver                        0x00000001006ab26c cxxbridge1$str$ptr + 2741972\n",
      "1   chromedriver                        0x00000001006a31dc cxxbridge1$str$ptr + 2709060\n",
      "2   chromedriver                        0x00000001001ed4fc cxxbridge1$string$len + 90520\n",
      "3   chromedriver                        0x0000000100234a14 cxxbridge1$string$len + 382640\n",
      "4   chromedriver                        0x0000000100275db8 cxxbridge1$string$len + 649812\n",
      "5   chromedriver                        0x0000000100228d30 cxxbridge1$string$len + 334284\n",
      "6   chromedriver                        0x000000010066e66c cxxbridge1$str$ptr + 2493140\n",
      "7   chromedriver                        0x00000001006718a0 cxxbridge1$str$ptr + 2505992\n",
      "8   chromedriver                        0x000000010064f4a4 cxxbridge1$str$ptr + 2365708\n",
      "9   chromedriver                        0x000000010067215c cxxbridge1$str$ptr + 2508228\n",
      "10  chromedriver                        0x000000010064059c cxxbridge1$str$ptr + 2304516\n",
      "11  chromedriver                        0x0000000100691c78 cxxbridge1$str$ptr + 2638048\n",
      "12  chromedriver                        0x0000000100691e04 cxxbridge1$str$ptr + 2638444\n",
      "13  chromedriver                        0x00000001006a2e28 cxxbridge1$str$ptr + 2708112\n",
      "14  libsystem_pthread.dylib             0x00000001877a7c0c _pthread_start + 136\n",
      "15  libsystem_pthread.dylib             0x00000001877a2b80 thread_start + 8\n",
      "\n",
      "Pulling data from: https://agmarknet.gov.in/SearchCmmMkt.aspx?Tx_State=0&Tx_District=0&Tx_Market=0&Tx_Trend=2&DateFrom=01-Aug-2025&DateTo=01-Aug-2025&Fr_Date=01-Aug-2025&To_Date=01-Aug-2025&Tx_CommodityHead=Kooth&Tx_Commodity=459\n",
      "[WARN] 2025-08-01: Message: \n",
      "Stacktrace:\n",
      "0   chromedriver                        0x00000001006ab26c cxxbridge1$str$ptr + 2741972\n",
      "1   chromedriver                        0x00000001006a31dc cxxbridge1$str$ptr + 2709060\n",
      "2   chromedriver                        0x00000001001ed4fc cxxbridge1$string$len + 90520\n",
      "3   chromedriver                        0x0000000100234a14 cxxbridge1$string$len + 382640\n",
      "4   chromedriver                        0x0000000100275db8 cxxbridge1$string$len + 649812\n",
      "5   chromedriver                        0x0000000100228d30 cxxbridge1$string$len + 334284\n",
      "6   chromedriver                        0x000000010066e66c cxxbridge1$str$ptr + 2493140\n",
      "7   chromedriver                        0x00000001006718a0 cxxbridge1$str$ptr + 2505992\n",
      "8   chromedriver                        0x000000010064f4a4 cxxbridge1$str$ptr + 2365708\n",
      "9   chromedriver                        0x000000010067215c cxxbridge1$str$ptr + 2508228\n",
      "10  chromedriver                        0x000000010064059c cxxbridge1$str$ptr + 2304516\n",
      "11  chromedriver                        0x0000000100691c78 cxxbridge1$str$ptr + 2638048\n",
      "12  chromedriver                        0x0000000100691e04 cxxbridge1$str$ptr + 2638444\n",
      "13  chromedriver                        0x00000001006a2e28 cxxbridge1$str$ptr + 2708112\n",
      "14  libsystem_pthread.dylib             0x00000001877a7c0c _pthread_start + 136\n",
      "15  libsystem_pthread.dylib             0x00000001877a2b80 thread_start + 8\n",
      "\n",
      "Pulling data from: https://agmarknet.gov.in/SearchCmmMkt.aspx?Tx_State=0&Tx_District=0&Tx_Market=0&Tx_Trend=2&DateFrom=01-Aug-2025&DateTo=01-Aug-2025&Fr_Date=01-Aug-2025&To_Date=01-Aug-2025&Tx_CommodityHead=Kuchur&Tx_Commodity=243\n",
      "[WARN] 2025-08-01: Message: \n",
      "Stacktrace:\n",
      "0   chromedriver                        0x00000001006ab26c cxxbridge1$str$ptr + 2741972\n",
      "1   chromedriver                        0x00000001006a31dc cxxbridge1$str$ptr + 2709060\n",
      "2   chromedriver                        0x00000001001ed4fc cxxbridge1$string$len + 90520\n",
      "3   chromedriver                        0x0000000100234a14 cxxbridge1$string$len + 382640\n",
      "4   chromedriver                        0x0000000100275db8 cxxbridge1$string$len + 649812\n",
      "5   chromedriver                        0x0000000100228d30 cxxbridge1$string$len + 334284\n",
      "6   chromedriver                        0x000000010066e66c cxxbridge1$str$ptr + 2493140\n",
      "7   chromedriver                        0x00000001006718a0 cxxbridge1$str$ptr + 2505992\n",
      "8   chromedriver                        0x000000010064f4a4 cxxbridge1$str$ptr + 2365708\n",
      "9   chromedriver                        0x000000010067215c cxxbridge1$str$ptr + 2508228\n",
      "10  chromedriver                        0x000000010064059c cxxbridge1$str$ptr + 2304516\n",
      "11  chromedriver                        0x0000000100691c78 cxxbridge1$str$ptr + 2638048\n",
      "12  chromedriver                        0x0000000100691e04 cxxbridge1$str$ptr + 2638444\n",
      "13  chromedriver                        0x00000001006a2e28 cxxbridge1$str$ptr + 2708112\n",
      "14  libsystem_pthread.dylib             0x00000001877a7c0c _pthread_start + 136\n",
      "15  libsystem_pthread.dylib             0x00000001877a2b80 thread_start + 8\n",
      "\n",
      "Pulling data from: https://agmarknet.gov.in/SearchCmmMkt.aspx?Tx_State=0&Tx_District=0&Tx_Market=0&Tx_Trend=2&DateFrom=01-Aug-2025&DateTo=01-Aug-2025&Fr_Date=01-Aug-2025&To_Date=01-Aug-2025&Tx_CommodityHead=Kulthi%28Horse+Gram%29&Tx_Commodity=114\n"
     ]
    },
    {
     "name": "stderr",
     "output_type": "stream",
     "text": [
      "/var/folders/jb/zy_516ps25g392kqdzfs61640000gn/T/ipykernel_78044/1959355148.py:16: FutureWarning: Passing literal html to 'read_html' is deprecated and will be removed in a future version. To read from a literal string, wrap it in a 'StringIO' object.\n",
      "  df = pd.read_html(table_html)[0]\n"
     ]
    },
    {
     "name": "stdout",
     "output_type": "stream",
     "text": [
      "Pulled data:  (4, 12)\n",
      "Pulling data from: https://agmarknet.gov.in/SearchCmmMkt.aspx?Tx_State=0&Tx_District=0&Tx_Market=0&Tx_Trend=2&DateFrom=01-Aug-2025&DateTo=01-Aug-2025&Fr_Date=01-Aug-2025&To_Date=01-Aug-2025&Tx_CommodityHead=Kutki&Tx_Commodity=415\n"
     ]
    },
    {
     "name": "stderr",
     "output_type": "stream",
     "text": [
      "/var/folders/jb/zy_516ps25g392kqdzfs61640000gn/T/ipykernel_78044/1959355148.py:16: FutureWarning: Passing literal html to 'read_html' is deprecated and will be removed in a future version. To read from a literal string, wrap it in a 'StringIO' object.\n",
      "  df = pd.read_html(table_html)[0]\n"
     ]
    },
    {
     "name": "stdout",
     "output_type": "stream",
     "text": [
      "Pulled data:  (3, 12)\n",
      "Pulling data from: https://agmarknet.gov.in/SearchCmmMkt.aspx?Tx_State=0&Tx_District=0&Tx_Market=0&Tx_Trend=2&DateFrom=01-Aug-2025&DateTo=01-Aug-2025&Fr_Date=01-Aug-2025&To_Date=01-Aug-2025&Tx_CommodityHead=kutki&Tx_Commodity=426\n",
      "[WARN] 2025-08-01: Message: \n",
      "Stacktrace:\n",
      "0   chromedriver                        0x00000001006ab26c cxxbridge1$str$ptr + 2741972\n",
      "1   chromedriver                        0x00000001006a31dc cxxbridge1$str$ptr + 2709060\n",
      "2   chromedriver                        0x00000001001ed4fc cxxbridge1$string$len + 90520\n",
      "3   chromedriver                        0x0000000100234a14 cxxbridge1$string$len + 382640\n",
      "4   chromedriver                        0x0000000100275db8 cxxbridge1$string$len + 649812\n",
      "5   chromedriver                        0x0000000100228d30 cxxbridge1$string$len + 334284\n",
      "6   chromedriver                        0x000000010066e66c cxxbridge1$str$ptr + 2493140\n",
      "7   chromedriver                        0x00000001006718a0 cxxbridge1$str$ptr + 2505992\n",
      "8   chromedriver                        0x000000010064f4a4 cxxbridge1$str$ptr + 2365708\n",
      "9   chromedriver                        0x000000010067215c cxxbridge1$str$ptr + 2508228\n",
      "10  chromedriver                        0x000000010064059c cxxbridge1$str$ptr + 2304516\n",
      "11  chromedriver                        0x0000000100691c78 cxxbridge1$str$ptr + 2638048\n",
      "12  chromedriver                        0x0000000100691e04 cxxbridge1$str$ptr + 2638444\n",
      "13  chromedriver                        0x00000001006a2e28 cxxbridge1$str$ptr + 2708112\n",
      "14  libsystem_pthread.dylib             0x00000001877a7c0c _pthread_start + 136\n",
      "15  libsystem_pthread.dylib             0x00000001877a2b80 thread_start + 8\n",
      "\n",
      "Pulling data from: https://agmarknet.gov.in/SearchCmmMkt.aspx?Tx_State=0&Tx_District=0&Tx_Market=0&Tx_Trend=2&DateFrom=01-Aug-2025&DateTo=01-Aug-2025&Fr_Date=01-Aug-2025&To_Date=01-Aug-2025&Tx_CommodityHead=Ladies+Finger&Tx_Commodity=155\n",
      "[WARN] 2025-08-01: Message: \n",
      "Stacktrace:\n",
      "0   chromedriver                        0x00000001006ab26c cxxbridge1$str$ptr + 2741972\n",
      "1   chromedriver                        0x00000001006a31dc cxxbridge1$str$ptr + 2709060\n",
      "2   chromedriver                        0x00000001001ed4fc cxxbridge1$string$len + 90520\n",
      "3   chromedriver                        0x0000000100234a14 cxxbridge1$string$len + 382640\n",
      "4   chromedriver                        0x0000000100275db8 cxxbridge1$string$len + 649812\n",
      "5   chromedriver                        0x0000000100228d30 cxxbridge1$string$len + 334284\n",
      "6   chromedriver                        0x000000010066e66c cxxbridge1$str$ptr + 2493140\n",
      "7   chromedriver                        0x00000001006718a0 cxxbridge1$str$ptr + 2505992\n",
      "8   chromedriver                        0x000000010064f4a4 cxxbridge1$str$ptr + 2365708\n",
      "9   chromedriver                        0x000000010067215c cxxbridge1$str$ptr + 2508228\n",
      "10  chromedriver                        0x000000010064059c cxxbridge1$str$ptr + 2304516\n",
      "11  chromedriver                        0x0000000100691c78 cxxbridge1$str$ptr + 2638048\n",
      "12  chromedriver                        0x0000000100691e04 cxxbridge1$str$ptr + 2638444\n",
      "13  chromedriver                        0x00000001006a2e28 cxxbridge1$str$ptr + 2708112\n",
      "14  libsystem_pthread.dylib             0x00000001877a7c0c _pthread_start + 136\n",
      "15  libsystem_pthread.dylib             0x00000001877a2b80 thread_start + 8\n",
      "\n",
      "Pulling data from: https://agmarknet.gov.in/SearchCmmMkt.aspx?Tx_State=0&Tx_District=0&Tx_Market=0&Tx_Trend=2&DateFrom=01-Aug-2025&DateTo=01-Aug-2025&Fr_Date=01-Aug-2025&To_Date=01-Aug-2025&Tx_CommodityHead=Laha&Tx_Commodity=515\n",
      "[WARN] 2025-08-01: Message: \n",
      "Stacktrace:\n",
      "0   chromedriver                        0x00000001006ab26c cxxbridge1$str$ptr + 2741972\n",
      "1   chromedriver                        0x00000001006a31dc cxxbridge1$str$ptr + 2709060\n",
      "2   chromedriver                        0x00000001001ed4fc cxxbridge1$string$len + 90520\n",
      "3   chromedriver                        0x0000000100234a14 cxxbridge1$string$len + 382640\n",
      "4   chromedriver                        0x0000000100275db8 cxxbridge1$string$len + 649812\n",
      "5   chromedriver                        0x0000000100228d30 cxxbridge1$string$len + 334284\n",
      "6   chromedriver                        0x000000010066e66c cxxbridge1$str$ptr + 2493140\n",
      "7   chromedriver                        0x00000001006718a0 cxxbridge1$str$ptr + 2505992\n",
      "8   chromedriver                        0x000000010064f4a4 cxxbridge1$str$ptr + 2365708\n",
      "9   chromedriver                        0x000000010067215c cxxbridge1$str$ptr + 2508228\n",
      "10  chromedriver                        0x000000010064059c cxxbridge1$str$ptr + 2304516\n",
      "11  chromedriver                        0x0000000100691c78 cxxbridge1$str$ptr + 2638048\n",
      "12  chromedriver                        0x0000000100691e04 cxxbridge1$str$ptr + 2638444\n",
      "13  chromedriver                        0x00000001006a2e28 cxxbridge1$str$ptr + 2708112\n",
      "14  libsystem_pthread.dylib             0x00000001877a7c0c _pthread_start + 136\n",
      "15  libsystem_pthread.dylib             0x00000001877a2b80 thread_start + 8\n",
      "\n",
      "Pulling data from: https://agmarknet.gov.in/SearchCmmMkt.aspx?Tx_State=0&Tx_District=0&Tx_Market=0&Tx_Trend=2&DateFrom=01-Aug-2025&DateTo=01-Aug-2025&Fr_Date=01-Aug-2025&To_Date=01-Aug-2025&Tx_CommodityHead=Lak%28Teora%29&Tx_Commodity=96\n"
     ]
    },
    {
     "name": "stderr",
     "output_type": "stream",
     "text": [
      "/var/folders/jb/zy_516ps25g392kqdzfs61640000gn/T/ipykernel_78044/1959355148.py:16: FutureWarning: Passing literal html to 'read_html' is deprecated and will be removed in a future version. To read from a literal string, wrap it in a 'StringIO' object.\n",
      "  df = pd.read_html(table_html)[0]\n"
     ]
    },
    {
     "name": "stdout",
     "output_type": "stream",
     "text": [
      "Pulled data:  (12, 12)\n",
      "Pulling data from: https://agmarknet.gov.in/SearchCmmMkt.aspx?Tx_State=0&Tx_District=0&Tx_Market=0&Tx_Trend=2&DateFrom=01-Aug-2025&DateTo=01-Aug-2025&Fr_Date=01-Aug-2025&To_Date=01-Aug-2025&Tx_CommodityHead=Leafy+Vegetable&Tx_Commodity=171\n"
     ]
    },
    {
     "name": "stderr",
     "output_type": "stream",
     "text": [
      "/var/folders/jb/zy_516ps25g392kqdzfs61640000gn/T/ipykernel_78044/1959355148.py:16: FutureWarning: Passing literal html to 'read_html' is deprecated and will be removed in a future version. To read from a literal string, wrap it in a 'StringIO' object.\n",
      "  df = pd.read_html(table_html)[0]\n"
     ]
    },
    {
     "name": "stdout",
     "output_type": "stream",
     "text": [
      "Pulled data:  (7, 12)\n",
      "Pulling data from: https://agmarknet.gov.in/SearchCmmMkt.aspx?Tx_State=0&Tx_District=0&Tx_Market=0&Tx_Trend=2&DateFrom=01-Aug-2025&DateTo=01-Aug-2025&Fr_Date=01-Aug-2025&To_Date=01-Aug-2025&Tx_CommodityHead=Lemon&Tx_Commodity=310\n"
     ]
    },
    {
     "name": "stderr",
     "output_type": "stream",
     "text": [
      "/var/folders/jb/zy_516ps25g392kqdzfs61640000gn/T/ipykernel_78044/1959355148.py:16: FutureWarning: Passing literal html to 'read_html' is deprecated and will be removed in a future version. To read from a literal string, wrap it in a 'StringIO' object.\n",
      "  df = pd.read_html(table_html)[0]\n"
     ]
    },
    {
     "name": "stdout",
     "output_type": "stream",
     "text": [
      "Pulled data:  (317, 12)\n",
      "Pulling data from: https://agmarknet.gov.in/SearchCmmMkt.aspx?Tx_State=0&Tx_District=0&Tx_Market=0&Tx_Trend=2&DateFrom=01-Aug-2025&DateTo=01-Aug-2025&Fr_Date=01-Aug-2025&To_Date=01-Aug-2025&Tx_CommodityHead=Lentil+%28Masur%29%28Whole%29&Tx_Commodity=63\n"
     ]
    },
    {
     "name": "stderr",
     "output_type": "stream",
     "text": [
      "/var/folders/jb/zy_516ps25g392kqdzfs61640000gn/T/ipykernel_78044/1959355148.py:16: FutureWarning: Passing literal html to 'read_html' is deprecated and will be removed in a future version. To read from a literal string, wrap it in a 'StringIO' object.\n",
      "  df = pd.read_html(table_html)[0]\n"
     ]
    },
    {
     "name": "stdout",
     "output_type": "stream",
     "text": [
      "Pulled data:  (103, 12)\n",
      "Pulling data from: https://agmarknet.gov.in/SearchCmmMkt.aspx?Tx_State=0&Tx_District=0&Tx_Market=0&Tx_Trend=2&DateFrom=01-Aug-2025&DateTo=01-Aug-2025&Fr_Date=01-Aug-2025&To_Date=01-Aug-2025&Tx_CommodityHead=Lilly&Tx_Commodity=378\n"
     ]
    },
    {
     "name": "stderr",
     "output_type": "stream",
     "text": [
      "/var/folders/jb/zy_516ps25g392kqdzfs61640000gn/T/ipykernel_78044/1959355148.py:16: FutureWarning: Passing literal html to 'read_html' is deprecated and will be removed in a future version. To read from a literal string, wrap it in a 'StringIO' object.\n",
      "  df = pd.read_html(table_html)[0]\n"
     ]
    },
    {
     "name": "stdout",
     "output_type": "stream",
     "text": [
      "Pulled data:  (2, 12)\n",
      "Pulling data from: https://agmarknet.gov.in/SearchCmmMkt.aspx?Tx_State=0&Tx_District=0&Tx_Market=0&Tx_Trend=2&DateFrom=01-Aug-2025&DateTo=01-Aug-2025&Fr_Date=01-Aug-2025&To_Date=01-Aug-2025&Tx_CommodityHead=Lime&Tx_Commodity=180\n"
     ]
    },
    {
     "name": "stderr",
     "output_type": "stream",
     "text": [
      "/var/folders/jb/zy_516ps25g392kqdzfs61640000gn/T/ipykernel_78044/1959355148.py:16: FutureWarning: Passing literal html to 'read_html' is deprecated and will be removed in a future version. To read from a literal string, wrap it in a 'StringIO' object.\n",
      "  df = pd.read_html(table_html)[0]\n"
     ]
    },
    {
     "name": "stdout",
     "output_type": "stream",
     "text": [
      "Pulled data:  (73, 12)\n",
      "Pulling data from: https://agmarknet.gov.in/SearchCmmMkt.aspx?Tx_State=0&Tx_District=0&Tx_Market=0&Tx_Trend=2&DateFrom=01-Aug-2025&DateTo=01-Aug-2025&Fr_Date=01-Aug-2025&To_Date=01-Aug-2025&Tx_CommodityHead=Limonia+%28status%29&Tx_Commodity=470\n",
      "[WARN] 2025-08-01: Message: \n",
      "Stacktrace:\n",
      "0   chromedriver                        0x000000010522f26c cxxbridge1$str$ptr + 2741972\n",
      "1   chromedriver                        0x00000001052271dc cxxbridge1$str$ptr + 2709060\n",
      "2   chromedriver                        0x0000000104d714fc cxxbridge1$string$len + 90520\n",
      "3   chromedriver                        0x0000000104db8a14 cxxbridge1$string$len + 382640\n",
      "4   chromedriver                        0x0000000104df9db8 cxxbridge1$string$len + 649812\n",
      "5   chromedriver                        0x0000000104dacd30 cxxbridge1$string$len + 334284\n",
      "6   chromedriver                        0x00000001051f266c cxxbridge1$str$ptr + 2493140\n",
      "7   chromedriver                        0x00000001051f58a0 cxxbridge1$str$ptr + 2505992\n",
      "8   chromedriver                        0x00000001051d34a4 cxxbridge1$str$ptr + 2365708\n",
      "9   chromedriver                        0x00000001051f615c cxxbridge1$str$ptr + 2508228\n",
      "10  chromedriver                        0x00000001051c459c cxxbridge1$str$ptr + 2304516\n",
      "11  chromedriver                        0x0000000105215c78 cxxbridge1$str$ptr + 2638048\n",
      "12  chromedriver                        0x0000000105215e04 cxxbridge1$str$ptr + 2638444\n",
      "13  chromedriver                        0x0000000105226e28 cxxbridge1$str$ptr + 2708112\n",
      "14  libsystem_pthread.dylib             0x00000001877a7c0c _pthread_start + 136\n",
      "15  libsystem_pthread.dylib             0x00000001877a2b80 thread_start + 8\n",
      "\n",
      "Pulling data from: https://agmarknet.gov.in/SearchCmmMkt.aspx?Tx_State=0&Tx_District=0&Tx_Market=0&Tx_Trend=2&DateFrom=01-Aug-2025&DateTo=01-Aug-2025&Fr_Date=01-Aug-2025&To_Date=01-Aug-2025&Tx_CommodityHead=Linseed&Tx_Commodity=67\n"
     ]
    },
    {
     "name": "stderr",
     "output_type": "stream",
     "text": [
      "/var/folders/jb/zy_516ps25g392kqdzfs61640000gn/T/ipykernel_78044/1959355148.py:16: FutureWarning: Passing literal html to 'read_html' is deprecated and will be removed in a future version. To read from a literal string, wrap it in a 'StringIO' object.\n",
      "  df = pd.read_html(table_html)[0]\n"
     ]
    },
    {
     "name": "stdout",
     "output_type": "stream",
     "text": [
      "Pulled data:  (16, 12)\n",
      "Pulling data from: https://agmarknet.gov.in/SearchCmmMkt.aspx?Tx_State=0&Tx_District=0&Tx_Market=0&Tx_Trend=2&DateFrom=01-Aug-2025&DateTo=01-Aug-2025&Fr_Date=01-Aug-2025&To_Date=01-Aug-2025&Tx_CommodityHead=Lint&Tx_Commodity=280\n",
      "[WARN] 2025-08-01: Message: \n",
      "Stacktrace:\n",
      "0   chromedriver                        0x000000010522f26c cxxbridge1$str$ptr + 2741972\n",
      "1   chromedriver                        0x00000001052271dc cxxbridge1$str$ptr + 2709060\n",
      "2   chromedriver                        0x0000000104d714fc cxxbridge1$string$len + 90520\n",
      "3   chromedriver                        0x0000000104db8a14 cxxbridge1$string$len + 382640\n",
      "4   chromedriver                        0x0000000104df9db8 cxxbridge1$string$len + 649812\n",
      "5   chromedriver                        0x0000000104dacd30 cxxbridge1$string$len + 334284\n",
      "6   chromedriver                        0x00000001051f266c cxxbridge1$str$ptr + 2493140\n",
      "7   chromedriver                        0x00000001051f58a0 cxxbridge1$str$ptr + 2505992\n",
      "8   chromedriver                        0x00000001051d34a4 cxxbridge1$str$ptr + 2365708\n",
      "9   chromedriver                        0x00000001051f615c cxxbridge1$str$ptr + 2508228\n",
      "10  chromedriver                        0x00000001051c459c cxxbridge1$str$ptr + 2304516\n",
      "11  chromedriver                        0x0000000105215c78 cxxbridge1$str$ptr + 2638048\n",
      "12  chromedriver                        0x0000000105215e04 cxxbridge1$str$ptr + 2638444\n",
      "13  chromedriver                        0x0000000105226e28 cxxbridge1$str$ptr + 2708112\n",
      "14  libsystem_pthread.dylib             0x00000001877a7c0c _pthread_start + 136\n",
      "15  libsystem_pthread.dylib             0x00000001877a2b80 thread_start + 8\n",
      "\n",
      "Pulling data from: https://agmarknet.gov.in/SearchCmmMkt.aspx?Tx_State=0&Tx_District=0&Tx_Market=0&Tx_Trend=2&DateFrom=01-Aug-2025&DateTo=01-Aug-2025&Fr_Date=01-Aug-2025&To_Date=01-Aug-2025&Tx_CommodityHead=liquor+turmeric&Tx_Commodity=432\n",
      "[WARN] 2025-08-01: Message: \n",
      "Stacktrace:\n",
      "0   chromedriver                        0x000000010522f26c cxxbridge1$str$ptr + 2741972\n",
      "1   chromedriver                        0x00000001052271dc cxxbridge1$str$ptr + 2709060\n",
      "2   chromedriver                        0x0000000104d714fc cxxbridge1$string$len + 90520\n",
      "3   chromedriver                        0x0000000104db8a14 cxxbridge1$string$len + 382640\n",
      "4   chromedriver                        0x0000000104df9db8 cxxbridge1$string$len + 649812\n",
      "5   chromedriver                        0x0000000104dacd30 cxxbridge1$string$len + 334284\n",
      "6   chromedriver                        0x00000001051f266c cxxbridge1$str$ptr + 2493140\n",
      "7   chromedriver                        0x00000001051f58a0 cxxbridge1$str$ptr + 2505992\n",
      "8   chromedriver                        0x00000001051d34a4 cxxbridge1$str$ptr + 2365708\n",
      "9   chromedriver                        0x00000001051f615c cxxbridge1$str$ptr + 2508228\n",
      "10  chromedriver                        0x00000001051c459c cxxbridge1$str$ptr + 2304516\n",
      "11  chromedriver                        0x0000000105215c78 cxxbridge1$str$ptr + 2638048\n",
      "12  chromedriver                        0x0000000105215e04 cxxbridge1$str$ptr + 2638444\n",
      "13  chromedriver                        0x0000000105226e28 cxxbridge1$str$ptr + 2708112\n",
      "14  libsystem_pthread.dylib             0x00000001877a7c0c _pthread_start + 136\n",
      "15  libsystem_pthread.dylib             0x00000001877a2b80 thread_start + 8\n",
      "\n",
      "Pulling data from: https://agmarknet.gov.in/SearchCmmMkt.aspx?Tx_State=0&Tx_District=0&Tx_Market=0&Tx_Trend=2&DateFrom=01-Aug-2025&DateTo=01-Aug-2025&Fr_Date=01-Aug-2025&To_Date=01-Aug-2025&Tx_CommodityHead=Litchi&Tx_Commodity=351\n",
      "[WARN] 2025-08-01: Message: \n",
      "Stacktrace:\n",
      "0   chromedriver                        0x000000010522f26c cxxbridge1$str$ptr + 2741972\n",
      "1   chromedriver                        0x00000001052271dc cxxbridge1$str$ptr + 2709060\n",
      "2   chromedriver                        0x0000000104d714fc cxxbridge1$string$len + 90520\n",
      "3   chromedriver                        0x0000000104db8a14 cxxbridge1$string$len + 382640\n",
      "4   chromedriver                        0x0000000104df9db8 cxxbridge1$string$len + 649812\n",
      "5   chromedriver                        0x0000000104dacd30 cxxbridge1$string$len + 334284\n",
      "6   chromedriver                        0x00000001051f266c cxxbridge1$str$ptr + 2493140\n",
      "7   chromedriver                        0x00000001051f58a0 cxxbridge1$str$ptr + 2505992\n",
      "8   chromedriver                        0x00000001051d34a4 cxxbridge1$str$ptr + 2365708\n",
      "9   chromedriver                        0x00000001051f615c cxxbridge1$str$ptr + 2508228\n",
      "10  chromedriver                        0x00000001051c459c cxxbridge1$str$ptr + 2304516\n",
      "11  chromedriver                        0x0000000105215c78 cxxbridge1$str$ptr + 2638048\n",
      "12  chromedriver                        0x0000000105215e04 cxxbridge1$str$ptr + 2638444\n",
      "13  chromedriver                        0x0000000105226e28 cxxbridge1$str$ptr + 2708112\n",
      "14  libsystem_pthread.dylib             0x00000001877a7c0c _pthread_start + 136\n",
      "15  libsystem_pthread.dylib             0x00000001877a2b80 thread_start + 8\n",
      "\n",
      "Pulling data from: https://agmarknet.gov.in/SearchCmmMkt.aspx?Tx_State=0&Tx_District=0&Tx_Market=0&Tx_Trend=2&DateFrom=01-Aug-2025&DateTo=01-Aug-2025&Fr_Date=01-Aug-2025&To_Date=01-Aug-2025&Tx_CommodityHead=Little+gourd+%28Kundru%29&Tx_Commodity=302\n"
     ]
    },
    {
     "name": "stderr",
     "output_type": "stream",
     "text": [
      "/var/folders/jb/zy_516ps25g392kqdzfs61640000gn/T/ipykernel_78044/1959355148.py:16: FutureWarning: Passing literal html to 'read_html' is deprecated and will be removed in a future version. To read from a literal string, wrap it in a 'StringIO' object.\n",
      "  df = pd.read_html(table_html)[0]\n"
     ]
    },
    {
     "name": "stdout",
     "output_type": "stream",
     "text": [
      "Pulled data:  (45, 12)\n",
      "Pulling data from: https://agmarknet.gov.in/SearchCmmMkt.aspx?Tx_State=0&Tx_District=0&Tx_Market=0&Tx_Trend=2&DateFrom=01-Aug-2025&DateTo=01-Aug-2025&Fr_Date=01-Aug-2025&To_Date=01-Aug-2025&Tx_CommodityHead=Long+Melon%28Kakri%29&Tx_Commodity=304\n"
     ]
    },
    {
     "name": "stderr",
     "output_type": "stream",
     "text": [
      "/var/folders/jb/zy_516ps25g392kqdzfs61640000gn/T/ipykernel_78044/1959355148.py:16: FutureWarning: Passing literal html to 'read_html' is deprecated and will be removed in a future version. To read from a literal string, wrap it in a 'StringIO' object.\n",
      "  df = pd.read_html(table_html)[0]\n"
     ]
    },
    {
     "name": "stdout",
     "output_type": "stream",
     "text": [
      "Pulled data:  (5, 12)\n",
      "Pulling data from: https://agmarknet.gov.in/SearchCmmMkt.aspx?Tx_State=0&Tx_District=0&Tx_Market=0&Tx_Trend=2&DateFrom=01-Aug-2025&DateTo=01-Aug-2025&Fr_Date=01-Aug-2025&To_Date=01-Aug-2025&Tx_CommodityHead=Lotus&Tx_Commodity=403\n"
     ]
    },
    {
     "name": "stderr",
     "output_type": "stream",
     "text": [
      "/var/folders/jb/zy_516ps25g392kqdzfs61640000gn/T/ipykernel_78044/1959355148.py:16: FutureWarning: Passing literal html to 'read_html' is deprecated and will be removed in a future version. To read from a literal string, wrap it in a 'StringIO' object.\n",
      "  df = pd.read_html(table_html)[0]\n"
     ]
    },
    {
     "name": "stdout",
     "output_type": "stream",
     "text": [
      "Pulled data:  (1, 12)\n",
      "Pulling data from: https://agmarknet.gov.in/SearchCmmMkt.aspx?Tx_State=0&Tx_District=0&Tx_Market=0&Tx_Trend=2&DateFrom=01-Aug-2025&DateTo=01-Aug-2025&Fr_Date=01-Aug-2025&To_Date=01-Aug-2025&Tx_CommodityHead=Lotus+Sticks&Tx_Commodity=339\n"
     ]
    },
    {
     "name": "stderr",
     "output_type": "stream",
     "text": [
      "/var/folders/jb/zy_516ps25g392kqdzfs61640000gn/T/ipykernel_78044/1959355148.py:16: FutureWarning: Passing literal html to 'read_html' is deprecated and will be removed in a future version. To read from a literal string, wrap it in a 'StringIO' object.\n",
      "  df = pd.read_html(table_html)[0]\n"
     ]
    },
    {
     "name": "stdout",
     "output_type": "stream",
     "text": [
      "Pulled data:  (1, 12)\n",
      "Pulling data from: https://agmarknet.gov.in/SearchCmmMkt.aspx?Tx_State=0&Tx_District=0&Tx_Market=0&Tx_Trend=2&DateFrom=01-Aug-2025&DateTo=01-Aug-2025&Fr_Date=01-Aug-2025&To_Date=01-Aug-2025&Tx_CommodityHead=Lukad&Tx_Commodity=337\n",
      "[WARN] 2025-08-01: Message: \n",
      "Stacktrace:\n",
      "0   chromedriver                        0x000000010522f26c cxxbridge1$str$ptr + 2741972\n",
      "1   chromedriver                        0x00000001052271dc cxxbridge1$str$ptr + 2709060\n",
      "2   chromedriver                        0x0000000104d714fc cxxbridge1$string$len + 90520\n",
      "3   chromedriver                        0x0000000104db8a14 cxxbridge1$string$len + 382640\n",
      "4   chromedriver                        0x0000000104df9db8 cxxbridge1$string$len + 649812\n",
      "5   chromedriver                        0x0000000104dacd30 cxxbridge1$string$len + 334284\n",
      "6   chromedriver                        0x00000001051f266c cxxbridge1$str$ptr + 2493140\n",
      "7   chromedriver                        0x00000001051f58a0 cxxbridge1$str$ptr + 2505992\n",
      "8   chromedriver                        0x00000001051d34a4 cxxbridge1$str$ptr + 2365708\n",
      "9   chromedriver                        0x00000001051f615c cxxbridge1$str$ptr + 2508228\n",
      "10  chromedriver                        0x00000001051c459c cxxbridge1$str$ptr + 2304516\n",
      "11  chromedriver                        0x0000000105215c78 cxxbridge1$str$ptr + 2638048\n",
      "12  chromedriver                        0x0000000105215e04 cxxbridge1$str$ptr + 2638444\n",
      "13  chromedriver                        0x0000000105226e28 cxxbridge1$str$ptr + 2708112\n",
      "14  libsystem_pthread.dylib             0x00000001877a7c0c _pthread_start + 136\n",
      "15  libsystem_pthread.dylib             0x00000001877a2b80 thread_start + 8\n",
      "\n",
      "Pulling data from: https://agmarknet.gov.in/SearchCmmMkt.aspx?Tx_State=0&Tx_District=0&Tx_Market=0&Tx_Trend=2&DateFrom=01-Aug-2025&DateTo=01-Aug-2025&Fr_Date=01-Aug-2025&To_Date=01-Aug-2025&Tx_CommodityHead=Lupine&Tx_Commodity=479\n",
      "[WARN] 2025-08-01: Message: \n",
      "Stacktrace:\n",
      "0   chromedriver                        0x000000010522f26c cxxbridge1$str$ptr + 2741972\n",
      "1   chromedriver                        0x00000001052271dc cxxbridge1$str$ptr + 2709060\n",
      "2   chromedriver                        0x0000000104d714fc cxxbridge1$string$len + 90520\n",
      "3   chromedriver                        0x0000000104db8a14 cxxbridge1$string$len + 382640\n",
      "4   chromedriver                        0x0000000104df9db8 cxxbridge1$string$len + 649812\n",
      "5   chromedriver                        0x0000000104dacd30 cxxbridge1$string$len + 334284\n",
      "6   chromedriver                        0x00000001051f266c cxxbridge1$str$ptr + 2493140\n",
      "7   chromedriver                        0x00000001051f58a0 cxxbridge1$str$ptr + 2505992\n",
      "8   chromedriver                        0x00000001051d34a4 cxxbridge1$str$ptr + 2365708\n",
      "9   chromedriver                        0x00000001051f615c cxxbridge1$str$ptr + 2508228\n",
      "10  chromedriver                        0x00000001051c459c cxxbridge1$str$ptr + 2304516\n",
      "11  chromedriver                        0x0000000105215c78 cxxbridge1$str$ptr + 2638048\n",
      "12  chromedriver                        0x0000000105215e04 cxxbridge1$str$ptr + 2638444\n",
      "13  chromedriver                        0x0000000105226e28 cxxbridge1$str$ptr + 2708112\n",
      "14  libsystem_pthread.dylib             0x00000001877a7c0c _pthread_start + 136\n",
      "15  libsystem_pthread.dylib             0x00000001877a2b80 thread_start + 8\n",
      "\n",
      "Pulling data from: https://agmarknet.gov.in/SearchCmmMkt.aspx?Tx_State=0&Tx_District=0&Tx_Market=0&Tx_Trend=2&DateFrom=01-Aug-2025&DateTo=01-Aug-2025&Fr_Date=01-Aug-2025&To_Date=01-Aug-2025&Tx_CommodityHead=Ma.Inji&Tx_Commodity=504\n",
      "[WARN] 2025-08-01: Message: \n",
      "Stacktrace:\n",
      "0   chromedriver                        0x000000010522f26c cxxbridge1$str$ptr + 2741972\n",
      "1   chromedriver                        0x00000001052271dc cxxbridge1$str$ptr + 2709060\n",
      "2   chromedriver                        0x0000000104d714fc cxxbridge1$string$len + 90520\n",
      "3   chromedriver                        0x0000000104db8a14 cxxbridge1$string$len + 382640\n",
      "4   chromedriver                        0x0000000104df9db8 cxxbridge1$string$len + 649812\n",
      "5   chromedriver                        0x0000000104dacd30 cxxbridge1$string$len + 334284\n",
      "6   chromedriver                        0x00000001051f266c cxxbridge1$str$ptr + 2493140\n",
      "7   chromedriver                        0x00000001051f58a0 cxxbridge1$str$ptr + 2505992\n",
      "8   chromedriver                        0x00000001051d34a4 cxxbridge1$str$ptr + 2365708\n",
      "9   chromedriver                        0x00000001051f615c cxxbridge1$str$ptr + 2508228\n",
      "10  chromedriver                        0x00000001051c459c cxxbridge1$str$ptr + 2304516\n",
      "11  chromedriver                        0x0000000105215c78 cxxbridge1$str$ptr + 2638048\n",
      "12  chromedriver                        0x0000000105215e04 cxxbridge1$str$ptr + 2638444\n",
      "13  chromedriver                        0x0000000105226e28 cxxbridge1$str$ptr + 2708112\n",
      "14  libsystem_pthread.dylib             0x00000001877a7c0c _pthread_start + 136\n",
      "15  libsystem_pthread.dylib             0x00000001877a2b80 thread_start + 8\n",
      "\n",
      "Pulling data from: https://agmarknet.gov.in/SearchCmmMkt.aspx?Tx_State=0&Tx_District=0&Tx_Market=0&Tx_Trend=2&DateFrom=01-Aug-2025&DateTo=01-Aug-2025&Fr_Date=01-Aug-2025&To_Date=01-Aug-2025&Tx_CommodityHead=Mace&Tx_Commodity=107\n",
      "[WARN] 2025-08-01: Message: \n",
      "Stacktrace:\n",
      "0   chromedriver                        0x000000010522f26c cxxbridge1$str$ptr + 2741972\n",
      "1   chromedriver                        0x00000001052271dc cxxbridge1$str$ptr + 2709060\n",
      "2   chromedriver                        0x0000000104d714fc cxxbridge1$string$len + 90520\n",
      "3   chromedriver                        0x0000000104db8a14 cxxbridge1$string$len + 382640\n",
      "4   chromedriver                        0x0000000104df9db8 cxxbridge1$string$len + 649812\n",
      "5   chromedriver                        0x0000000104dacd30 cxxbridge1$string$len + 334284\n",
      "6   chromedriver                        0x00000001051f266c cxxbridge1$str$ptr + 2493140\n",
      "7   chromedriver                        0x00000001051f58a0 cxxbridge1$str$ptr + 2505992\n",
      "8   chromedriver                        0x00000001051d34a4 cxxbridge1$str$ptr + 2365708\n",
      "9   chromedriver                        0x00000001051f615c cxxbridge1$str$ptr + 2508228\n",
      "10  chromedriver                        0x00000001051c459c cxxbridge1$str$ptr + 2304516\n",
      "11  chromedriver                        0x0000000105215c78 cxxbridge1$str$ptr + 2638048\n",
      "12  chromedriver                        0x0000000105215e04 cxxbridge1$str$ptr + 2638444\n",
      "13  chromedriver                        0x0000000105226e28 cxxbridge1$str$ptr + 2708112\n",
      "14  libsystem_pthread.dylib             0x00000001877a7c0c _pthread_start + 136\n",
      "15  libsystem_pthread.dylib             0x00000001877a2b80 thread_start + 8\n",
      "\n",
      "Pulling data from: https://agmarknet.gov.in/SearchCmmMkt.aspx?Tx_State=0&Tx_District=0&Tx_Market=0&Tx_Trend=2&DateFrom=01-Aug-2025&DateTo=01-Aug-2025&Fr_Date=01-Aug-2025&To_Date=01-Aug-2025&Tx_CommodityHead=macoy&Tx_Commodity=427\n",
      "[WARN] 2025-08-01: Message: \n",
      "Stacktrace:\n",
      "0   chromedriver                        0x000000010522f26c cxxbridge1$str$ptr + 2741972\n",
      "1   chromedriver                        0x00000001052271dc cxxbridge1$str$ptr + 2709060\n",
      "2   chromedriver                        0x0000000104d714fc cxxbridge1$string$len + 90520\n",
      "3   chromedriver                        0x0000000104db8a14 cxxbridge1$string$len + 382640\n",
      "4   chromedriver                        0x0000000104df9db8 cxxbridge1$string$len + 649812\n",
      "5   chromedriver                        0x0000000104dacd30 cxxbridge1$string$len + 334284\n",
      "6   chromedriver                        0x00000001051f266c cxxbridge1$str$ptr + 2493140\n",
      "7   chromedriver                        0x00000001051f58a0 cxxbridge1$str$ptr + 2505992\n",
      "8   chromedriver                        0x00000001051d34a4 cxxbridge1$str$ptr + 2365708\n",
      "9   chromedriver                        0x00000001051f615c cxxbridge1$str$ptr + 2508228\n",
      "10  chromedriver                        0x00000001051c459c cxxbridge1$str$ptr + 2304516\n",
      "11  chromedriver                        0x0000000105215c78 cxxbridge1$str$ptr + 2638048\n",
      "12  chromedriver                        0x0000000105215e04 cxxbridge1$str$ptr + 2638444\n",
      "13  chromedriver                        0x0000000105226e28 cxxbridge1$str$ptr + 2708112\n",
      "14  libsystem_pthread.dylib             0x00000001877a7c0c _pthread_start + 136\n",
      "15  libsystem_pthread.dylib             0x00000001877a2b80 thread_start + 8\n",
      "\n",
      "Pulling data from: https://agmarknet.gov.in/SearchCmmMkt.aspx?Tx_State=0&Tx_District=0&Tx_Market=0&Tx_Trend=2&DateFrom=01-Aug-2025&DateTo=01-Aug-2025&Fr_Date=01-Aug-2025&To_Date=01-Aug-2025&Tx_CommodityHead=Mahedi&Tx_Commodity=411\n",
      "[WARN] 2025-08-01: Message: \n",
      "Stacktrace:\n",
      "0   chromedriver                        0x000000010522f26c cxxbridge1$str$ptr + 2741972\n",
      "1   chromedriver                        0x00000001052271dc cxxbridge1$str$ptr + 2709060\n",
      "2   chromedriver                        0x0000000104d714fc cxxbridge1$string$len + 90520\n",
      "3   chromedriver                        0x0000000104db8a14 cxxbridge1$string$len + 382640\n",
      "4   chromedriver                        0x0000000104df9db8 cxxbridge1$string$len + 649812\n",
      "5   chromedriver                        0x0000000104dacd30 cxxbridge1$string$len + 334284\n",
      "6   chromedriver                        0x00000001051f266c cxxbridge1$str$ptr + 2493140\n",
      "7   chromedriver                        0x00000001051f58a0 cxxbridge1$str$ptr + 2505992\n",
      "8   chromedriver                        0x00000001051d34a4 cxxbridge1$str$ptr + 2365708\n",
      "9   chromedriver                        0x00000001051f615c cxxbridge1$str$ptr + 2508228\n",
      "10  chromedriver                        0x00000001051c459c cxxbridge1$str$ptr + 2304516\n",
      "11  chromedriver                        0x0000000105215c78 cxxbridge1$str$ptr + 2638048\n",
      "12  chromedriver                        0x0000000105215e04 cxxbridge1$str$ptr + 2638444\n",
      "13  chromedriver                        0x0000000105226e28 cxxbridge1$str$ptr + 2708112\n",
      "14  libsystem_pthread.dylib             0x00000001877a7c0c _pthread_start + 136\n",
      "15  libsystem_pthread.dylib             0x00000001877a2b80 thread_start + 8\n",
      "\n",
      "Pulling data from: https://agmarknet.gov.in/SearchCmmMkt.aspx?Tx_State=0&Tx_District=0&Tx_Market=0&Tx_Trend=2&DateFrom=01-Aug-2025&DateTo=01-Aug-2025&Fr_Date=01-Aug-2025&To_Date=01-Aug-2025&Tx_CommodityHead=Mahua&Tx_Commodity=335\n"
     ]
    },
    {
     "name": "stderr",
     "output_type": "stream",
     "text": [
      "/var/folders/jb/zy_516ps25g392kqdzfs61640000gn/T/ipykernel_78044/1959355148.py:16: FutureWarning: Passing literal html to 'read_html' is deprecated and will be removed in a future version. To read from a literal string, wrap it in a 'StringIO' object.\n",
      "  df = pd.read_html(table_html)[0]\n"
     ]
    },
    {
     "name": "stdout",
     "output_type": "stream",
     "text": [
      "Pulled data:  (7, 12)\n",
      "Pulling data from: https://agmarknet.gov.in/SearchCmmMkt.aspx?Tx_State=0&Tx_District=0&Tx_Market=0&Tx_Trend=2&DateFrom=01-Aug-2025&DateTo=01-Aug-2025&Fr_Date=01-Aug-2025&To_Date=01-Aug-2025&Tx_CommodityHead=Mahua+Seed%28Hippe+seed%29&Tx_Commodity=371\n",
      "[WARN] 2025-08-01: Message: \n",
      "Stacktrace:\n",
      "0   chromedriver                        0x000000010522f26c cxxbridge1$str$ptr + 2741972\n",
      "1   chromedriver                        0x00000001052271dc cxxbridge1$str$ptr + 2709060\n",
      "2   chromedriver                        0x0000000104d714fc cxxbridge1$string$len + 90520\n",
      "3   chromedriver                        0x0000000104db8a14 cxxbridge1$string$len + 382640\n",
      "4   chromedriver                        0x0000000104df9db8 cxxbridge1$string$len + 649812\n",
      "5   chromedriver                        0x0000000104dacd30 cxxbridge1$string$len + 334284\n",
      "6   chromedriver                        0x00000001051f266c cxxbridge1$str$ptr + 2493140\n",
      "7   chromedriver                        0x00000001051f58a0 cxxbridge1$str$ptr + 2505992\n",
      "8   chromedriver                        0x00000001051d34a4 cxxbridge1$str$ptr + 2365708\n",
      "9   chromedriver                        0x00000001051f615c cxxbridge1$str$ptr + 2508228\n",
      "10  chromedriver                        0x00000001051c459c cxxbridge1$str$ptr + 2304516\n",
      "11  chromedriver                        0x0000000105215c78 cxxbridge1$str$ptr + 2638048\n",
      "12  chromedriver                        0x0000000105215e04 cxxbridge1$str$ptr + 2638444\n",
      "13  chromedriver                        0x0000000105226e28 cxxbridge1$str$ptr + 2708112\n",
      "14  libsystem_pthread.dylib             0x00000001877a7c0c _pthread_start + 136\n",
      "15  libsystem_pthread.dylib             0x00000001877a2b80 thread_start + 8\n",
      "\n",
      "Pulling data from: https://agmarknet.gov.in/SearchCmmMkt.aspx?Tx_State=0&Tx_District=0&Tx_Market=0&Tx_Trend=2&DateFrom=01-Aug-2025&DateTo=01-Aug-2025&Fr_Date=01-Aug-2025&To_Date=01-Aug-2025&Tx_CommodityHead=Maida+Atta&Tx_Commodity=288\n",
      "[WARN] 2025-08-01: Message: \n",
      "Stacktrace:\n",
      "0   chromedriver                        0x000000010522f26c cxxbridge1$str$ptr + 2741972\n",
      "1   chromedriver                        0x00000001052271dc cxxbridge1$str$ptr + 2709060\n",
      "2   chromedriver                        0x0000000104d714fc cxxbridge1$string$len + 90520\n",
      "3   chromedriver                        0x0000000104db8a14 cxxbridge1$string$len + 382640\n",
      "4   chromedriver                        0x0000000104df9db8 cxxbridge1$string$len + 649812\n",
      "5   chromedriver                        0x0000000104dacd30 cxxbridge1$string$len + 334284\n",
      "6   chromedriver                        0x00000001051f266c cxxbridge1$str$ptr + 2493140\n",
      "7   chromedriver                        0x00000001051f58a0 cxxbridge1$str$ptr + 2505992\n",
      "8   chromedriver                        0x00000001051d34a4 cxxbridge1$str$ptr + 2365708\n",
      "9   chromedriver                        0x00000001051f615c cxxbridge1$str$ptr + 2508228\n",
      "10  chromedriver                        0x00000001051c459c cxxbridge1$str$ptr + 2304516\n",
      "11  chromedriver                        0x0000000105215c78 cxxbridge1$str$ptr + 2638048\n",
      "12  chromedriver                        0x0000000105215e04 cxxbridge1$str$ptr + 2638444\n",
      "13  chromedriver                        0x0000000105226e28 cxxbridge1$str$ptr + 2708112\n",
      "14  libsystem_pthread.dylib             0x00000001877a7c0c _pthread_start + 136\n",
      "15  libsystem_pthread.dylib             0x00000001877a2b80 thread_start + 8\n",
      "\n",
      "Pulling data from: https://agmarknet.gov.in/SearchCmmMkt.aspx?Tx_State=0&Tx_District=0&Tx_Market=0&Tx_Trend=2&DateFrom=01-Aug-2025&DateTo=01-Aug-2025&Fr_Date=01-Aug-2025&To_Date=01-Aug-2025&Tx_CommodityHead=Maize&Tx_Commodity=4\n"
     ]
    },
    {
     "name": "stderr",
     "output_type": "stream",
     "text": [
      "/var/folders/jb/zy_516ps25g392kqdzfs61640000gn/T/ipykernel_78044/1959355148.py:16: FutureWarning: Passing literal html to 'read_html' is deprecated and will be removed in a future version. To read from a literal string, wrap it in a 'StringIO' object.\n",
      "  df = pd.read_html(table_html)[0]\n"
     ]
    },
    {
     "name": "stdout",
     "output_type": "stream",
     "text": [
      "Pulled data:  (209, 12)\n",
      "Pulling data from: https://agmarknet.gov.in/SearchCmmMkt.aspx?Tx_State=0&Tx_District=0&Tx_Market=0&Tx_Trend=2&DateFrom=01-Aug-2025&DateTo=01-Aug-2025&Fr_Date=01-Aug-2025&To_Date=01-Aug-2025&Tx_CommodityHead=Mango&Tx_Commodity=20\n"
     ]
    },
    {
     "name": "stderr",
     "output_type": "stream",
     "text": [
      "/var/folders/jb/zy_516ps25g392kqdzfs61640000gn/T/ipykernel_78044/1959355148.py:16: FutureWarning: Passing literal html to 'read_html' is deprecated and will be removed in a future version. To read from a literal string, wrap it in a 'StringIO' object.\n",
      "  df = pd.read_html(table_html)[0]\n"
     ]
    },
    {
     "name": "stdout",
     "output_type": "stream",
     "text": [
      "Pulled data:  (188, 12)\n",
      "Pulling data from: https://agmarknet.gov.in/SearchCmmMkt.aspx?Tx_State=0&Tx_District=0&Tx_Market=0&Tx_Trend=2&DateFrom=01-Aug-2025&DateTo=01-Aug-2025&Fr_Date=01-Aug-2025&To_Date=01-Aug-2025&Tx_CommodityHead=Mango+%28Raw-Ripe%29&Tx_Commodity=172\n"
     ]
    },
    {
     "name": "stderr",
     "output_type": "stream",
     "text": [
      "/var/folders/jb/zy_516ps25g392kqdzfs61640000gn/T/ipykernel_78044/1959355148.py:16: FutureWarning: Passing literal html to 'read_html' is deprecated and will be removed in a future version. To read from a literal string, wrap it in a 'StringIO' object.\n",
      "  df = pd.read_html(table_html)[0]\n"
     ]
    },
    {
     "name": "stdout",
     "output_type": "stream",
     "text": [
      "Pulled data:  (147, 12)\n",
      "Pulling data from: https://agmarknet.gov.in/SearchCmmMkt.aspx?Tx_State=0&Tx_District=0&Tx_Market=0&Tx_Trend=2&DateFrom=01-Aug-2025&DateTo=01-Aug-2025&Fr_Date=01-Aug-2025&To_Date=01-Aug-2025&Tx_CommodityHead=mango+powder&Tx_Commodity=422\n",
      "[WARN] 2025-08-01: Message: \n",
      "Stacktrace:\n",
      "0   chromedriver                        0x000000010518326c cxxbridge1$str$ptr + 2741972\n",
      "1   chromedriver                        0x000000010517b1dc cxxbridge1$str$ptr + 2709060\n",
      "2   chromedriver                        0x0000000104cc54fc cxxbridge1$string$len + 90520\n",
      "3   chromedriver                        0x0000000104d0ca14 cxxbridge1$string$len + 382640\n",
      "4   chromedriver                        0x0000000104d4ddb8 cxxbridge1$string$len + 649812\n",
      "5   chromedriver                        0x0000000104d00d30 cxxbridge1$string$len + 334284\n",
      "6   chromedriver                        0x000000010514666c cxxbridge1$str$ptr + 2493140\n",
      "7   chromedriver                        0x00000001051498a0 cxxbridge1$str$ptr + 2505992\n",
      "8   chromedriver                        0x00000001051274a4 cxxbridge1$str$ptr + 2365708\n",
      "9   chromedriver                        0x000000010514a15c cxxbridge1$str$ptr + 2508228\n",
      "10  chromedriver                        0x000000010511859c cxxbridge1$str$ptr + 2304516\n",
      "11  chromedriver                        0x0000000105169c78 cxxbridge1$str$ptr + 2638048\n",
      "12  chromedriver                        0x0000000105169e04 cxxbridge1$str$ptr + 2638444\n",
      "13  chromedriver                        0x000000010517ae28 cxxbridge1$str$ptr + 2708112\n",
      "14  libsystem_pthread.dylib             0x00000001877a7c0c _pthread_start + 136\n",
      "15  libsystem_pthread.dylib             0x00000001877a2b80 thread_start + 8\n",
      "\n",
      "Pulling data from: https://agmarknet.gov.in/SearchCmmMkt.aspx?Tx_State=0&Tx_District=0&Tx_Market=0&Tx_Trend=2&DateFrom=01-Aug-2025&DateTo=01-Aug-2025&Fr_Date=01-Aug-2025&To_Date=01-Aug-2025&Tx_CommodityHead=Maragensu&Tx_Commodity=225\n",
      "[WARN] 2025-08-01: Message: \n",
      "Stacktrace:\n",
      "0   chromedriver                        0x000000010518326c cxxbridge1$str$ptr + 2741972\n",
      "1   chromedriver                        0x000000010517b1dc cxxbridge1$str$ptr + 2709060\n",
      "2   chromedriver                        0x0000000104cc54fc cxxbridge1$string$len + 90520\n",
      "3   chromedriver                        0x0000000104d0ca14 cxxbridge1$string$len + 382640\n",
      "4   chromedriver                        0x0000000104d4ddb8 cxxbridge1$string$len + 649812\n",
      "5   chromedriver                        0x0000000104d00d30 cxxbridge1$string$len + 334284\n",
      "6   chromedriver                        0x000000010514666c cxxbridge1$str$ptr + 2493140\n",
      "7   chromedriver                        0x00000001051498a0 cxxbridge1$str$ptr + 2505992\n",
      "8   chromedriver                        0x00000001051274a4 cxxbridge1$str$ptr + 2365708\n",
      "9   chromedriver                        0x000000010514a15c cxxbridge1$str$ptr + 2508228\n",
      "10  chromedriver                        0x000000010511859c cxxbridge1$str$ptr + 2304516\n",
      "11  chromedriver                        0x0000000105169c78 cxxbridge1$str$ptr + 2638048\n",
      "12  chromedriver                        0x0000000105169e04 cxxbridge1$str$ptr + 2638444\n",
      "13  chromedriver                        0x000000010517ae28 cxxbridge1$str$ptr + 2708112\n",
      "14  libsystem_pthread.dylib             0x00000001877a7c0c _pthread_start + 136\n",
      "15  libsystem_pthread.dylib             0x00000001877a2b80 thread_start + 8\n",
      "\n",
      "Pulling data from: https://agmarknet.gov.in/SearchCmmMkt.aspx?Tx_State=0&Tx_District=0&Tx_Market=0&Tx_Trend=2&DateFrom=01-Aug-2025&DateTo=01-Aug-2025&Fr_Date=01-Aug-2025&To_Date=01-Aug-2025&Tx_CommodityHead=Marasebu&Tx_Commodity=181\n"
     ]
    },
    {
     "name": "stderr",
     "output_type": "stream",
     "text": [
      "/var/folders/jb/zy_516ps25g392kqdzfs61640000gn/T/ipykernel_78044/1959355148.py:16: FutureWarning: Passing literal html to 'read_html' is deprecated and will be removed in a future version. To read from a literal string, wrap it in a 'StringIO' object.\n",
      "  df = pd.read_html(table_html)[0]\n"
     ]
    },
    {
     "name": "stdout",
     "output_type": "stream",
     "text": [
      "Pulled data:  (2, 12)\n",
      "Pulling data from: https://agmarknet.gov.in/SearchCmmMkt.aspx?Tx_State=0&Tx_District=0&Tx_Market=0&Tx_Trend=2&DateFrom=01-Aug-2025&DateTo=01-Aug-2025&Fr_Date=01-Aug-2025&To_Date=01-Aug-2025&Tx_CommodityHead=Marget&Tx_Commodity=407\n",
      "[WARN] 2025-08-01: Message: \n",
      "Stacktrace:\n",
      "0   chromedriver                        0x000000010518326c cxxbridge1$str$ptr + 2741972\n",
      "1   chromedriver                        0x000000010517b1dc cxxbridge1$str$ptr + 2709060\n",
      "2   chromedriver                        0x0000000104cc54fc cxxbridge1$string$len + 90520\n",
      "3   chromedriver                        0x0000000104d0ca14 cxxbridge1$string$len + 382640\n",
      "4   chromedriver                        0x0000000104d4ddb8 cxxbridge1$string$len + 649812\n",
      "5   chromedriver                        0x0000000104d00d30 cxxbridge1$string$len + 334284\n",
      "6   chromedriver                        0x000000010514666c cxxbridge1$str$ptr + 2493140\n",
      "7   chromedriver                        0x00000001051498a0 cxxbridge1$str$ptr + 2505992\n",
      "8   chromedriver                        0x00000001051274a4 cxxbridge1$str$ptr + 2365708\n",
      "9   chromedriver                        0x000000010514a15c cxxbridge1$str$ptr + 2508228\n",
      "10  chromedriver                        0x000000010511859c cxxbridge1$str$ptr + 2304516\n",
      "11  chromedriver                        0x0000000105169c78 cxxbridge1$str$ptr + 2638048\n",
      "12  chromedriver                        0x0000000105169e04 cxxbridge1$str$ptr + 2638444\n",
      "13  chromedriver                        0x000000010517ae28 cxxbridge1$str$ptr + 2708112\n",
      "14  libsystem_pthread.dylib             0x00000001877a7c0c _pthread_start + 136\n",
      "15  libsystem_pthread.dylib             0x00000001877a2b80 thread_start + 8\n",
      "\n",
      "Pulling data from: https://agmarknet.gov.in/SearchCmmMkt.aspx?Tx_State=0&Tx_District=0&Tx_Market=0&Tx_Trend=2&DateFrom=01-Aug-2025&DateTo=01-Aug-2025&Fr_Date=01-Aug-2025&To_Date=01-Aug-2025&Tx_CommodityHead=Marigold%28Calcutta%29&Tx_Commodity=235\n"
     ]
    },
    {
     "name": "stderr",
     "output_type": "stream",
     "text": [
      "/var/folders/jb/zy_516ps25g392kqdzfs61640000gn/T/ipykernel_78044/1959355148.py:16: FutureWarning: Passing literal html to 'read_html' is deprecated and will be removed in a future version. To read from a literal string, wrap it in a 'StringIO' object.\n",
      "  df = pd.read_html(table_html)[0]\n"
     ]
    },
    {
     "name": "stdout",
     "output_type": "stream",
     "text": [
      "Pulled data:  (25, 12)\n",
      "Pulling data from: https://agmarknet.gov.in/SearchCmmMkt.aspx?Tx_State=0&Tx_District=0&Tx_Market=0&Tx_Trend=2&DateFrom=01-Aug-2025&DateTo=01-Aug-2025&Fr_Date=01-Aug-2025&To_Date=01-Aug-2025&Tx_CommodityHead=Marigold%28loose%29&Tx_Commodity=405\n"
     ]
    },
    {
     "name": "stderr",
     "output_type": "stream",
     "text": [
      "/var/folders/jb/zy_516ps25g392kqdzfs61640000gn/T/ipykernel_78044/1959355148.py:16: FutureWarning: Passing literal html to 'read_html' is deprecated and will be removed in a future version. To read from a literal string, wrap it in a 'StringIO' object.\n",
      "  df = pd.read_html(table_html)[0]\n"
     ]
    },
    {
     "name": "stdout",
     "output_type": "stream",
     "text": [
      "Pulled data:  (4, 12)\n",
      "Pulling data from: https://agmarknet.gov.in/SearchCmmMkt.aspx?Tx_State=0&Tx_District=0&Tx_Market=0&Tx_Trend=2&DateFrom=01-Aug-2025&DateTo=01-Aug-2025&Fr_Date=01-Aug-2025&To_Date=01-Aug-2025&Tx_CommodityHead=Marikozhunthu&Tx_Commodity=502\n",
      "[WARN] 2025-08-01: Message: \n",
      "Stacktrace:\n",
      "0   chromedriver                        0x000000010518326c cxxbridge1$str$ptr + 2741972\n",
      "1   chromedriver                        0x000000010517b1dc cxxbridge1$str$ptr + 2709060\n",
      "2   chromedriver                        0x0000000104cc54fc cxxbridge1$string$len + 90520\n",
      "3   chromedriver                        0x0000000104d0ca14 cxxbridge1$string$len + 382640\n",
      "4   chromedriver                        0x0000000104d4ddb8 cxxbridge1$string$len + 649812\n",
      "5   chromedriver                        0x0000000104d00d30 cxxbridge1$string$len + 334284\n",
      "6   chromedriver                        0x000000010514666c cxxbridge1$str$ptr + 2493140\n",
      "7   chromedriver                        0x00000001051498a0 cxxbridge1$str$ptr + 2505992\n",
      "8   chromedriver                        0x00000001051274a4 cxxbridge1$str$ptr + 2365708\n",
      "9   chromedriver                        0x000000010514a15c cxxbridge1$str$ptr + 2508228\n",
      "10  chromedriver                        0x000000010511859c cxxbridge1$str$ptr + 2304516\n",
      "11  chromedriver                        0x0000000105169c78 cxxbridge1$str$ptr + 2638048\n",
      "12  chromedriver                        0x0000000105169e04 cxxbridge1$str$ptr + 2638444\n",
      "13  chromedriver                        0x000000010517ae28 cxxbridge1$str$ptr + 2708112\n",
      "14  libsystem_pthread.dylib             0x00000001877a7c0c _pthread_start + 136\n",
      "15  libsystem_pthread.dylib             0x00000001877a2b80 thread_start + 8\n",
      "\n",
      "Pulling data from: https://agmarknet.gov.in/SearchCmmMkt.aspx?Tx_State=0&Tx_District=0&Tx_Market=0&Tx_Trend=2&DateFrom=01-Aug-2025&DateTo=01-Aug-2025&Fr_Date=01-Aug-2025&To_Date=01-Aug-2025&Tx_CommodityHead=Mash&Tx_Commodity=60\n",
      "[WARN] 2025-08-01: Message: \n",
      "Stacktrace:\n",
      "0   chromedriver                        0x000000010518326c cxxbridge1$str$ptr + 2741972\n",
      "1   chromedriver                        0x000000010517b1dc cxxbridge1$str$ptr + 2709060\n",
      "2   chromedriver                        0x0000000104cc54fc cxxbridge1$string$len + 90520\n",
      "3   chromedriver                        0x0000000104d0ca14 cxxbridge1$string$len + 382640\n",
      "4   chromedriver                        0x0000000104d4ddb8 cxxbridge1$string$len + 649812\n",
      "5   chromedriver                        0x0000000104d00d30 cxxbridge1$string$len + 334284\n",
      "6   chromedriver                        0x000000010514666c cxxbridge1$str$ptr + 2493140\n",
      "7   chromedriver                        0x00000001051498a0 cxxbridge1$str$ptr + 2505992\n",
      "8   chromedriver                        0x00000001051274a4 cxxbridge1$str$ptr + 2365708\n",
      "9   chromedriver                        0x000000010514a15c cxxbridge1$str$ptr + 2508228\n",
      "10  chromedriver                        0x000000010511859c cxxbridge1$str$ptr + 2304516\n",
      "11  chromedriver                        0x0000000105169c78 cxxbridge1$str$ptr + 2638048\n",
      "12  chromedriver                        0x0000000105169e04 cxxbridge1$str$ptr + 2638444\n",
      "13  chromedriver                        0x000000010517ae28 cxxbridge1$str$ptr + 2708112\n",
      "14  libsystem_pthread.dylib             0x00000001877a7c0c _pthread_start + 136\n",
      "15  libsystem_pthread.dylib             0x00000001877a2b80 thread_start + 8\n",
      "\n",
      "Pulling data from: https://agmarknet.gov.in/SearchCmmMkt.aspx?Tx_State=0&Tx_District=0&Tx_Market=0&Tx_Trend=2&DateFrom=01-Aug-2025&DateTo=01-Aug-2025&Fr_Date=01-Aug-2025&To_Date=01-Aug-2025&Tx_CommodityHead=Mashrooms&Tx_Commodity=340\n"
     ]
    },
    {
     "name": "stderr",
     "output_type": "stream",
     "text": [
      "/var/folders/jb/zy_516ps25g392kqdzfs61640000gn/T/ipykernel_78044/1959355148.py:16: FutureWarning: Passing literal html to 'read_html' is deprecated and will be removed in a future version. To read from a literal string, wrap it in a 'StringIO' object.\n",
      "  df = pd.read_html(table_html)[0]\n"
     ]
    },
    {
     "name": "stdout",
     "output_type": "stream",
     "text": [
      "Pulled data:  (47, 12)\n",
      "Pulling data from: https://agmarknet.gov.in/SearchCmmMkt.aspx?Tx_State=0&Tx_District=0&Tx_Market=0&Tx_Trend=2&DateFrom=01-Aug-2025&DateTo=01-Aug-2025&Fr_Date=01-Aug-2025&To_Date=01-Aug-2025&Tx_CommodityHead=Masur+Dal&Tx_Commodity=259\n"
     ]
    },
    {
     "name": "stderr",
     "output_type": "stream",
     "text": [
      "/var/folders/jb/zy_516ps25g392kqdzfs61640000gn/T/ipykernel_78044/1959355148.py:16: FutureWarning: Passing literal html to 'read_html' is deprecated and will be removed in a future version. To read from a literal string, wrap it in a 'StringIO' object.\n",
      "  df = pd.read_html(table_html)[0]\n"
     ]
    },
    {
     "name": "stdout",
     "output_type": "stream",
     "text": [
      "Pulled data:  (30, 12)\n",
      "Pulling data from: https://agmarknet.gov.in/SearchCmmMkt.aspx?Tx_State=0&Tx_District=0&Tx_Market=0&Tx_Trend=2&DateFrom=01-Aug-2025&DateTo=01-Aug-2025&Fr_Date=01-Aug-2025&To_Date=01-Aug-2025&Tx_CommodityHead=Mataki&Tx_Commodity=93\n"
     ]
    },
    {
     "name": "stderr",
     "output_type": "stream",
     "text": [
      "/var/folders/jb/zy_516ps25g392kqdzfs61640000gn/T/ipykernel_78044/1959355148.py:16: FutureWarning: Passing literal html to 'read_html' is deprecated and will be removed in a future version. To read from a literal string, wrap it in a 'StringIO' object.\n",
      "  df = pd.read_html(table_html)[0]\n"
     ]
    },
    {
     "name": "stdout",
     "output_type": "stream",
     "text": [
      "Pulled data:  (3, 12)\n",
      "Pulling data from: https://agmarknet.gov.in/SearchCmmMkt.aspx?Tx_State=0&Tx_District=0&Tx_Market=0&Tx_Trend=2&DateFrom=01-Aug-2025&DateTo=01-Aug-2025&Fr_Date=01-Aug-2025&To_Date=01-Aug-2025&Tx_CommodityHead=Methi+Seeds&Tx_Commodity=47\n"
     ]
    },
    {
     "name": "stderr",
     "output_type": "stream",
     "text": [
      "/var/folders/jb/zy_516ps25g392kqdzfs61640000gn/T/ipykernel_78044/1959355148.py:16: FutureWarning: Passing literal html to 'read_html' is deprecated and will be removed in a future version. To read from a literal string, wrap it in a 'StringIO' object.\n",
      "  df = pd.read_html(table_html)[0]\n"
     ]
    },
    {
     "name": "stdout",
     "output_type": "stream",
     "text": [
      "Pulled data:  (21, 12)\n",
      "Pulling data from: https://agmarknet.gov.in/SearchCmmMkt.aspx?Tx_State=0&Tx_District=0&Tx_Market=0&Tx_Trend=2&DateFrom=01-Aug-2025&DateTo=01-Aug-2025&Fr_Date=01-Aug-2025&To_Date=01-Aug-2025&Tx_CommodityHead=Methi%28Leaves%29&Tx_Commodity=46\n"
     ]
    },
    {
     "name": "stderr",
     "output_type": "stream",
     "text": [
      "/var/folders/jb/zy_516ps25g392kqdzfs61640000gn/T/ipykernel_78044/1959355148.py:16: FutureWarning: Passing literal html to 'read_html' is deprecated and will be removed in a future version. To read from a literal string, wrap it in a 'StringIO' object.\n",
      "  df = pd.read_html(table_html)[0]\n"
     ]
    },
    {
     "name": "stdout",
     "output_type": "stream",
     "text": [
      "Pulled data:  (19, 12)\n",
      "Pulling data from: https://agmarknet.gov.in/SearchCmmMkt.aspx?Tx_State=0&Tx_District=0&Tx_Market=0&Tx_Trend=2&DateFrom=01-Aug-2025&DateTo=01-Aug-2025&Fr_Date=01-Aug-2025&To_Date=01-Aug-2025&Tx_CommodityHead=Millets&Tx_Commodity=237\n"
     ]
    },
    {
     "name": "stderr",
     "output_type": "stream",
     "text": [
      "/var/folders/jb/zy_516ps25g392kqdzfs61640000gn/T/ipykernel_78044/1959355148.py:16: FutureWarning: Passing literal html to 'read_html' is deprecated and will be removed in a future version. To read from a literal string, wrap it in a 'StringIO' object.\n",
      "  df = pd.read_html(table_html)[0]\n"
     ]
    },
    {
     "name": "stdout",
     "output_type": "stream",
     "text": [
      "Pulled data:  (1, 12)\n",
      "Pulling data from: https://agmarknet.gov.in/SearchCmmMkt.aspx?Tx_State=0&Tx_District=0&Tx_Market=0&Tx_Trend=2&DateFrom=01-Aug-2025&DateTo=01-Aug-2025&Fr_Date=01-Aug-2025&To_Date=01-Aug-2025&Tx_CommodityHead=Mint%28Pudina%29&Tx_Commodity=360\n"
     ]
    },
    {
     "name": "stderr",
     "output_type": "stream",
     "text": [
      "/var/folders/jb/zy_516ps25g392kqdzfs61640000gn/T/ipykernel_78044/1959355148.py:16: FutureWarning: Passing literal html to 'read_html' is deprecated and will be removed in a future version. To read from a literal string, wrap it in a 'StringIO' object.\n",
      "  df = pd.read_html(table_html)[0]\n"
     ]
    },
    {
     "name": "stdout",
     "output_type": "stream",
     "text": [
      "Pulled data:  (164, 12)\n",
      "Pulling data from: https://agmarknet.gov.in/SearchCmmMkt.aspx?Tx_State=0&Tx_District=0&Tx_Market=0&Tx_Trend=2&DateFrom=01-Aug-2025&DateTo=01-Aug-2025&Fr_Date=01-Aug-2025&To_Date=01-Aug-2025&Tx_CommodityHead=Moath+Dal&Tx_Commodity=258\n"
     ]
    },
    {
     "name": "stderr",
     "output_type": "stream",
     "text": [
      "/var/folders/jb/zy_516ps25g392kqdzfs61640000gn/T/ipykernel_78044/1959355148.py:16: FutureWarning: Passing literal html to 'read_html' is deprecated and will be removed in a future version. To read from a literal string, wrap it in a 'StringIO' object.\n",
      "  df = pd.read_html(table_html)[0]\n"
     ]
    },
    {
     "name": "stdout",
     "output_type": "stream",
     "text": [
      "Pulled data:  (3, 12)\n",
      "Pulling data from: https://agmarknet.gov.in/SearchCmmMkt.aspx?Tx_State=0&Tx_District=0&Tx_Market=0&Tx_Trend=2&DateFrom=01-Aug-2025&DateTo=01-Aug-2025&Fr_Date=01-Aug-2025&To_Date=01-Aug-2025&Tx_CommodityHead=Moath+Dal&Tx_Commodity=95\n",
      "[WARN] 2025-08-01: Message: \n",
      "Stacktrace:\n",
      "0   chromedriver                        0x0000000104e4326c cxxbridge1$str$ptr + 2741972\n",
      "1   chromedriver                        0x0000000104e3b1dc cxxbridge1$str$ptr + 2709060\n",
      "2   chromedriver                        0x00000001049854fc cxxbridge1$string$len + 90520\n",
      "3   chromedriver                        0x00000001049cca14 cxxbridge1$string$len + 382640\n",
      "4   chromedriver                        0x0000000104a0ddb8 cxxbridge1$string$len + 649812\n",
      "5   chromedriver                        0x00000001049c0d30 cxxbridge1$string$len + 334284\n",
      "6   chromedriver                        0x0000000104e0666c cxxbridge1$str$ptr + 2493140\n",
      "7   chromedriver                        0x0000000104e098a0 cxxbridge1$str$ptr + 2505992\n",
      "8   chromedriver                        0x0000000104de74a4 cxxbridge1$str$ptr + 2365708\n",
      "9   chromedriver                        0x0000000104e0a15c cxxbridge1$str$ptr + 2508228\n",
      "10  chromedriver                        0x0000000104dd859c cxxbridge1$str$ptr + 2304516\n",
      "11  chromedriver                        0x0000000104e29c78 cxxbridge1$str$ptr + 2638048\n",
      "12  chromedriver                        0x0000000104e29e04 cxxbridge1$str$ptr + 2638444\n",
      "13  chromedriver                        0x0000000104e3ae28 cxxbridge1$str$ptr + 2708112\n",
      "14  libsystem_pthread.dylib             0x00000001877a7c0c _pthread_start + 136\n",
      "15  libsystem_pthread.dylib             0x00000001877a2b80 thread_start + 8\n",
      "\n",
      "Pulling data from: https://agmarknet.gov.in/SearchCmmMkt.aspx?Tx_State=0&Tx_District=0&Tx_Market=0&Tx_Trend=2&DateFrom=01-Aug-2025&DateTo=01-Aug-2025&Fr_Date=01-Aug-2025&To_Date=01-Aug-2025&Tx_CommodityHead=Mousambi%28Sweet+Lime%29&Tx_Commodity=77\n"
     ]
    },
    {
     "name": "stderr",
     "output_type": "stream",
     "text": [
      "/var/folders/jb/zy_516ps25g392kqdzfs61640000gn/T/ipykernel_78044/1959355148.py:16: FutureWarning: Passing literal html to 'read_html' is deprecated and will be removed in a future version. To read from a literal string, wrap it in a 'StringIO' object.\n",
      "  df = pd.read_html(table_html)[0]\n"
     ]
    },
    {
     "name": "stdout",
     "output_type": "stream",
     "text": [
      "Pulled data:  (146, 12)\n",
      "Pulling data from: https://agmarknet.gov.in/SearchCmmMkt.aspx?Tx_State=0&Tx_District=0&Tx_Market=0&Tx_Trend=2&DateFrom=01-Aug-2025&DateTo=01-Aug-2025&Fr_Date=01-Aug-2025&To_Date=01-Aug-2025&Tx_CommodityHead=Muesli&Tx_Commodity=446\n",
      "[WARN] 2025-08-01: Message: \n",
      "Stacktrace:\n",
      "0   chromedriver                        0x0000000104e4326c cxxbridge1$str$ptr + 2741972\n",
      "1   chromedriver                        0x0000000104e3b1dc cxxbridge1$str$ptr + 2709060\n",
      "2   chromedriver                        0x00000001049854fc cxxbridge1$string$len + 90520\n",
      "3   chromedriver                        0x00000001049cca14 cxxbridge1$string$len + 382640\n",
      "4   chromedriver                        0x0000000104a0ddb8 cxxbridge1$string$len + 649812\n",
      "5   chromedriver                        0x00000001049c0d30 cxxbridge1$string$len + 334284\n",
      "6   chromedriver                        0x0000000104e0666c cxxbridge1$str$ptr + 2493140\n",
      "7   chromedriver                        0x0000000104e098a0 cxxbridge1$str$ptr + 2505992\n",
      "8   chromedriver                        0x0000000104de74a4 cxxbridge1$str$ptr + 2365708\n",
      "9   chromedriver                        0x0000000104e0a15c cxxbridge1$str$ptr + 2508228\n",
      "10  chromedriver                        0x0000000104dd859c cxxbridge1$str$ptr + 2304516\n",
      "11  chromedriver                        0x0000000104e29c78 cxxbridge1$str$ptr + 2638048\n",
      "12  chromedriver                        0x0000000104e29e04 cxxbridge1$str$ptr + 2638444\n",
      "13  chromedriver                        0x0000000104e3ae28 cxxbridge1$str$ptr + 2708112\n",
      "14  libsystem_pthread.dylib             0x00000001877a7c0c _pthread_start + 136\n",
      "15  libsystem_pthread.dylib             0x00000001877a2b80 thread_start + 8\n",
      "\n",
      "Pulling data from: https://agmarknet.gov.in/SearchCmmMkt.aspx?Tx_State=0&Tx_District=0&Tx_Market=0&Tx_Trend=2&DateFrom=01-Aug-2025&DateTo=01-Aug-2025&Fr_Date=01-Aug-2025&To_Date=01-Aug-2025&Tx_CommodityHead=Muleti&Tx_Commodity=428\n",
      "[WARN] 2025-08-01: Message: \n",
      "Stacktrace:\n",
      "0   chromedriver                        0x0000000104e4326c cxxbridge1$str$ptr + 2741972\n",
      "1   chromedriver                        0x0000000104e3b1dc cxxbridge1$str$ptr + 2709060\n",
      "2   chromedriver                        0x00000001049854fc cxxbridge1$string$len + 90520\n",
      "3   chromedriver                        0x00000001049cca14 cxxbridge1$string$len + 382640\n",
      "4   chromedriver                        0x0000000104a0ddb8 cxxbridge1$string$len + 649812\n",
      "5   chromedriver                        0x00000001049c0d30 cxxbridge1$string$len + 334284\n",
      "6   chromedriver                        0x0000000104e0666c cxxbridge1$str$ptr + 2493140\n",
      "7   chromedriver                        0x0000000104e098a0 cxxbridge1$str$ptr + 2505992\n",
      "8   chromedriver                        0x0000000104de74a4 cxxbridge1$str$ptr + 2365708\n",
      "9   chromedriver                        0x0000000104e0a15c cxxbridge1$str$ptr + 2508228\n",
      "10  chromedriver                        0x0000000104dd859c cxxbridge1$str$ptr + 2304516\n",
      "11  chromedriver                        0x0000000104e29c78 cxxbridge1$str$ptr + 2638048\n",
      "12  chromedriver                        0x0000000104e29e04 cxxbridge1$str$ptr + 2638444\n",
      "13  chromedriver                        0x0000000104e3ae28 cxxbridge1$str$ptr + 2708112\n",
      "14  libsystem_pthread.dylib             0x00000001877a7c0c _pthread_start + 136\n",
      "15  libsystem_pthread.dylib             0x00000001877a2b80 thread_start + 8\n",
      "\n",
      "Pulling data from: https://agmarknet.gov.in/SearchCmmMkt.aspx?Tx_State=0&Tx_District=0&Tx_Market=0&Tx_Trend=2&DateFrom=01-Aug-2025&DateTo=01-Aug-2025&Fr_Date=01-Aug-2025&To_Date=01-Aug-2025&Tx_CommodityHead=Muskmelon+Seeds&Tx_Commodity=516\n",
      "[WARN] 2025-08-01: Message: \n",
      "Stacktrace:\n",
      "0   chromedriver                        0x0000000104e4326c cxxbridge1$str$ptr + 2741972\n",
      "1   chromedriver                        0x0000000104e3b1dc cxxbridge1$str$ptr + 2709060\n",
      "2   chromedriver                        0x00000001049854fc cxxbridge1$string$len + 90520\n",
      "3   chromedriver                        0x00000001049cca14 cxxbridge1$string$len + 382640\n",
      "4   chromedriver                        0x0000000104a0ddb8 cxxbridge1$string$len + 649812\n",
      "5   chromedriver                        0x00000001049c0d30 cxxbridge1$string$len + 334284\n",
      "6   chromedriver                        0x0000000104e0666c cxxbridge1$str$ptr + 2493140\n",
      "7   chromedriver                        0x0000000104e098a0 cxxbridge1$str$ptr + 2505992\n",
      "8   chromedriver                        0x0000000104de74a4 cxxbridge1$str$ptr + 2365708\n",
      "9   chromedriver                        0x0000000104e0a15c cxxbridge1$str$ptr + 2508228\n",
      "10  chromedriver                        0x0000000104dd859c cxxbridge1$str$ptr + 2304516\n",
      "11  chromedriver                        0x0000000104e29c78 cxxbridge1$str$ptr + 2638048\n",
      "12  chromedriver                        0x0000000104e29e04 cxxbridge1$str$ptr + 2638444\n",
      "13  chromedriver                        0x0000000104e3ae28 cxxbridge1$str$ptr + 2708112\n",
      "14  libsystem_pthread.dylib             0x00000001877a7c0c _pthread_start + 136\n",
      "15  libsystem_pthread.dylib             0x00000001877a2b80 thread_start + 8\n",
      "\n",
      "Pulling data from: https://agmarknet.gov.in/SearchCmmMkt.aspx?Tx_State=0&Tx_District=0&Tx_Market=0&Tx_Trend=2&DateFrom=01-Aug-2025&DateTo=01-Aug-2025&Fr_Date=01-Aug-2025&To_Date=01-Aug-2025&Tx_CommodityHead=Mustard&Tx_Commodity=12\n"
     ]
    },
    {
     "name": "stderr",
     "output_type": "stream",
     "text": [
      "/var/folders/jb/zy_516ps25g392kqdzfs61640000gn/T/ipykernel_78044/1959355148.py:16: FutureWarning: Passing literal html to 'read_html' is deprecated and will be removed in a future version. To read from a literal string, wrap it in a 'StringIO' object.\n",
      "  df = pd.read_html(table_html)[0]\n"
     ]
    },
    {
     "name": "stdout",
     "output_type": "stream",
     "text": [
      "Pulled data:  (256, 12)\n",
      "Pulling data from: https://agmarknet.gov.in/SearchCmmMkt.aspx?Tx_State=0&Tx_District=0&Tx_Market=0&Tx_Trend=2&DateFrom=01-Aug-2025&DateTo=01-Aug-2025&Fr_Date=01-Aug-2025&To_Date=01-Aug-2025&Tx_CommodityHead=Mustard+Oil&Tx_Commodity=324\n"
     ]
    },
    {
     "name": "stderr",
     "output_type": "stream",
     "text": [
      "/var/folders/jb/zy_516ps25g392kqdzfs61640000gn/T/ipykernel_78044/1959355148.py:16: FutureWarning: Passing literal html to 'read_html' is deprecated and will be removed in a future version. To read from a literal string, wrap it in a 'StringIO' object.\n",
      "  df = pd.read_html(table_html)[0]\n"
     ]
    },
    {
     "name": "stdout",
     "output_type": "stream",
     "text": [
      "Pulled data:  (35, 12)\n",
      "Pulling data from: https://agmarknet.gov.in/SearchCmmMkt.aspx?Tx_State=0&Tx_District=0&Tx_Market=0&Tx_Trend=2&DateFrom=01-Aug-2025&DateTo=01-Aug-2025&Fr_Date=01-Aug-2025&To_Date=01-Aug-2025&Tx_CommodityHead=Myrobolan%28Harad%29&Tx_Commodity=142\n",
      "[WARN] 2025-08-01: Message: \n",
      "Stacktrace:\n",
      "0   chromedriver                        0x0000000104e4326c cxxbridge1$str$ptr + 2741972\n",
      "1   chromedriver                        0x0000000104e3b1dc cxxbridge1$str$ptr + 2709060\n",
      "2   chromedriver                        0x00000001049854fc cxxbridge1$string$len + 90520\n",
      "3   chromedriver                        0x00000001049cca14 cxxbridge1$string$len + 382640\n",
      "4   chromedriver                        0x0000000104a0ddb8 cxxbridge1$string$len + 649812\n",
      "5   chromedriver                        0x00000001049c0d30 cxxbridge1$string$len + 334284\n",
      "6   chromedriver                        0x0000000104e0666c cxxbridge1$str$ptr + 2493140\n",
      "7   chromedriver                        0x0000000104e098a0 cxxbridge1$str$ptr + 2505992\n",
      "8   chromedriver                        0x0000000104de74a4 cxxbridge1$str$ptr + 2365708\n",
      "9   chromedriver                        0x0000000104e0a15c cxxbridge1$str$ptr + 2508228\n",
      "10  chromedriver                        0x0000000104dd859c cxxbridge1$str$ptr + 2304516\n",
      "11  chromedriver                        0x0000000104e29c78 cxxbridge1$str$ptr + 2638048\n",
      "12  chromedriver                        0x0000000104e29e04 cxxbridge1$str$ptr + 2638444\n",
      "13  chromedriver                        0x0000000104e3ae28 cxxbridge1$str$ptr + 2708112\n",
      "14  libsystem_pthread.dylib             0x00000001877a7c0c _pthread_start + 136\n",
      "15  libsystem_pthread.dylib             0x00000001877a2b80 thread_start + 8\n",
      "\n",
      "Pulling data from: https://agmarknet.gov.in/SearchCmmMkt.aspx?Tx_State=0&Tx_District=0&Tx_Market=0&Tx_Trend=2&DateFrom=01-Aug-2025&DateTo=01-Aug-2025&Fr_Date=01-Aug-2025&To_Date=01-Aug-2025&Tx_CommodityHead=Nargasi&Tx_Commodity=245\n",
      "[WARN] 2025-08-01: Message: \n",
      "Stacktrace:\n",
      "0   chromedriver                        0x0000000104e4326c cxxbridge1$str$ptr + 2741972\n",
      "1   chromedriver                        0x0000000104e3b1dc cxxbridge1$str$ptr + 2709060\n",
      "2   chromedriver                        0x00000001049854fc cxxbridge1$string$len + 90520\n",
      "3   chromedriver                        0x00000001049cca14 cxxbridge1$string$len + 382640\n",
      "4   chromedriver                        0x0000000104a0ddb8 cxxbridge1$string$len + 649812\n",
      "5   chromedriver                        0x00000001049c0d30 cxxbridge1$string$len + 334284\n",
      "6   chromedriver                        0x0000000104e0666c cxxbridge1$str$ptr + 2493140\n",
      "7   chromedriver                        0x0000000104e098a0 cxxbridge1$str$ptr + 2505992\n",
      "8   chromedriver                        0x0000000104de74a4 cxxbridge1$str$ptr + 2365708\n",
      "9   chromedriver                        0x0000000104e0a15c cxxbridge1$str$ptr + 2508228\n",
      "10  chromedriver                        0x0000000104dd859c cxxbridge1$str$ptr + 2304516\n",
      "11  chromedriver                        0x0000000104e29c78 cxxbridge1$str$ptr + 2638048\n",
      "12  chromedriver                        0x0000000104e29e04 cxxbridge1$str$ptr + 2638444\n",
      "13  chromedriver                        0x0000000104e3ae28 cxxbridge1$str$ptr + 2708112\n",
      "14  libsystem_pthread.dylib             0x00000001877a7c0c _pthread_start + 136\n",
      "15  libsystem_pthread.dylib             0x00000001877a2b80 thread_start + 8\n",
      "\n",
      "Pulling data from: https://agmarknet.gov.in/SearchCmmMkt.aspx?Tx_State=0&Tx_District=0&Tx_Market=0&Tx_Trend=2&DateFrom=01-Aug-2025&DateTo=01-Aug-2025&Fr_Date=01-Aug-2025&To_Date=01-Aug-2025&Tx_CommodityHead=Nearle+Hannu&Tx_Commodity=222\n",
      "[WARN] 2025-08-01: Message: \n",
      "Stacktrace:\n",
      "0   chromedriver                        0x0000000104e4326c cxxbridge1$str$ptr + 2741972\n",
      "1   chromedriver                        0x0000000104e3b1dc cxxbridge1$str$ptr + 2709060\n",
      "2   chromedriver                        0x00000001049854fc cxxbridge1$string$len + 90520\n",
      "3   chromedriver                        0x00000001049cca14 cxxbridge1$string$len + 382640\n",
      "4   chromedriver                        0x0000000104a0ddb8 cxxbridge1$string$len + 649812\n",
      "5   chromedriver                        0x00000001049c0d30 cxxbridge1$string$len + 334284\n",
      "6   chromedriver                        0x0000000104e0666c cxxbridge1$str$ptr + 2493140\n",
      "7   chromedriver                        0x0000000104e098a0 cxxbridge1$str$ptr + 2505992\n",
      "8   chromedriver                        0x0000000104de74a4 cxxbridge1$str$ptr + 2365708\n",
      "9   chromedriver                        0x0000000104e0a15c cxxbridge1$str$ptr + 2508228\n",
      "10  chromedriver                        0x0000000104dd859c cxxbridge1$str$ptr + 2304516\n",
      "11  chromedriver                        0x0000000104e29c78 cxxbridge1$str$ptr + 2638048\n",
      "12  chromedriver                        0x0000000104e29e04 cxxbridge1$str$ptr + 2638444\n",
      "13  chromedriver                        0x0000000104e3ae28 cxxbridge1$str$ptr + 2708112\n",
      "14  libsystem_pthread.dylib             0x00000001877a7c0c _pthread_start + 136\n",
      "15  libsystem_pthread.dylib             0x00000001877a2b80 thread_start + 8\n",
      "\n",
      "Pulling data from: https://agmarknet.gov.in/SearchCmmMkt.aspx?Tx_State=0&Tx_District=0&Tx_Market=0&Tx_Trend=2&DateFrom=01-Aug-2025&DateTo=01-Aug-2025&Fr_Date=01-Aug-2025&To_Date=01-Aug-2025&Tx_CommodityHead=Neem+Seed&Tx_Commodity=126\n",
      "[WARN] 2025-08-01: Message: \n",
      "Stacktrace:\n",
      "0   chromedriver                        0x0000000104e4326c cxxbridge1$str$ptr + 2741972\n",
      "1   chromedriver                        0x0000000104e3b1dc cxxbridge1$str$ptr + 2709060\n",
      "2   chromedriver                        0x00000001049854fc cxxbridge1$string$len + 90520\n",
      "3   chromedriver                        0x00000001049cca14 cxxbridge1$string$len + 382640\n",
      "4   chromedriver                        0x0000000104a0ddb8 cxxbridge1$string$len + 649812\n",
      "5   chromedriver                        0x00000001049c0d30 cxxbridge1$string$len + 334284\n",
      "6   chromedriver                        0x0000000104e0666c cxxbridge1$str$ptr + 2493140\n",
      "7   chromedriver                        0x0000000104e098a0 cxxbridge1$str$ptr + 2505992\n",
      "8   chromedriver                        0x0000000104de74a4 cxxbridge1$str$ptr + 2365708\n",
      "9   chromedriver                        0x0000000104e0a15c cxxbridge1$str$ptr + 2508228\n",
      "10  chromedriver                        0x0000000104dd859c cxxbridge1$str$ptr + 2304516\n",
      "11  chromedriver                        0x0000000104e29c78 cxxbridge1$str$ptr + 2638048\n",
      "12  chromedriver                        0x0000000104e29e04 cxxbridge1$str$ptr + 2638444\n",
      "13  chromedriver                        0x0000000104e3ae28 cxxbridge1$str$ptr + 2708112\n",
      "14  libsystem_pthread.dylib             0x00000001877a7c0c _pthread_start + 136\n",
      "15  libsystem_pthread.dylib             0x00000001877a2b80 thread_start + 8\n",
      "\n",
      "Pulling data from: https://agmarknet.gov.in/SearchCmmMkt.aspx?Tx_State=0&Tx_District=0&Tx_Market=0&Tx_Trend=2&DateFrom=01-Aug-2025&DateTo=01-Aug-2025&Fr_Date=01-Aug-2025&To_Date=01-Aug-2025&Tx_CommodityHead=Nelli+Kai&Tx_Commodity=223\n",
      "[WARN] 2025-08-01: Message: \n",
      "Stacktrace:\n",
      "0   chromedriver                        0x0000000104e4326c cxxbridge1$str$ptr + 2741972\n",
      "1   chromedriver                        0x0000000104e3b1dc cxxbridge1$str$ptr + 2709060\n",
      "2   chromedriver                        0x00000001049854fc cxxbridge1$string$len + 90520\n",
      "3   chromedriver                        0x00000001049cca14 cxxbridge1$string$len + 382640\n",
      "4   chromedriver                        0x0000000104a0ddb8 cxxbridge1$string$len + 649812\n",
      "5   chromedriver                        0x00000001049c0d30 cxxbridge1$string$len + 334284\n",
      "6   chromedriver                        0x0000000104e0666c cxxbridge1$str$ptr + 2493140\n",
      "7   chromedriver                        0x0000000104e098a0 cxxbridge1$str$ptr + 2505992\n",
      "8   chromedriver                        0x0000000104de74a4 cxxbridge1$str$ptr + 2365708\n",
      "9   chromedriver                        0x0000000104e0a15c cxxbridge1$str$ptr + 2508228\n",
      "10  chromedriver                        0x0000000104dd859c cxxbridge1$str$ptr + 2304516\n",
      "11  chromedriver                        0x0000000104e29c78 cxxbridge1$str$ptr + 2638048\n",
      "12  chromedriver                        0x0000000104e29e04 cxxbridge1$str$ptr + 2638444\n",
      "13  chromedriver                        0x0000000104e3ae28 cxxbridge1$str$ptr + 2708112\n",
      "14  libsystem_pthread.dylib             0x00000001877a7c0c _pthread_start + 136\n",
      "15  libsystem_pthread.dylib             0x00000001877a2b80 thread_start + 8\n",
      "\n",
      "Pulling data from: https://agmarknet.gov.in/SearchCmmMkt.aspx?Tx_State=0&Tx_District=0&Tx_Market=0&Tx_Trend=2&DateFrom=01-Aug-2025&DateTo=01-Aug-2025&Fr_Date=01-Aug-2025&To_Date=01-Aug-2025&Tx_CommodityHead=Nerium&Tx_Commodity=500\n",
      "[WARN] 2025-08-01: Message: \n",
      "Stacktrace:\n",
      "0   chromedriver                        0x0000000104e4326c cxxbridge1$str$ptr + 2741972\n",
      "1   chromedriver                        0x0000000104e3b1dc cxxbridge1$str$ptr + 2709060\n",
      "2   chromedriver                        0x00000001049854fc cxxbridge1$string$len + 90520\n",
      "3   chromedriver                        0x00000001049cca14 cxxbridge1$string$len + 382640\n",
      "4   chromedriver                        0x0000000104a0ddb8 cxxbridge1$string$len + 649812\n",
      "5   chromedriver                        0x00000001049c0d30 cxxbridge1$string$len + 334284\n",
      "6   chromedriver                        0x0000000104e0666c cxxbridge1$str$ptr + 2493140\n",
      "7   chromedriver                        0x0000000104e098a0 cxxbridge1$str$ptr + 2505992\n",
      "8   chromedriver                        0x0000000104de74a4 cxxbridge1$str$ptr + 2365708\n",
      "9   chromedriver                        0x0000000104e0a15c cxxbridge1$str$ptr + 2508228\n",
      "10  chromedriver                        0x0000000104dd859c cxxbridge1$str$ptr + 2304516\n",
      "11  chromedriver                        0x0000000104e29c78 cxxbridge1$str$ptr + 2638048\n",
      "12  chromedriver                        0x0000000104e29e04 cxxbridge1$str$ptr + 2638444\n",
      "13  chromedriver                        0x0000000104e3ae28 cxxbridge1$str$ptr + 2708112\n",
      "14  libsystem_pthread.dylib             0x00000001877a7c0c _pthread_start + 136\n",
      "15  libsystem_pthread.dylib             0x00000001877a2b80 thread_start + 8\n",
      "\n",
      "Pulling data from: https://agmarknet.gov.in/SearchCmmMkt.aspx?Tx_State=0&Tx_District=0&Tx_Market=0&Tx_Trend=2&DateFrom=01-Aug-2025&DateTo=01-Aug-2025&Fr_Date=01-Aug-2025&To_Date=01-Aug-2025&Tx_CommodityHead=nigella+seeds&Tx_Commodity=445\n"
     ]
    },
    {
     "name": "stderr",
     "output_type": "stream",
     "text": [
      "/var/folders/jb/zy_516ps25g392kqdzfs61640000gn/T/ipykernel_78044/1959355148.py:16: FutureWarning: Passing literal html to 'read_html' is deprecated and will be removed in a future version. To read from a literal string, wrap it in a 'StringIO' object.\n",
      "  df = pd.read_html(table_html)[0]\n"
     ]
    },
    {
     "name": "stdout",
     "output_type": "stream",
     "text": [
      "Pulled data:  (1, 12)\n",
      "Pulling data from: https://agmarknet.gov.in/SearchCmmMkt.aspx?Tx_State=0&Tx_District=0&Tx_Market=0&Tx_Trend=2&DateFrom=01-Aug-2025&DateTo=01-Aug-2025&Fr_Date=01-Aug-2025&To_Date=01-Aug-2025&Tx_CommodityHead=nigella+seeds&Tx_Commodity=424\n"
     ]
    },
    {
     "name": "stderr",
     "output_type": "stream",
     "text": [
      "/var/folders/jb/zy_516ps25g392kqdzfs61640000gn/T/ipykernel_78044/1959355148.py:16: FutureWarning: Passing literal html to 'read_html' is deprecated and will be removed in a future version. To read from a literal string, wrap it in a 'StringIO' object.\n",
      "  df = pd.read_html(table_html)[0]\n"
     ]
    },
    {
     "name": "stdout",
     "output_type": "stream",
     "text": [
      "Pulled data:  (1, 12)\n",
      "Pulling data from: https://agmarknet.gov.in/SearchCmmMkt.aspx?Tx_State=0&Tx_District=0&Tx_Market=0&Tx_Trend=2&DateFrom=01-Aug-2025&DateTo=01-Aug-2025&Fr_Date=01-Aug-2025&To_Date=01-Aug-2025&Tx_CommodityHead=Niger+Seed+%28Ramtil%29&Tx_Commodity=98\n"
     ]
    },
    {
     "name": "stderr",
     "output_type": "stream",
     "text": [
      "/var/folders/jb/zy_516ps25g392kqdzfs61640000gn/T/ipykernel_78044/1959355148.py:16: FutureWarning: Passing literal html to 'read_html' is deprecated and will be removed in a future version. To read from a literal string, wrap it in a 'StringIO' object.\n",
      "  df = pd.read_html(table_html)[0]\n"
     ]
    },
    {
     "name": "stdout",
     "output_type": "stream",
     "text": [
      "Pulled data:  (2, 12)\n",
      "Pulling data from: https://agmarknet.gov.in/SearchCmmMkt.aspx?Tx_State=0&Tx_District=0&Tx_Market=0&Tx_Trend=2&DateFrom=01-Aug-2025&DateTo=01-Aug-2025&Fr_Date=01-Aug-2025&To_Date=01-Aug-2025&Tx_CommodityHead=Nutmeg&Tx_Commodity=106\n"
     ]
    },
    {
     "name": "stderr",
     "output_type": "stream",
     "text": [
      "/var/folders/jb/zy_516ps25g392kqdzfs61640000gn/T/ipykernel_78044/1959355148.py:16: FutureWarning: Passing literal html to 'read_html' is deprecated and will be removed in a future version. To read from a literal string, wrap it in a 'StringIO' object.\n",
      "  df = pd.read_html(table_html)[0]\n"
     ]
    },
    {
     "name": "stdout",
     "output_type": "stream",
     "text": [
      "Pulled data:  (1, 12)\n",
      "Pulling data from: https://agmarknet.gov.in/SearchCmmMkt.aspx?Tx_State=0&Tx_District=0&Tx_Market=0&Tx_Trend=2&DateFrom=01-Aug-2025&DateTo=01-Aug-2025&Fr_Date=01-Aug-2025&To_Date=01-Aug-2025&Tx_CommodityHead=Onion&Tx_Commodity=23\n"
     ]
    },
    {
     "name": "stderr",
     "output_type": "stream",
     "text": [
      "/var/folders/jb/zy_516ps25g392kqdzfs61640000gn/T/ipykernel_78044/1959355148.py:16: FutureWarning: Passing literal html to 'read_html' is deprecated and will be removed in a future version. To read from a literal string, wrap it in a 'StringIO' object.\n",
      "  df = pd.read_html(table_html)[0]\n"
     ]
    },
    {
     "name": "stdout",
     "output_type": "stream",
     "text": [
      "Pulled data:  (767, 12)\n",
      "Pulling data from: https://agmarknet.gov.in/SearchCmmMkt.aspx?Tx_State=0&Tx_District=0&Tx_Market=0&Tx_Trend=2&DateFrom=01-Aug-2025&DateTo=01-Aug-2025&Fr_Date=01-Aug-2025&To_Date=01-Aug-2025&Tx_CommodityHead=Onion+Green&Tx_Commodity=358\n"
     ]
    },
    {
     "name": "stderr",
     "output_type": "stream",
     "text": [
      "/var/folders/jb/zy_516ps25g392kqdzfs61640000gn/T/ipykernel_78044/1959355148.py:16: FutureWarning: Passing literal html to 'read_html' is deprecated and will be removed in a future version. To read from a literal string, wrap it in a 'StringIO' object.\n",
      "  df = pd.read_html(table_html)[0]\n"
     ]
    },
    {
     "name": "stdout",
     "output_type": "stream",
     "text": [
      "Pulled data:  (168, 12)\n",
      "Pulling data from: https://agmarknet.gov.in/SearchCmmMkt.aspx?Tx_State=0&Tx_District=0&Tx_Market=0&Tx_Trend=2&DateFrom=01-Aug-2025&DateTo=01-Aug-2025&Fr_Date=01-Aug-2025&To_Date=01-Aug-2025&Tx_CommodityHead=Orange&Tx_Commodity=18\n"
     ]
    },
    {
     "name": "stderr",
     "output_type": "stream",
     "text": [
      "/var/folders/jb/zy_516ps25g392kqdzfs61640000gn/T/ipykernel_78044/1959355148.py:16: FutureWarning: Passing literal html to 'read_html' is deprecated and will be removed in a future version. To read from a literal string, wrap it in a 'StringIO' object.\n",
      "  df = pd.read_html(table_html)[0]\n"
     ]
    },
    {
     "name": "stdout",
     "output_type": "stream",
     "text": [
      "Pulled data:  (29, 12)\n",
      "Pulling data from: https://agmarknet.gov.in/SearchCmmMkt.aspx?Tx_State=0&Tx_District=0&Tx_Market=0&Tx_Trend=2&DateFrom=01-Aug-2025&DateTo=01-Aug-2025&Fr_Date=01-Aug-2025&To_Date=01-Aug-2025&Tx_CommodityHead=Orchid&Tx_Commodity=381\n"
     ]
    },
    {
     "name": "stderr",
     "output_type": "stream",
     "text": [
      "/var/folders/jb/zy_516ps25g392kqdzfs61640000gn/T/ipykernel_78044/1959355148.py:16: FutureWarning: Passing literal html to 'read_html' is deprecated and will be removed in a future version. To read from a literal string, wrap it in a 'StringIO' object.\n",
      "  df = pd.read_html(table_html)[0]\n"
     ]
    },
    {
     "name": "stdout",
     "output_type": "stream",
     "text": [
      "Pulled data:  (1, 12)\n",
      "Pulling data from: https://agmarknet.gov.in/SearchCmmMkt.aspx?Tx_State=0&Tx_District=0&Tx_Market=0&Tx_Trend=2&DateFrom=01-Aug-2025&DateTo=01-Aug-2025&Fr_Date=01-Aug-2025&To_Date=01-Aug-2025&Tx_CommodityHead=Other+green+and+fresh+vegetables&Tx_Commodity=420\n"
     ]
    },
    {
     "name": "stderr",
     "output_type": "stream",
     "text": [
      "/var/folders/jb/zy_516ps25g392kqdzfs61640000gn/T/ipykernel_78044/1959355148.py:16: FutureWarning: Passing literal html to 'read_html' is deprecated and will be removed in a future version. To read from a literal string, wrap it in a 'StringIO' object.\n",
      "  df = pd.read_html(table_html)[0]\n"
     ]
    },
    {
     "name": "stdout",
     "output_type": "stream",
     "text": [
      "Pulled data:  (4, 12)\n",
      "Pulling data from: https://agmarknet.gov.in/SearchCmmMkt.aspx?Tx_State=0&Tx_District=0&Tx_Market=0&Tx_Trend=2&DateFrom=01-Aug-2025&DateTo=01-Aug-2025&Fr_Date=01-Aug-2025&To_Date=01-Aug-2025&Tx_CommodityHead=Other+Pulses&Tx_Commodity=97\n",
      "[WARN] 2025-08-01: Message: \n",
      "Stacktrace:\n",
      "0   chromedriver                        0x000000010327b26c cxxbridge1$str$ptr + 2741972\n",
      "1   chromedriver                        0x00000001032731dc cxxbridge1$str$ptr + 2709060\n",
      "2   chromedriver                        0x0000000102dbd4fc cxxbridge1$string$len + 90520\n",
      "3   chromedriver                        0x0000000102e04a14 cxxbridge1$string$len + 382640\n",
      "4   chromedriver                        0x0000000102e45db8 cxxbridge1$string$len + 649812\n",
      "5   chromedriver                        0x0000000102df8d30 cxxbridge1$string$len + 334284\n",
      "6   chromedriver                        0x000000010323e66c cxxbridge1$str$ptr + 2493140\n",
      "7   chromedriver                        0x00000001032418a0 cxxbridge1$str$ptr + 2505992\n",
      "8   chromedriver                        0x000000010321f4a4 cxxbridge1$str$ptr + 2365708\n",
      "9   chromedriver                        0x000000010324215c cxxbridge1$str$ptr + 2508228\n",
      "10  chromedriver                        0x000000010321059c cxxbridge1$str$ptr + 2304516\n",
      "11  chromedriver                        0x0000000103261c78 cxxbridge1$str$ptr + 2638048\n",
      "12  chromedriver                        0x0000000103261e04 cxxbridge1$str$ptr + 2638444\n",
      "13  chromedriver                        0x0000000103272e28 cxxbridge1$str$ptr + 2708112\n",
      "14  libsystem_pthread.dylib             0x00000001877a7c0c _pthread_start + 136\n",
      "15  libsystem_pthread.dylib             0x00000001877a2b80 thread_start + 8\n",
      "\n",
      "Pulling data from: https://agmarknet.gov.in/SearchCmmMkt.aspx?Tx_State=0&Tx_District=0&Tx_Market=0&Tx_Trend=2&DateFrom=01-Aug-2025&DateTo=01-Aug-2025&Fr_Date=01-Aug-2025&To_Date=01-Aug-2025&Tx_CommodityHead=Ox&Tx_Commodity=213\n"
     ]
    },
    {
     "name": "stderr",
     "output_type": "stream",
     "text": [
      "/var/folders/jb/zy_516ps25g392kqdzfs61640000gn/T/ipykernel_78044/1959355148.py:16: FutureWarning: Passing literal html to 'read_html' is deprecated and will be removed in a future version. To read from a literal string, wrap it in a 'StringIO' object.\n",
      "  df = pd.read_html(table_html)[0]\n"
     ]
    },
    {
     "name": "stdout",
     "output_type": "stream",
     "text": [
      "Pulled data:  (1, 12)\n",
      "Pulling data from: https://agmarknet.gov.in/SearchCmmMkt.aspx?Tx_State=0&Tx_District=0&Tx_Market=0&Tx_Trend=2&DateFrom=01-Aug-2025&DateTo=01-Aug-2025&Fr_Date=01-Aug-2025&To_Date=01-Aug-2025&Tx_CommodityHead=Paddy%28Dhan%29%28Basmati%29&Tx_Commodity=414\n"
     ]
    },
    {
     "name": "stderr",
     "output_type": "stream",
     "text": [
      "/var/folders/jb/zy_516ps25g392kqdzfs61640000gn/T/ipykernel_78044/1959355148.py:16: FutureWarning: Passing literal html to 'read_html' is deprecated and will be removed in a future version. To read from a literal string, wrap it in a 'StringIO' object.\n",
      "  df = pd.read_html(table_html)[0]\n"
     ]
    },
    {
     "name": "stdout",
     "output_type": "stream",
     "text": [
      "Pulled data:  (8, 12)\n",
      "Pulling data from: https://agmarknet.gov.in/SearchCmmMkt.aspx?Tx_State=0&Tx_District=0&Tx_Market=0&Tx_Trend=2&DateFrom=01-Aug-2025&DateTo=01-Aug-2025&Fr_Date=01-Aug-2025&To_Date=01-Aug-2025&Tx_CommodityHead=Paddy%28Dhan%29%28Common%29&Tx_Commodity=2\n"
     ]
    },
    {
     "name": "stderr",
     "output_type": "stream",
     "text": [
      "/var/folders/jb/zy_516ps25g392kqdzfs61640000gn/T/ipykernel_78044/1959355148.py:16: FutureWarning: Passing literal html to 'read_html' is deprecated and will be removed in a future version. To read from a literal string, wrap it in a 'StringIO' object.\n",
      "  df = pd.read_html(table_html)[0]\n"
     ]
    },
    {
     "name": "stdout",
     "output_type": "stream",
     "text": [
      "Pulled data:  (215, 12)\n",
      "Pulling data from: https://agmarknet.gov.in/SearchCmmMkt.aspx?Tx_State=0&Tx_District=0&Tx_Market=0&Tx_Trend=2&DateFrom=01-Aug-2025&DateTo=01-Aug-2025&Fr_Date=01-Aug-2025&To_Date=01-Aug-2025&Tx_CommodityHead=Palash+flowers&Tx_Commodity=441\n",
      "[WARN] 2025-08-01: Message: \n",
      "Stacktrace:\n",
      "0   chromedriver                        0x000000010327b26c cxxbridge1$str$ptr + 2741972\n",
      "1   chromedriver                        0x00000001032731dc cxxbridge1$str$ptr + 2709060\n",
      "2   chromedriver                        0x0000000102dbd4fc cxxbridge1$string$len + 90520\n",
      "3   chromedriver                        0x0000000102e04a14 cxxbridge1$string$len + 382640\n",
      "4   chromedriver                        0x0000000102e45db8 cxxbridge1$string$len + 649812\n",
      "5   chromedriver                        0x0000000102df8d30 cxxbridge1$string$len + 334284\n",
      "6   chromedriver                        0x000000010323e66c cxxbridge1$str$ptr + 2493140\n",
      "7   chromedriver                        0x00000001032418a0 cxxbridge1$str$ptr + 2505992\n",
      "8   chromedriver                        0x000000010321f4a4 cxxbridge1$str$ptr + 2365708\n",
      "9   chromedriver                        0x000000010324215c cxxbridge1$str$ptr + 2508228\n",
      "10  chromedriver                        0x000000010321059c cxxbridge1$str$ptr + 2304516\n",
      "11  chromedriver                        0x0000000103261c78 cxxbridge1$str$ptr + 2638048\n",
      "12  chromedriver                        0x0000000103261e04 cxxbridge1$str$ptr + 2638444\n",
      "13  chromedriver                        0x0000000103272e28 cxxbridge1$str$ptr + 2708112\n",
      "14  libsystem_pthread.dylib             0x00000001877a7c0c _pthread_start + 136\n",
      "15  libsystem_pthread.dylib             0x00000001877a2b80 thread_start + 8\n",
      "\n",
      "Pulling data from: https://agmarknet.gov.in/SearchCmmMkt.aspx?Tx_State=0&Tx_District=0&Tx_Market=0&Tx_Trend=2&DateFrom=01-Aug-2025&DateTo=01-Aug-2025&Fr_Date=01-Aug-2025&To_Date=01-Aug-2025&Tx_CommodityHead=Papaya&Tx_Commodity=72\n"
     ]
    },
    {
     "name": "stderr",
     "output_type": "stream",
     "text": [
      "/var/folders/jb/zy_516ps25g392kqdzfs61640000gn/T/ipykernel_78044/1959355148.py:16: FutureWarning: Passing literal html to 'read_html' is deprecated and will be removed in a future version. To read from a literal string, wrap it in a 'StringIO' object.\n",
      "  df = pd.read_html(table_html)[0]\n"
     ]
    },
    {
     "name": "stdout",
     "output_type": "stream",
     "text": [
      "Pulled data:  (247, 12)\n",
      "Pulling data from: https://agmarknet.gov.in/SearchCmmMkt.aspx?Tx_State=0&Tx_District=0&Tx_Market=0&Tx_Trend=2&DateFrom=01-Aug-2025&DateTo=01-Aug-2025&Fr_Date=01-Aug-2025&To_Date=01-Aug-2025&Tx_CommodityHead=Papaya+%28Raw%29&Tx_Commodity=313\n"
     ]
    },
    {
     "name": "stderr",
     "output_type": "stream",
     "text": [
      "/var/folders/jb/zy_516ps25g392kqdzfs61640000gn/T/ipykernel_78044/1959355148.py:16: FutureWarning: Passing literal html to 'read_html' is deprecated and will be removed in a future version. To read from a literal string, wrap it in a 'StringIO' object.\n",
      "  df = pd.read_html(table_html)[0]\n"
     ]
    },
    {
     "name": "stdout",
     "output_type": "stream",
     "text": [
      "Pulled data:  (12, 12)\n",
      "Pulling data from: https://agmarknet.gov.in/SearchCmmMkt.aspx?Tx_State=0&Tx_District=0&Tx_Market=0&Tx_Trend=2&DateFrom=01-Aug-2025&DateTo=01-Aug-2025&Fr_Date=01-Aug-2025&To_Date=01-Aug-2025&Tx_CommodityHead=Patti+Calcutta&Tx_Commodity=404\n",
      "[WARN] 2025-08-01: Message: \n",
      "Stacktrace:\n",
      "0   chromedriver                        0x000000010327b26c cxxbridge1$str$ptr + 2741972\n",
      "1   chromedriver                        0x00000001032731dc cxxbridge1$str$ptr + 2709060\n",
      "2   chromedriver                        0x0000000102dbd4fc cxxbridge1$string$len + 90520\n",
      "3   chromedriver                        0x0000000102e04a14 cxxbridge1$string$len + 382640\n",
      "4   chromedriver                        0x0000000102e45db8 cxxbridge1$string$len + 649812\n",
      "5   chromedriver                        0x0000000102df8d30 cxxbridge1$string$len + 334284\n",
      "6   chromedriver                        0x000000010323e66c cxxbridge1$str$ptr + 2493140\n",
      "7   chromedriver                        0x00000001032418a0 cxxbridge1$str$ptr + 2505992\n",
      "8   chromedriver                        0x000000010321f4a4 cxxbridge1$str$ptr + 2365708\n",
      "9   chromedriver                        0x000000010324215c cxxbridge1$str$ptr + 2508228\n",
      "10  chromedriver                        0x000000010321059c cxxbridge1$str$ptr + 2304516\n",
      "11  chromedriver                        0x0000000103261c78 cxxbridge1$str$ptr + 2638048\n",
      "12  chromedriver                        0x0000000103261e04 cxxbridge1$str$ptr + 2638444\n",
      "13  chromedriver                        0x0000000103272e28 cxxbridge1$str$ptr + 2708112\n",
      "14  libsystem_pthread.dylib             0x00000001877a7c0c _pthread_start + 136\n",
      "15  libsystem_pthread.dylib             0x00000001877a2b80 thread_start + 8\n",
      "\n",
      "Pulling data from: https://agmarknet.gov.in/SearchCmmMkt.aspx?Tx_State=0&Tx_District=0&Tx_Market=0&Tx_Trend=2&DateFrom=01-Aug-2025&DateTo=01-Aug-2025&Fr_Date=01-Aug-2025&To_Date=01-Aug-2025&Tx_CommodityHead=Peach&Tx_Commodity=331\n"
     ]
    },
    {
     "name": "stderr",
     "output_type": "stream",
     "text": [
      "/var/folders/jb/zy_516ps25g392kqdzfs61640000gn/T/ipykernel_78044/1959355148.py:16: FutureWarning: Passing literal html to 'read_html' is deprecated and will be removed in a future version. To read from a literal string, wrap it in a 'StringIO' object.\n",
      "  df = pd.read_html(table_html)[0]\n"
     ]
    },
    {
     "name": "stdout",
     "output_type": "stream",
     "text": [
      "Pulled data:  (2, 12)\n",
      "Pulling data from: https://agmarknet.gov.in/SearchCmmMkt.aspx?Tx_State=0&Tx_District=0&Tx_Market=0&Tx_Trend=2&DateFrom=01-Aug-2025&DateTo=01-Aug-2025&Fr_Date=01-Aug-2025&To_Date=01-Aug-2025&Tx_CommodityHead=Pear%28Marasebu%29&Tx_Commodity=330\n"
     ]
    },
    {
     "name": "stderr",
     "output_type": "stream",
     "text": [
      "/var/folders/jb/zy_516ps25g392kqdzfs61640000gn/T/ipykernel_78044/1959355148.py:16: FutureWarning: Passing literal html to 'read_html' is deprecated and will be removed in a future version. To read from a literal string, wrap it in a 'StringIO' object.\n",
      "  df = pd.read_html(table_html)[0]\n"
     ]
    },
    {
     "name": "stdout",
     "output_type": "stream",
     "text": [
      "Pulled data:  (52, 12)\n",
      "Pulling data from: https://agmarknet.gov.in/SearchCmmMkt.aspx?Tx_State=0&Tx_District=0&Tx_Market=0&Tx_Trend=2&DateFrom=01-Aug-2025&DateTo=01-Aug-2025&Fr_Date=01-Aug-2025&To_Date=01-Aug-2025&Tx_CommodityHead=Peas+cod&Tx_Commodity=308\n"
     ]
    },
    {
     "name": "stderr",
     "output_type": "stream",
     "text": [
      "/var/folders/jb/zy_516ps25g392kqdzfs61640000gn/T/ipykernel_78044/1959355148.py:16: FutureWarning: Passing literal html to 'read_html' is deprecated and will be removed in a future version. To read from a literal string, wrap it in a 'StringIO' object.\n",
      "  df = pd.read_html(table_html)[0]\n"
     ]
    },
    {
     "name": "stdout",
     "output_type": "stream",
     "text": [
      "Pulled data:  (8, 12)\n",
      "Pulling data from: https://agmarknet.gov.in/SearchCmmMkt.aspx?Tx_State=0&Tx_District=0&Tx_Market=0&Tx_Trend=2&DateFrom=01-Aug-2025&DateTo=01-Aug-2025&Fr_Date=01-Aug-2025&To_Date=01-Aug-2025&Tx_CommodityHead=Peas+Wet&Tx_Commodity=174\n"
     ]
    },
    {
     "name": "stderr",
     "output_type": "stream",
     "text": [
      "/var/folders/jb/zy_516ps25g392kqdzfs61640000gn/T/ipykernel_78044/1959355148.py:16: FutureWarning: Passing literal html to 'read_html' is deprecated and will be removed in a future version. To read from a literal string, wrap it in a 'StringIO' object.\n",
      "  df = pd.read_html(table_html)[0]\n"
     ]
    },
    {
     "name": "stdout",
     "output_type": "stream",
     "text": [
      "Pulled data:  (43, 12)\n",
      "Pulling data from: https://agmarknet.gov.in/SearchCmmMkt.aspx?Tx_State=0&Tx_District=0&Tx_Market=0&Tx_Trend=2&DateFrom=01-Aug-2025&DateTo=01-Aug-2025&Fr_Date=01-Aug-2025&To_Date=01-Aug-2025&Tx_CommodityHead=Peas%28Dry%29&Tx_Commodity=347\n"
     ]
    },
    {
     "name": "stderr",
     "output_type": "stream",
     "text": [
      "/var/folders/jb/zy_516ps25g392kqdzfs61640000gn/T/ipykernel_78044/1959355148.py:16: FutureWarning: Passing literal html to 'read_html' is deprecated and will be removed in a future version. To read from a literal string, wrap it in a 'StringIO' object.\n",
      "  df = pd.read_html(table_html)[0]\n"
     ]
    },
    {
     "name": "stdout",
     "output_type": "stream",
     "text": [
      "Pulled data:  (15, 12)\n",
      "Pulling data from: https://agmarknet.gov.in/SearchCmmMkt.aspx?Tx_State=0&Tx_District=0&Tx_Market=0&Tx_Trend=2&DateFrom=01-Aug-2025&DateTo=01-Aug-2025&Fr_Date=01-Aug-2025&To_Date=01-Aug-2025&Tx_CommodityHead=Pegeon+Pea+%28Arhar+Fali%29&Tx_Commodity=301\n"
     ]
    },
    {
     "name": "stderr",
     "output_type": "stream",
     "text": [
      "/var/folders/jb/zy_516ps25g392kqdzfs61640000gn/T/ipykernel_78044/1959355148.py:16: FutureWarning: Passing literal html to 'read_html' is deprecated and will be removed in a future version. To read from a literal string, wrap it in a 'StringIO' object.\n",
      "  df = pd.read_html(table_html)[0]\n"
     ]
    },
    {
     "name": "stdout",
     "output_type": "stream",
     "text": [
      "Pulled data:  (3, 12)\n",
      "Pulling data from: https://agmarknet.gov.in/SearchCmmMkt.aspx?Tx_State=0&Tx_District=0&Tx_Market=0&Tx_Trend=2&DateFrom=01-Aug-2025&DateTo=01-Aug-2025&Fr_Date=01-Aug-2025&To_Date=01-Aug-2025&Tx_CommodityHead=Pepper+garbled&Tx_Commodity=109\n"
     ]
    },
    {
     "name": "stderr",
     "output_type": "stream",
     "text": [
      "/var/folders/jb/zy_516ps25g392kqdzfs61640000gn/T/ipykernel_78044/1959355148.py:16: FutureWarning: Passing literal html to 'read_html' is deprecated and will be removed in a future version. To read from a literal string, wrap it in a 'StringIO' object.\n",
      "  df = pd.read_html(table_html)[0]\n"
     ]
    },
    {
     "name": "stdout",
     "output_type": "stream",
     "text": [
      "Pulled data:  (2, 12)\n",
      "Pulling data from: https://agmarknet.gov.in/SearchCmmMkt.aspx?Tx_State=0&Tx_District=0&Tx_Market=0&Tx_Trend=2&DateFrom=01-Aug-2025&DateTo=01-Aug-2025&Fr_Date=01-Aug-2025&To_Date=01-Aug-2025&Tx_CommodityHead=Pepper+ungarbled&Tx_Commodity=110\n"
     ]
    },
    {
     "name": "stderr",
     "output_type": "stream",
     "text": [
      "/var/folders/jb/zy_516ps25g392kqdzfs61640000gn/T/ipykernel_78044/1959355148.py:16: FutureWarning: Passing literal html to 'read_html' is deprecated and will be removed in a future version. To read from a literal string, wrap it in a 'StringIO' object.\n",
      "  df = pd.read_html(table_html)[0]\n"
     ]
    },
    {
     "name": "stdout",
     "output_type": "stream",
     "text": [
      "Pulled data:  (2, 12)\n",
      "Pulling data from: https://agmarknet.gov.in/SearchCmmMkt.aspx?Tx_State=0&Tx_District=0&Tx_Market=0&Tx_Trend=2&DateFrom=01-Aug-2025&DateTo=01-Aug-2025&Fr_Date=01-Aug-2025&To_Date=01-Aug-2025&Tx_CommodityHead=Perandai&Tx_Commodity=489\n",
      "[WARN] 2025-08-01: Message: \n",
      "Stacktrace:\n",
      "0   chromedriver                        0x0000000100ef726c cxxbridge1$str$ptr + 2741972\n",
      "1   chromedriver                        0x0000000100eef1dc cxxbridge1$str$ptr + 2709060\n",
      "2   chromedriver                        0x0000000100a394fc cxxbridge1$string$len + 90520\n",
      "3   chromedriver                        0x0000000100a80a14 cxxbridge1$string$len + 382640\n",
      "4   chromedriver                        0x0000000100ac1db8 cxxbridge1$string$len + 649812\n",
      "5   chromedriver                        0x0000000100a74d30 cxxbridge1$string$len + 334284\n",
      "6   chromedriver                        0x0000000100eba66c cxxbridge1$str$ptr + 2493140\n",
      "7   chromedriver                        0x0000000100ebd8a0 cxxbridge1$str$ptr + 2505992\n",
      "8   chromedriver                        0x0000000100e9b4a4 cxxbridge1$str$ptr + 2365708\n",
      "9   chromedriver                        0x0000000100ebe15c cxxbridge1$str$ptr + 2508228\n",
      "10  chromedriver                        0x0000000100e8c59c cxxbridge1$str$ptr + 2304516\n",
      "11  chromedriver                        0x0000000100eddc78 cxxbridge1$str$ptr + 2638048\n",
      "12  chromedriver                        0x0000000100edde04 cxxbridge1$str$ptr + 2638444\n",
      "13  chromedriver                        0x0000000100eeee28 cxxbridge1$str$ptr + 2708112\n",
      "14  libsystem_pthread.dylib             0x00000001877a7c0c _pthread_start + 136\n",
      "15  libsystem_pthread.dylib             0x00000001877a2b80 thread_start + 8\n",
      "\n",
      "Pulling data from: https://agmarknet.gov.in/SearchCmmMkt.aspx?Tx_State=0&Tx_District=0&Tx_Market=0&Tx_Trend=2&DateFrom=01-Aug-2025&DateTo=01-Aug-2025&Fr_Date=01-Aug-2025&To_Date=01-Aug-2025&Tx_CommodityHead=Persimon%28Japani+Fal%29&Tx_Commodity=327\n",
      "[WARN] 2025-08-01: Message: \n",
      "Stacktrace:\n",
      "0   chromedriver                        0x0000000100ef726c cxxbridge1$str$ptr + 2741972\n",
      "1   chromedriver                        0x0000000100eef1dc cxxbridge1$str$ptr + 2709060\n",
      "2   chromedriver                        0x0000000100a394fc cxxbridge1$string$len + 90520\n",
      "3   chromedriver                        0x0000000100a80a14 cxxbridge1$string$len + 382640\n",
      "4   chromedriver                        0x0000000100ac1db8 cxxbridge1$string$len + 649812\n",
      "5   chromedriver                        0x0000000100a74d30 cxxbridge1$string$len + 334284\n",
      "6   chromedriver                        0x0000000100eba66c cxxbridge1$str$ptr + 2493140\n",
      "7   chromedriver                        0x0000000100ebd8a0 cxxbridge1$str$ptr + 2505992\n",
      "8   chromedriver                        0x0000000100e9b4a4 cxxbridge1$str$ptr + 2365708\n",
      "9   chromedriver                        0x0000000100ebe15c cxxbridge1$str$ptr + 2508228\n",
      "10  chromedriver                        0x0000000100e8c59c cxxbridge1$str$ptr + 2304516\n",
      "11  chromedriver                        0x0000000100eddc78 cxxbridge1$str$ptr + 2638048\n",
      "12  chromedriver                        0x0000000100edde04 cxxbridge1$str$ptr + 2638444\n",
      "13  chromedriver                        0x0000000100eeee28 cxxbridge1$str$ptr + 2708112\n",
      "14  libsystem_pthread.dylib             0x00000001877a7c0c _pthread_start + 136\n",
      "15  libsystem_pthread.dylib             0x00000001877a2b80 thread_start + 8\n",
      "\n",
      "Pulling data from: https://agmarknet.gov.in/SearchCmmMkt.aspx?Tx_State=0&Tx_District=0&Tx_Market=0&Tx_Trend=2&DateFrom=01-Aug-2025&DateTo=01-Aug-2025&Fr_Date=01-Aug-2025&To_Date=01-Aug-2025&Tx_CommodityHead=Pigs&Tx_Commodity=220\n"
     ]
    },
    {
     "name": "stderr",
     "output_type": "stream",
     "text": [
      "/var/folders/jb/zy_516ps25g392kqdzfs61640000gn/T/ipykernel_78044/1959355148.py:16: FutureWarning: Passing literal html to 'read_html' is deprecated and will be removed in a future version. To read from a literal string, wrap it in a 'StringIO' object.\n",
      "  df = pd.read_html(table_html)[0]\n"
     ]
    },
    {
     "name": "stdout",
     "output_type": "stream",
     "text": [
      "Pulled data:  (2, 12)\n",
      "Pulling data from: https://agmarknet.gov.in/SearchCmmMkt.aspx?Tx_State=0&Tx_District=0&Tx_Market=0&Tx_Trend=2&DateFrom=01-Aug-2025&DateTo=01-Aug-2025&Fr_Date=01-Aug-2025&To_Date=01-Aug-2025&Tx_CommodityHead=Pineapple&Tx_Commodity=21\n"
     ]
    },
    {
     "name": "stderr",
     "output_type": "stream",
     "text": [
      "/var/folders/jb/zy_516ps25g392kqdzfs61640000gn/T/ipykernel_78044/1959355148.py:16: FutureWarning: Passing literal html to 'read_html' is deprecated and will be removed in a future version. To read from a literal string, wrap it in a 'StringIO' object.\n",
      "  df = pd.read_html(table_html)[0]\n"
     ]
    },
    {
     "name": "stdout",
     "output_type": "stream",
     "text": [
      "Pulled data:  (94, 12)\n",
      "Pulling data from: https://agmarknet.gov.in/SearchCmmMkt.aspx?Tx_State=0&Tx_District=0&Tx_Market=0&Tx_Trend=2&DateFrom=01-Aug-2025&DateTo=01-Aug-2025&Fr_Date=01-Aug-2025&To_Date=01-Aug-2025&Tx_CommodityHead=pippali&Tx_Commodity=431\n",
      "[WARN] 2025-08-01: Message: \n",
      "Stacktrace:\n",
      "0   chromedriver                        0x0000000100ef726c cxxbridge1$str$ptr + 2741972\n",
      "1   chromedriver                        0x0000000100eef1dc cxxbridge1$str$ptr + 2709060\n",
      "2   chromedriver                        0x0000000100a394fc cxxbridge1$string$len + 90520\n",
      "3   chromedriver                        0x0000000100a80a14 cxxbridge1$string$len + 382640\n",
      "4   chromedriver                        0x0000000100ac1db8 cxxbridge1$string$len + 649812\n",
      "5   chromedriver                        0x0000000100a74d30 cxxbridge1$string$len + 334284\n",
      "6   chromedriver                        0x0000000100eba66c cxxbridge1$str$ptr + 2493140\n",
      "7   chromedriver                        0x0000000100ebd8a0 cxxbridge1$str$ptr + 2505992\n",
      "8   chromedriver                        0x0000000100e9b4a4 cxxbridge1$str$ptr + 2365708\n",
      "9   chromedriver                        0x0000000100ebe15c cxxbridge1$str$ptr + 2508228\n",
      "10  chromedriver                        0x0000000100e8c59c cxxbridge1$str$ptr + 2304516\n",
      "11  chromedriver                        0x0000000100eddc78 cxxbridge1$str$ptr + 2638048\n",
      "12  chromedriver                        0x0000000100edde04 cxxbridge1$str$ptr + 2638444\n",
      "13  chromedriver                        0x0000000100eeee28 cxxbridge1$str$ptr + 2708112\n",
      "14  libsystem_pthread.dylib             0x00000001877a7c0c _pthread_start + 136\n",
      "15  libsystem_pthread.dylib             0x00000001877a2b80 thread_start + 8\n",
      "\n",
      "Pulling data from: https://agmarknet.gov.in/SearchCmmMkt.aspx?Tx_State=0&Tx_District=0&Tx_Market=0&Tx_Trend=2&DateFrom=01-Aug-2025&DateTo=01-Aug-2025&Fr_Date=01-Aug-2025&To_Date=01-Aug-2025&Tx_CommodityHead=Plum&Tx_Commodity=329\n"
     ]
    },
    {
     "name": "stderr",
     "output_type": "stream",
     "text": [
      "/var/folders/jb/zy_516ps25g392kqdzfs61640000gn/T/ipykernel_78044/1959355148.py:16: FutureWarning: Passing literal html to 'read_html' is deprecated and will be removed in a future version. To read from a literal string, wrap it in a 'StringIO' object.\n",
      "  df = pd.read_html(table_html)[0]\n"
     ]
    },
    {
     "name": "stdout",
     "output_type": "stream",
     "text": [
      "Pulled data:  (26, 12)\n",
      "Pulling data from: https://agmarknet.gov.in/SearchCmmMkt.aspx?Tx_State=0&Tx_District=0&Tx_Market=0&Tx_Trend=2&DateFrom=01-Aug-2025&DateTo=01-Aug-2025&Fr_Date=01-Aug-2025&To_Date=01-Aug-2025&Tx_CommodityHead=Pointed+gourd+%28Parval%29&Tx_Commodity=303\n"
     ]
    },
    {
     "name": "stderr",
     "output_type": "stream",
     "text": [
      "/var/folders/jb/zy_516ps25g392kqdzfs61640000gn/T/ipykernel_78044/1959355148.py:16: FutureWarning: Passing literal html to 'read_html' is deprecated and will be removed in a future version. To read from a literal string, wrap it in a 'StringIO' object.\n",
      "  df = pd.read_html(table_html)[0]\n"
     ]
    },
    {
     "name": "stdout",
     "output_type": "stream",
     "text": [
      "Pulled data:  (91, 12)\n",
      "Pulling data from: https://agmarknet.gov.in/SearchCmmMkt.aspx?Tx_State=0&Tx_District=0&Tx_Market=0&Tx_Trend=2&DateFrom=01-Aug-2025&DateTo=01-Aug-2025&Fr_Date=01-Aug-2025&To_Date=01-Aug-2025&Tx_CommodityHead=Polherb&Tx_Commodity=240\n",
      "[WARN] 2025-08-01: Message: \n",
      "Stacktrace:\n",
      "0   chromedriver                        0x000000010310b26c cxxbridge1$str$ptr + 2741972\n",
      "1   chromedriver                        0x00000001031031dc cxxbridge1$str$ptr + 2709060\n",
      "2   chromedriver                        0x0000000102c4d4fc cxxbridge1$string$len + 90520\n",
      "3   chromedriver                        0x0000000102c94a14 cxxbridge1$string$len + 382640\n",
      "4   chromedriver                        0x0000000102cd5db8 cxxbridge1$string$len + 649812\n",
      "5   chromedriver                        0x0000000102c88d30 cxxbridge1$string$len + 334284\n",
      "6   chromedriver                        0x00000001030ce66c cxxbridge1$str$ptr + 2493140\n",
      "7   chromedriver                        0x00000001030d18a0 cxxbridge1$str$ptr + 2505992\n",
      "8   chromedriver                        0x00000001030af4a4 cxxbridge1$str$ptr + 2365708\n",
      "9   chromedriver                        0x00000001030d215c cxxbridge1$str$ptr + 2508228\n",
      "10  chromedriver                        0x00000001030a059c cxxbridge1$str$ptr + 2304516\n",
      "11  chromedriver                        0x00000001030f1c78 cxxbridge1$str$ptr + 2638048\n",
      "12  chromedriver                        0x00000001030f1e04 cxxbridge1$str$ptr + 2638444\n",
      "13  chromedriver                        0x0000000103102e28 cxxbridge1$str$ptr + 2708112\n",
      "14  libsystem_pthread.dylib             0x00000001877a7c0c _pthread_start + 136\n",
      "15  libsystem_pthread.dylib             0x00000001877a2b80 thread_start + 8\n",
      "\n",
      "Pulling data from: https://agmarknet.gov.in/SearchCmmMkt.aspx?Tx_State=0&Tx_District=0&Tx_Market=0&Tx_Trend=2&DateFrom=01-Aug-2025&DateTo=01-Aug-2025&Fr_Date=01-Aug-2025&To_Date=01-Aug-2025&Tx_CommodityHead=Pomegranate&Tx_Commodity=190\n"
     ]
    },
    {
     "name": "stderr",
     "output_type": "stream",
     "text": [
      "/var/folders/jb/zy_516ps25g392kqdzfs61640000gn/T/ipykernel_78044/1959355148.py:16: FutureWarning: Passing literal html to 'read_html' is deprecated and will be removed in a future version. To read from a literal string, wrap it in a 'StringIO' object.\n",
      "  df = pd.read_html(table_html)[0]\n"
     ]
    },
    {
     "name": "stdout",
     "output_type": "stream",
     "text": [
      "Pulled data:  (180, 12)\n",
      "Pulling data from: https://agmarknet.gov.in/SearchCmmMkt.aspx?Tx_State=0&Tx_District=0&Tx_Market=0&Tx_Trend=2&DateFrom=01-Aug-2025&DateTo=01-Aug-2025&Fr_Date=01-Aug-2025&To_Date=01-Aug-2025&Tx_CommodityHead=Poppy+capsules&Tx_Commodity=425\n",
      "[WARN] 2025-08-01: Message: \n",
      "Stacktrace:\n",
      "0   chromedriver                        0x000000010310b26c cxxbridge1$str$ptr + 2741972\n",
      "1   chromedriver                        0x00000001031031dc cxxbridge1$str$ptr + 2709060\n",
      "2   chromedriver                        0x0000000102c4d4fc cxxbridge1$string$len + 90520\n",
      "3   chromedriver                        0x0000000102c94a14 cxxbridge1$string$len + 382640\n",
      "4   chromedriver                        0x0000000102cd5db8 cxxbridge1$string$len + 649812\n",
      "5   chromedriver                        0x0000000102c88d30 cxxbridge1$string$len + 334284\n",
      "6   chromedriver                        0x00000001030ce66c cxxbridge1$str$ptr + 2493140\n",
      "7   chromedriver                        0x00000001030d18a0 cxxbridge1$str$ptr + 2505992\n",
      "8   chromedriver                        0x00000001030af4a4 cxxbridge1$str$ptr + 2365708\n",
      "9   chromedriver                        0x00000001030d215c cxxbridge1$str$ptr + 2508228\n",
      "10  chromedriver                        0x00000001030a059c cxxbridge1$str$ptr + 2304516\n",
      "11  chromedriver                        0x00000001030f1c78 cxxbridge1$str$ptr + 2638048\n",
      "12  chromedriver                        0x00000001030f1e04 cxxbridge1$str$ptr + 2638444\n",
      "13  chromedriver                        0x0000000103102e28 cxxbridge1$str$ptr + 2708112\n",
      "14  libsystem_pthread.dylib             0x00000001877a7c0c _pthread_start + 136\n",
      "15  libsystem_pthread.dylib             0x00000001877a2b80 thread_start + 8\n",
      "\n",
      "Pulling data from: https://agmarknet.gov.in/SearchCmmMkt.aspx?Tx_State=0&Tx_District=0&Tx_Market=0&Tx_Trend=2&DateFrom=01-Aug-2025&DateTo=01-Aug-2025&Fr_Date=01-Aug-2025&To_Date=01-Aug-2025&Tx_CommodityHead=poppy+seeds&Tx_Commodity=421\n"
     ]
    },
    {
     "name": "stderr",
     "output_type": "stream",
     "text": [
      "/var/folders/jb/zy_516ps25g392kqdzfs61640000gn/T/ipykernel_78044/1959355148.py:16: FutureWarning: Passing literal html to 'read_html' is deprecated and will be removed in a future version. To read from a literal string, wrap it in a 'StringIO' object.\n",
      "  df = pd.read_html(table_html)[0]\n"
     ]
    },
    {
     "name": "stdout",
     "output_type": "stream",
     "text": [
      "Pulled data:  (2, 12)\n",
      "Pulling data from: https://agmarknet.gov.in/SearchCmmMkt.aspx?Tx_State=0&Tx_District=0&Tx_Market=0&Tx_Trend=2&DateFrom=01-Aug-2025&DateTo=01-Aug-2025&Fr_Date=01-Aug-2025&To_Date=01-Aug-2025&Tx_CommodityHead=Potato&Tx_Commodity=24\n"
     ]
    },
    {
     "name": "stderr",
     "output_type": "stream",
     "text": [
      "/var/folders/jb/zy_516ps25g392kqdzfs61640000gn/T/ipykernel_78044/1959355148.py:16: FutureWarning: Passing literal html to 'read_html' is deprecated and will be removed in a future version. To read from a literal string, wrap it in a 'StringIO' object.\n",
      "  df = pd.read_html(table_html)[0]\n"
     ]
    },
    {
     "name": "stdout",
     "output_type": "stream",
     "text": [
      "Pulled data:  (645, 12)\n",
      "Pulling data from: https://agmarknet.gov.in/SearchCmmMkt.aspx?Tx_State=0&Tx_District=0&Tx_Market=0&Tx_Trend=2&DateFrom=01-Aug-2025&DateTo=01-Aug-2025&Fr_Date=01-Aug-2025&To_Date=01-Aug-2025&Tx_CommodityHead=Pumpkin&Tx_Commodity=84\n"
     ]
    },
    {
     "name": "stderr",
     "output_type": "stream",
     "text": [
      "/var/folders/jb/zy_516ps25g392kqdzfs61640000gn/T/ipykernel_78044/1959355148.py:16: FutureWarning: Passing literal html to 'read_html' is deprecated and will be removed in a future version. To read from a literal string, wrap it in a 'StringIO' object.\n",
      "  df = pd.read_html(table_html)[0]\n"
     ]
    },
    {
     "name": "stdout",
     "output_type": "stream",
     "text": [
      "Pulled data:  (440, 12)\n",
      "Pulling data from: https://agmarknet.gov.in/SearchCmmMkt.aspx?Tx_State=0&Tx_District=0&Tx_Market=0&Tx_Trend=2&DateFrom=01-Aug-2025&DateTo=01-Aug-2025&Fr_Date=01-Aug-2025&To_Date=01-Aug-2025&Tx_CommodityHead=Pundi&Tx_Commodity=254\n",
      "[WARN] 2025-08-01: Message: \n",
      "Stacktrace:\n",
      "0   chromedriver                        0x000000010310b26c cxxbridge1$str$ptr + 2741972\n",
      "1   chromedriver                        0x00000001031031dc cxxbridge1$str$ptr + 2709060\n",
      "2   chromedriver                        0x0000000102c4d4fc cxxbridge1$string$len + 90520\n",
      "3   chromedriver                        0x0000000102c94a14 cxxbridge1$string$len + 382640\n",
      "4   chromedriver                        0x0000000102cd5db8 cxxbridge1$string$len + 649812\n",
      "5   chromedriver                        0x0000000102c88d30 cxxbridge1$string$len + 334284\n",
      "6   chromedriver                        0x00000001030ce66c cxxbridge1$str$ptr + 2493140\n",
      "7   chromedriver                        0x00000001030d18a0 cxxbridge1$str$ptr + 2505992\n",
      "8   chromedriver                        0x00000001030af4a4 cxxbridge1$str$ptr + 2365708\n",
      "9   chromedriver                        0x00000001030d215c cxxbridge1$str$ptr + 2508228\n",
      "10  chromedriver                        0x00000001030a059c cxxbridge1$str$ptr + 2304516\n",
      "11  chromedriver                        0x00000001030f1c78 cxxbridge1$str$ptr + 2638048\n",
      "12  chromedriver                        0x00000001030f1e04 cxxbridge1$str$ptr + 2638444\n",
      "13  chromedriver                        0x0000000103102e28 cxxbridge1$str$ptr + 2708112\n",
      "14  libsystem_pthread.dylib             0x00000001877a7c0c _pthread_start + 136\n",
      "15  libsystem_pthread.dylib             0x00000001877a2b80 thread_start + 8\n",
      "\n",
      "Pulling data from: https://agmarknet.gov.in/SearchCmmMkt.aspx?Tx_State=0&Tx_District=0&Tx_Market=0&Tx_Trend=2&DateFrom=01-Aug-2025&DateTo=01-Aug-2025&Fr_Date=01-Aug-2025&To_Date=01-Aug-2025&Tx_CommodityHead=Pundi+Seed&Tx_Commodity=128\n",
      "[WARN] 2025-08-01: Message: \n",
      "Stacktrace:\n",
      "0   chromedriver                        0x000000010310b26c cxxbridge1$str$ptr + 2741972\n",
      "1   chromedriver                        0x00000001031031dc cxxbridge1$str$ptr + 2709060\n",
      "2   chromedriver                        0x0000000102c4d4fc cxxbridge1$string$len + 90520\n",
      "3   chromedriver                        0x0000000102c94a14 cxxbridge1$string$len + 382640\n",
      "4   chromedriver                        0x0000000102cd5db8 cxxbridge1$string$len + 649812\n",
      "5   chromedriver                        0x0000000102c88d30 cxxbridge1$string$len + 334284\n",
      "6   chromedriver                        0x00000001030ce66c cxxbridge1$str$ptr + 2493140\n",
      "7   chromedriver                        0x00000001030d18a0 cxxbridge1$str$ptr + 2505992\n",
      "8   chromedriver                        0x00000001030af4a4 cxxbridge1$str$ptr + 2365708\n",
      "9   chromedriver                        0x00000001030d215c cxxbridge1$str$ptr + 2508228\n",
      "10  chromedriver                        0x00000001030a059c cxxbridge1$str$ptr + 2304516\n",
      "11  chromedriver                        0x00000001030f1c78 cxxbridge1$str$ptr + 2638048\n",
      "12  chromedriver                        0x00000001030f1e04 cxxbridge1$str$ptr + 2638444\n",
      "13  chromedriver                        0x0000000103102e28 cxxbridge1$str$ptr + 2708112\n",
      "14  libsystem_pthread.dylib             0x00000001877a7c0c _pthread_start + 136\n",
      "15  libsystem_pthread.dylib             0x00000001877a2b80 thread_start + 8\n",
      "\n",
      "Pulling data from: https://agmarknet.gov.in/SearchCmmMkt.aspx?Tx_State=0&Tx_District=0&Tx_Market=0&Tx_Trend=2&DateFrom=01-Aug-2025&DateTo=01-Aug-2025&Fr_Date=01-Aug-2025&To_Date=01-Aug-2025&Tx_CommodityHead=Pupadia&Tx_Commodity=447\n",
      "[WARN] 2025-08-01: Message: \n",
      "Stacktrace:\n",
      "0   chromedriver                        0x000000010310b26c cxxbridge1$str$ptr + 2741972\n",
      "1   chromedriver                        0x00000001031031dc cxxbridge1$str$ptr + 2709060\n",
      "2   chromedriver                        0x0000000102c4d4fc cxxbridge1$string$len + 90520\n",
      "3   chromedriver                        0x0000000102c94a14 cxxbridge1$string$len + 382640\n",
      "4   chromedriver                        0x0000000102cd5db8 cxxbridge1$string$len + 649812\n",
      "5   chromedriver                        0x0000000102c88d30 cxxbridge1$string$len + 334284\n",
      "6   chromedriver                        0x00000001030ce66c cxxbridge1$str$ptr + 2493140\n",
      "7   chromedriver                        0x00000001030d18a0 cxxbridge1$str$ptr + 2505992\n",
      "8   chromedriver                        0x00000001030af4a4 cxxbridge1$str$ptr + 2365708\n",
      "9   chromedriver                        0x00000001030d215c cxxbridge1$str$ptr + 2508228\n",
      "10  chromedriver                        0x00000001030a059c cxxbridge1$str$ptr + 2304516\n",
      "11  chromedriver                        0x00000001030f1c78 cxxbridge1$str$ptr + 2638048\n",
      "12  chromedriver                        0x00000001030f1e04 cxxbridge1$str$ptr + 2638444\n",
      "13  chromedriver                        0x0000000103102e28 cxxbridge1$str$ptr + 2708112\n",
      "14  libsystem_pthread.dylib             0x00000001877a7c0c _pthread_start + 136\n",
      "15  libsystem_pthread.dylib             0x00000001877a2b80 thread_start + 8\n",
      "\n",
      "Pulling data from: https://agmarknet.gov.in/SearchCmmMkt.aspx?Tx_State=0&Tx_District=0&Tx_Market=0&Tx_Trend=2&DateFrom=01-Aug-2025&DateTo=01-Aug-2025&Fr_Date=01-Aug-2025&To_Date=01-Aug-2025&Tx_CommodityHead=Raddish&Tx_Commodity=161\n"
     ]
    },
    {
     "name": "stderr",
     "output_type": "stream",
     "text": [
      "/var/folders/jb/zy_516ps25g392kqdzfs61640000gn/T/ipykernel_78044/1959355148.py:16: FutureWarning: Passing literal html to 'read_html' is deprecated and will be removed in a future version. To read from a literal string, wrap it in a 'StringIO' object.\n",
      "  df = pd.read_html(table_html)[0]\n"
     ]
    },
    {
     "name": "stdout",
     "output_type": "stream",
     "text": [
      "Pulled data:  (249, 12)\n",
      "Pulling data from: https://agmarknet.gov.in/SearchCmmMkt.aspx?Tx_State=0&Tx_District=0&Tx_Market=0&Tx_Trend=2&DateFrom=01-Aug-2025&DateTo=01-Aug-2025&Fr_Date=01-Aug-2025&To_Date=01-Aug-2025&Tx_CommodityHead=Ragi+%28Finger+Millet%29&Tx_Commodity=30\n"
     ]
    },
    {
     "name": "stderr",
     "output_type": "stream",
     "text": [
      "/var/folders/jb/zy_516ps25g392kqdzfs61640000gn/T/ipykernel_78044/1959355148.py:16: FutureWarning: Passing literal html to 'read_html' is deprecated and will be removed in a future version. To read from a literal string, wrap it in a 'StringIO' object.\n",
      "  df = pd.read_html(table_html)[0]\n"
     ]
    },
    {
     "name": "stdout",
     "output_type": "stream",
     "text": [
      "Pulled data:  (3, 12)\n",
      "Pulling data from: https://agmarknet.gov.in/SearchCmmMkt.aspx?Tx_State=0&Tx_District=0&Tx_Market=0&Tx_Trend=2&DateFrom=01-Aug-2025&DateTo=01-Aug-2025&Fr_Date=01-Aug-2025&To_Date=01-Aug-2025&Tx_CommodityHead=Raibel&Tx_Commodity=409\n"
     ]
    },
    {
     "name": "stderr",
     "output_type": "stream",
     "text": [
      "/var/folders/jb/zy_516ps25g392kqdzfs61640000gn/T/ipykernel_78044/1959355148.py:16: FutureWarning: Passing literal html to 'read_html' is deprecated and will be removed in a future version. To read from a literal string, wrap it in a 'StringIO' object.\n",
      "  df = pd.read_html(table_html)[0]\n"
     ]
    },
    {
     "name": "stdout",
     "output_type": "stream",
     "text": [
      "Pulled data:  (1, 12)\n",
      "Pulling data from: https://agmarknet.gov.in/SearchCmmMkt.aspx?Tx_State=0&Tx_District=0&Tx_Market=0&Tx_Trend=2&DateFrom=01-Aug-2025&DateTo=01-Aug-2025&Fr_Date=01-Aug-2025&To_Date=01-Aug-2025&Tx_CommodityHead=Rajgir&Tx_Commodity=248\n"
     ]
    },
    {
     "name": "stderr",
     "output_type": "stream",
     "text": [
      "/var/folders/jb/zy_516ps25g392kqdzfs61640000gn/T/ipykernel_78044/1959355148.py:16: FutureWarning: Passing literal html to 'read_html' is deprecated and will be removed in a future version. To read from a literal string, wrap it in a 'StringIO' object.\n",
      "  df = pd.read_html(table_html)[0]\n"
     ]
    },
    {
     "name": "stdout",
     "output_type": "stream",
     "text": [
      "Pulled data:  (6, 12)\n",
      "Pulling data from: https://agmarknet.gov.in/SearchCmmMkt.aspx?Tx_State=0&Tx_District=0&Tx_Market=0&Tx_Trend=2&DateFrom=01-Aug-2025&DateTo=01-Aug-2025&Fr_Date=01-Aug-2025&To_Date=01-Aug-2025&Tx_CommodityHead=Rala&Tx_Commodity=517\n",
      "[WARN] 2025-08-01: Message: \n",
      "Stacktrace:\n",
      "0   chromedriver                        0x000000010310b26c cxxbridge1$str$ptr + 2741972\n",
      "1   chromedriver                        0x00000001031031dc cxxbridge1$str$ptr + 2709060\n",
      "2   chromedriver                        0x0000000102c4d4fc cxxbridge1$string$len + 90520\n",
      "3   chromedriver                        0x0000000102c94a14 cxxbridge1$string$len + 382640\n",
      "4   chromedriver                        0x0000000102cd5db8 cxxbridge1$string$len + 649812\n",
      "5   chromedriver                        0x0000000102c88d30 cxxbridge1$string$len + 334284\n",
      "6   chromedriver                        0x00000001030ce66c cxxbridge1$str$ptr + 2493140\n",
      "7   chromedriver                        0x00000001030d18a0 cxxbridge1$str$ptr + 2505992\n",
      "8   chromedriver                        0x00000001030af4a4 cxxbridge1$str$ptr + 2365708\n",
      "9   chromedriver                        0x00000001030d215c cxxbridge1$str$ptr + 2508228\n",
      "10  chromedriver                        0x00000001030a059c cxxbridge1$str$ptr + 2304516\n",
      "11  chromedriver                        0x00000001030f1c78 cxxbridge1$str$ptr + 2638048\n",
      "12  chromedriver                        0x00000001030f1e04 cxxbridge1$str$ptr + 2638444\n",
      "13  chromedriver                        0x0000000103102e28 cxxbridge1$str$ptr + 2708112\n",
      "14  libsystem_pthread.dylib             0x00000001877a7c0c _pthread_start + 136\n",
      "15  libsystem_pthread.dylib             0x00000001877a2b80 thread_start + 8\n",
      "\n",
      "Pulling data from: https://agmarknet.gov.in/SearchCmmMkt.aspx?Tx_State=0&Tx_District=0&Tx_Market=0&Tx_Trend=2&DateFrom=01-Aug-2025&DateTo=01-Aug-2025&Fr_Date=01-Aug-2025&To_Date=01-Aug-2025&Tx_CommodityHead=Ram&Tx_Commodity=282\n",
      "[WARN] 2025-08-01: Message: \n",
      "Stacktrace:\n",
      "0   chromedriver                        0x000000010310b26c cxxbridge1$str$ptr + 2741972\n",
      "1   chromedriver                        0x00000001031031dc cxxbridge1$str$ptr + 2709060\n",
      "2   chromedriver                        0x0000000102c4d4fc cxxbridge1$string$len + 90520\n",
      "3   chromedriver                        0x0000000102c94a14 cxxbridge1$string$len + 382640\n",
      "4   chromedriver                        0x0000000102cd5db8 cxxbridge1$string$len + 649812\n",
      "5   chromedriver                        0x0000000102c88d30 cxxbridge1$string$len + 334284\n",
      "6   chromedriver                        0x00000001030ce66c cxxbridge1$str$ptr + 2493140\n",
      "7   chromedriver                        0x00000001030d18a0 cxxbridge1$str$ptr + 2505992\n",
      "8   chromedriver                        0x00000001030af4a4 cxxbridge1$str$ptr + 2365708\n",
      "9   chromedriver                        0x00000001030d215c cxxbridge1$str$ptr + 2508228\n",
      "10  chromedriver                        0x00000001030a059c cxxbridge1$str$ptr + 2304516\n",
      "11  chromedriver                        0x00000001030f1c78 cxxbridge1$str$ptr + 2638048\n",
      "12  chromedriver                        0x00000001030f1e04 cxxbridge1$str$ptr + 2638444\n",
      "13  chromedriver                        0x0000000103102e28 cxxbridge1$str$ptr + 2708112\n",
      "14  libsystem_pthread.dylib             0x00000001877a7c0c _pthread_start + 136\n",
      "15  libsystem_pthread.dylib             0x00000001877a2b80 thread_start + 8\n",
      "\n",
      "Pulling data from: https://agmarknet.gov.in/SearchCmmMkt.aspx?Tx_State=0&Tx_District=0&Tx_Market=0&Tx_Trend=2&DateFrom=01-Aug-2025&DateTo=01-Aug-2025&Fr_Date=01-Aug-2025&To_Date=01-Aug-2025&Tx_CommodityHead=Ramphal&Tx_Commodity=518\n",
      "[WARN] 2025-08-01: Message: \n",
      "Stacktrace:\n",
      "0   chromedriver                        0x000000010310b26c cxxbridge1$str$ptr + 2741972\n",
      "1   chromedriver                        0x00000001031031dc cxxbridge1$str$ptr + 2709060\n",
      "2   chromedriver                        0x0000000102c4d4fc cxxbridge1$string$len + 90520\n",
      "3   chromedriver                        0x0000000102c94a14 cxxbridge1$string$len + 382640\n",
      "4   chromedriver                        0x0000000102cd5db8 cxxbridge1$string$len + 649812\n",
      "5   chromedriver                        0x0000000102c88d30 cxxbridge1$string$len + 334284\n",
      "6   chromedriver                        0x00000001030ce66c cxxbridge1$str$ptr + 2493140\n",
      "7   chromedriver                        0x00000001030d18a0 cxxbridge1$str$ptr + 2505992\n",
      "8   chromedriver                        0x00000001030af4a4 cxxbridge1$str$ptr + 2365708\n",
      "9   chromedriver                        0x00000001030d215c cxxbridge1$str$ptr + 2508228\n",
      "10  chromedriver                        0x00000001030a059c cxxbridge1$str$ptr + 2304516\n",
      "11  chromedriver                        0x00000001030f1c78 cxxbridge1$str$ptr + 2638048\n",
      "12  chromedriver                        0x00000001030f1e04 cxxbridge1$str$ptr + 2638444\n",
      "13  chromedriver                        0x0000000103102e28 cxxbridge1$str$ptr + 2708112\n",
      "14  libsystem_pthread.dylib             0x00000001877a7c0c _pthread_start + 136\n",
      "15  libsystem_pthread.dylib             0x00000001877a2b80 thread_start + 8\n",
      "\n",
      "Pulling data from: https://agmarknet.gov.in/SearchCmmMkt.aspx?Tx_State=0&Tx_District=0&Tx_Market=0&Tx_Trend=2&DateFrom=01-Aug-2025&DateTo=01-Aug-2025&Fr_Date=01-Aug-2025&To_Date=01-Aug-2025&Tx_CommodityHead=Rat+Tail+Radish+%28Mogari%29&Tx_Commodity=307\n",
      "[WARN] 2025-08-01: Message: \n",
      "Stacktrace:\n",
      "0   chromedriver                        0x000000010310b26c cxxbridge1$str$ptr + 2741972\n",
      "1   chromedriver                        0x00000001031031dc cxxbridge1$str$ptr + 2709060\n",
      "2   chromedriver                        0x0000000102c4d4fc cxxbridge1$string$len + 90520\n",
      "3   chromedriver                        0x0000000102c94a14 cxxbridge1$string$len + 382640\n",
      "4   chromedriver                        0x0000000102cd5db8 cxxbridge1$string$len + 649812\n",
      "5   chromedriver                        0x0000000102c88d30 cxxbridge1$string$len + 334284\n",
      "6   chromedriver                        0x00000001030ce66c cxxbridge1$str$ptr + 2493140\n",
      "7   chromedriver                        0x00000001030d18a0 cxxbridge1$str$ptr + 2505992\n",
      "8   chromedriver                        0x00000001030af4a4 cxxbridge1$str$ptr + 2365708\n",
      "9   chromedriver                        0x00000001030d215c cxxbridge1$str$ptr + 2508228\n",
      "10  chromedriver                        0x00000001030a059c cxxbridge1$str$ptr + 2304516\n",
      "11  chromedriver                        0x00000001030f1c78 cxxbridge1$str$ptr + 2638048\n",
      "12  chromedriver                        0x00000001030f1e04 cxxbridge1$str$ptr + 2638444\n",
      "13  chromedriver                        0x0000000103102e28 cxxbridge1$str$ptr + 2708112\n",
      "14  libsystem_pthread.dylib             0x00000001877a7c0c _pthread_start + 136\n",
      "15  libsystem_pthread.dylib             0x00000001877a2b80 thread_start + 8\n",
      "\n",
      "Pulling data from: https://agmarknet.gov.in/SearchCmmMkt.aspx?Tx_State=0&Tx_District=0&Tx_Market=0&Tx_Trend=2&DateFrom=01-Aug-2025&DateTo=01-Aug-2025&Fr_Date=01-Aug-2025&To_Date=01-Aug-2025&Tx_CommodityHead=Ratanjot&Tx_Commodity=460\n"
     ]
    },
    {
     "name": "stderr",
     "output_type": "stream",
     "text": [
      "/var/folders/jb/zy_516ps25g392kqdzfs61640000gn/T/ipykernel_78044/1959355148.py:16: FutureWarning: Passing literal html to 'read_html' is deprecated and will be removed in a future version. To read from a literal string, wrap it in a 'StringIO' object.\n",
      "  df = pd.read_html(table_html)[0]\n"
     ]
    },
    {
     "name": "stdout",
     "output_type": "stream",
     "text": [
      "Pulled data:  (1, 12)\n",
      "Pulling data from: https://agmarknet.gov.in/SearchCmmMkt.aspx?Tx_State=0&Tx_District=0&Tx_Market=0&Tx_Trend=2&DateFrom=01-Aug-2025&DateTo=01-Aug-2025&Fr_Date=01-Aug-2025&To_Date=01-Aug-2025&Tx_CommodityHead=Raya&Tx_Commodity=65\n",
      "[WARN] 2025-08-01: Message: \n",
      "Stacktrace:\n",
      "0   chromedriver                        0x000000010528726c cxxbridge1$str$ptr + 2741972\n",
      "1   chromedriver                        0x000000010527f1dc cxxbridge1$str$ptr + 2709060\n",
      "2   chromedriver                        0x0000000104dc94fc cxxbridge1$string$len + 90520\n",
      "3   chromedriver                        0x0000000104e10a14 cxxbridge1$string$len + 382640\n",
      "4   chromedriver                        0x0000000104e51db8 cxxbridge1$string$len + 649812\n",
      "5   chromedriver                        0x0000000104e04d30 cxxbridge1$string$len + 334284\n",
      "6   chromedriver                        0x000000010524a66c cxxbridge1$str$ptr + 2493140\n",
      "7   chromedriver                        0x000000010524d8a0 cxxbridge1$str$ptr + 2505992\n",
      "8   chromedriver                        0x000000010522b4a4 cxxbridge1$str$ptr + 2365708\n",
      "9   chromedriver                        0x000000010524e15c cxxbridge1$str$ptr + 2508228\n",
      "10  chromedriver                        0x000000010521c59c cxxbridge1$str$ptr + 2304516\n",
      "11  chromedriver                        0x000000010526dc78 cxxbridge1$str$ptr + 2638048\n",
      "12  chromedriver                        0x000000010526de04 cxxbridge1$str$ptr + 2638444\n",
      "13  chromedriver                        0x000000010527ee28 cxxbridge1$str$ptr + 2708112\n",
      "14  libsystem_pthread.dylib             0x00000001877a7c0c _pthread_start + 136\n",
      "15  libsystem_pthread.dylib             0x00000001877a2b80 thread_start + 8\n",
      "\n",
      "Pulling data from: https://agmarknet.gov.in/SearchCmmMkt.aspx?Tx_State=0&Tx_District=0&Tx_Market=0&Tx_Trend=2&DateFrom=01-Aug-2025&DateTo=01-Aug-2025&Fr_Date=01-Aug-2025&To_Date=01-Aug-2025&Tx_CommodityHead=Rayee&Tx_Commodity=519\n",
      "[WARN] 2025-08-01: Message: \n",
      "Stacktrace:\n",
      "0   chromedriver                        0x0000000100fa326c cxxbridge1$str$ptr + 2741972\n",
      "1   chromedriver                        0x0000000100f9b1dc cxxbridge1$str$ptr + 2709060\n",
      "2   chromedriver                        0x0000000100ae54fc cxxbridge1$string$len + 90520\n",
      "3   chromedriver                        0x0000000100b2ca14 cxxbridge1$string$len + 382640\n",
      "4   chromedriver                        0x0000000100b6ddb8 cxxbridge1$string$len + 649812\n",
      "5   chromedriver                        0x0000000100b20d30 cxxbridge1$string$len + 334284\n",
      "6   chromedriver                        0x0000000100f6666c cxxbridge1$str$ptr + 2493140\n",
      "7   chromedriver                        0x0000000100f698a0 cxxbridge1$str$ptr + 2505992\n",
      "8   chromedriver                        0x0000000100f474a4 cxxbridge1$str$ptr + 2365708\n",
      "9   chromedriver                        0x0000000100f6a15c cxxbridge1$str$ptr + 2508228\n",
      "10  chromedriver                        0x0000000100f3859c cxxbridge1$str$ptr + 2304516\n",
      "11  chromedriver                        0x0000000100f89c78 cxxbridge1$str$ptr + 2638048\n",
      "12  chromedriver                        0x0000000100f89e04 cxxbridge1$str$ptr + 2638444\n",
      "13  chromedriver                        0x0000000100f9ae28 cxxbridge1$str$ptr + 2708112\n",
      "14  libsystem_pthread.dylib             0x00000001877a7c0c _pthread_start + 136\n",
      "15  libsystem_pthread.dylib             0x00000001877a2b80 thread_start + 8\n",
      "\n",
      "Pulling data from: https://agmarknet.gov.in/SearchCmmMkt.aspx?Tx_State=0&Tx_District=0&Tx_Market=0&Tx_Trend=2&DateFrom=01-Aug-2025&DateTo=01-Aug-2025&Fr_Date=01-Aug-2025&To_Date=01-Aug-2025&Tx_CommodityHead=Red+Cabbage&Tx_Commodity=493\n",
      "[WARN] 2025-08-01: Message: \n",
      "Stacktrace:\n",
      "0   chromedriver                        0x0000000100a4726c cxxbridge1$str$ptr + 2741972\n",
      "1   chromedriver                        0x0000000100a3f1dc cxxbridge1$str$ptr + 2709060\n",
      "2   chromedriver                        0x00000001005894fc cxxbridge1$string$len + 90520\n",
      "3   chromedriver                        0x00000001005d0a14 cxxbridge1$string$len + 382640\n",
      "4   chromedriver                        0x0000000100611db8 cxxbridge1$string$len + 649812\n",
      "5   chromedriver                        0x00000001005c4d30 cxxbridge1$string$len + 334284\n",
      "6   chromedriver                        0x0000000100a0a66c cxxbridge1$str$ptr + 2493140\n",
      "7   chromedriver                        0x0000000100a0d8a0 cxxbridge1$str$ptr + 2505992\n",
      "8   chromedriver                        0x00000001009eb4a4 cxxbridge1$str$ptr + 2365708\n",
      "9   chromedriver                        0x0000000100a0e15c cxxbridge1$str$ptr + 2508228\n",
      "10  chromedriver                        0x00000001009dc59c cxxbridge1$str$ptr + 2304516\n",
      "11  chromedriver                        0x0000000100a2dc78 cxxbridge1$str$ptr + 2638048\n",
      "12  chromedriver                        0x0000000100a2de04 cxxbridge1$str$ptr + 2638444\n",
      "13  chromedriver                        0x0000000100a3ee28 cxxbridge1$str$ptr + 2708112\n",
      "14  libsystem_pthread.dylib             0x00000001877a7c0c _pthread_start + 136\n",
      "15  libsystem_pthread.dylib             0x00000001877a2b80 thread_start + 8\n",
      "\n",
      "Pulling data from: https://agmarknet.gov.in/SearchCmmMkt.aspx?Tx_State=0&Tx_District=0&Tx_Market=0&Tx_Trend=2&DateFrom=01-Aug-2025&DateTo=01-Aug-2025&Fr_Date=01-Aug-2025&To_Date=01-Aug-2025&Tx_CommodityHead=Red+Gram&Tx_Commodity=7\n",
      "[WARN] 2025-08-01: Message: \n",
      "Stacktrace:\n",
      "0   chromedriver                        0x000000010344f26c cxxbridge1$str$ptr + 2741972\n",
      "1   chromedriver                        0x00000001034471dc cxxbridge1$str$ptr + 2709060\n",
      "2   chromedriver                        0x0000000102f914fc cxxbridge1$string$len + 90520\n",
      "3   chromedriver                        0x0000000102fd8a14 cxxbridge1$string$len + 382640\n",
      "4   chromedriver                        0x0000000103019db8 cxxbridge1$string$len + 649812\n",
      "5   chromedriver                        0x0000000102fccd30 cxxbridge1$string$len + 334284\n",
      "6   chromedriver                        0x000000010341266c cxxbridge1$str$ptr + 2493140\n",
      "7   chromedriver                        0x00000001034158a0 cxxbridge1$str$ptr + 2505992\n",
      "8   chromedriver                        0x00000001033f34a4 cxxbridge1$str$ptr + 2365708\n",
      "9   chromedriver                        0x000000010341615c cxxbridge1$str$ptr + 2508228\n",
      "10  chromedriver                        0x00000001033e459c cxxbridge1$str$ptr + 2304516\n",
      "11  chromedriver                        0x0000000103435c78 cxxbridge1$str$ptr + 2638048\n",
      "12  chromedriver                        0x0000000103435e04 cxxbridge1$str$ptr + 2638444\n",
      "13  chromedriver                        0x0000000103446e28 cxxbridge1$str$ptr + 2708112\n",
      "14  libsystem_pthread.dylib             0x00000001877a7c0c _pthread_start + 136\n",
      "15  libsystem_pthread.dylib             0x00000001877a2b80 thread_start + 8\n",
      "\n",
      "Pulling data from: https://agmarknet.gov.in/SearchCmmMkt.aspx?Tx_State=0&Tx_District=0&Tx_Market=0&Tx_Trend=2&DateFrom=01-Aug-2025&DateTo=01-Aug-2025&Fr_Date=01-Aug-2025&To_Date=01-Aug-2025&Tx_CommodityHead=Resinwood&Tx_Commodity=322\n",
      "[WARN] 2025-08-01: Message: \n",
      "Stacktrace:\n",
      "0   chromedriver                        0x0000000104ce326c cxxbridge1$str$ptr + 2741972\n",
      "1   chromedriver                        0x0000000104cdb1dc cxxbridge1$str$ptr + 2709060\n",
      "2   chromedriver                        0x00000001048254fc cxxbridge1$string$len + 90520\n",
      "3   chromedriver                        0x000000010486ca14 cxxbridge1$string$len + 382640\n",
      "4   chromedriver                        0x00000001048addb8 cxxbridge1$string$len + 649812\n",
      "5   chromedriver                        0x0000000104860d30 cxxbridge1$string$len + 334284\n",
      "6   chromedriver                        0x0000000104ca666c cxxbridge1$str$ptr + 2493140\n",
      "7   chromedriver                        0x0000000104ca98a0 cxxbridge1$str$ptr + 2505992\n",
      "8   chromedriver                        0x0000000104c874a4 cxxbridge1$str$ptr + 2365708\n",
      "9   chromedriver                        0x0000000104caa15c cxxbridge1$str$ptr + 2508228\n",
      "10  chromedriver                        0x0000000104c7859c cxxbridge1$str$ptr + 2304516\n",
      "11  chromedriver                        0x0000000104cc9c78 cxxbridge1$str$ptr + 2638048\n",
      "12  chromedriver                        0x0000000104cc9e04 cxxbridge1$str$ptr + 2638444\n",
      "13  chromedriver                        0x0000000104cdae28 cxxbridge1$str$ptr + 2708112\n",
      "14  libsystem_pthread.dylib             0x00000001877a7c0c _pthread_start + 136\n",
      "15  libsystem_pthread.dylib             0x00000001877a2b80 thread_start + 8\n",
      "\n",
      "Pulling data from: https://agmarknet.gov.in/SearchCmmMkt.aspx?Tx_State=0&Tx_District=0&Tx_Market=0&Tx_Trend=2&DateFrom=01-Aug-2025&DateTo=01-Aug-2025&Fr_Date=01-Aug-2025&To_Date=01-Aug-2025&Tx_CommodityHead=Riccbcan&Tx_Commodity=62\n",
      "[WARN] 2025-08-01: Message: \n",
      "Stacktrace:\n",
      "0   chromedriver                        0x0000000102e9b26c cxxbridge1$str$ptr + 2741972\n",
      "1   chromedriver                        0x0000000102e931dc cxxbridge1$str$ptr + 2709060\n",
      "2   chromedriver                        0x00000001029dd4fc cxxbridge1$string$len + 90520\n",
      "3   chromedriver                        0x0000000102a24a14 cxxbridge1$string$len + 382640\n",
      "4   chromedriver                        0x0000000102a65db8 cxxbridge1$string$len + 649812\n",
      "5   chromedriver                        0x0000000102a18d30 cxxbridge1$string$len + 334284\n",
      "6   chromedriver                        0x0000000102e5e66c cxxbridge1$str$ptr + 2493140\n",
      "7   chromedriver                        0x0000000102e618a0 cxxbridge1$str$ptr + 2505992\n",
      "8   chromedriver                        0x0000000102e3f4a4 cxxbridge1$str$ptr + 2365708\n",
      "9   chromedriver                        0x0000000102e6215c cxxbridge1$str$ptr + 2508228\n",
      "10  chromedriver                        0x0000000102e3059c cxxbridge1$str$ptr + 2304516\n",
      "11  chromedriver                        0x0000000102e81c78 cxxbridge1$str$ptr + 2638048\n",
      "12  chromedriver                        0x0000000102e81e04 cxxbridge1$str$ptr + 2638444\n",
      "13  chromedriver                        0x0000000102e92e28 cxxbridge1$str$ptr + 2708112\n",
      "14  libsystem_pthread.dylib             0x00000001877a7c0c _pthread_start + 136\n",
      "15  libsystem_pthread.dylib             0x00000001877a2b80 thread_start + 8\n",
      "\n",
      "Pulling data from: https://agmarknet.gov.in/SearchCmmMkt.aspx?Tx_State=0&Tx_District=0&Tx_Market=0&Tx_Trend=2&DateFrom=01-Aug-2025&DateTo=01-Aug-2025&Fr_Date=01-Aug-2025&To_Date=01-Aug-2025&Tx_CommodityHead=Rice&Tx_Commodity=3\n"
     ]
    },
    {
     "name": "stderr",
     "output_type": "stream",
     "text": [
      "/var/folders/jb/zy_516ps25g392kqdzfs61640000gn/T/ipykernel_78044/1959355148.py:16: FutureWarning: Passing literal html to 'read_html' is deprecated and will be removed in a future version. To read from a literal string, wrap it in a 'StringIO' object.\n",
      "  df = pd.read_html(table_html)[0]\n"
     ]
    },
    {
     "name": "stdout",
     "output_type": "stream",
     "text": [
      "Pulled data:  (220, 12)\n",
      "Pulling data from: https://agmarknet.gov.in/SearchCmmMkt.aspx?Tx_State=0&Tx_District=0&Tx_Market=0&Tx_Trend=2&DateFrom=01-Aug-2025&DateTo=01-Aug-2025&Fr_Date=01-Aug-2025&To_Date=01-Aug-2025&Tx_CommodityHead=Ridgeguard%28Tori%29&Tx_Commodity=160\n"
     ]
    },
    {
     "name": "stderr",
     "output_type": "stream",
     "text": [
      "/var/folders/jb/zy_516ps25g392kqdzfs61640000gn/T/ipykernel_78044/1959355148.py:16: FutureWarning: Passing literal html to 'read_html' is deprecated and will be removed in a future version. To read from a literal string, wrap it in a 'StringIO' object.\n",
      "  df = pd.read_html(table_html)[0]\n"
     ]
    },
    {
     "name": "stdout",
     "output_type": "stream",
     "text": [
      "Pulled data:  (274, 12)\n",
      "Pulling data from: https://agmarknet.gov.in/SearchCmmMkt.aspx?Tx_State=0&Tx_District=0&Tx_Market=0&Tx_Trend=2&DateFrom=01-Aug-2025&DateTo=01-Aug-2025&Fr_Date=01-Aug-2025&To_Date=01-Aug-2025&Tx_CommodityHead=Rose%28Local%29&Tx_Commodity=374\n"
     ]
    },
    {
     "name": "stderr",
     "output_type": "stream",
     "text": [
      "/var/folders/jb/zy_516ps25g392kqdzfs61640000gn/T/ipykernel_78044/1959355148.py:16: FutureWarning: Passing literal html to 'read_html' is deprecated and will be removed in a future version. To read from a literal string, wrap it in a 'StringIO' object.\n",
      "  df = pd.read_html(table_html)[0]\n"
     ]
    },
    {
     "name": "stdout",
     "output_type": "stream",
     "text": [
      "Pulled data:  (23, 12)\n",
      "Pulling data from: https://agmarknet.gov.in/SearchCmmMkt.aspx?Tx_State=0&Tx_District=0&Tx_Market=0&Tx_Trend=2&DateFrom=01-Aug-2025&DateTo=01-Aug-2025&Fr_Date=01-Aug-2025&To_Date=01-Aug-2025&Tx_CommodityHead=Rose%28Loose%29%29&Tx_Commodity=228\n"
     ]
    },
    {
     "name": "stderr",
     "output_type": "stream",
     "text": [
      "/var/folders/jb/zy_516ps25g392kqdzfs61640000gn/T/ipykernel_78044/1959355148.py:16: FutureWarning: Passing literal html to 'read_html' is deprecated and will be removed in a future version. To read from a literal string, wrap it in a 'StringIO' object.\n",
      "  df = pd.read_html(table_html)[0]\n"
     ]
    },
    {
     "name": "stdout",
     "output_type": "stream",
     "text": [
      "Pulled data:  (4, 12)\n",
      "Pulling data from: https://agmarknet.gov.in/SearchCmmMkt.aspx?Tx_State=0&Tx_District=0&Tx_Market=0&Tx_Trend=2&DateFrom=01-Aug-2025&DateTo=01-Aug-2025&Fr_Date=01-Aug-2025&To_Date=01-Aug-2025&Tx_CommodityHead=Rose%28Tata%29&Tx_Commodity=373\n",
      "[WARN] 2025-08-01: Message: \n",
      "Stacktrace:\n",
      "0   chromedriver                        0x0000000102a7b26c cxxbridge1$str$ptr + 2741972\n",
      "1   chromedriver                        0x0000000102a731dc cxxbridge1$str$ptr + 2709060\n",
      "2   chromedriver                        0x00000001025bd4fc cxxbridge1$string$len + 90520\n",
      "3   chromedriver                        0x0000000102604a14 cxxbridge1$string$len + 382640\n",
      "4   chromedriver                        0x0000000102645db8 cxxbridge1$string$len + 649812\n",
      "5   chromedriver                        0x00000001025f8d30 cxxbridge1$string$len + 334284\n",
      "6   chromedriver                        0x0000000102a3e66c cxxbridge1$str$ptr + 2493140\n",
      "7   chromedriver                        0x0000000102a418a0 cxxbridge1$str$ptr + 2505992\n",
      "8   chromedriver                        0x0000000102a1f4a4 cxxbridge1$str$ptr + 2365708\n",
      "9   chromedriver                        0x0000000102a4215c cxxbridge1$str$ptr + 2508228\n",
      "10  chromedriver                        0x0000000102a1059c cxxbridge1$str$ptr + 2304516\n",
      "11  chromedriver                        0x0000000102a61c78 cxxbridge1$str$ptr + 2638048\n",
      "12  chromedriver                        0x0000000102a61e04 cxxbridge1$str$ptr + 2638444\n",
      "13  chromedriver                        0x0000000102a72e28 cxxbridge1$str$ptr + 2708112\n",
      "14  libsystem_pthread.dylib             0x00000001877a7c0c _pthread_start + 136\n",
      "15  libsystem_pthread.dylib             0x00000001877a2b80 thread_start + 8\n",
      "\n",
      "Pulling data from: https://agmarknet.gov.in/SearchCmmMkt.aspx?Tx_State=0&Tx_District=0&Tx_Market=0&Tx_Trend=2&DateFrom=01-Aug-2025&DateTo=01-Aug-2025&Fr_Date=01-Aug-2025&To_Date=01-Aug-2025&Tx_CommodityHead=Round+gourd&Tx_Commodity=306\n"
     ]
    },
    {
     "name": "stderr",
     "output_type": "stream",
     "text": [
      "/var/folders/jb/zy_516ps25g392kqdzfs61640000gn/T/ipykernel_78044/1959355148.py:16: FutureWarning: Passing literal html to 'read_html' is deprecated and will be removed in a future version. To read from a literal string, wrap it in a 'StringIO' object.\n",
      "  df = pd.read_html(table_html)[0]\n"
     ]
    },
    {
     "name": "stdout",
     "output_type": "stream",
     "text": [
      "Pulled data:  (15, 12)\n",
      "Pulling data from: https://agmarknet.gov.in/SearchCmmMkt.aspx?Tx_State=0&Tx_District=0&Tx_Market=0&Tx_Trend=2&DateFrom=01-Aug-2025&DateTo=01-Aug-2025&Fr_Date=01-Aug-2025&To_Date=01-Aug-2025&Tx_CommodityHead=Rubber&Tx_Commodity=111\n"
     ]
    },
    {
     "name": "stderr",
     "output_type": "stream",
     "text": [
      "/var/folders/jb/zy_516ps25g392kqdzfs61640000gn/T/ipykernel_78044/1959355148.py:16: FutureWarning: Passing literal html to 'read_html' is deprecated and will be removed in a future version. To read from a literal string, wrap it in a 'StringIO' object.\n",
      "  df = pd.read_html(table_html)[0]\n"
     ]
    },
    {
     "name": "stdout",
     "output_type": "stream",
     "text": [
      "Pulled data:  (5, 12)\n",
      "Pulling data from: https://agmarknet.gov.in/SearchCmmMkt.aspx?Tx_State=0&Tx_District=0&Tx_Market=0&Tx_Trend=2&DateFrom=01-Aug-2025&DateTo=01-Aug-2025&Fr_Date=01-Aug-2025&To_Date=01-Aug-2025&Tx_CommodityHead=Sabu+Dan&Tx_Commodity=291\n"
     ]
    },
    {
     "name": "stderr",
     "output_type": "stream",
     "text": [
      "/var/folders/jb/zy_516ps25g392kqdzfs61640000gn/T/ipykernel_78044/1959355148.py:16: FutureWarning: Passing literal html to 'read_html' is deprecated and will be removed in a future version. To read from a literal string, wrap it in a 'StringIO' object.\n",
      "  df = pd.read_html(table_html)[0]\n"
     ]
    },
    {
     "name": "stdout",
     "output_type": "stream",
     "text": [
      "Pulled data:  (1, 12)\n",
      "Pulling data from: https://agmarknet.gov.in/SearchCmmMkt.aspx?Tx_State=0&Tx_District=0&Tx_Market=0&Tx_Trend=2&DateFrom=01-Aug-2025&DateTo=01-Aug-2025&Fr_Date=01-Aug-2025&To_Date=01-Aug-2025&Tx_CommodityHead=Safflower&Tx_Commodity=59\n"
     ]
    },
    {
     "name": "stderr",
     "output_type": "stream",
     "text": [
      "/var/folders/jb/zy_516ps25g392kqdzfs61640000gn/T/ipykernel_78044/1959355148.py:16: FutureWarning: Passing literal html to 'read_html' is deprecated and will be removed in a future version. To read from a literal string, wrap it in a 'StringIO' object.\n",
      "  df = pd.read_html(table_html)[0]\n"
     ]
    },
    {
     "name": "stdout",
     "output_type": "stream",
     "text": [
      "Pulled data:  (4, 12)\n",
      "Pulling data from: https://agmarknet.gov.in/SearchCmmMkt.aspx?Tx_State=0&Tx_District=0&Tx_Market=0&Tx_Trend=2&DateFrom=01-Aug-2025&DateTo=01-Aug-2025&Fr_Date=01-Aug-2025&To_Date=01-Aug-2025&Tx_CommodityHead=Saffron&Tx_Commodity=338\n",
      "[WARN] 2025-08-01: Message: \n",
      "Stacktrace:\n",
      "0   chromedriver                        0x0000000102a7b26c cxxbridge1$str$ptr + 2741972\n",
      "1   chromedriver                        0x0000000102a731dc cxxbridge1$str$ptr + 2709060\n",
      "2   chromedriver                        0x00000001025bd4fc cxxbridge1$string$len + 90520\n",
      "3   chromedriver                        0x0000000102604a14 cxxbridge1$string$len + 382640\n",
      "4   chromedriver                        0x0000000102645db8 cxxbridge1$string$len + 649812\n",
      "5   chromedriver                        0x00000001025f8d30 cxxbridge1$string$len + 334284\n",
      "6   chromedriver                        0x0000000102a3e66c cxxbridge1$str$ptr + 2493140\n",
      "7   chromedriver                        0x0000000102a418a0 cxxbridge1$str$ptr + 2505992\n",
      "8   chromedriver                        0x0000000102a1f4a4 cxxbridge1$str$ptr + 2365708\n",
      "9   chromedriver                        0x0000000102a4215c cxxbridge1$str$ptr + 2508228\n",
      "10  chromedriver                        0x0000000102a1059c cxxbridge1$str$ptr + 2304516\n",
      "11  chromedriver                        0x0000000102a61c78 cxxbridge1$str$ptr + 2638048\n",
      "12  chromedriver                        0x0000000102a61e04 cxxbridge1$str$ptr + 2638444\n",
      "13  chromedriver                        0x0000000102a72e28 cxxbridge1$str$ptr + 2708112\n",
      "14  libsystem_pthread.dylib             0x00000001877a7c0c _pthread_start + 136\n",
      "15  libsystem_pthread.dylib             0x00000001877a2b80 thread_start + 8\n",
      "\n",
      "Pulling data from: https://agmarknet.gov.in/SearchCmmMkt.aspx?Tx_State=0&Tx_District=0&Tx_Market=0&Tx_Trend=2&DateFrom=01-Aug-2025&DateTo=01-Aug-2025&Fr_Date=01-Aug-2025&To_Date=01-Aug-2025&Tx_CommodityHead=Sajje&Tx_Commodity=271\n",
      "[WARN] 2025-08-01: Message: \n",
      "Stacktrace:\n",
      "0   chromedriver                        0x0000000102a7b26c cxxbridge1$str$ptr + 2741972\n",
      "1   chromedriver                        0x0000000102a731dc cxxbridge1$str$ptr + 2709060\n",
      "2   chromedriver                        0x00000001025bd4fc cxxbridge1$string$len + 90520\n",
      "3   chromedriver                        0x0000000102604a14 cxxbridge1$string$len + 382640\n",
      "4   chromedriver                        0x0000000102645db8 cxxbridge1$string$len + 649812\n",
      "5   chromedriver                        0x00000001025f8d30 cxxbridge1$string$len + 334284\n",
      "6   chromedriver                        0x0000000102a3e66c cxxbridge1$str$ptr + 2493140\n",
      "7   chromedriver                        0x0000000102a418a0 cxxbridge1$str$ptr + 2505992\n",
      "8   chromedriver                        0x0000000102a1f4a4 cxxbridge1$str$ptr + 2365708\n",
      "9   chromedriver                        0x0000000102a4215c cxxbridge1$str$ptr + 2508228\n",
      "10  chromedriver                        0x0000000102a1059c cxxbridge1$str$ptr + 2304516\n",
      "11  chromedriver                        0x0000000102a61c78 cxxbridge1$str$ptr + 2638048\n",
      "12  chromedriver                        0x0000000102a61e04 cxxbridge1$str$ptr + 2638444\n",
      "13  chromedriver                        0x0000000102a72e28 cxxbridge1$str$ptr + 2708112\n",
      "14  libsystem_pthread.dylib             0x00000001877a7c0c _pthread_start + 136\n",
      "15  libsystem_pthread.dylib             0x00000001877a2b80 thread_start + 8\n",
      "\n",
      "Pulling data from: https://agmarknet.gov.in/SearchCmmMkt.aspx?Tx_State=0&Tx_District=0&Tx_Market=0&Tx_Trend=2&DateFrom=01-Aug-2025&DateTo=01-Aug-2025&Fr_Date=01-Aug-2025&To_Date=01-Aug-2025&Tx_CommodityHead=salvia&Tx_Commodity=468\n",
      "[WARN] 2025-08-01: Message: \n",
      "Stacktrace:\n",
      "0   chromedriver                        0x0000000102a7b26c cxxbridge1$str$ptr + 2741972\n",
      "1   chromedriver                        0x0000000102a731dc cxxbridge1$str$ptr + 2709060\n",
      "2   chromedriver                        0x00000001025bd4fc cxxbridge1$string$len + 90520\n",
      "3   chromedriver                        0x0000000102604a14 cxxbridge1$string$len + 382640\n",
      "4   chromedriver                        0x0000000102645db8 cxxbridge1$string$len + 649812\n",
      "5   chromedriver                        0x00000001025f8d30 cxxbridge1$string$len + 334284\n",
      "6   chromedriver                        0x0000000102a3e66c cxxbridge1$str$ptr + 2493140\n",
      "7   chromedriver                        0x0000000102a418a0 cxxbridge1$str$ptr + 2505992\n",
      "8   chromedriver                        0x0000000102a1f4a4 cxxbridge1$str$ptr + 2365708\n",
      "9   chromedriver                        0x0000000102a4215c cxxbridge1$str$ptr + 2508228\n",
      "10  chromedriver                        0x0000000102a1059c cxxbridge1$str$ptr + 2304516\n",
      "11  chromedriver                        0x0000000102a61c78 cxxbridge1$str$ptr + 2638048\n",
      "12  chromedriver                        0x0000000102a61e04 cxxbridge1$str$ptr + 2638444\n",
      "13  chromedriver                        0x0000000102a72e28 cxxbridge1$str$ptr + 2708112\n",
      "14  libsystem_pthread.dylib             0x00000001877a7c0c _pthread_start + 136\n",
      "15  libsystem_pthread.dylib             0x00000001877a2b80 thread_start + 8\n",
      "\n",
      "Pulling data from: https://agmarknet.gov.in/SearchCmmMkt.aspx?Tx_State=0&Tx_District=0&Tx_Market=0&Tx_Trend=2&DateFrom=01-Aug-2025&DateTo=01-Aug-2025&Fr_Date=01-Aug-2025&To_Date=01-Aug-2025&Tx_CommodityHead=Same%2FSavi&Tx_Commodity=122\n",
      "[WARN] 2025-08-01: Message: \n",
      "Stacktrace:\n",
      "0   chromedriver                        0x0000000102a7b26c cxxbridge1$str$ptr + 2741972\n",
      "1   chromedriver                        0x0000000102a731dc cxxbridge1$str$ptr + 2709060\n",
      "2   chromedriver                        0x00000001025bd4fc cxxbridge1$string$len + 90520\n",
      "3   chromedriver                        0x0000000102604a14 cxxbridge1$string$len + 382640\n",
      "4   chromedriver                        0x0000000102645db8 cxxbridge1$string$len + 649812\n",
      "5   chromedriver                        0x00000001025f8d30 cxxbridge1$string$len + 334284\n",
      "6   chromedriver                        0x0000000102a3e66c cxxbridge1$str$ptr + 2493140\n",
      "7   chromedriver                        0x0000000102a418a0 cxxbridge1$str$ptr + 2505992\n",
      "8   chromedriver                        0x0000000102a1f4a4 cxxbridge1$str$ptr + 2365708\n",
      "9   chromedriver                        0x0000000102a4215c cxxbridge1$str$ptr + 2508228\n",
      "10  chromedriver                        0x0000000102a1059c cxxbridge1$str$ptr + 2304516\n",
      "11  chromedriver                        0x0000000102a61c78 cxxbridge1$str$ptr + 2638048\n",
      "12  chromedriver                        0x0000000102a61e04 cxxbridge1$str$ptr + 2638444\n",
      "13  chromedriver                        0x0000000102a72e28 cxxbridge1$str$ptr + 2708112\n",
      "14  libsystem_pthread.dylib             0x00000001877a7c0c _pthread_start + 136\n",
      "15  libsystem_pthread.dylib             0x00000001877a2b80 thread_start + 8\n",
      "\n",
      "Pulling data from: https://agmarknet.gov.in/SearchCmmMkt.aspx?Tx_State=0&Tx_District=0&Tx_Market=0&Tx_Trend=2&DateFrom=01-Aug-2025&DateTo=01-Aug-2025&Fr_Date=01-Aug-2025&To_Date=01-Aug-2025&Tx_CommodityHead=sanay&Tx_Commodity=433\n",
      "[WARN] 2025-08-01: Message: \n",
      "Stacktrace:\n",
      "0   chromedriver                        0x0000000102a7b26c cxxbridge1$str$ptr + 2741972\n",
      "1   chromedriver                        0x0000000102a731dc cxxbridge1$str$ptr + 2709060\n",
      "2   chromedriver                        0x00000001025bd4fc cxxbridge1$string$len + 90520\n",
      "3   chromedriver                        0x0000000102604a14 cxxbridge1$string$len + 382640\n",
      "4   chromedriver                        0x0000000102645db8 cxxbridge1$string$len + 649812\n",
      "5   chromedriver                        0x00000001025f8d30 cxxbridge1$string$len + 334284\n",
      "6   chromedriver                        0x0000000102a3e66c cxxbridge1$str$ptr + 2493140\n",
      "7   chromedriver                        0x0000000102a418a0 cxxbridge1$str$ptr + 2505992\n",
      "8   chromedriver                        0x0000000102a1f4a4 cxxbridge1$str$ptr + 2365708\n",
      "9   chromedriver                        0x0000000102a4215c cxxbridge1$str$ptr + 2508228\n",
      "10  chromedriver                        0x0000000102a1059c cxxbridge1$str$ptr + 2304516\n",
      "11  chromedriver                        0x0000000102a61c78 cxxbridge1$str$ptr + 2638048\n",
      "12  chromedriver                        0x0000000102a61e04 cxxbridge1$str$ptr + 2638444\n",
      "13  chromedriver                        0x0000000102a72e28 cxxbridge1$str$ptr + 2708112\n",
      "14  libsystem_pthread.dylib             0x00000001877a7c0c _pthread_start + 136\n",
      "15  libsystem_pthread.dylib             0x00000001877a2b80 thread_start + 8\n",
      "\n",
      "Pulling data from: https://agmarknet.gov.in/SearchCmmMkt.aspx?Tx_State=0&Tx_District=0&Tx_Market=0&Tx_Trend=2&DateFrom=01-Aug-2025&DateTo=01-Aug-2025&Fr_Date=01-Aug-2025&To_Date=01-Aug-2025&Tx_CommodityHead=Sandalwood&Tx_Commodity=450\n",
      "[WARN] 2025-08-01: Message: \n",
      "Stacktrace:\n",
      "0   chromedriver                        0x0000000102a7b26c cxxbridge1$str$ptr + 2741972\n",
      "1   chromedriver                        0x0000000102a731dc cxxbridge1$str$ptr + 2709060\n",
      "2   chromedriver                        0x00000001025bd4fc cxxbridge1$string$len + 90520\n",
      "3   chromedriver                        0x0000000102604a14 cxxbridge1$string$len + 382640\n",
      "4   chromedriver                        0x0000000102645db8 cxxbridge1$string$len + 649812\n",
      "5   chromedriver                        0x00000001025f8d30 cxxbridge1$string$len + 334284\n",
      "6   chromedriver                        0x0000000102a3e66c cxxbridge1$str$ptr + 2493140\n",
      "7   chromedriver                        0x0000000102a418a0 cxxbridge1$str$ptr + 2505992\n",
      "8   chromedriver                        0x0000000102a1f4a4 cxxbridge1$str$ptr + 2365708\n",
      "9   chromedriver                        0x0000000102a4215c cxxbridge1$str$ptr + 2508228\n",
      "10  chromedriver                        0x0000000102a1059c cxxbridge1$str$ptr + 2304516\n",
      "11  chromedriver                        0x0000000102a61c78 cxxbridge1$str$ptr + 2638048\n",
      "12  chromedriver                        0x0000000102a61e04 cxxbridge1$str$ptr + 2638444\n",
      "13  chromedriver                        0x0000000102a72e28 cxxbridge1$str$ptr + 2708112\n",
      "14  libsystem_pthread.dylib             0x00000001877a7c0c _pthread_start + 136\n",
      "15  libsystem_pthread.dylib             0x00000001877a2b80 thread_start + 8\n",
      "\n",
      "Pulling data from: https://agmarknet.gov.in/SearchCmmMkt.aspx?Tx_State=0&Tx_District=0&Tx_Market=0&Tx_Trend=2&DateFrom=01-Aug-2025&DateTo=01-Aug-2025&Fr_Date=01-Aug-2025&To_Date=01-Aug-2025&Tx_CommodityHead=Sarasum&Tx_Commodity=247\n",
      "[WARN] 2025-08-01: Message: \n",
      "Stacktrace:\n",
      "0   chromedriver                        0x0000000102a7b26c cxxbridge1$str$ptr + 2741972\n",
      "1   chromedriver                        0x0000000102a731dc cxxbridge1$str$ptr + 2709060\n",
      "2   chromedriver                        0x00000001025bd4fc cxxbridge1$string$len + 90520\n",
      "3   chromedriver                        0x0000000102604a14 cxxbridge1$string$len + 382640\n",
      "4   chromedriver                        0x0000000102645db8 cxxbridge1$string$len + 649812\n",
      "5   chromedriver                        0x00000001025f8d30 cxxbridge1$string$len + 334284\n",
      "6   chromedriver                        0x0000000102a3e66c cxxbridge1$str$ptr + 2493140\n",
      "7   chromedriver                        0x0000000102a418a0 cxxbridge1$str$ptr + 2505992\n",
      "8   chromedriver                        0x0000000102a1f4a4 cxxbridge1$str$ptr + 2365708\n",
      "9   chromedriver                        0x0000000102a4215c cxxbridge1$str$ptr + 2508228\n",
      "10  chromedriver                        0x0000000102a1059c cxxbridge1$str$ptr + 2304516\n",
      "11  chromedriver                        0x0000000102a61c78 cxxbridge1$str$ptr + 2638048\n",
      "12  chromedriver                        0x0000000102a61e04 cxxbridge1$str$ptr + 2638444\n",
      "13  chromedriver                        0x0000000102a72e28 cxxbridge1$str$ptr + 2708112\n",
      "14  libsystem_pthread.dylib             0x00000001877a7c0c _pthread_start + 136\n",
      "15  libsystem_pthread.dylib             0x00000001877a2b80 thread_start + 8\n",
      "\n",
      "Pulling data from: https://agmarknet.gov.in/SearchCmmMkt.aspx?Tx_State=0&Tx_District=0&Tx_Market=0&Tx_Trend=2&DateFrom=01-Aug-2025&DateTo=01-Aug-2025&Fr_Date=01-Aug-2025&To_Date=01-Aug-2025&Tx_CommodityHead=Season+Leaves&Tx_Commodity=277\n"
     ]
    },
    {
     "name": "stderr",
     "output_type": "stream",
     "text": [
      "/var/folders/jb/zy_516ps25g392kqdzfs61640000gn/T/ipykernel_78044/1959355148.py:16: FutureWarning: Passing literal html to 'read_html' is deprecated and will be removed in a future version. To read from a literal string, wrap it in a 'StringIO' object.\n",
      "  df = pd.read_html(table_html)[0]\n"
     ]
    },
    {
     "name": "stdout",
     "output_type": "stream",
     "text": [
      "Pulled data:  (1, 12)\n",
      "Pulling data from: https://agmarknet.gov.in/SearchCmmMkt.aspx?Tx_State=0&Tx_District=0&Tx_Market=0&Tx_Trend=2&DateFrom=01-Aug-2025&DateTo=01-Aug-2025&Fr_Date=01-Aug-2025&To_Date=01-Aug-2025&Tx_CommodityHead=Seegu&Tx_Commodity=253\n",
      "[WARN] 2025-08-01: Message: \n",
      "Stacktrace:\n",
      "0   chromedriver                        0x0000000102a7b26c cxxbridge1$str$ptr + 2741972\n",
      "1   chromedriver                        0x0000000102a731dc cxxbridge1$str$ptr + 2709060\n",
      "2   chromedriver                        0x00000001025bd4fc cxxbridge1$string$len + 90520\n",
      "3   chromedriver                        0x0000000102604a14 cxxbridge1$string$len + 382640\n",
      "4   chromedriver                        0x0000000102645db8 cxxbridge1$string$len + 649812\n",
      "5   chromedriver                        0x00000001025f8d30 cxxbridge1$string$len + 334284\n",
      "6   chromedriver                        0x0000000102a3e66c cxxbridge1$str$ptr + 2493140\n",
      "7   chromedriver                        0x0000000102a418a0 cxxbridge1$str$ptr + 2505992\n",
      "8   chromedriver                        0x0000000102a1f4a4 cxxbridge1$str$ptr + 2365708\n",
      "9   chromedriver                        0x0000000102a4215c cxxbridge1$str$ptr + 2508228\n",
      "10  chromedriver                        0x0000000102a1059c cxxbridge1$str$ptr + 2304516\n",
      "11  chromedriver                        0x0000000102a61c78 cxxbridge1$str$ptr + 2638048\n",
      "12  chromedriver                        0x0000000102a61e04 cxxbridge1$str$ptr + 2638444\n",
      "13  chromedriver                        0x0000000102a72e28 cxxbridge1$str$ptr + 2708112\n",
      "14  libsystem_pthread.dylib             0x00000001877a7c0c _pthread_start + 136\n",
      "15  libsystem_pthread.dylib             0x00000001877a2b80 thread_start + 8\n",
      "\n",
      "Pulling data from: https://agmarknet.gov.in/SearchCmmMkt.aspx?Tx_State=0&Tx_District=0&Tx_Market=0&Tx_Trend=2&DateFrom=01-Aug-2025&DateTo=01-Aug-2025&Fr_Date=01-Aug-2025&To_Date=01-Aug-2025&Tx_CommodityHead=Seemebadnekai&Tx_Commodity=176\n"
     ]
    },
    {
     "name": "stderr",
     "output_type": "stream",
     "text": [
      "/var/folders/jb/zy_516ps25g392kqdzfs61640000gn/T/ipykernel_78044/1959355148.py:16: FutureWarning: Passing literal html to 'read_html' is deprecated and will be removed in a future version. To read from a literal string, wrap it in a 'StringIO' object.\n",
      "  df = pd.read_html(table_html)[0]\n"
     ]
    },
    {
     "name": "stdout",
     "output_type": "stream",
     "text": [
      "Pulled data:  (3, 12)\n",
      "Pulling data from: https://agmarknet.gov.in/SearchCmmMkt.aspx?Tx_State=0&Tx_District=0&Tx_Market=0&Tx_Trend=2&DateFrom=01-Aug-2025&DateTo=01-Aug-2025&Fr_Date=01-Aug-2025&To_Date=01-Aug-2025&Tx_CommodityHead=Seetapal&Tx_Commodity=201\n"
     ]
    },
    {
     "name": "stderr",
     "output_type": "stream",
     "text": [
      "/var/folders/jb/zy_516ps25g392kqdzfs61640000gn/T/ipykernel_78044/1959355148.py:16: FutureWarning: Passing literal html to 'read_html' is deprecated and will be removed in a future version. To read from a literal string, wrap it in a 'StringIO' object.\n",
      "  df = pd.read_html(table_html)[0]\n"
     ]
    },
    {
     "name": "stdout",
     "output_type": "stream",
     "text": [
      "Pulled data:  (5, 12)\n",
      "Pulling data from: https://agmarknet.gov.in/SearchCmmMkt.aspx?Tx_State=0&Tx_District=0&Tx_Market=0&Tx_Trend=2&DateFrom=01-Aug-2025&DateTo=01-Aug-2025&Fr_Date=01-Aug-2025&To_Date=01-Aug-2025&Tx_CommodityHead=Sesamum%28Sesame%2CGingelly%2CTil%29&Tx_Commodity=11\n"
     ]
    },
    {
     "name": "stderr",
     "output_type": "stream",
     "text": [
      "/var/folders/jb/zy_516ps25g392kqdzfs61640000gn/T/ipykernel_78044/1959355148.py:16: FutureWarning: Passing literal html to 'read_html' is deprecated and will be removed in a future version. To read from a literal string, wrap it in a 'StringIO' object.\n",
      "  df = pd.read_html(table_html)[0]\n"
     ]
    },
    {
     "name": "stdout",
     "output_type": "stream",
     "text": [
      "Pulled data:  (74, 12)\n",
      "Pulling data from: https://agmarknet.gov.in/SearchCmmMkt.aspx?Tx_State=0&Tx_District=0&Tx_Market=0&Tx_Trend=2&DateFrom=01-Aug-2025&DateTo=01-Aug-2025&Fr_Date=01-Aug-2025&To_Date=01-Aug-2025&Tx_CommodityHead=sevanti&Tx_Commodity=464\n"
     ]
    }
   ],
   "source": [
    "iterate_commodity_and_scrape(date_str, date_str)"
   ]
  },
  {
   "cell_type": "code",
   "execution_count": 16,
   "id": "478439ec-32c4-42c4-b768-6c00feb44ad3",
   "metadata": {},
   "outputs": [
    {
     "ename": "NameError",
     "evalue": "name 'dstart' is not defined",
     "output_type": "error",
     "traceback": [
      "\u001b[0;31m---------------------------------------------------------------------------\u001b[0m",
      "\u001b[0;31mNameError\u001b[0m                                 Traceback (most recent call last)",
      "Cell \u001b[0;32mIn[16], line 1\u001b[0m\n\u001b[0;32m----> 1\u001b[0m df \u001b[38;5;241m=\u001b[39m iterate_date_and_scrape(\u001b[43mdstart\u001b[49m, end, base_dir)\n",
      "\u001b[0;31mNameError\u001b[0m: name 'dstart' is not defined"
     ]
    }
   ],
   "source": [
    "df = iterate_date_and_scrape(start, end, base_dir)"
   ]
  },
  {
   "cell_type": "code",
   "execution_count": null,
   "id": "48ae3c63-ebec-41ec-8810-50bd60899884",
   "metadata": {},
   "outputs": [],
   "source": [
    "!pip install webdriver_manager"
   ]
  }
 ],
 "metadata": {
  "kernelspec": {
   "display_name": "Python 3 (ipykernel)",
   "language": "python",
   "name": "python3"
  },
  "language_info": {
   "codemirror_mode": {
    "name": "ipython",
    "version": 3
   },
   "file_extension": ".py",
   "mimetype": "text/x-python",
   "name": "python",
   "nbconvert_exporter": "python",
   "pygments_lexer": "ipython3",
   "version": "3.10.18"
  }
 },
 "nbformat": 4,
 "nbformat_minor": 5
}
