{
 "cells": [
  {
   "cell_type": "code",
   "execution_count": 1,
   "id": "6406b042-f893-4374-b33a-621a87b8c699",
   "metadata": {},
   "outputs": [],
   "source": [
    "import os\n",
    "import time\n",
    "import json\n",
    "import requests\n",
    "from typing import Dict, Any, List, Optional"
   ]
  },
  {
   "cell_type": "code",
   "execution_count": 2,
   "id": "70a800a2-fa8e-4184-886c-b5cf5d87bc08",
   "metadata": {},
   "outputs": [],
   "source": [
    "locationiq_token = \"pk.787388e33aac1f0c4ced6650d7a7e89d\""
   ]
  },
  {
   "cell_type": "code",
   "execution_count": null,
   "id": "607ad7c1-7bd2-4cad-b2e9-95b6de30a506",
   "metadata": {},
   "outputs": [],
   "source": [
    "def load_jsonl(file_path):\n",
    "    \"\"\"Load a JSONL file and return a list of locations (strings).\"\"\"\n",
    "    locations = []\n",
    "    with open(file_path, \"r\", encoding=\"utf-8\") as f:\n",
    "        for line in f:\n",
    "            if line.strip():  # skip empty lines\n",
    "                obj = json.loads(line)\n",
    "                locations.append(obj)\n",
    "    return locations"
   ]
  },
  {
   "cell_type": "code",
   "execution_count": 4,
   "id": "dbb03d75-4502-464c-a8a1-6634f7fa0f4f",
   "metadata": {},
   "outputs": [],
   "source": [
    "def save_jsonl(data, file_path):\n",
    "    \"\"\"Save a list of dicts to JSONL.\"\"\"\n",
    "    with open(file_path, \"w\", encoding=\"utf-8\") as f:\n",
    "        for obj in data:\n",
    "            f.write(json.dumps(obj, ensure_ascii=False) + \"\\n\")\n"
   ]
  },
  {
   "cell_type": "code",
   "execution_count": 5,
   "id": "886ce575-3514-4265-89c6-269f4a46e62d",
   "metadata": {},
   "outputs": [],
   "source": [
    "def build_name_query(rec: Dict[str, Any]) -> str:\n",
    "    \"\"\"\n",
    "    Build a geocoding query string.\n",
    "    Adjust keys as needed; we default to 'name' if present.\n",
    "    \"\"\"\n",
    "    \n",
    "    parts = [\n",
    "        rec.get(\"market_name\") or rec.get(\"apmc_name\") or \"\",\n",
    "        rec.get(\"district_name\", \"\"),\n",
    "        rec.get(\"state_name\", \"\")\n",
    "    ]\n",
    "    base = \" \".join(p for p in parts if p).strip()\n",
    "\n",
    "    # Bias to India by adding the country token\n",
    "    if base and \"india\" not in base.lower():\n",
    "        base = f\"{base} India\"\n",
    "    return base"
   ]
  },
  {
   "cell_type": "code",
   "execution_count": 6,
   "id": "a9db694c-62d4-4aaf-b70d-3477b9465dd4",
   "metadata": {},
   "outputs": [],
   "source": [
    "def build_district_query(rec: Dict[str, Any]) -> Optional[str]:\n",
    "    \"\"\"\n",
    "    Fallback query focusing on district + state (admin level).\n",
    "    \"\"\"\n",
    "    dist = (rec.get(\"district_name\") or \"\").strip()\n",
    "    state = (rec.get(\"state_name\") or \"\").strip()\n",
    "    if not dist and not state:\n",
    "        return None\n",
    "    base = \" \".join(p for p in [dist, state, \"India\"] if p)\n",
    "    return base if base else None"
   ]
  },
  {
   "cell_type": "code",
   "execution_count": 7,
   "id": "754f88ad-e51b-4c24-9343-a6a36400cf55",
   "metadata": {},
   "outputs": [],
   "source": [
    "def fetch_locationiq(q, api_key, retries=3, sleep_s=0.6):\n",
    "    url = \"https://us1.locationiq.com/v1/search\"\n",
    "    params = {\n",
    "        \"key\": api_key,\n",
    "        \"q\": q,\n",
    "        \"format\": \"json\",\n",
    "        \"normalizecity\": 1,\n",
    "        \"addressdetails\": 1,\n",
    "        \"limit\": 5,\n",
    "        \"countrycodes\": \"in\",\n",
    "        \"accept-language\": \"en\"\n",
    "    }\n",
    "    for attempt in range(retries):\n",
    "        try:\n",
    "            r = requests.get(url, params=params, timeout=20)\n",
    "            r.raise_for_status()\n",
    "            return r.json()\n",
    "        except requests.RequestException:\n",
    "            if attempt == retries - 1:\n",
    "                return []\n",
    "            time.sleep(sleep_s * (attempt + 1))\n",
    "    return []"
   ]
  },
  {
   "cell_type": "code",
   "execution_count": 8,
   "id": "6e05a9d3-07dd-409e-a772-fadd27e02f7e",
   "metadata": {},
   "outputs": [],
   "source": [
    "def select_best(results):\n",
    "    if not results:\n",
    "        return None\n",
    "    # Prefer IN, then highest importance\n",
    "    ranked = []\n",
    "    for item in results:\n",
    "        addr = item.get(\"address\", {}) or {}\n",
    "        cc = (addr.get(\"country_code\") or \"\").lower()\n",
    "        imp = item.get(\"importance\", 0) or 0\n",
    "        ranked.append((cc == \"in\", imp, item))\n",
    "    ranked.sort(key=lambda t: (t[0], t[1]), reverse=True)\n",
    "    best = ranked[0][2]\n",
    "    return {\n",
    "        \"resolved_name\": best.get(\"display_name\"),\n",
    "        \"latitude\": float(best.get(\"lat\")) if best.get(\"lat\") else None,\n",
    "        \"longitude\": float(best.get(\"lon\")) if best.get(\"lon\") else None,\n",
    "        \"country_code\": (best.get(\"address\", {}).get(\"country_code\") or \"\").upper(),\n",
    "        \"place_class\": best.get(\"class\"),\n",
    "        \"place_type\": best.get(\"type\"),\n",
    "        \"importance\": best.get(\"importance\"),\n",
    "        \"source\": \"locationiq\"\n",
    "    }"
   ]
  },
  {
   "cell_type": "code",
   "execution_count": 9,
   "id": "95029bcf-f752-4629-95ab-65f80ee18a6e",
   "metadata": {},
   "outputs": [],
   "source": [
    "def resolve_by_name(rec: Dict[str, Any], api_key: str) -> Optional[Dict[str, Any]]:\n",
    "    q = build_name_query(rec)\n",
    "    results = fetch_locationiq(q, api_key=api_key)\n",
    "    return select_best(results)"
   ]
  },
  {
   "cell_type": "code",
   "execution_count": 10,
   "id": "b28e8ebf-372a-4b1f-9f86-f65cba90bb3b",
   "metadata": {},
   "outputs": [],
   "source": [
    "def resolve_by_district(rec: Dict[str, Any], api_key: str, cache: Dict[str, Dict[str, Any]]) -> Optional[Dict[str, Any]]:\n",
    "    \"\"\"\n",
    "    Fallback: resolve using district+state. Uses a small in-memory cache to avoid\n",
    "    repeating identical district queries.\n",
    "    \"\"\"\n",
    "    q = build_district_query(rec)\n",
    "    if not q:\n",
    "        return None\n",
    "    if q in cache:\n",
    "        return cache[q]\n",
    "    results = fetch_locationiq(q, api_key=api_key)\n",
    "    best = select_best(results)\n",
    "    cache[q] = best\n",
    "    return best"
   ]
  },
  {
   "cell_type": "code",
   "execution_count": null,
   "id": "371f5365-0666-4fff-96ea-49f7043dab15",
   "metadata": {},
   "outputs": [],
   "source": [
    "input_file = \"mandies.jsonl\"\n",
    "output_file = \"mandies_20250907.jsonl\"\n",
    "locations = load_jsonl(input_file)\n",
    "district_cache: Dict[str, Dict[str, Any]] = {}\n",
    "api_key = locationiq_token\n",
    "for loc in locations:\n",
    "    print(f\"Processing {loc['market_name']} {loc['state_name']}\")\n",
    "    best = resolve_by_name(loc, api_key=api_key)\n",
    "    strategy = \"name\"\n",
    "    # print(best)\n",
    "    if not best or not best.get(\"latitude\") or not best.get(\"longitude\"):\n",
    "        district_best = resolve_by_district(loc, api_key=api_key, cache=district_cache)\n",
    "        if district_best:\n",
    "            best = district_best\n",
    "            strategy = \"district\"\n",
    "            if best:\n",
    "                loc.update(best)\n",
    "                loc[\"resolution_strategy\"] = strategy\n",
    "            else:\n",
    "                print(f\"Unable to resolve >>>>>>>>>> {loc}\")\n",
    "    else:\n",
    "        loc.update(best)\n",
    "        loc[\"resolution_strategy\"] = strategy\n",
    "    \n",
    "    # input(\"...\")\n",
    "save_jsonl(locations, output_file)\n",
    "print(f\"Enriched file saved to {output_file}\")"
   ]
  },
  {
   "cell_type": "code",
   "execution_count": null,
   "id": "5459fc9e-c197-4ff6-8fa5-610475a74505",
   "metadata": {},
   "outputs": [],
   "source": [
    "input_file = \"apmcs.jsonl\"\n",
    "output_file = \"apmcs_20250907.jsonl\"\n",
    "locations = load_jsonl(input_file)\n",
    "district_cache: Dict[str, Dict[str, Any]] = {}\n",
    "api_key = locationiq_token\n",
    "for loc in locations:\n",
    "    print(f\"Processing {loc['apmc_name']} {loc['state_name']}\")\n",
    "    best = resolve_by_name(loc, api_key=api_key)\n",
    "    strategy = \"name\"\n",
    "    # print(best)\n",
    "    if not best or not best.get(\"latitude\") or not best.get(\"longitude\"):\n",
    "        district_best = resolve_by_district(loc, api_key=api_key, cache=district_cache)\n",
    "        if district_best:\n",
    "            best = district_best\n",
    "            strategy = \"district\"\n",
    "            if best:\n",
    "                loc.update(best)\n",
    "                loc[\"resolution_strategy\"] = strategy\n",
    "            else:\n",
    "                print(f\"Unable to resolve >>>>>>>>>> {loc}\")\n",
    "    else:\n",
    "        loc.update(best)\n",
    "        loc[\"resolution_strategy\"] = strategy\n",
    "    \n",
    "    # input(\"...\")\n",
    "save_jsonl(locations, output_file)\n",
    "print(f\"Enriched file saved to {output_file}\")"
   ]
  },
  {
   "cell_type": "code",
   "execution_count": null,
   "id": "b47314b6-7f76-48f3-974e-ea56e2ea38dc",
   "metadata": {},
   "outputs": [],
   "source": []
  }
 ],
 "metadata": {
  "kernelspec": {
   "display_name": "Python 3 (ipykernel)",
   "language": "python",
   "name": "python3"
  },
  "language_info": {
   "codemirror_mode": {
    "name": "ipython",
    "version": 3
   },
   "file_extension": ".py",
   "mimetype": "text/x-python",
   "name": "python",
   "nbconvert_exporter": "python",
   "pygments_lexer": "ipython3",
   "version": "3.10.18"
  }
 },
 "nbformat": 4,
 "nbformat_minor": 5
}
