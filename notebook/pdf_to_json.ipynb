{
 "cells": [
  {
   "cell_type": "code",
   "execution_count": 14,
   "id": "d6d4f7eb-059e-4d5b-ba8d-3fac7fde9125",
   "metadata": {},
   "outputs": [],
   "source": [
    "# pip install pdfplumber pandas python-dateutil\n",
    "import pdfplumber, re, json, os\n",
    "import pandas as pd\n",
    "from dateutil import parser as dateparser\n",
    "from glob import glob\n",
    "from IPython.display import clear_output"
   ]
  },
  {
   "cell_type": "code",
   "execution_count": 2,
   "id": "8a9ae65b-79f3-48b3-b0a8-bd45ae473a07",
   "metadata": {},
   "outputs": [],
   "source": [
    "def clean_cell(x:str) -> str:\n",
    "    if x is None: return \"\"\n",
    "    x = re.sub(r\"\\s+\", \" \", str(x).strip())\n",
    "    return x.replace(r\"\\u00b0C\", \"°C\").replace(\"° C\", \"°C\")\n"
   ]
  },
  {
   "cell_type": "code",
   "execution_count": 3,
   "id": "619cb6b9-40f0-4fa3-a53f-5545e68c7532",
   "metadata": {},
   "outputs": [],
   "source": [
    "CANON = {\n",
    "    \"date\": [\"date\", \"date (y-m-d)\", \"dt\"],\n",
    "    \"rainfall\": [\"rainfall\", \"rainfall (mm)\", \"rain (mm)\", \"rf\"],\n",
    "    \"tmax\": [\"tmax\", \"t max\", \"max temp\", \"maximum temp\", \"tmax (°c)\", \"tmax (c)\"],\n",
    "    \"tmin\": [\"tmin\", \"t min\", \"min temp\", \"minimum temp\", \"tmin (°c)\", \"tmin (c)\"],\n",
    "    \"rh i\": [\"rh i\", \"rh1\", \"rh-i\", \"rh morning\", \"rh i (%)\"],\n",
    "    \"rh ii\": [\"rh ii\", \"rh2\", \"rh-ii\", \"rh evening\", \"rh ii (%)\"],\n",
    "    \"wind speed\": [\"wind speed\", \"wind (kmph)\", \"wnd spd\"],\n",
    "    \"wind direction\": [\"wind direction\", \"direction (degree)\", \"degree\"],\n",
    "    \"cloud cover\": [\"cloud cover\", \"cloud (octa)\", \"cloud cover (octa)\"],\n",
    "    \"warnings\": [\"warnings\", \"warning\", \"remarks\", \"note\"],\n",
    "}"
   ]
  },
  {
   "cell_type": "code",
   "execution_count": 4,
   "id": "e6617165-acd4-4cf4-8f74-70f77f32833d",
   "metadata": {},
   "outputs": [],
   "source": [
    "def canonize(h: str) -> str:\n",
    "    h0 = clean_cell(h).lower()\n",
    "    h0 = re.sub(r\"[^a-z0-9 %°()-]\", \" \", h0)\n",
    "    h0 = re.sub(r\"\\s+\", \" \", h0).strip()\n",
    "    for k, alist in CANON.items():\n",
    "        if h0 in [re.sub(r\"[^a-z0-9 %°()-]\", \" \", a) for a in alist]: return k\n",
    "    if \"rain\" in h0: return \"rainfall\"\n",
    "    if (\"max\" in h0 and \"temp\" in h0) or \"tmax\" in h0: return \"tmax\"\n",
    "    if (\"min\" in h0 and \"temp\" in h0) or \"tmin\" in h0: return \"tmin\"\n",
    "    if h0.startswith(\"date\"): return \"date\"\n",
    "    if \"wind\" in h0 and \"speed\" in h0: return \"wind speed\"\n",
    "    if \"wind\" in h0 and (\"dir\" in h0 or \"degree\" in h0): return \"wind direction\"\n",
    "    if \"cloud\" in h0: return \"cloud cover\"\n",
    "    if \"warn\" in h0 or \"remark\" in h0 or \"note\" in h0: return \"warnings\"\n",
    "    return h0 or \"col\""
   ]
  },
  {
   "cell_type": "code",
   "execution_count": 5,
   "id": "edb0c229-42df-4afd-a053-0790112fd3d7",
   "metadata": {},
   "outputs": [],
   "source": [
    "def parse_date(val):\n",
    "    s = clean_cell(val)\n",
    "    if not s: return pd.NaT\n",
    "    # common bulletins: dd-mm-yyyy / dd/mm/yyyy\n",
    "    for fmt in (\"%d-%m-%Y\", \"%d/%m/%Y\", \"%Y-%m-%d\"):\n",
    "        try: return pd.to_datetime(s, format=fmt)\n",
    "        except: pass\n",
    "    try: return pd.to_datetime(dateparser.parse(s, dayfirst=True))\n",
    "    except: return pd.NaT"
   ]
  },
  {
   "cell_type": "code",
   "execution_count": 6,
   "id": "e95cf7ac-0ed2-42f4-8718-923e87fb4f29",
   "metadata": {},
   "outputs": [],
   "source": [
    "def parse_num(val):\n",
    "    s = clean_cell(val)\n",
    "    m = re.search(r\"-?\\d+(?:\\.\\d+)?\", s)\n",
    "    return float(m.group(0)) if m else None"
   ]
  },
  {
   "cell_type": "code",
   "execution_count": 7,
   "id": "f20e8a43-444d-426b-befd-daece2262064",
   "metadata": {},
   "outputs": [],
   "source": [
    "def looks_like_weather(cols):\n",
    "    c = [x.lower() for x in cols]\n",
    "    have_date = any(x.startswith(\"date\") for x in c)\n",
    "    have_rain = any(\"rain\" in x for x in c)\n",
    "    have_temp = any((\"tmax\" in x) or (\"tmin\" in x) or (\"temp\" in x) for x in c)\n",
    "    return have_date and have_rain and have_temp"
   ]
  },
  {
   "cell_type": "code",
   "execution_count": 8,
   "id": "b75ec48e-c83c-4503-9508-094f10f01c9a",
   "metadata": {},
   "outputs": [],
   "source": [
    "def extract_weather_table(pdf_path: str) -> pd.DataFrame:\n",
    "    if not os.path.exists(pdf_path):\n",
    "        raise FileNotFoundError(pdf_path)\n",
    "\n",
    "    with pdfplumber.open(pdf_path) as pdf:\n",
    "        page = pdf.pages[0]\n",
    "        tables = page.extract_tables()\n",
    "        if not tables:\n",
    "            raise ValueError(\"No tables found on page 1.\")\n",
    "\n",
    "    # pick first weather-like table; else first table\n",
    "    chosen = None\n",
    "    for tbl in tables:\n",
    "        # headers guess = first non-empty row\n",
    "        non_empty = [row for row in tbl if any(clean_cell(c) for c in row)]\n",
    "        if not non_empty: continue\n",
    "        hdr = [clean_cell(c) for c in non_empty[0]]\n",
    "        if looks_like_weather(hdr):\n",
    "            chosen = tbl\n",
    "            break\n",
    "    if chosen is None:\n",
    "        chosen = tables[0]\n",
    "\n",
    "    # clean rows & derive header\n",
    "    rows = [[clean_cell(c) for c in r] for r in chosen if any(clean_cell(c) for c in r)]\n",
    "    if not rows: raise ValueError(\"Detected table is empty.\")\n",
    "    header = rows[0]\n",
    "    data_rows = rows[1:]\n",
    "\n",
    "    # handle multi-line/merged headers: collapse duplicates & canonize\n",
    "    header = [canonize(h) for h in header]\n",
    "    # pad/truncate rows to header length\n",
    "    width = len(header)\n",
    "    fixed = []\n",
    "    for r in data_rows:\n",
    "        rr = (r + [\"\"] * width)[:width]\n",
    "        fixed.append(rr)\n",
    "\n",
    "    df = pd.DataFrame(fixed, columns=header)\n",
    "\n",
    "    # if header is too generic, force a safe minimal schema if present\n",
    "    wanted = [\"date\",\"rainfall\",\"tmax\",\"tmin\",\"rh i\",\"rh ii\",\"wind speed\",\"wind direction\",\"cloud cover\",\"warnings\"]\n",
    "    # drop all-empty cols; dedupe columns\n",
    "    df = df.dropna(axis=1, how=\"all\")\n",
    "    # re-order if our wanted names exist\n",
    "    present = [c for c in wanted if c in df.columns]\n",
    "    others = [c for c in df.columns if c not in present]\n",
    "    df = df[present + others]\n",
    "\n",
    "    # type parsing\n",
    "    if \"date\" in df.columns: df[\"date\"] = df[\"date\"].apply(parse_date)\n",
    "    for c in [\"rainfall\",\"tmax\",\"tmin\",\"rh i\",\"rh ii\",\"wind speed\",\"wind direction\",\"cloud cover\"]:\n",
    "        if c in df.columns:\n",
    "            df[c] = df[c].apply(parse_num)\n",
    "\n",
    "    # remove empty rows\n",
    "    df = df.dropna(how=\"all\").reset_index(drop=True)\n",
    "    return df"
   ]
  },
  {
   "cell_type": "code",
   "execution_count": 9,
   "id": "a789a313-e70a-4fa3-8bbf-6a683270f942",
   "metadata": {},
   "outputs": [],
   "source": [
    "def list_pdfs(folder: str, recursive: bool = False):\n",
    "    pattern = \"**/*.pdf\" if recursive else \"*.pdf\"\n",
    "    return sorted(glob(os.path.join(folder, pattern), recursive=recursive))"
   ]
  },
  {
   "cell_type": "code",
   "execution_count": 10,
   "id": "0a90476c-b39d-4ada-a05b-c06f2eaaedb8",
   "metadata": {},
   "outputs": [],
   "source": [
    "pdf_path = \"/Users/m/Sites/kkuvam.github/crop-ai/data/mausam/2025/Aug/Andhra_Pradesh\""
   ]
  },
  {
   "cell_type": "code",
   "execution_count": 11,
   "id": "54560cf5-8a5b-4d15-8506-bd5d7288365d",
   "metadata": {},
   "outputs": [],
   "source": [
    "pdfs = list_pdfs(pdf_path)"
   ]
  },
  {
   "cell_type": "code",
   "execution_count": null,
   "id": "0db9b70c-bfd2-4b02-9fbf-467e245aabfa",
   "metadata": {},
   "outputs": [
    {
     "name": "stdout",
     "output_type": "stream",
     "text": [
      "Processing /Users/m/Sites/kkuvam.github/crop-ai/data/mausam/2025/Aug/Andhra_Pradesh/andhra_pradesh_east_godavari_2025-08-01.pdf ...\n",
      "Empty DataFrame\n",
      "Columns: []\n",
      "Index: []\n"
     ]
    }
   ],
   "source": [
    "for pdf in pdfs:\n",
    "    print(f\"Processing {pdf} ...\")\n",
    "    df = extract_weather_table(pdf)\n",
    "    print(df)\n",
    "    input(\"...\")\n",
    "    clear_output(wait=True)\n",
    "    "
   ]
  },
  {
   "cell_type": "code",
   "execution_count": null,
   "id": "7a835041-ee6f-4ce9-af2c-b40f9a510e56",
   "metadata": {},
   "outputs": [],
   "source": []
  }
 ],
 "metadata": {
  "kernelspec": {
   "display_name": "Python 3 (ipykernel)",
   "language": "python",
   "name": "python3"
  },
  "language_info": {
   "codemirror_mode": {
    "name": "ipython",
    "version": 3
   },
   "file_extension": ".py",
   "mimetype": "text/x-python",
   "name": "python",
   "nbconvert_exporter": "python",
   "pygments_lexer": "ipython3",
   "version": "3.10.18"
  }
 },
 "nbformat": 4,
 "nbformat_minor": 5
}
