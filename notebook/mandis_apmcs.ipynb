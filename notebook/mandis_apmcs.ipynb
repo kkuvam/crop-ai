{
 "cells": [
  {
   "cell_type": "code",
   "execution_count": null,
   "id": "95af7afd-d742-46e8-893b-1a8ccf416044",
   "metadata": {},
   "outputs": [],
   "source": [
    "import os\n",
    "import gzip\n",
    "import json\n",
    "import requests\n",
    "from typing import List, Dict, Any"
   ]
  },
  {
   "cell_type": "markdown",
   "id": "abc754b2-7211-4216-9563-f796ed2089f0",
   "metadata": {},
   "source": [
    "# AGMARKNET"
   ]
  },
  {
   "cell_type": "code",
   "execution_count": 2,
   "id": "80829aa7-0733-42f7-820f-e4e6801d7054",
   "metadata": {},
   "outputs": [],
   "source": [
    "def list_json_gz_files(root_dir):\n",
    "    files = []\n",
    "    for dirpath, _, filenames in os.walk(root_dir):\n",
    "        for fname in filenames:\n",
    "            if fname.lower().endswith(\".jsonl.gz\"):\n",
    "                files.append(os.path.join(dirpath, fname))\n",
    "    return files"
   ]
  },
  {
   "cell_type": "code",
   "execution_count": 3,
   "id": "2b034e5f-1692-48e1-86f1-6390d2beebe3",
   "metadata": {},
   "outputs": [],
   "source": [
    "def read_jsonl_gz(filepath: str) -> List[Dict[str, Any]]:\n",
    "    \"\"\"Read a .jsonl.gz file and return a list of dicts.\"\"\"\n",
    "    records: List[Dict[str, Any]] = []\n",
    "    with gzip.open(filepath, \"rt\", encoding=\"utf-8\") as f:\n",
    "        for line in f:\n",
    "            line = line.strip()\n",
    "            if not line:\n",
    "                continue\n",
    "            records.append(json.loads(line))\n",
    "    return records"
   ]
  },
  {
   "cell_type": "code",
   "execution_count": 4,
   "id": "27fe41d9-9b5e-4000-8e52-37c4ac7fa283",
   "metadata": {},
   "outputs": [],
   "source": [
    "def collect_unique_locations(files: List[str]) -> List[Dict[str, str]]:\n",
    "    \"\"\"Collect unique {state_name, district_name, market_name} records from files.\"\"\"\n",
    "    unique_list: List[Dict[str, str]] = []\n",
    "    seen = set()\n",
    "\n",
    "    for file in files:\n",
    "        print(f\"Processing file {file}\")\n",
    "        records = read_jsonl_gz(file)\n",
    "        for record in records:\n",
    "            state = record.get(\"state_name\")\n",
    "            district = record.get(\"district_name\")\n",
    "            market = record.get(\"market_name\")\n",
    "\n",
    "            if state and district and market:\n",
    "                key = (state, district, market)\n",
    "                if key not in seen:\n",
    "                    seen.add(key)\n",
    "                    unique_list.append({\n",
    "                        \"state_name\": state,\n",
    "                        \"district_name\": district,\n",
    "                        \"market_name\": market\n",
    "                    })\n",
    "    return unique_list"
   ]
  },
  {
   "cell_type": "code",
   "execution_count": 5,
   "id": "cb40fc4b-5ea3-4fa1-8c59-6df3558960dd",
   "metadata": {},
   "outputs": [],
   "source": [
    "def save_as_jsonl(data, filepath):\n",
    "    \"\"\"Save a list of dicts into a JSONL file.\"\"\"\n",
    "    with open(filepath, \"w\", encoding=\"utf-8\") as f:\n",
    "        for record in data:\n",
    "            f.write(json.dumps(record, ensure_ascii=False) + \"\\n\")"
   ]
  },
  {
   "cell_type": "code",
   "execution_count": 6,
   "id": "16918cc4-8255-4557-a026-d5dc21ec63ec",
   "metadata": {},
   "outputs": [],
   "source": [
    "data_path = \"../data/agmarknet\""
   ]
  },
  {
   "cell_type": "code",
   "execution_count": null,
   "id": "dc184401-844c-4eaa-a527-251e116c2e94",
   "metadata": {},
   "outputs": [],
   "source": [
    "files = list_json_gz_files(data_path)\n",
    "unique_locations = collect_unique_locations(files)\n",
    "print(f\"Total unique locations: {len(unique_locations)}\")\n",
    "print(unique_locations[:5])  # show first 5\n",
    "save_as_jsonl(unique_locations, \"mandies.jsonl\")"
   ]
  },
  {
   "cell_type": "code",
   "execution_count": 9,
   "id": "2cedcacf-53be-4fe6-b9ea-a2010c3aac2a",
   "metadata": {},
   "outputs": [],
   "source": []
  },
  {
   "cell_type": "markdown",
   "id": "6115fcd2-fc79-4b14-b851-ef43035b292d",
   "metadata": {},
   "source": [
    "# ENAM"
   ]
  },
  {
   "cell_type": "code",
   "execution_count": 11,
   "id": "b5c7c460-56c9-4a78-b13d-d2161464eb3a",
   "metadata": {},
   "outputs": [],
   "source": [
    "def get_states():\n",
    "    url = \"https://enam.gov.in/web/ajax_ctrl/states_name\"\n",
    "    response = requests.get(url)\n",
    "    return response.json()"
   ]
  },
  {
   "cell_type": "code",
   "execution_count": 31,
   "id": "2f2704fa-88df-4db2-8c6b-07a88442da98",
   "metadata": {},
   "outputs": [],
   "source": [
    "def get_apmcs():\n",
    "    apmcs = []\n",
    "    url = \"https://enam.gov.in/web/Ajax_ctrl/apmc_list\"\n",
    "    states = get_states()['data']\n",
    "    for state in states:\n",
    "        payload = { 'state_id': state['state_id']}\n",
    "        response = requests.post(url, data=payload)\n",
    "        items = response.json()['data']\n",
    "        for item in items:\n",
    "            item['state_id'] = state['state_id']\n",
    "            item['state_name']= state['state_name']\n",
    "        apmcs.extend(items)       \n",
    "    return apmcs"
   ]
  },
  {
   "cell_type": "code",
   "execution_count": 34,
   "id": "40bfd0f1-ba4e-4ac5-b9bc-754e68cf40b7",
   "metadata": {},
   "outputs": [],
   "source": [
    "apmcs = get_apmcs()\n",
    "save_as_jsonl(apmcs, \"apmcs.jsonl\")"
   ]
  },
  {
   "cell_type": "code",
   "execution_count": null,
   "id": "8ddf4da9-5ff4-46e6-969b-7af48399e3c0",
   "metadata": {},
   "outputs": [],
   "source": []
  }
 ],
 "metadata": {
  "kernelspec": {
   "display_name": "Python 3 (ipykernel)",
   "language": "python",
   "name": "python3"
  },
  "language_info": {
   "codemirror_mode": {
    "name": "ipython",
    "version": 3
   },
   "file_extension": ".py",
   "mimetype": "text/x-python",
   "name": "python",
   "nbconvert_exporter": "python",
   "pygments_lexer": "ipython3",
   "version": "3.10.18"
  }
 },
 "nbformat": 4,
 "nbformat_minor": 5
}
