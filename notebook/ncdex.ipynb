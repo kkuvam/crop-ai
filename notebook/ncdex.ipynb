{
 "cells": [
  {
   "cell_type": "code",
   "execution_count": 1,
   "id": "10ede1b4-1ca0-4ab0-8376-e1cba313c3f1",
   "metadata": {},
   "outputs": [],
   "source": [
    "import requests\n",
    "from datetime import datetime, timedelta\n",
    "from pathlib import Path"
   ]
  },
  {
   "cell_type": "code",
   "execution_count": 14,
   "id": "f73665d0-c0cc-45dd-b61b-92012cc6ad32",
   "metadata": {},
   "outputs": [],
   "source": [
    "headers = {\n",
    "    \"Accept\": \"text/html,application/xhtml+xml,application/xml;q=0.9,image/avif,image/webp,image/apng,*/*;q=0.8,application/signed-exchange;v=b3;q=0.7\",\n",
    "    \"Accept-Encoding\": \"gzip, deflate, br, zstd\",\n",
    "    \"Accept-Language\": \"en-GB,en-US;q=0.9,en;q=0.8\",\n",
    "    \"Connection\": \"keep-alive\",\n",
    "    # Keep a default Cookie here. Individual calls may override it by passing `cookie`.\n",
    "    \"Cookie\": \"_gid=GA1.2.259970603.1761098063; hd_user_https=c8852d319c83724285e92fba54c60d1a3bd74063c57493d4ce49b692f6926883:1761101811544; hd_user_id_https=09e1b4652c9f2197027d4a49d9013e48d53e8c1f9abfc09c269c45914a7f1e87e65560dc0b9cac0d2c1cfd30aeb217e43c009870cec9660d65a4fbfc0703b1f7; hd_device_https=454a1edd34bd77111b1f0a28714077e0f7000920c64a2556802086f3dc2c0842:1fe3b6517d503b4c141733bd679f237f2cacd0674db5681fdd1aa0234c640016; __hd_fingerprint=1847501811636; _ga_9RGBXZFS3X=GS2.1.s1761101812$o2$g1$t1761101831$j41$l0$h0; _ga=GA1.1.1657724508.1761098060; XSRF-TOKEN=eyJpdiI6ImlHODkyYnNWR01TeTJRUTlNYjlqc0E9PSIsInZhbHVlIjoiQ0ZXTHlNOGxiSjJGL0VoZFlibU9QRnpMVkcwVUxTWFJaaW0zRDlNZ3dDU2hTMm5HRDVKNyt4RytZTVBkV25KR00xREFtNkxKSGlSS0s1QmxBOE81aWREWGNIbURxMGJzVnlDa1JPS2oraHJjd0hoK3ByczJxRTlKRXd2TnpHTHUiLCJtYWMiOiI2NGIzYWJjNWMyODg2N2Q5M2MyYTZhNzQ3NDQ4YmVlMzlkZTg0MDkxZjY5MDBiMDY2YzJiYmZhZGQxNDViNzg3IiwidGFnIjoiIn0%3D; ncdex_session=eyJpdiI6InRucVhDbWNDUDYrbXZXdVM2M1pxMlE9PSIsInZhbHVlIjoibXJiMjZQeXBYd2hneUFpRE1iWmMvV1JGZWdDdzB0eS84M1BieVVVZ3dGOHY2TXZCeVRxMm5wSC93RDFiZ2tnRS9aV2dBMnZxTGdYNlo5RTBvSm1YdllIRjBiYWo1eGRJT3RKQnN2T2twRFpZd203cDVaSDFkTEowYVAwWHphK3kiLCJtYWMiOiJiMDgwODA4MGIxYjE5MjZhNzU1ZmYwN2E4MTEwOTU3OGIwYzliYzMzYjEzYjZjMTdkMTFkYWQxNDdmOTI2M2JjIiwidGFnIjoiIn0%3D; _ga_6BC6S1TGL7=GS2.1.s1761101812$o2$g1$t1761102942$j60$l0$h0\",\n",
    "    \"Host\": \"ncdex.com\",\n",
    "    \"Referer\": \"https://ncdex.com/markets/bhavcopy\",\n",
    "    \"User-Agent\": \"Mozilla/5.0 (Macintosh; Intel Mac OS X 10_15_7) AppleWebKit/537.36 (KHTML, like Gecko) Chrome/139.0.0.0 Safari/537.36\",\n",
    "}"
   ]
  },
  {
   "cell_type": "code",
   "execution_count": 3,
   "id": "8ef1a70f-78dd-433a-ac18-28f550edc1f8",
   "metadata": {},
   "outputs": [],
   "source": [
    "_session = requests.Session()\n",
    "THROTTLE_SECONDS = 2"
   ]
  },
  {
   "cell_type": "code",
   "execution_count": 4,
   "id": "92b06e63-ff99-49e9-b0a8-2feac5a8d425",
   "metadata": {},
   "outputs": [],
   "source": [
    "url = \"https://ncdex.com/markets/bhavcopy?file_type_both=final&type_both=bhavcopy&bhavcopy_for=both&filedate_both=01-Aug-2025&format_both=file\""
   ]
  },
  {
   "cell_type": "code",
   "execution_count": 15,
   "id": "16802b1f-b3bc-4d89-9ca5-a5566802497c",
   "metadata": {},
   "outputs": [],
   "source": [
    "def get_bhavcopy(date_str: str, save_path: str):\n",
    "    # Parse input to standard YYYY-MM-DD\n",
    "    dt = datetime.strptime(date_str, \"%d-%b-%Y\")\n",
    "    save_name = dt.strftime(\"%Y-%m-%d\") + \".zip\"\n",
    "    year = dt.strftime(\"%Y\")\n",
    "    month = dt.strftime(\"%b\")\n",
    "    \n",
    "    url = (\n",
    "        \"https://ncdex.com/markets/bhavcopy?\"\n",
    "        f\"file_type_both=final&type_both=bhavcopy&bhavcopy_for=both&filedate_both={date_str}&format_both=file\"\n",
    "    )\n",
    "    \n",
    "    try:\n",
    "        folder = Path(save_path) / year / month\n",
    "        folder.mkdir(parents=True, exist_ok=True)\n",
    "        full_path = folder / save_name\n",
    "        \n",
    "        # Send a GET request to the URL. The 'stream=True' parameter\n",
    "        # is helpful for large files as it avoids loading the entire\n",
    "        # file into memory at once.\n",
    "        print(f\"Downloading bhavcopy for {date_str} -> {save_name}\")\n",
    "        print(url)\n",
    "        with requests.get(url, headers=headers, stream=True) as r:\n",
    "            r.raise_for_status()\n",
    "            with open(full_path, \"wb\") as f:\n",
    "                for chunk in r.iter_content(chunk_size=8192):\n",
    "                    if chunk:  # filter out keep-alive\n",
    "                        f.write(chunk)\n",
    "    \n",
    "    except requests.exceptions.RequestException as e:\n",
    "        print(f\"An error occurred: {e}\")"
   ]
  },
  {
   "cell_type": "code",
   "execution_count": 6,
   "id": "2a422355-4c8c-4425-a9c8-d7026b165130",
   "metadata": {},
   "outputs": [],
   "source": [
    "def get_bhavcopy_range(start_date: str, end_date: str, save_path: str):\n",
    "    \"\"\"\n",
    "    Iterate over dates between start_date and end_date (inclusive),\n",
    "    and call download_bhavcopy for each.\n",
    "    \n",
    "    Args:\n",
    "        start_date (str): \"YYYY-MM-DD\"\n",
    "        end_date   (str): \"YYYY-MM-DD\"\n",
    "        save_path  (str): Base path to save\n",
    "    \"\"\"\n",
    "    start = datetime.strptime(start_date, \"%Y-%m-%d\")\n",
    "    end = datetime.strptime(end_date, \"%Y-%m-%d\")\n",
    "    \n",
    "    current = start\n",
    "    while current <= end:\n",
    "        date_str = current.strftime(\"%d-%b-%Y\")  # e.g. 01-Aug-2025\n",
    "        try:\n",
    "            get_bhavcopy(date_str, save_path)\n",
    "        except Exception as e:\n",
    "            print(f\"❌ Failed for {date_str}: {e}\")\n",
    "        current += timedelta(days=1)"
   ]
  },
  {
   "cell_type": "code",
   "execution_count": null,
   "id": "6fe73527-bbb8-4620-8927-d8206dd4c617",
   "metadata": {},
   "outputs": [],
   "source": [
    "get_bhavcopy_range(\"2025-01-01\", \"2025-08-18\", \"../data/ncdex\")"
   ]
  },
  {
   "cell_type": "code",
   "execution_count": 17,
   "id": "3e618110-5a7b-45a9-adfc-1592e1814484",
   "metadata": {},
   "outputs": [
    {
     "name": "stdout",
     "output_type": "stream",
     "text": [
      "Downloading bhavcopy for 12-Aug-2025 -> 2025-08-12.zip\n",
      "https://ncdex.com/markets/bhavcopy?file_type_both=final&type_both=bhavcopy&bhavcopy_for=both&filedate_both=12-Aug-2025&format_both=file\n",
      "An error occurred: None\n"
     ]
    }
   ],
   "source": [
    "get_bhavcopy(\"12-Aug-2025\", \"../data/ncdex\")"
   ]
  },
  {
   "cell_type": "code",
   "execution_count": null,
   "id": "aa13f083-d6ea-488a-ba92-6566d142ad9d",
   "metadata": {},
   "outputs": [],
   "source": []
  }
 ],
 "metadata": {
  "kernelspec": {
   "display_name": "Python 3 (ipykernel)",
   "language": "python",
   "name": "python3"
  },
  "language_info": {
   "codemirror_mode": {
    "name": "ipython",
    "version": 3
   },
   "file_extension": ".py",
   "mimetype": "text/x-python",
   "name": "python",
   "nbconvert_exporter": "python",
   "pygments_lexer": "ipython3",
   "version": "3.11.13"
  }
 },
 "nbformat": 4,
 "nbformat_minor": 5
}
