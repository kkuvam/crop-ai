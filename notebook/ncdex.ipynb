{
 "cells": [
  {
   "cell_type": "code",
   "execution_count": 1,
   "id": "10ede1b4-1ca0-4ab0-8376-e1cba313c3f1",
   "metadata": {},
   "outputs": [],
   "source": [
    "import requests\n",
    "from datetime import datetime, timedelta\n",
    "from pathlib import Path"
   ]
  },
  {
   "cell_type": "code",
   "execution_count": 2,
   "id": "f73665d0-c0cc-45dd-b61b-92012cc6ad32",
   "metadata": {},
   "outputs": [],
   "source": [
    "headers = {\n",
    "    \"Accept\": \"text/html,application/xhtml+xml,application/xml;q=0.9,image/avif,image/webp,image/apng,*/*;q=0.8,application/signed-exchange;v=b3;q=0.7\",\n",
    "    \"Accept-Encoding\": \"gzip, deflate, br, zstd\",\n",
    "    \"Accept-Language\": \"en-GB,en-US;q=0.9,en;q=0.8\",\n",
    "    \"Connection\": \"keep-alive\",\n",
    "    \"Cookie\": \"hd_user_https=3a62edab1d1fdfac16840d966894d901ec697fc36d288396327de293462ad961:1755577834234; hd_user_id_https=180e204db56e9c741902fec14925bfd0a968c5b4b7d33924c32462911fcefc8bb749974b36507219b09ce498b029fb20ac1b28f8dd6081bd0e7c4c60be9a7f52; hd_device_https=166ff9792127320e1097235772cdbe95ec119b7d9c37a6c1f0e2fb799993427c:bae811cf7a3b9d898de12cdebfd883830763064939506dfd0b1b8d48f07c0a0a; __hd_fingerprint=1841977834249; _gid=GA1.2.1203954946.1755577836; XSRF-TOKEN=eyJpdiI6IjNKRlVKV3J5MUtBSC9tNmxEaGppSVE9PSIsInZhbHVlIjoiaGFsWmgzd05FNkhHK1dpVFhpMmQ0K1liRHBQNnJkQTBEeFdvSlJlK3dxeS9GRFhROEdTUFA1RkVMREk0Vy9NcTBsWFFKRnJCTnRWQUhab0pHRFpsY0Y3dE1tZ29QbnRXUi9HNEkrQVRGZEFyTEswZUNRc0VEVWZINldIT3dRSGEiLCJtYWMiOiJiYTNiZjExNmJiN2I0MzlkYjY4NGIyMTIwODNiYTBhMjZhNzYwYTU4ZjZlYzE0NGYwZTFjZjg1NGE0OTBkZGI2IiwidGFnIjoiIn0%3D; ncdex_session=eyJpdiI6IkM2dXkybVYwcTFBR1l6a1A1NnNnQ3c9PSIsInZhbHVlIjoiNXM5VXEyL29GZWhHTFlHMm5kOE5BRUs1TTFNaXNSQkNxUE5sa1pYUHZnUzJnYVdTU1VIUy9EL0JReFVhRWJQSjM5OVUxdmFnN2hhL25XNDFYR1lEbGNMNi9ZNldCa0NGNUlnbWoya3Yza3Fic0RaN3pCTUd4djRxVWpjSnk3SVciLCJtYWMiOiJkMjliY2RlMDFlMGUwYzNjNWIyOTkyNmFjYjBiZjQyMmQ0MDM5Y2NmM2Q0ZjJlMzE0MWYxMzQ5ZjRmMmU5ODc1IiwidGFnIjoiIn0%3D; _ga_9RGBXZFS3X=GS2.1.s1755625514$o2$g1$t1755625624$j59$l0$h0; _ga=GA1.2.939189129.1755577835; _gat_gtag_UA_13122686_1=1; _ga_6BC6S1TGL7=GS2.1.s1755625514$o2$g1$t1755625639$j44$l0$h0\",\n",
    "    \"Host\": \"ncdex.com\",\n",
    "    \"Referer\": \"https://ncdex.com/markets/bhavcopy\",\n",
    "    \"User-Agent\": \"Mozilla/5.0 (Macintosh; Intel Mac OS X 10_15_7) AppleWebKit/537.36 (KHTML, like Gecko) Chrome/139.0.0.0 Safari/537.36\",\n",
    "}"
   ]
  },
  {
   "cell_type": "code",
   "execution_count": 3,
   "id": "92b06e63-ff99-49e9-b0a8-2feac5a8d425",
   "metadata": {},
   "outputs": [],
   "source": [
    "url = \"https://ncdex.com/markets/bhavcopy?file_type_both=final&type_both=bhavcopy&bhavcopy_for=both&filedate_both=01-Aug-2025&format_both=file\""
   ]
  },
  {
   "cell_type": "code",
   "execution_count": 4,
   "id": "0b5f3974-fa6b-4d9b-8f46-c7baa28fe380",
   "metadata": {},
   "outputs": [],
   "source": [
    "file_name = \"ncdex_bhavcopy_01-Aug-2025.zip\""
   ]
  },
  {
   "cell_type": "code",
   "execution_count": 5,
   "id": "16802b1f-b3bc-4d89-9ca5-a5566802497c",
   "metadata": {},
   "outputs": [],
   "source": [
    "def get_bhavcopy(date_str: str, save_path: str):\n",
    "    # Parse input to standard YYYY-MM-DD\n",
    "    dt = datetime.strptime(date_str, \"%d-%b-%Y\")\n",
    "    save_name = dt.strftime(\"%Y-%m-%d\") + \".zip\"\n",
    "    year = dt.strftime(\"%Y\")\n",
    "    month = dt.strftime(\"%b\")\n",
    "    \n",
    "    url = (\n",
    "        \"https://ncdex.com/markets/bhavcopy?\"\n",
    "        f\"file_type_both=final&type_both=bhavcopy&bhavcopy_for=both&filedate_both={date_str}&format_both=file\"\n",
    "    )\n",
    "    \n",
    "    try:\n",
    "        folder = Path(save_path) / year / month\n",
    "        folder.mkdir(parents=True, exist_ok=True)\n",
    "        full_path = folder / save_name\n",
    "        \n",
    "        # Send a GET request to the URL. The 'stream=True' parameter\n",
    "        # is helpful for large files as it avoids loading the entire\n",
    "        # file into memory at once.\n",
    "        print(f\"Downloading bhavcopy for {date_str} -> {save_name}\")\n",
    "        with requests.get(url, headers=headers, stream=True) as r:\n",
    "            r.raise_for_status()\n",
    "            with open(full_path, \"wb\") as f:\n",
    "                for chunk in r.iter_content(chunk_size=8192):\n",
    "                    if chunk:  # filter out keep-alive\n",
    "                        f.write(chunk)\n",
    "    \n",
    "    except requests.exceptions.RequestException as e:\n",
    "        print(f\"An error occurred: {e}\")"
   ]
  },
  {
   "cell_type": "code",
   "execution_count": 6,
   "id": "2a422355-4c8c-4425-a9c8-d7026b165130",
   "metadata": {},
   "outputs": [],
   "source": [
    "def get_bhavcopy_range(start_date: str, end_date: str, save_path: str):\n",
    "    \"\"\"\n",
    "    Iterate over dates between start_date and end_date (inclusive),\n",
    "    and call download_bhavcopy for each.\n",
    "    \n",
    "    Args:\n",
    "        start_date (str): \"YYYY-MM-DD\"\n",
    "        end_date   (str): \"YYYY-MM-DD\"\n",
    "        save_path  (str): Base path to save\n",
    "    \"\"\"\n",
    "    start = datetime.strptime(start_date, \"%Y-%m-%d\")\n",
    "    end = datetime.strptime(end_date, \"%Y-%m-%d\")\n",
    "    \n",
    "    current = start\n",
    "    while current <= end:\n",
    "        date_str = current.strftime(\"%d-%b-%Y\")  # e.g. 01-Aug-2025\n",
    "        try:\n",
    "            get_bhavcopy(date_str, save_path)\n",
    "        except Exception as e:\n",
    "            print(f\"❌ Failed for {date_str}: {e}\")\n",
    "        current += timedelta(days=1)"
   ]
  },
  {
   "cell_type": "code",
   "execution_count": null,
   "id": "6fe73527-bbb8-4620-8927-d8206dd4c617",
   "metadata": {},
   "outputs": [],
   "source": [
    "get_bhavcopy_range(\"2025-01-01\", \"2025-08-18\", \"../data/ncdex\")"
   ]
  },
  {
   "cell_type": "code",
   "execution_count": null,
   "id": "3e618110-5a7b-45a9-adfc-1592e1814484",
   "metadata": {},
   "outputs": [],
   "source": []
  }
 ],
 "metadata": {
  "kernelspec": {
   "display_name": "Python 3 (ipykernel)",
   "language": "python",
   "name": "python3"
  },
  "language_info": {
   "codemirror_mode": {
    "name": "ipython",
    "version": 3
   },
   "file_extension": ".py",
   "mimetype": "text/x-python",
   "name": "python",
   "nbconvert_exporter": "python",
   "pygments_lexer": "ipython3",
   "version": "3.10.18"
  }
 },
 "nbformat": 4,
 "nbformat_minor": 5
}
