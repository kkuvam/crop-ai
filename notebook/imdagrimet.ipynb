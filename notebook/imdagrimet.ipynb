{
 "cells": [
  {
   "cell_type": "code",
   "execution_count": 38,
   "id": "8318f5da-42b1-4d84-bd9f-1eb3ad760e80",
   "metadata": {},
   "outputs": [],
   "source": [
    "import requests\n",
    "import json\n",
    "import pandas as pd\n",
    "import re\n",
    "from bs4 import BeautifulSoup\n",
    "from typing import List, Dict, Any"
   ]
  },
  {
   "cell_type": "code",
   "execution_count": 15,
   "id": "a414031a-a47a-4a4f-8db2-f61012b1c0a3",
   "metadata": {},
   "outputs": [],
   "source": [
    "states = [\n",
    "      {\"id\": \"1\", \"name\": \"A And N Islands\"},\n",
    "      {\"id\": \"2\", \"name\": \"Andhra Pradesh\"},\n",
    "      {\"id\": \"3\", \"name\": \"Arunachal Pradesh\"},\n",
    "      {\"id\": \"4\", \"name\": \"Assam\"},\n",
    "      {\"id\": \"5\", \"name\": \"Bihar\"},\n",
    "      {\"id\": \"6\", \"name\": \"Chandigarh\"},\n",
    "      {\"id\": \"7\", \"name\": \"Chhattisgarh\"},\n",
    "      {\"id\": \"8\", \"name\": \"Dadra And Nagar Haveli\"},\n",
    "      {\"id\": \"9\", \"name\": \"Daman And Diu\"},\n",
    "      {\"id\": \"10\", \"name\": \"Delhi\"},\n",
    "      {\"id\": \"11\", \"name\": \"Goa\"},\n",
    "      {\"id\": \"12\", \"name\": \"Gujarat\"},\n",
    "      {\"id\": \"13\", \"name\": \"Haryana\"},\n",
    "      {\"id\": \"14\", \"name\": \"Himachal Pradesh\"},\n",
    "      {\"id\": \"15\", \"name\": \"Jammu And Kashmir\"},\n",
    "      {\"id\": \"16\", \"name\": \"Jharkand\"},\n",
    "      {\"id\": \"17\", \"name\": \"Karnataka\"},\n",
    "      {\"id\": \"18\", \"name\": \"Kerala\"},\n",
    "      {\"id\": \"19\", \"name\": \"Ladakh\"},\n",
    "      {\"id\": \"20\", \"name\": \"Lakshadweep\"},\n",
    "      {\"id\": \"21\", \"name\": \"Madhya Pradesh\"},\n",
    "      {\"id\": \"22\", \"name\": \"Maharashtra\"},\n",
    "      {\"id\": \"23\", \"name\": \"Manipur\"},\n",
    "      {\"id\": \"24\", \"name\": \"Meghalaya\"},\n",
    "      {\"id\": \"25\", \"name\": \"Mizoram\"},\n",
    "      {\"id\": \"26\", \"name\": \"Nagaland\"},\n",
    "      {\"id\": \"27\", \"name\": \"Odisha\"},\n",
    "      {\"id\": \"28\", \"name\": \"Puducherry\"},\n",
    "      {\"id\": \"29\", \"name\": \"Punjab\"},\n",
    "      {\"id\": \"30\", \"name\": \"Rajasthan\"},\n",
    "      {\"id\": \"31\", \"name\": \"Sikkim\"},\n",
    "      {\"id\": \"32\", \"name\": \"Tamil Nadu\"},\n",
    "      {\"id\": \"33\", \"name\": \"Telangana\"},\n",
    "      {\"id\": \"34\", \"name\": \"Tripura\"},\n",
    "      {\"id\": \"35\", \"name\": \"Uttarakhand\"},\n",
    "      {\"id\": \"36\", \"name\": \"Uttar Pradesh\"},\n",
    "      {\"id\": \"37\", \"name\": \"West Bengal\"}\n",
    "]"
   ]
  },
  {
   "cell_type": "code",
   "execution_count": 16,
   "id": "fd0438a7-8892-4933-8d7d-2cefcb602f08",
   "metadata": {},
   "outputs": [],
   "source": [
    "headers = {\n",
    "    \"Host\": \"imdagrimet.gov.in\",\n",
    "    \"User-Agent\": \"Mozilla/5.0 (Macintosh; Intel Mac OS X 10.15; rv:142.0) Gecko/20100101 Firefox/142.0\",\n",
    "    \"Accept\": \"text/html,application/xhtml+xml,application/xml;q=0.9,*/*;q=0.8\",\n",
    "    \"Accept-Language\": \"en-US,en;q=0.5\",\n",
    "    \"Accept-Encoding\": \"gzip, deflate, br, zstd\",\n",
    "    \"Referer\": \"https://imdagrimet.gov.in/weatherdata/BlockList.php\",\n",
    "    \"Connection\": \"keep-alive\",\n",
    "    \"Upgrade-Insecure-Requests\": \"1\",\n",
    "    \"Sec-Fetch-Dest\": \"frame\",\n",
    "    \"Sec-Fetch-Mode\": \"navigate\",\n",
    "    \"Sec-Fetch-Site\": \"same-origin\",\n",
    "    \"Sec-Fetch-User\": \"?1\",\n",
    "    \"Priority\": \"u=4\"\n",
    "}"
   ]
  },
  {
   "cell_type": "code",
   "execution_count": 17,
   "id": "49d93e4f-2fb8-441f-90f9-7fbcfb270d09",
   "metadata": {},
   "outputs": [],
   "source": [
    "def map_district_keys(rows: List[Dict[str, Any]]) -> List[Dict[str, Any]]:\n",
    "    \"\"\"\n",
    "    Rename keys in each dict: 'id' -> 'district_id', 'name' -> 'district_name'.\n",
    "    Returns a NEW list (does not mutate the input).\n",
    "    Non-dict items are ignored.\n",
    "    \"\"\"\n",
    "    mapping = {\"id\": \"district_id\", \"name\": \"district_name\"}\n",
    "    out = []\n",
    "    for row in rows:\n",
    "        if not isinstance(row, dict):\n",
    "            continue\n",
    "        out.append({mapping.get(k, k): v for k, v in row.items()})\n",
    "    return out"
   ]
  },
  {
   "cell_type": "code",
   "execution_count": 18,
   "id": "5840754f-d3db-4010-bd74-e35c417bf3be",
   "metadata": {},
   "outputs": [],
   "source": [
    "def save_jsonl(data, file_path):\n",
    "    \"\"\"Save a list of dicts to JSONL.\"\"\"\n",
    "    with open(file_path, \"w\", encoding=\"utf-8\") as f:\n",
    "        for obj in data:\n",
    "            f.write(json.dumps(obj, ensure_ascii=False) + \"\\n\")\n"
   ]
  },
  {
   "cell_type": "code",
   "execution_count": 19,
   "id": "4c69dc8d-0906-400b-8cca-7ac015b67957",
   "metadata": {},
   "outputs": [],
   "source": [
    "def load_jsonl(file_path):\n",
    "    \"\"\"Load a JSONL file and return a list of locations (strings).\"\"\"\n",
    "    locations = []\n",
    "    with open(file_path, \"r\", encoding=\"utf-8\") as f:\n",
    "        for line in f:\n",
    "            if line.strip():  # skip empty lines\n",
    "                obj = json.loads(line)\n",
    "                locations.append(obj)\n",
    "    return locations"
   ]
  },
  {
   "cell_type": "code",
   "execution_count": 20,
   "id": "cef30494-a3ee-45cb-90ef-19651444e4d8",
   "metadata": {},
   "outputs": [],
   "source": [
    "def extract_districts(html):\n",
    "    soup = BeautifulSoup(html, \"lxml\")\n",
    "    districts = [\n",
    "        {\"id\": opt.get(\"value\"), \"name\": opt.text.strip()}\n",
    "        for opt in soup.select(\"select#seldist option\")\n",
    "    ]\n",
    "    \n",
    "    # Drop the placeholder \"Select\"\n",
    "    districts = [d for d in districts if d[\"id\"] != \"0\"]\n",
    "    return districts"
   ]
  },
  {
   "cell_type": "code",
   "execution_count": 21,
   "id": "b6ff15e8-2468-43a1-80c9-18674e6bbc08",
   "metadata": {},
   "outputs": [],
   "source": [
    "def extract_blocks(html):\n",
    "    blocks = []\n",
    "    soup = BeautifulSoup(html, \"lxml\")\n",
    "    # In the table, the 2nd <a> per row holds the block name + forecast link (rf=E)\n",
    "    for row in soup.select(\"table.viewtb tr\")[1:]:  # skip header row\n",
    "        links = row.find_all(\"a\")\n",
    "        if len(links) >= 2:\n",
    "            a = links[1]\n",
    "            href = urljoin(base_url, a.get(\"href\", \"\").strip())\n",
    "            name = a.get_text(strip=True)\n",
    "            qs = parse_qs(urlparse(href).query)\n",
    "            blocks.append({\n",
    "                \"name\": name,\n",
    "                \"href\": href,\n",
    "                \"params\": {k: v[0] for k, v in qs.items()}  # e.g., {\"sc\":\"04\",\"dc\":\"0401\",\"bc\":\"4049\",\"rf\":\"E\"}\n",
    "            })\n",
    "    return blocks"
   ]
  },
  {
   "cell_type": "code",
   "execution_count": 22,
   "id": "02f13e5a-9f2f-49b4-82bd-55cc069022a5",
   "metadata": {},
   "outputs": [],
   "source": [
    "def get_district_json(states, user):\n",
    "    districts = []\n",
    "    params = {\n",
    "      \"frmuser\": user,\n",
    "      \"seldist\": \"0\"\n",
    "    }\n",
    "    for state in states:\n",
    "        print(f\"Processing {state['id']}:{state['name']} ...\")\n",
    "        data = params.copy()\n",
    "        data[\"selstate\"] = state['id']\n",
    "        response = requests.post(url, headers=headers, data=data)\n",
    "        if response.status_code == 200:\n",
    "            ds = map_district_keys(ds)\n",
    "            items = {district_mapping.get(k, k): v for k, v in d.items()}\n",
    "            districts.extend(items)\n",
    "        else:\n",
    "            print (response.text)\n",
    "    save_jsonl(districts, \"imdagrimet_districts.jsonl\")\n",
    "    return districts"
   ]
  },
  {
   "cell_type": "code",
   "execution_count": 30,
   "id": "501465d9-fcae-4a6f-a5e3-95bd64f8b92f",
   "metadata": {},
   "outputs": [],
   "source": [
    "def get_block_json(states, user):\n",
    "    districts = []\n",
    "    blocks = []\n",
    "    params = {\n",
    "      \"frmuser\": user,\n",
    "    }\n",
    "    for state in states:\n",
    "        print(f\"Processing {state['id']}:{state['name']} ...\")\n",
    "        data = params.copy()\n",
    "        data[\"seldist\"] = \"0\"\n",
    "        data[\"selstate\"] = state['id']\n",
    "        response = requests.post(url, headers=headers, data=data)\n",
    "        if response.status_code == 200:\n",
    "            recs = extract_districts(response.text)\n",
    "            items = map_district_keys(recs)\n",
    "            print(items)\n",
    "            input(\"District pulled ...\")\n",
    "            districts.extend(items)\n",
    "            for rec in recs:\n",
    "                print(f\"Processing {rec['id']}:{rec['name']} ...\")\n",
    "                data = params.copy()\n",
    "                data[\"btvw\"] = \"View+Blocks\"\n",
    "                response = requests.post(url, headers=headers, data=data)\n",
    "                if response.status_code == 200:\n",
    "                    items = extract_blocks(response.text)\n",
    "                    print(items)\n",
    "                    blocks.extend(items)\n",
    "                else:\n",
    "                    print (response.text)        \n",
    "                input(\"...\")\n",
    "        else:\n",
    "            print (response.text)\n",
    "    save_jsonl(districts, \"imdagrimet_blocks.jsonl\")\n",
    "    return districts, blocks"
   ]
  },
  {
   "cell_type": "markdown",
   "id": "553f500f-af0f-4dad-aef8-7cd6e204336e",
   "metadata": {},
   "source": [
    "# Session"
   ]
  },
  {
   "cell_type": "code",
   "execution_count": 28,
   "id": "bbbbd98e-8a01-4f93-800b-17f205842bb5",
   "metadata": {},
   "outputs": [],
   "source": [
    "token = \"8374125c317e85a80177f8df0cf4a1ff\"\n",
    "cookie = \"IMDSESSIONID=tobsrpjti6ikk9g7ldp4h3grj3hk0ndo\"\n",
    "user = \"74792e1a6706ce32f21d73d2bb3d0903\""
   ]
  },
  {
   "cell_type": "code",
   "execution_count": 29,
   "id": "c089d834-fcd0-4e57-91e4-895845334743",
   "metadata": {},
   "outputs": [],
   "source": [
    "uri = \"https://imdagrimet.gov.in/weatherdata/BlockList.php\"\n",
    "url= uri + \"?\" + token\n",
    "headers[\"Cookie\"] = cookie"
   ]
  },
  {
   "cell_type": "markdown",
   "id": "d9349d87-9112-44af-aa65-9f05d7f51052",
   "metadata": {},
   "source": [
    "# Run"
   ]
  },
  {
   "cell_type": "code",
   "execution_count": 31,
   "id": "14c73021-914c-4409-b8df-ad81341de61c",
   "metadata": {},
   "outputs": [
    {
     "name": "stdout",
     "output_type": "stream",
     "text": [
      "Processing 1:A And N Islands ...\n",
      "[{'district_id': '1', 'district_name': 'Nicobar'}, {'district_id': '2', 'district_name': 'North And Middle Andaman'}, {'district_id': '3', 'district_name': 'South Andaman'}]\n"
     ]
    },
    {
     "name": "stdin",
     "output_type": "stream",
     "text": [
      "District pulled ... \n"
     ]
    },
    {
     "name": "stdout",
     "output_type": "stream",
     "text": [
      "Processing 1:Nicobar ...\n",
      "[]\n"
     ]
    },
    {
     "name": "stdin",
     "output_type": "stream",
     "text": [
      "... \n"
     ]
    },
    {
     "name": "stdout",
     "output_type": "stream",
     "text": [
      "Processing 2:North And Middle Andaman ...\n",
      "[]\n"
     ]
    },
    {
     "name": "stdin",
     "output_type": "stream",
     "text": [
      "... \n"
     ]
    },
    {
     "name": "stdout",
     "output_type": "stream",
     "text": [
      "Processing 3:South Andaman ...\n",
      "[]\n"
     ]
    },
    {
     "name": "stdin",
     "output_type": "stream",
     "text": [
      "... \n"
     ]
    },
    {
     "name": "stdout",
     "output_type": "stream",
     "text": [
      "Processing 2:Andhra Pradesh ...\n",
      "[{'district_id': '1', 'district_name': 'Alluri Sitharama Raju'}, {'district_id': '2', 'district_name': 'Anakapalli'}, {'district_id': '3', 'district_name': 'Anantpur'}, {'district_id': '4', 'district_name': 'Annamayya'}, {'district_id': '5', 'district_name': 'Bapatla'}, {'district_id': '6', 'district_name': 'Chittoor'}, {'district_id': '7', 'district_name': 'East Godavari'}, {'district_id': '8', 'district_name': 'Eluru'}, {'district_id': '9', 'district_name': 'Guntur'}, {'district_id': '10', 'district_name': 'Kakinada'}, {'district_id': '11', 'district_name': 'Konaseema'}, {'district_id': '12', 'district_name': 'Krishna'}, {'district_id': '13', 'district_name': 'Kurnool'}, {'district_id': '14', 'district_name': 'Nandyal'}, {'district_id': '15', 'district_name': 'Nellore'}, {'district_id': '16', 'district_name': 'Ntr'}, {'district_id': '17', 'district_name': 'Palnadu'}, {'district_id': '18', 'district_name': 'Parvathipuram Manyam'}, {'district_id': '19', 'district_name': 'Prakasam'}, {'district_id': '20', 'district_name': 'Srikakulam'}, {'district_id': '21', 'district_name': 'Srisathyasai'}, {'district_id': '22', 'district_name': 'Tirupathi'}, {'district_id': '23', 'district_name': 'Visakhapatnam'}, {'district_id': '24', 'district_name': 'Vizianagaram'}, {'district_id': '25', 'district_name': 'West Godavari'}, {'district_id': '26', 'district_name': 'Y.s.r'}]\n"
     ]
    },
    {
     "name": "stdin",
     "output_type": "stream",
     "text": [
      "District pulled ... \n"
     ]
    },
    {
     "name": "stdout",
     "output_type": "stream",
     "text": [
      "Processing 1:Alluri Sitharama Raju ...\n",
      "[]\n"
     ]
    },
    {
     "name": "stdin",
     "output_type": "stream",
     "text": [
      "... \n"
     ]
    },
    {
     "name": "stdout",
     "output_type": "stream",
     "text": [
      "Processing 2:Anakapalli ...\n",
      "[]\n"
     ]
    },
    {
     "ename": "KeyboardInterrupt",
     "evalue": "Interrupted by user",
     "output_type": "error",
     "traceback": [
      "\u001b[0;31m---------------------------------------------------------------------------\u001b[0m",
      "\u001b[0;31mKeyboardInterrupt\u001b[0m                         Traceback (most recent call last)",
      "Cell \u001b[0;32mIn[31], line 1\u001b[0m\n\u001b[0;32m----> 1\u001b[0m districts, blocks \u001b[38;5;241m=\u001b[39m \u001b[43mget_block_json\u001b[49m\u001b[43m(\u001b[49m\u001b[43mstates\u001b[49m\u001b[43m,\u001b[49m\u001b[43m \u001b[49m\u001b[43muser\u001b[49m\u001b[43m)\u001b[49m\n",
      "Cell \u001b[0;32mIn[30], line 30\u001b[0m, in \u001b[0;36mget_block_json\u001b[0;34m(states, user)\u001b[0m\n\u001b[1;32m     28\u001b[0m         \u001b[38;5;28;01melse\u001b[39;00m:\n\u001b[1;32m     29\u001b[0m             \u001b[38;5;28mprint\u001b[39m (response\u001b[38;5;241m.\u001b[39mtext)        \n\u001b[0;32m---> 30\u001b[0m         \u001b[38;5;28;43minput\u001b[39;49m\u001b[43m(\u001b[49m\u001b[38;5;124;43m\"\u001b[39;49m\u001b[38;5;124;43m...\u001b[39;49m\u001b[38;5;124;43m\"\u001b[39;49m\u001b[43m)\u001b[49m\n\u001b[1;32m     31\u001b[0m \u001b[38;5;28;01melse\u001b[39;00m:\n\u001b[1;32m     32\u001b[0m     \u001b[38;5;28mprint\u001b[39m (response\u001b[38;5;241m.\u001b[39mtext)\n",
      "File \u001b[0;32m~/Sites/venv/lib/python3.10/site-packages/ipykernel/kernelbase.py:1260\u001b[0m, in \u001b[0;36mKernel.raw_input\u001b[0;34m(self, prompt)\u001b[0m\n\u001b[1;32m   1258\u001b[0m     msg \u001b[38;5;241m=\u001b[39m \u001b[38;5;124m\"\u001b[39m\u001b[38;5;124mraw_input was called, but this frontend does not support input requests.\u001b[39m\u001b[38;5;124m\"\u001b[39m\n\u001b[1;32m   1259\u001b[0m     \u001b[38;5;28;01mraise\u001b[39;00m StdinNotImplementedError(msg)\n\u001b[0;32m-> 1260\u001b[0m \u001b[38;5;28;01mreturn\u001b[39;00m \u001b[38;5;28;43mself\u001b[39;49m\u001b[38;5;241;43m.\u001b[39;49m\u001b[43m_input_request\u001b[49m\u001b[43m(\u001b[49m\n\u001b[1;32m   1261\u001b[0m \u001b[43m    \u001b[49m\u001b[38;5;28;43mstr\u001b[39;49m\u001b[43m(\u001b[49m\u001b[43mprompt\u001b[49m\u001b[43m)\u001b[49m\u001b[43m,\u001b[49m\n\u001b[1;32m   1262\u001b[0m \u001b[43m    \u001b[49m\u001b[38;5;28;43mself\u001b[39;49m\u001b[38;5;241;43m.\u001b[39;49m\u001b[43m_parent_ident\u001b[49m\u001b[43m[\u001b[49m\u001b[38;5;124;43m\"\u001b[39;49m\u001b[38;5;124;43mshell\u001b[39;49m\u001b[38;5;124;43m\"\u001b[39;49m\u001b[43m]\u001b[49m\u001b[43m,\u001b[49m\n\u001b[1;32m   1263\u001b[0m \u001b[43m    \u001b[49m\u001b[38;5;28;43mself\u001b[39;49m\u001b[38;5;241;43m.\u001b[39;49m\u001b[43mget_parent\u001b[49m\u001b[43m(\u001b[49m\u001b[38;5;124;43m\"\u001b[39;49m\u001b[38;5;124;43mshell\u001b[39;49m\u001b[38;5;124;43m\"\u001b[39;49m\u001b[43m)\u001b[49m\u001b[43m,\u001b[49m\n\u001b[1;32m   1264\u001b[0m \u001b[43m    \u001b[49m\u001b[43mpassword\u001b[49m\u001b[38;5;241;43m=\u001b[39;49m\u001b[38;5;28;43;01mFalse\u001b[39;49;00m\u001b[43m,\u001b[49m\n\u001b[1;32m   1265\u001b[0m \u001b[43m\u001b[49m\u001b[43m)\u001b[49m\n",
      "File \u001b[0;32m~/Sites/venv/lib/python3.10/site-packages/ipykernel/kernelbase.py:1305\u001b[0m, in \u001b[0;36mKernel._input_request\u001b[0;34m(self, prompt, ident, parent, password)\u001b[0m\n\u001b[1;32m   1302\u001b[0m \u001b[38;5;28;01mexcept\u001b[39;00m \u001b[38;5;167;01mKeyboardInterrupt\u001b[39;00m:\n\u001b[1;32m   1303\u001b[0m     \u001b[38;5;66;03m# re-raise KeyboardInterrupt, to truncate traceback\u001b[39;00m\n\u001b[1;32m   1304\u001b[0m     msg \u001b[38;5;241m=\u001b[39m \u001b[38;5;124m\"\u001b[39m\u001b[38;5;124mInterrupted by user\u001b[39m\u001b[38;5;124m\"\u001b[39m\n\u001b[0;32m-> 1305\u001b[0m     \u001b[38;5;28;01mraise\u001b[39;00m \u001b[38;5;167;01mKeyboardInterrupt\u001b[39;00m(msg) \u001b[38;5;28;01mfrom\u001b[39;00m\u001b[38;5;250m \u001b[39m\u001b[38;5;28;01mNone\u001b[39;00m\n\u001b[1;32m   1306\u001b[0m \u001b[38;5;28;01mexcept\u001b[39;00m \u001b[38;5;167;01mException\u001b[39;00m:\n\u001b[1;32m   1307\u001b[0m     \u001b[38;5;28mself\u001b[39m\u001b[38;5;241m.\u001b[39mlog\u001b[38;5;241m.\u001b[39mwarning(\u001b[38;5;124m\"\u001b[39m\u001b[38;5;124mInvalid Message:\u001b[39m\u001b[38;5;124m\"\u001b[39m, exc_info\u001b[38;5;241m=\u001b[39m\u001b[38;5;28;01mTrue\u001b[39;00m)\n",
      "\u001b[0;31mKeyboardInterrupt\u001b[0m: Interrupted by user"
     ]
    }
   ],
   "source": [
    "districts, blocks = get_block_json(states, user)"
   ]
  },
  {
   "cell_type": "markdown",
   "id": "8f2b0919-bf54-43c9-a178-0c673da1f735",
   "metadata": {},
   "source": [
    "# Meteo"
   ]
  },
  {
   "cell_type": "code",
   "execution_count": 32,
   "id": "45aa1781-1f7b-4255-a5f7-8c18ec2eedae",
   "metadata": {},
   "outputs": [],
   "source": [
    "url = \"https://imdagrimet.gov.in/weatherdata/DistStationList.php?token=f475d468ed2dae41eac12961b2e36926\""
   ]
  },
  {
   "cell_type": "code",
   "execution_count": 33,
   "id": "fd628eda-bd55-476c-8b92-c90eb7a4ff67",
   "metadata": {},
   "outputs": [],
   "source": [
    "def _to_float(x):\n",
    "    x = x.strip()\n",
    "    if x in {\"\", \"-\", \"--\", \"- - -\"}:\n",
    "        return None\n",
    "    if re.fullmatch(r\"[+-]?\\d+(\\.\\d+)?\", x):\n",
    "        return float(x)\n",
    "    try:\n",
    "        return float(re.sub(r\"[^0-9.+-]\", \"\", x))\n",
    "    except:\n",
    "        return None"
   ]
  },
  {
   "cell_type": "code",
   "execution_count": 34,
   "id": "2b7a5ddf-f39a-4597-a5ee-6aa5efc58800",
   "metadata": {},
   "outputs": [],
   "source": [
    "url = \"https://imdagrimet.gov.in/weatherdata/PastWeekWeather.php?st=AGROMET&si=43238&sn=Anantpur%20Rekalakuntha\""
   ]
  },
  {
   "cell_type": "code",
   "execution_count": 35,
   "id": "4e767763-2a8a-4b2b-8cb9-0f89110acdc9",
   "metadata": {},
   "outputs": [
    {
     "data": {
      "text/plain": [
       "200"
      ]
     },
     "execution_count": 35,
     "metadata": {},
     "output_type": "execute_result"
    }
   ],
   "source": [
    "resp = requests.get(url, headers = headers)\n",
    "resp.status_code"
   ]
  },
  {
   "cell_type": "code",
   "execution_count": 36,
   "id": "fd6d54ce-2b2d-4cd6-bb47-ce3c27f8d1e6",
   "metadata": {},
   "outputs": [],
   "source": [
    "soup = BeautifulSoup(resp.text, \"lxml\")\n",
    "table = soup.select_one(\"table.viewtb\")\n",
    "if table is None:\n",
    "    raise RuntimeError(\"Could not find table.viewtb in the HTML.\")"
   ]
  },
  {
   "cell_type": "code",
   "execution_count": 37,
   "id": "78fe27aa-c146-4d99-9b35-6a005dac8efb",
   "metadata": {},
   "outputs": [
    {
     "ename": "NameError",
     "evalue": "name 're' is not defined",
     "output_type": "error",
     "traceback": [
      "\u001b[0;31m---------------------------------------------------------------------------\u001b[0m",
      "\u001b[0;31mNameError\u001b[0m                                 Traceback (most recent call last)",
      "Cell \u001b[0;32mIn[37], line 20\u001b[0m\n\u001b[1;32m     18\u001b[0m     agg_val \u001b[38;5;241m=\u001b[39m r[\u001b[38;5;241m-\u001b[39m\u001b[38;5;241m1\u001b[39m]\n\u001b[1;32m     19\u001b[0m     \u001b[38;5;28;01mfor\u001b[39;00m d, v \u001b[38;5;129;01min\u001b[39;00m \u001b[38;5;28mzip\u001b[39m(dates, day_vals):\n\u001b[0;32m---> 20\u001b[0m         records\u001b[38;5;241m.\u001b[39mappend({\u001b[38;5;124m\"\u001b[39m\u001b[38;5;124mDate\u001b[39m\u001b[38;5;124m\"\u001b[39m: d, \u001b[38;5;124m\"\u001b[39m\u001b[38;5;124mMetric\u001b[39m\u001b[38;5;124m\"\u001b[39m: metric, \u001b[38;5;124m\"\u001b[39m\u001b[38;5;124mValue\u001b[39m\u001b[38;5;124m\"\u001b[39m: \u001b[43m_to_float\u001b[49m\u001b[43m(\u001b[49m\u001b[43mv\u001b[49m\u001b[43m)\u001b[49m})\n\u001b[1;32m     21\u001b[0m     agg\u001b[38;5;241m.\u001b[39mappend({\u001b[38;5;124m\"\u001b[39m\u001b[38;5;124mMetric\u001b[39m\u001b[38;5;124m\"\u001b[39m: metric, agg_label: _to_float(agg_val)})\n\u001b[1;32m     23\u001b[0m df_long \u001b[38;5;241m=\u001b[39m pd\u001b[38;5;241m.\u001b[39mDataFrame(records)\n",
      "Cell \u001b[0;32mIn[33], line 5\u001b[0m, in \u001b[0;36m_to_float\u001b[0;34m(x)\u001b[0m\n\u001b[1;32m      3\u001b[0m \u001b[38;5;28;01mif\u001b[39;00m x \u001b[38;5;129;01min\u001b[39;00m {\u001b[38;5;124m\"\u001b[39m\u001b[38;5;124m\"\u001b[39m, \u001b[38;5;124m\"\u001b[39m\u001b[38;5;124m-\u001b[39m\u001b[38;5;124m\"\u001b[39m, \u001b[38;5;124m\"\u001b[39m\u001b[38;5;124m--\u001b[39m\u001b[38;5;124m\"\u001b[39m, \u001b[38;5;124m\"\u001b[39m\u001b[38;5;124m- - -\u001b[39m\u001b[38;5;124m\"\u001b[39m}:\n\u001b[1;32m      4\u001b[0m     \u001b[38;5;28;01mreturn\u001b[39;00m \u001b[38;5;28;01mNone\u001b[39;00m\n\u001b[0;32m----> 5\u001b[0m \u001b[38;5;28;01mif\u001b[39;00m \u001b[43mre\u001b[49m\u001b[38;5;241m.\u001b[39mfullmatch(\u001b[38;5;124mr\u001b[39m\u001b[38;5;124m\"\u001b[39m\u001b[38;5;124m[+-]?\u001b[39m\u001b[38;5;124m\\\u001b[39m\u001b[38;5;124md+(\u001b[39m\u001b[38;5;124m\\\u001b[39m\u001b[38;5;124m.\u001b[39m\u001b[38;5;124m\\\u001b[39m\u001b[38;5;124md+)?\u001b[39m\u001b[38;5;124m\"\u001b[39m, x):\n\u001b[1;32m      6\u001b[0m     \u001b[38;5;28;01mreturn\u001b[39;00m \u001b[38;5;28mfloat\u001b[39m(x)\n\u001b[1;32m      7\u001b[0m \u001b[38;5;28;01mtry\u001b[39;00m:\n",
      "\u001b[0;31mNameError\u001b[0m: name 're' is not defined"
     ]
    }
   ],
   "source": [
    "# --- extract rows ---\n",
    "rows = []\n",
    "for tr in table.find_all(\"tr\"):\n",
    "    cells = [td.get_text(strip=True).replace(\"\\xa0\", \" \") for td in tr.find_all(\"td\")]\n",
    "    if cells:\n",
    "        rows.append(cells)\n",
    "\n",
    "# header: \"Date\", then dates..., last col = \"Total / Average\"\n",
    "dates = rows[0][1:-1]\n",
    "agg_label = rows[0][-1]\n",
    "\n",
    "# build long records\n",
    "records = []\n",
    "agg = []\n",
    "for r in rows[1:]:\n",
    "    metric = r[0]\n",
    "    day_vals = r[1:-1]\n",
    "    agg_val = r[-1]\n",
    "    for d, v in zip(dates, day_vals):\n",
    "        records.append({\"Date\": d, \"Metric\": metric, \"Value\": _to_float(v)})\n",
    "    agg.append({\"Metric\": metric, agg_label: _to_float(agg_val)})\n",
    "\n",
    "df_long = pd.DataFrame(records)\n",
    "df_agg = pd.DataFrame(agg)          # optional: totals/averages column\n",
    "\n",
    "# --- TRANSPOSE: one row per date, metrics as columns ---\n",
    "df_daily = df_long.pivot(index=\"Date\", columns=\"Metric\", values=\"Value\").reset_index()\n",
    "\n",
    "# optional: sort dates (dd-mm-YYYY -> to datetime)\n",
    "df_daily[\"Date\"] = pd.to_datetime(df_daily[\"Date\"], format=\"%d-%m-%Y\", errors=\"coerce\")\n",
    "df_daily = df_daily.sort_values(\"Date\").reset_index(drop=True)\n",
    "\n",
    "print(df_daily)"
   ]
  },
  {
   "cell_type": "code",
   "execution_count": null,
   "id": "4be0b3d1-7d10-4398-9beb-5e00ff091e23",
   "metadata": {},
   "outputs": [],
   "source": []
  }
 ],
 "metadata": {
  "kernelspec": {
   "display_name": "Python 3 (ipykernel)",
   "language": "python",
   "name": "python3"
  },
  "language_info": {
   "codemirror_mode": {
    "name": "ipython",
    "version": 3
   },
   "file_extension": ".py",
   "mimetype": "text/x-python",
   "name": "python",
   "nbconvert_exporter": "python",
   "pygments_lexer": "ipython3",
   "version": "3.10.18"
  }
 },
 "nbformat": 4,
 "nbformat_minor": 5
}
